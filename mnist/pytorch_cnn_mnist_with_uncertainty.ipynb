{
 "cells": [
  {
   "cell_type": "markdown",
   "metadata": {},
   "source": [
    "## Training imports"
   ]
  },
  {
   "cell_type": "code",
   "execution_count": 1,
   "metadata": {
    "ExecuteTime": {
     "end_time": "2019-10-18T03:24:24.107645Z",
     "start_time": "2019-10-18T03:24:23.806809Z"
    },
    "colab": {},
    "colab_type": "code",
    "id": "uGwf774DhFSQ"
   },
   "outputs": [
    {
     "name": "stderr",
     "output_type": "stream",
     "text": [
      "/home/anant/anaconda3/envs/PT/lib/python3.7/site-packages/tqdm/autonotebook/__init__.py:18: TqdmExperimentalWarning: Using `tqdm.autonotebook.tqdm` in notebook mode. Use `tqdm.tqdm` instead to force console mode (e.g. in jupyter console)\n",
      "  \" (e.g. in jupyter console)\", TqdmExperimentalWarning)\n"
     ]
    }
   ],
   "source": [
    "import glob\n",
    "import cv2\n",
    "from PIL import Image\n",
    "from sklearn.preprocessing import MultiLabelBinarizer\n",
    "from sklearn.metrics import accuracy_score, fbeta_score\n",
    "from tqdm import tqdm_notebook, tqdm\n",
    "\n",
    "import torch\n",
    "from torch import nn\n",
    "import torch.nn.functional as F\n",
    "import torchvision.transforms as transforms\n",
    "import torchvision.datasets as dsets\n",
    "from torch.utils.data import Dataset, DataLoader, TensorDataset\n",
    "import torchvision.models as models\n",
    "\n",
    "from ignite.engine import create_supervised_trainer, create_supervised_evaluator, Events\n",
    "from ignite.metrics import Accuracy, Precision, Recall, Loss, Metric\n",
    "# from ignite.contrib.handlers import CosineAnnealingScheduler\n",
    "from ignite.contrib.handlers.param_scheduler import CosineAnnealingScheduler\n",
    "\n",
    "from torch_lr_finder import LRFinder"
   ]
  },
  {
   "cell_type": "markdown",
   "metadata": {},
   "source": [
    "## Get data and create augmentation transforms"
   ]
  },
  {
   "cell_type": "code",
   "execution_count": 2,
   "metadata": {
    "ExecuteTime": {
     "end_time": "2019-10-18T03:24:24.229879Z",
     "start_time": "2019-10-18T03:24:24.214569Z"
    },
    "colab": {},
    "colab_type": "code",
    "id": "9pipFa97JpUs"
   },
   "outputs": [],
   "source": [
    "composed = transforms.Compose([transforms.RandomHorizontalFlip(),\n",
    "                               transforms.RandomVerticalFlip(),\n",
    "                               transforms.ToTensor()])"
   ]
  },
  {
   "cell_type": "code",
   "execution_count": 3,
   "metadata": {
    "ExecuteTime": {
     "end_time": "2019-10-18T03:24:24.367037Z",
     "start_time": "2019-10-18T03:24:24.329369Z"
    },
    "colab": {},
    "colab_type": "code",
    "id": "FCge6PrypNfY"
   },
   "outputs": [],
   "source": [
    "train_dataset = dsets.MNIST(root='./data', \n",
    "                            train=True, \n",
    "                            transform=transforms.ToTensor(),\n",
    "                            download=True)\n",
    "\n",
    "valid_dataset = dsets.MNIST(root='./data', \n",
    "                           train=False, \n",
    "                           transform=transforms.ToTensor())"
   ]
  },
  {
   "cell_type": "markdown",
   "metadata": {},
   "source": [
    "## Create dataloaders"
   ]
  },
  {
   "cell_type": "code",
   "execution_count": 4,
   "metadata": {
    "ExecuteTime": {
     "end_time": "2019-10-18T03:24:24.683195Z",
     "start_time": "2019-10-18T03:24:24.670814Z"
    },
    "colab": {},
    "colab_type": "code",
    "id": "BW2mryXtDMRu"
   },
   "outputs": [],
   "source": [
    "batch_size = 1500"
   ]
  },
  {
   "cell_type": "code",
   "execution_count": 5,
   "metadata": {
    "ExecuteTime": {
     "end_time": "2019-10-18T03:24:25.549986Z",
     "start_time": "2019-10-18T03:24:25.526009Z"
    },
    "colab": {},
    "colab_type": "code",
    "id": "KgZJSnSUC5vB"
   },
   "outputs": [],
   "source": [
    "train_loader = DataLoader(train_dataset, batch_size=batch_size, shuffle=True)\n",
    "valid_loader = DataLoader(valid_dataset, batch_size=batch_size, shuffle=False)"
   ]
  },
  {
   "cell_type": "code",
   "execution_count": 6,
   "metadata": {
    "ExecuteTime": {
     "end_time": "2019-10-18T03:24:26.055395Z",
     "start_time": "2019-10-18T03:24:25.900865Z"
    },
    "colab": {
     "base_uri": "https://localhost:8080/",
     "height": 52
    },
    "colab_type": "code",
    "id": "aTR9sI4Bpaza",
    "outputId": "8e2f4af1-f8c3-46f2-fcee-7175ad48e15b"
   },
   "outputs": [
    {
     "name": "stdout",
     "output_type": "stream",
     "text": [
      "40\n",
      "torch.Size([1500, 1, 28, 28]) torch.Size([1500]) tensor(1.)\n"
     ]
    }
   ],
   "source": [
    "print(len(train_loader))\n",
    "for image, label in train_loader:\n",
    "    print(image.shape, label.shape, image[0,0,:,:].max())\n",
    "    break"
   ]
  },
  {
   "cell_type": "markdown",
   "metadata": {},
   "source": [
    "## Model declaration"
   ]
  },
  {
   "cell_type": "code",
   "execution_count": 7,
   "metadata": {
    "ExecuteTime": {
     "end_time": "2019-10-18T03:24:26.964163Z",
     "start_time": "2019-10-18T03:24:26.935626Z"
    },
    "colab": {},
    "colab_type": "code",
    "id": "kBqmUU1w5eSz"
   },
   "outputs": [],
   "source": [
    "class GlobalMaxPool2D(nn.Module):\n",
    "    '''\n",
    "    Reduce to feature space\n",
    "    '''\n",
    "    def __init__(self):\n",
    "        super(GlobalMaxPool2D, self).__init__()\n",
    "        \n",
    "    def forward(self, x):\n",
    "        x =  torch.max(torch.max(x, 3, keepdim=False)[0], 2, keepdim=False)[0]\n",
    "        return x\n",
    "\n",
    "\n",
    "class Flatten(nn.Module):\n",
    "    def __init__(self):\n",
    "        super(Flatten, self).__init__()\n",
    "\n",
    "    def forward(self, input):\n",
    "        return input.view(input.size(0), -1)\n",
    "\n",
    "class CNNModel(nn.Module):\n",
    "    def __init__(self, n_classes, debug=False):\n",
    "        super(CNNModel, self).__init__()\n",
    "        \n",
    "        \n",
    "        self.conv1 = nn.Conv2d(in_channels=1, out_channels=16, kernel_size=3, stride=1)\n",
    "        self.conv2 = nn.Conv2d(in_channels=16, out_channels=32, kernel_size=3, stride=1)\n",
    "        self.conv3 = nn.Conv2d(in_channels=32, out_channels=64, kernel_size=3, stride=1, padding=1)\n",
    "        self.maxpool = nn.MaxPool2d(kernel_size=2)\n",
    "        self.global_maxpool = GlobalMaxPool2D()\n",
    "        self.fc1 = nn.Linear(in_features=256, out_features=64)\n",
    "        self.fc2 = nn.Linear(in_features=64, out_features=10)\n",
    "        self.relu = nn.LeakyReLU(inplace=True)\n",
    "        self.dropout2d = nn.Dropout2d()\n",
    "        self.dropout = nn.Dropout()\n",
    "        self.flatten = Flatten()\n",
    "        \n",
    "\n",
    "        self.debug = debug\n",
    "        \n",
    "    def forward(self, x):\n",
    "        x = self.maxpool(self.relu(self.conv1(x)))\n",
    "        if self.debug:\n",
    "            print(x.shape)\n",
    "        x = self.maxpool(self.relu(self.conv2(x)))\n",
    "        x = self.dropout2d(x)\n",
    "        if self.debug:\n",
    "            print(x.shape)\n",
    "        x = self.maxpool(self.relu(self.conv3(x)))\n",
    "        if self.debug:\n",
    "            print(x.shape)\n",
    "        \n",
    "        # x = self.global_maxpool(x)\n",
    "        x = self.flatten(x)\n",
    "        x = self.dropout(x)\n",
    "        if self.debug:\n",
    "            print(x.shape)\n",
    "\n",
    "        \n",
    "        \n",
    "        x = self.fc1(x)\n",
    "        x = self.dropout(x)\n",
    "        if self.debug:\n",
    "            print(x.shape)\n",
    "        x = self.fc2(x)\n",
    "        if self.debug:\n",
    "            print(x.shape)\n",
    "\n",
    "        \n",
    "        return x\n",
    "            \n",
    "        \n",
    "        "
   ]
  },
  {
   "cell_type": "code",
   "execution_count": 8,
   "metadata": {
    "ExecuteTime": {
     "end_time": "2019-10-18T03:24:27.849520Z",
     "start_time": "2019-10-18T03:24:27.621183Z"
    }
   },
   "outputs": [
    {
     "name": "stdout",
     "output_type": "stream",
     "text": [
      "torch.Size([1500, 1, 28, 28]) torch.Size([1500]) tensor(1.)\n",
      "torch.Size([1500, 16, 13, 13])\n",
      "torch.Size([1500, 32, 5, 5])\n",
      "torch.Size([1500, 64, 2, 2])\n",
      "torch.Size([1500, 256])\n",
      "torch.Size([1500, 64])\n",
      "torch.Size([1500, 10])\n"
     ]
    }
   ],
   "source": [
    "model = CNNModel(n_classes=10, debug=True)\n",
    "for image, label in train_loader:\n",
    "    print(image.shape, label.shape, image[0,0,:,:].max())\n",
    "    out = model(image)\n",
    "    break"
   ]
  },
  {
   "cell_type": "markdown",
   "metadata": {},
   "source": [
    "## LR range finder"
   ]
  },
  {
   "cell_type": "code",
   "execution_count": 9,
   "metadata": {
    "ExecuteTime": {
     "end_time": "2019-10-18T03:25:03.367170Z",
     "start_time": "2019-10-18T03:24:30.535736Z"
    },
    "scrolled": false
   },
   "outputs": [
    {
     "data": {
      "application/vnd.jupyter.widget-view+json": {
       "model_id": "950569591038444c9745c876bc7df304",
       "version_major": 2,
       "version_minor": 0
      },
      "text/plain": [
       "HBox(children=(IntProgress(value=0, max=500), HTML(value='')))"
      ]
     },
     "metadata": {},
     "output_type": "display_data"
    },
    {
     "name": "stdout",
     "output_type": "stream",
     "text": [
      "Stopping early, the loss has diverged\n",
      "Learning rate search finished. See the graph with {finder_name}.plot()\n"
     ]
    },
    {
     "data": {
      "image/png": "[encoded data removed]",
      "text/plain": [
       "<Figure size 432x288 with 1 Axes>"
      ]
     },
     "metadata": {},
     "output_type": "display_data"
    }
   ],
   "source": [
    "criterion = nn.CrossEntropyLoss()\n",
    "model = CNNModel(n_classes=10, debug=False)\n",
    "optimizer = torch.optim.AdamW(model.parameters(), lr=1e-4, weight_decay=1e-2)\n",
    "lr_finder = LRFinder(model, optimizer, criterion, device=\"cuda\")\n",
    "lr_finder.range_test(train_loader, end_lr=100, num_iter=500, diverge_th=5)\n",
    "lr_finder.plot()"
   ]
  },
  {
   "cell_type": "markdown",
   "metadata": {},
   "source": [
    "### Chosen learning rate"
   ]
  },
  {
   "cell_type": "code",
   "execution_count": 10,
   "metadata": {
    "ExecuteTime": {
     "end_time": "2019-10-18T03:25:03.501205Z",
     "start_time": "2019-10-18T03:25:03.486524Z"
    }
   },
   "outputs": [],
   "source": [
    "learning_rate = 5e-3"
   ]
  },
  {
   "cell_type": "markdown",
   "metadata": {},
   "source": [
    "## Create callbacks"
   ]
  },
  {
   "cell_type": "code",
   "execution_count": 11,
   "metadata": {
    "ExecuteTime": {
     "end_time": "2019-10-18T03:31:40.223302Z",
     "start_time": "2019-10-18T03:31:40.199628Z"
    }
   },
   "outputs": [],
   "source": [
    "def create_callbacks(trainer, evaluator):\n",
    "    \n",
    "    @trainer.on(Events.EPOCH_COMPLETED)\n",
    "    def log_training_results(trainer):\n",
    "        loss = trainer.state.output\n",
    "        evaluator.run(train_loader)\n",
    "        metrics = evaluator.state.metrics\n",
    "        \n",
    "        print(\"Training Results - Epoch: {}  Training loss: {:.2f} Avg loss: {:.2f} Avg accuracy: {:.2f} Avg recall: {:.2f} Avg precision: {:.2f}\".format(trainer.state.epoch,loss, metrics['loss'],\n",
    "                                                                                                                 metrics['accuracy'], \n",
    "                                                                                                                 metrics['recall'],\n",
    "                                                                                                                 metrics['precision']))\n",
    "\n",
    "    @trainer.on(Events.EPOCH_COMPLETED)\n",
    "    def run_evaluator_on_validation_data(engine):\n",
    "        evaluator.run(valid_loader)\n",
    "\n",
    "    @trainer.on(Events.EPOCH_COMPLETED)\n",
    "    def run_trainer_on_training_data(engine):\n",
    "        evaluator.run(train_loader)\n"
   ]
  },
  {
   "cell_type": "markdown",
   "metadata": {},
   "source": [
    "## Metrics"
   ]
  },
  {
   "cell_type": "code",
   "execution_count": 18,
   "metadata": {
    "ExecuteTime": {
     "end_time": "2019-10-18T03:36:55.256325Z",
     "start_time": "2019-10-18T03:36:55.239183Z"
    }
   },
   "outputs": [],
   "source": [
    "def thresholded_output_transform(output, threshold=0.5):\n",
    "    y_pred, y = output\n",
    "    y_pred = torch.ge(y_pred.float(), threshold).float()\n",
    "    y_pred = torch.round(y_pred)\n",
    "    return y_pred, y"
   ]
  },
  {
   "cell_type": "code",
   "execution_count": 19,
   "metadata": {
    "ExecuteTime": {
     "end_time": "2019-10-18T03:36:57.444686Z",
     "start_time": "2019-10-18T03:36:57.429248Z"
    }
   },
   "outputs": [],
   "source": [
    "is_multilabel = False\n",
    "average = True"
   ]
  },
  {
   "cell_type": "markdown",
   "metadata": {},
   "source": [
    "## Model declaration"
   ]
  },
  {
   "cell_type": "code",
   "execution_count": 20,
   "metadata": {
    "ExecuteTime": {
     "end_time": "2019-10-18T03:36:57.814981Z",
     "start_time": "2019-10-18T03:36:57.796045Z"
    }
   },
   "outputs": [],
   "source": [
    "model = CNNModel(n_classes=10, debug=False)"
   ]
  },
  {
   "cell_type": "markdown",
   "metadata": {},
   "source": [
    "## Create ignite modules"
   ]
  },
  {
   "cell_type": "code",
   "execution_count": 21,
   "metadata": {
    "ExecuteTime": {
     "end_time": "2019-10-18T03:36:58.563469Z",
     "start_time": "2019-10-18T03:36:58.547749Z"
    }
   },
   "outputs": [],
   "source": [
    "device = torch.device(\"cuda\" if torch.cuda.is_available() else \"cpu\")"
   ]
  },
  {
   "cell_type": "code",
   "execution_count": 22,
   "metadata": {
    "ExecuteTime": {
     "end_time": "2019-10-18T03:36:58.994997Z",
     "start_time": "2019-10-18T03:36:58.956906Z"
    }
   },
   "outputs": [],
   "source": [
    "loss = nn.CrossEntropyLoss()\n",
    "optimizer = torch.optim.AdamW(model.parameters(), lr=learning_rate, weight_decay=1e-2)\n",
    "trainer = create_supervised_trainer(model, optimizer, loss, device=device)\n",
    "evaluator = create_supervised_evaluator(model, device=device, metrics={'loss': Loss(loss),\n",
    "                                                                       'accuracy': Accuracy(thresholded_output_transform, \n",
    "                                                                                            is_multilabel=is_multilabel),\n",
    "                                                                       'recall': Recall(thresholded_output_transform, \n",
    "                                                                                        is_multilabel=is_multilabel,\n",
    "                                                                                        average=average),\n",
    "                                                                       'precision': Precision(thresholded_output_transform, \n",
    "                                                                                              is_multilabel=is_multilabel,\n",
    "                                                                                              average=average)})\n",
    "create_callbacks(trainer, evaluator)"
   ]
  },
  {
   "cell_type": "markdown",
   "metadata": {},
   "source": [
    "## Training"
   ]
  },
  {
   "cell_type": "code",
   "execution_count": 23,
   "metadata": {
    "ExecuteTime": {
     "end_time": "2019-10-18T03:39:18.335528Z",
     "start_time": "2019-10-18T03:37:04.396898Z"
    }
   },
   "outputs": [
    {
     "name": "stdout",
     "output_type": "stream",
     "text": [
      "Training Results - Epoch: 1  Training loss: 0.39 Avg loss: 0.19 Avg accuracy: 0.94 Avg recall: 0.94 Avg precision: 0.94\n",
      "Training Results - Epoch: 2  Training loss: 0.27 Avg loss: 0.10 Avg accuracy: 0.97 Avg recall: 0.97 Avg precision: 0.97\n",
      "Training Results - Epoch: 3  Training loss: 0.22 Avg loss: 0.08 Avg accuracy: 0.98 Avg recall: 0.98 Avg precision: 0.98\n",
      "Training Results - Epoch: 4  Training loss: 0.15 Avg loss: 0.06 Avg accuracy: 0.98 Avg recall: 0.98 Avg precision: 0.98\n",
      "Training Results - Epoch: 5  Training loss: 0.15 Avg loss: 0.05 Avg accuracy: 0.98 Avg recall: 0.98 Avg precision: 0.98\n",
      "Training Results - Epoch: 6  Training loss: 0.15 Avg loss: 0.05 Avg accuracy: 0.98 Avg recall: 0.98 Avg precision: 0.98\n",
      "Training Results - Epoch: 7  Training loss: 0.12 Avg loss: 0.04 Avg accuracy: 0.98 Avg recall: 0.98 Avg precision: 0.98\n",
      "Training Results - Epoch: 8  Training loss: 0.13 Avg loss: 0.04 Avg accuracy: 0.99 Avg recall: 0.99 Avg precision: 0.99\n",
      "Training Results - Epoch: 9  Training loss: 0.11 Avg loss: 0.04 Avg accuracy: 0.99 Avg recall: 0.99 Avg precision: 0.99\n",
      "Training Results - Epoch: 10  Training loss: 0.14 Avg loss: 0.03 Avg accuracy: 0.99 Avg recall: 0.99 Avg precision: 0.99\n"
     ]
    },
    {
     "data": {
      "text/plain": [
       "<ignite.engine.engine.State at 0x7f0cf673f908>"
      ]
     },
     "execution_count": 23,
     "metadata": {},
     "output_type": "execute_result"
    }
   ],
   "source": [
    "trainer.run(train_loader, max_epochs=10)"
   ]
  },
  {
   "cell_type": "code",
   "execution_count": null,
   "metadata": {},
   "outputs": [],
   "source": []
  },
  {
   "cell_type": "code",
   "execution_count": null,
   "metadata": {},
   "outputs": [],
   "source": []
  }
 ],
 "metadata": {
  "accelerator": "GPU",
  "colab": {
   "collapsed_sections": [],
   "include_colab_link": true,
   "name": "pytorch_cnn_fashion_mnist.ipynb",
   "provenance": [],
   "version": "0.3.2"
  },
  "kernelspec": {
   "display_name": "Python 3",
   "language": "python",
   "name": "python3"
  },
  "language_info": {
   "codemirror_mode": {
    "name": "ipython",
    "version": 3
   },
   "file_extension": ".py",
   "mimetype": "text/x-python",
   "name": "python",
   "nbconvert_exporter": "python",
   "pygments_lexer": "ipython3",
   "version": "3.7.0"
  },
  "toc": {
   "base_numbering": 1,
   "nav_menu": {},
   "number_sections": true,
   "sideBar": true,
   "skip_h1_title": false,
   "title_cell": "Table of Contents",
   "title_sidebar": "Contents",
   "toc_cell": false,
   "toc_position": {},
   "toc_section_display": true,
   "toc_window_display": false
  },
  "varInspector": {
   "cols": {
    "lenName": 16,
    "lenType": 16,
    "lenVar": 40
   },
   "kernels_config": {
    "python": {
     "delete_cmd_postfix": "",
     "delete_cmd_prefix": "del ",
     "library": "var_list.py",
     "varRefreshCmd": "print(var_dic_list())"
    },
    "r": {
     "delete_cmd_postfix": ") ",
     "delete_cmd_prefix": "rm(",
     "library": "var_list.r",
     "varRefreshCmd": "cat(var_dic_list()) "
    }
   },
   "types_to_exclude": [
    "module",
    "function",
    "builtin_function_or_method",
    "instance",
    "_Feature"
   ],
   "window_display": false
  }
 },
 "nbformat": 4,
 "nbformat_minor": 1
}
