{
 "cells": [
  {
   "cell_type": "code",
   "execution_count": 6,
   "metadata": {},
   "outputs": [],
   "source": [
    "import numpy as np\n",
    "import torch\n",
    "from torch.autograd import Variable\n",
    "import torch.nn.functional as F\n",
    "\n",
    "\n",
    "file_loc = r'D:\\dev\\data\\diabetes.csv.gz'\n",
    "data = np.loadtxt(file_loc, delimiter=',', dtype=np.float32)"
   ]
  },
  {
   "cell_type": "code",
   "execution_count": 3,
   "metadata": {},
   "outputs": [
    {
     "name": "stdout",
     "output_type": "stream",
     "text": [
      "(759, 9)\n"
     ]
    }
   ],
   "source": [
    "print(data.shape)"
   ]
  },
  {
   "cell_type": "code",
   "execution_count": 17,
   "metadata": {},
   "outputs": [],
   "source": [
    "x_data = Variable(torch.from_numpy(data[:,0:-1]))\n",
    "y_data = Variable(torch.unsqueeze(torch.from_numpy(data[:,-1]), 1))"
   ]
  },
  {
   "cell_type": "code",
   "execution_count": 18,
   "metadata": {},
   "outputs": [
    {
     "name": "stdout",
     "output_type": "stream",
     "text": [
      "torch.Size([759, 8]) torch.Size([759, 1])\n"
     ]
    }
   ],
   "source": [
    "print(x_data.shape, y_data.shape)"
   ]
  },
  {
   "cell_type": "code",
   "execution_count": 34,
   "metadata": {},
   "outputs": [],
   "source": [
    "class Model(torch.nn.Module):\n",
    "    def __init__(self):\n",
    "        super(Model, self).__init__()\n",
    "        self.l1 = torch.nn.Linear(8, 32)\n",
    "        self.l2 = torch.nn.Linear(32, 16)\n",
    "        self.l3 = torch.nn.Linear(16, 4)\n",
    "        self.l4 = torch.nn.Linear(4, 1)\n",
    "        \n",
    "        self.sigmoid = torch.nn.Sigmoid()\n",
    "        \n",
    "    def forward(self, x):\n",
    "        out1 = F.relu(self.l1(x))\n",
    "        out2 = F.relu(self.l2(out1))\n",
    "        out3 = F.relu(self.l3(out2))\n",
    "        y_hat = self.sigmoid(self.l4(out3))\n",
    "        \n",
    "        return y_hat"
   ]
  },
  {
   "cell_type": "code",
   "execution_count": 35,
   "metadata": {},
   "outputs": [],
   "source": [
    "model = Model()\n",
    "criterion = torch.nn.BCELoss(size_average=True)\n",
    "optimizer = torch.optim.SGD(params=model.parameters(), lr=0.1)"
   ]
  },
  {
   "cell_type": "code",
   "execution_count": 38,
   "metadata": {},
   "outputs": [
    {
     "name": "stderr",
     "output_type": "stream",
     "text": [
      "D:\\dev\\anaconda\\envs\\env1\\lib\\site-packages\\ipykernel_launcher.py:8: UserWarning: invalid index of a 0-dim tensor. This will be an error in PyTorch 0.5. Use tensor.item() to convert a 0-dim tensor to a Python number\n",
      "  \n"
     ]
    },
    {
     "name": "stdout",
     "output_type": "stream",
     "text": [
      "0 tensor(0.3597)\n",
      "1000 tensor(0.3449)\n",
      "2000 tensor(0.3434)\n",
      "3000 tensor(0.3062)\n",
      "4000 tensor(0.2938)\n",
      "5000 tensor(0.3098)\n",
      "6000 tensor(0.2382)\n",
      "7000 tensor(0.3050)\n",
      "8000 tensor(0.1691)\n",
      "9000 tensor(0.1461)\n",
      "10000 tensor(0.1086)\n",
      "11000 tensor(0.1049)\n",
      "12000 tensor(1.00000e-02 *\n",
      "       7.6432)\n",
      "13000 tensor(1.00000e-02 *\n",
      "       7.5996)\n",
      "14000 tensor(1.00000e-02 *\n",
      "       4.5691)\n"
     ]
    }
   ],
   "source": [
    "for epoch in range(15000):\n",
    "    optimizer.zero_grad()                     # 1. Zero all grads and dont accumulate\n",
    "    y_hat = model(x_data)                     # 2. Forward\n",
    "    loss = criterion(y_hat, y_data)           # 3. calculate loss\n",
    "    loss.backward()                           # 4. backprop\n",
    "    optimizer.step()                          # 5. update weights\n",
    "    if epoch%1000==0:\n",
    "        print(epoch, loss.data[0])"
   ]
  },
  {
   "cell_type": "code",
   "execution_count": null,
   "metadata": {},
   "outputs": [],
   "source": []
  }
 ],
 "metadata": {
  "kernelspec": {
   "display_name": "Python 3",
   "language": "python",
   "name": "python3"
  },
  "language_info": {
   "codemirror_mode": {
    "name": "ipython",
    "version": 3
   },
   "file_extension": ".py",
   "mimetype": "text/x-python",
   "name": "python",
   "nbconvert_exporter": "python",
   "pygments_lexer": "ipython3",
   "version": "3.6.4"
  }
 },
 "nbformat": 4,
 "nbformat_minor": 2
}
