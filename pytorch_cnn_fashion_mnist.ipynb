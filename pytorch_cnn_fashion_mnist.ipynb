{
  "nbformat": 4,
  "nbformat_minor": 0,
  "metadata": {
    "colab": {
      "name": "pytorch_cnn_fashion_mnist.ipynb",
      "version": "0.3.2",
      "provenance": [],
      "collapsed_sections": [],
      "include_colab_link": true
    },
    "kernelspec": {
      "name": "python3",
      "display_name": "Python 3"
    },
    "accelerator": "GPU"
  },
  "cells": [
    {
      "cell_type": "markdown",
      "metadata": {
        "id": "view-in-github",
        "colab_type": "text"
      },
      "source": [
        "<a href=\"https://colab.research.google.com/github/ekmungi/ml_examples/blob/master/pytorch_cnn_fashion_mnist.ipynb\" target=\"_parent\"><img src=\"https://colab.research.google.com/assets/colab-badge.svg\" alt=\"Open In Colab\"/></a>"
      ]
    },
    {
      "cell_type": "code",
      "metadata": {
        "id": "abkPgR8mhuUS",
        "colab_type": "code",
        "outputId": "c1b361d2-fef9-4ae4-89f9-82654329f46f",
        "colab": {
          "base_uri": "https://localhost:8080/",
          "height": 121
        }
      },
      "source": [
        "!pip3 install torch torchvision"
      ],
      "execution_count": 0,
      "outputs": [
        {
          "output_type": "stream",
          "text": [
            "Requirement already satisfied: torch in /usr/local/lib/python3.6/dist-packages (1.1.0)\n",
            "Requirement already satisfied: torchvision in /usr/local/lib/python3.6/dist-packages (0.3.0)\n",
            "Requirement already satisfied: numpy in /usr/local/lib/python3.6/dist-packages (from torch) (1.16.4)\n",
            "Requirement already satisfied: pillow>=4.1.1 in /usr/local/lib/python3.6/dist-packages (from torchvision) (4.3.0)\n",
            "Requirement already satisfied: six in /usr/local/lib/python3.6/dist-packages (from torchvision) (1.12.0)\n",
            "Requirement already satisfied: olefile in /usr/local/lib/python3.6/dist-packages (from pillow>=4.1.1->torchvision) (0.46)\n"
          ],
          "name": "stdout"
        }
      ]
    },
    {
      "cell_type": "code",
      "metadata": {
        "id": "uGwf774DhFSQ",
        "colab_type": "code",
        "colab": {}
      },
      "source": [
        "import numpy as np\n",
        "import matplotlib.pyplot as plt\n",
        "\n",
        "import torch\n",
        "from torch import nn\n",
        "import torch.nn.functional as F\n",
        "import torchvision.transforms as transforms\n",
        "import torchvision.datasets as dsets\n",
        "from torch.utils.data import Dataset, DataLoader"
      ],
      "execution_count": 0,
      "outputs": []
    },
    {
      "cell_type": "code",
      "metadata": {
        "id": "9pipFa97JpUs",
        "colab_type": "code",
        "colab": {}
      },
      "source": [
        "composed = transforms.Compose([transforms.RandomHorizontalFlip(),\n",
        "                               transforms.RandomVerticalFlip(),\n",
        "                               transforms.ToTensor()])"
      ],
      "execution_count": 0,
      "outputs": []
    },
    {
      "cell_type": "code",
      "metadata": {
        "id": "FCge6PrypNfY",
        "colab_type": "code",
        "colab": {}
      },
      "source": [
        "train_dataset = dsets.FashionMNIST(root='./data', \n",
        "                            train=True, \n",
        "                            transform=transforms.ToTensor(),\n",
        "                            download=True)\n",
        "\n",
        "test_dataset = dsets.FashionMNIST(root='./data', \n",
        "                           train=False, \n",
        "                           transform=transforms.ToTensor())"
      ],
      "execution_count": 0,
      "outputs": []
    },
    {
      "cell_type": "code",
      "metadata": {
        "id": "BW2mryXtDMRu",
        "colab_type": "code",
        "colab": {}
      },
      "source": [
        "batch_size = 100"
      ],
      "execution_count": 0,
      "outputs": []
    },
    {
      "cell_type": "code",
      "metadata": {
        "id": "KgZJSnSUC5vB",
        "colab_type": "code",
        "colab": {}
      },
      "source": [
        "train_loader = DataLoader(train_dataset, batch_size=batch_size, shuffle=True)\n",
        "test_loader = DataLoader(test_dataset, batch_size=batch_size, shuffle=False)"
      ],
      "execution_count": 0,
      "outputs": []
    },
    {
      "cell_type": "code",
      "metadata": {
        "id": "PU7YXWCYqaMh",
        "colab_type": "code",
        "colab": {}
      },
      "source": [
        ""
      ],
      "execution_count": 0,
      "outputs": []
    },
    {
      "cell_type": "code",
      "metadata": {
        "id": "aTR9sI4Bpaza",
        "colab_type": "code",
        "outputId": "8e2f4af1-f8c3-46f2-fcee-7175ad48e15b",
        "colab": {
          "base_uri": "https://localhost:8080/",
          "height": 52
        }
      },
      "source": [
        "print(len(train_loader))\n",
        "for image, label in train_loader:\n",
        "    print(image.shape, label.shape, image[0,0,:,:].max())\n",
        "    break"
      ],
      "execution_count": 0,
      "outputs": [
        {
          "output_type": "stream",
          "text": [
            "600\n",
            "torch.Size([100, 1, 28, 28]) torch.Size([100]) tensor(1.)\n"
          ],
          "name": "stdout"
        }
      ]
    },
    {
      "cell_type": "code",
      "metadata": {
        "id": "kBqmUU1w5eSz",
        "colab_type": "code",
        "colab": {}
      },
      "source": [
        "class GlobalMaxPool2D(nn.Module):\n",
        "    '''\n",
        "    Reduce to feature space\n",
        "    '''\n",
        "    def __init__(self):\n",
        "        super(GlobalMaxPool2D, self).__init__()\n",
        "        \n",
        "    def forward(self, x):\n",
        "        x =  torch.max(torch.max(x, 3, keepdim=False)[0], 2, keepdim=False)[0]\n",
        "        return x\n",
        "\n",
        "\n",
        "class Flatten(nn.Module):\n",
        "    def __init__(self):\n",
        "        super(Flatten, self).__init__()\n",
        "\n",
        "    def forward(self, input):\n",
        "        return input.view(input.size(0), -1)\n",
        "\n",
        "class CNNModel(nn.Module):\n",
        "    def __init__(self, n_classes, debug=False):\n",
        "        super(CNNModel, self).__init__()\n",
        "        \n",
        "        \n",
        "        self.conv1 = nn.Conv2d(in_channels=1, out_channels=16, kernel_size=3, stride=1)\n",
        "        self.conv2 = nn.Conv2d(in_channels=16, out_channels=32, kernel_size=3, stride=1)\n",
        "        # self.conv3 = nn.Conv2d(in_channels=32, out_channels=64, kernel_size=3, stride=1)\n",
        "        self.maxpool = nn.MaxPool2d(kernel_size=2)\n",
        "        self.global_maxpool = GlobalMaxPool2D()\n",
        "        self.fc1 = nn.Linear(in_features=800, out_features=100)\n",
        "        self.fc2 = nn.Linear(in_features=100, out_features=10)\n",
        "        self.relu = nn.LeakyReLU(inplace=True)\n",
        "        self.dropout2d = nn.Dropout2d()\n",
        "        self.dropout = nn.Dropout()\n",
        "        self.flatten = Flatten()\n",
        "        \n",
        "\n",
        "        self.debug = debug\n",
        "        \n",
        "    def forward(self, x):\n",
        "        x = self.maxpool(self.relu(self.conv1(x)))\n",
        "        if self.debug:\n",
        "            print(x.shape)\n",
        "        x = self.maxpool(self.relu(self.conv2(x)))\n",
        "        x = self.dropout2d(x)\n",
        "        if self.debug:\n",
        "            print(x.shape)\n",
        "        # x = self.maxpool(self.relu(self.conv3(x)))\n",
        "        # if self.debug:\n",
        "        #     print(x.shape)\n",
        "        \n",
        "        # x = self.global_maxpool(x)\n",
        "        x = self.flatten(x)\n",
        "        x = self.dropout(x)\n",
        "        if self.debug:\n",
        "            print(x.shape)\n",
        "\n",
        "        \n",
        "        \n",
        "        x = self.fc1(x)\n",
        "        x = self.dropout(x)\n",
        "        if self.debug:\n",
        "            print(x.shape)\n",
        "        x = self.fc2(x)\n",
        "        if self.debug:\n",
        "            print(x.shape)\n",
        "\n",
        "        \n",
        "        return x\n",
        "            \n",
        "        \n",
        "        "
      ],
      "execution_count": 0,
      "outputs": []
    },
    {
      "cell_type": "code",
      "metadata": {
        "id": "ofRE_N1sGrax",
        "colab_type": "code",
        "outputId": "9cf1830b-cfd3-4fbf-fdb7-282b0272f067",
        "colab": {
          "base_uri": "https://localhost:8080/",
          "height": 1000
        }
      },
      "source": [
        "num_epochs = 100\n",
        "learning_rate = 0.01\n",
        "\n",
        "n_classes = 10\n",
        "\n",
        "model = CNNModel(n_classes, debug=False)\n",
        "\n",
        "\n",
        "loss_list = []\n",
        "\n",
        "if torch.cuda.is_available():\n",
        "    model.cuda()\n",
        "criterion = nn.CrossEntropyLoss()\n",
        "\n",
        "optimizer = torch.optim.SGD(model.parameters(), lr=learning_rate, momentum=0.9)\n",
        "# optimizer = torch.optim.Adam(model.parameters(), lr=learning_rate, weight_decay=1e-4)\n",
        "\n",
        "for epoch in range(num_epochs):\n",
        "    model.train()\n",
        "    for iteration, (image, label) in enumerate(train_loader):\n",
        "\n",
        "\n",
        "        if torch.cuda.is_available():\n",
        "            X = image.cuda()\n",
        "            y = label.cuda()\n",
        "        else:\n",
        "            X = image\n",
        "            y = label\n",
        "\n",
        "\n",
        "        optimizer.zero_grad()\n",
        "\n",
        "        y_pred = model(X)\n",
        "        # break\n",
        "                \n",
        "        loss = criterion(y_pred, y)\n",
        "        \n",
        "        loss.backward()\n",
        "        \n",
        "        optimizer.step()\n",
        "\n",
        "        loss_list.append(loss.cpu().data)\n",
        "\n",
        "    \n",
        "    model.eval()\n",
        "    with torch.no_grad():\n",
        "        correct = 0\n",
        "        total = 0\n",
        "        for iteration, (image, label) in enumerate(test_loader):\n",
        "            if torch.cuda.is_available():\n",
        "                X = image.cuda()\n",
        "                y = label.cuda()\n",
        "            else:\n",
        "                X = image\n",
        "                y = label\n",
        "\n",
        "            y_pred = model(X)\n",
        "\n",
        "            _, predicted = torch.max(y_pred.data, 1)\n",
        "\n",
        "            total += y.size(0)\n",
        "\n",
        "            if torch.cuda.is_available():\n",
        "                correct += (predicted.cpu() == y.cpu()).sum()\n",
        "            else:\n",
        "                correct += (predicted == y).sum()\n",
        "\n",
        "        print(\"{0} : {1}, {2}\".format(epoch, loss.cpu().data, np.round(100*correct/total, 2)))\n",
        "\n",
        "\n",
        "        \n",
        "\n",
        "plt.plot(np.arange(0,len(loss_list)), np.array(loss_list))\n"
      ],
      "execution_count": 0,
      "outputs": [
        {
          "output_type": "stream",
          "text": [
            "0 : 0.6829680800437927, 76\n",
            "1 : 0.7459284067153931, 78\n",
            "2 : 0.5706508755683899, 81\n",
            "3 : 0.5170120596885681, 82\n",
            "4 : 0.6352803707122803, 83\n",
            "5 : 0.5464844107627869, 84\n",
            "6 : 0.7018163800239563, 84\n",
            "7 : 0.5211969017982483, 85\n",
            "8 : 0.5567182898521423, 85\n",
            "9 : 0.5370659232139587, 85\n",
            "10 : 0.3686281442642212, 86\n",
            "11 : 0.3687348961830139, 86\n",
            "12 : 0.5796474814414978, 86\n",
            "13 : 0.48154282569885254, 86\n",
            "14 : 0.445369154214859, 86\n",
            "15 : 0.5209728479385376, 86\n",
            "16 : 0.5193297863006592, 86\n",
            "17 : 0.3903774917125702, 86\n",
            "18 : 0.32219481468200684, 86\n",
            "19 : 0.5011651515960693, 86\n",
            "20 : 0.4639284610748291, 86\n",
            "21 : 0.4439605474472046, 86\n",
            "22 : 0.5187378525733948, 87\n",
            "23 : 0.4747912585735321, 87\n",
            "24 : 0.4506872594356537, 87\n",
            "25 : 0.5138410329818726, 86\n",
            "26 : 0.3481023907661438, 86\n",
            "27 : 0.4614514112472534, 87\n",
            "28 : 0.32390570640563965, 87\n",
            "29 : 0.3452293276786804, 87\n",
            "30 : 0.5553795695304871, 87\n",
            "31 : 0.47971129417419434, 87\n",
            "32 : 0.5017114877700806, 87\n",
            "33 : 0.38179659843444824, 87\n",
            "34 : 0.33343973755836487, 88\n",
            "35 : 0.38791972398757935, 88\n",
            "36 : 0.3170805275440216, 87\n",
            "37 : 0.5415571331977844, 87\n",
            "38 : 0.49890923500061035, 88\n",
            "39 : 0.43935802578926086, 87\n",
            "40 : 0.39361631870269775, 87\n",
            "41 : 0.5041911602020264, 87\n",
            "42 : 0.3784674406051636, 88\n",
            "43 : 0.4616207182407379, 88\n",
            "44 : 0.36321917176246643, 88\n",
            "45 : 0.3961799144744873, 88\n",
            "46 : 0.3808456063270569, 88\n",
            "47 : 0.39648300409317017, 88\n",
            "48 : 0.41776564717292786, 87\n",
            "49 : 0.3990076780319214, 88\n",
            "50 : 0.36152327060699463, 88\n",
            "51 : 0.4342643618583679, 87\n",
            "52 : 0.37529289722442627, 88\n",
            "53 : 0.46496444940567017, 88\n",
            "54 : 0.47134700417518616, 88\n",
            "55 : 0.32137516140937805, 88\n",
            "56 : 0.3830110430717468, 88\n",
            "57 : 0.4220828711986542, 88\n",
            "58 : 0.3510218560695648, 87\n",
            "59 : 0.2634654641151428, 88\n",
            "60 : 0.6505993604660034, 88\n",
            "61 : 0.5182011127471924, 88\n",
            "62 : 0.3636487126350403, 88\n",
            "63 : 0.32568368315696716, 88\n",
            "64 : 0.38742595911026, 88\n",
            "65 : 0.46719908714294434, 88\n",
            "66 : 0.4346736669540405, 88\n",
            "67 : 0.5274684429168701, 88\n",
            "68 : 0.46860113739967346, 88\n",
            "69 : 0.29853832721710205, 87\n",
            "70 : 0.49355509877204895, 88\n",
            "71 : 0.48287421464920044, 88\n",
            "72 : 0.35372668504714966, 88\n",
            "73 : 0.3631230294704437, 88\n",
            "74 : 0.4010520279407501, 88\n",
            "75 : 0.3322158455848694, 88\n",
            "76 : 0.5504351854324341, 88\n",
            "77 : 0.4623428285121918, 88\n",
            "78 : 0.3348197638988495, 89\n",
            "79 : 0.35197949409484863, 88\n",
            "80 : 0.34617725014686584, 88\n",
            "81 : 0.37462449073791504, 88\n",
            "82 : 0.4296392500400543, 88\n",
            "83 : 0.3155195713043213, 88\n",
            "84 : 0.26598647236824036, 88\n",
            "85 : 0.48262354731559753, 88\n",
            "86 : 0.3958313763141632, 89\n",
            "87 : 0.31857460737228394, 88\n",
            "88 : 0.5719180107116699, 88\n",
            "89 : 0.49523720145225525, 88\n",
            "90 : 0.5101825594902039, 88\n",
            "91 : 0.4451260268688202, 88\n",
            "92 : 0.27407512068748474, 88\n",
            "93 : 0.4061037003993988, 88\n",
            "94 : 0.5366547107696533, 88\n",
            "95 : 0.37314894795417786, 88\n",
            "96 : 0.3913984000682831, 88\n",
            "97 : 0.3920588791370392, 88\n",
            "98 : 0.4907701015472412, 88\n",
            "99 : 0.45226427912712097, 88\n"
          ],
          "name": "stdout"
        },
        {
          "output_type": "execute_result",
          "data": {
            "text/plain": [
              "[<matplotlib.lines.Line2D at 0x7f1b9903d7f0>]"
            ]
          },
          "metadata": {
            "tags": []
          },
          "execution_count": 82
        },
        {
          "output_type": "display_data",
          "data": {
            "image/png": "[encoded data removed]",
            "text/plain": [
              "<Figure size 432x288 with 1 Axes>"
            ]
          },
          "metadata": {
            "tags": []
          }
        }
      ]
    },
    {
      "cell_type": "code",
      "metadata": {
        "id": "GKVXxbbLAcug",
        "colab_type": "code",
        "colab": {}
      },
      "source": [
        ""
      ],
      "execution_count": 0,
      "outputs": []
    }
  ]
}