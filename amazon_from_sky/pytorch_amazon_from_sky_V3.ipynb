{
 "cells": [
  {
   "cell_type": "code",
   "execution_count": 1,
   "metadata": {},
   "outputs": [],
   "source": [
    "import numpy as np\n",
    "import pandas as pd\n",
    "import matplotlib.pyplot as plt\n",
    "import seaborn as sns"
   ]
  },
  {
   "cell_type": "code",
   "execution_count": 2,
   "metadata": {},
   "outputs": [],
   "source": [
    "# base_path = '/media/anant/data/amazon_from_space/'\n",
    "base_path = '/media/avemuri/DEV/Data/amazon_from_space/'"
   ]
  },
  {
   "cell_type": "code",
   "execution_count": 3,
   "metadata": {},
   "outputs": [
    {
     "data": {
      "text/html": [
       "<div>\n",
       "<style scoped>\n",
       "    .dataframe tbody tr th:only-of-type {\n",
       "        vertical-align: middle;\n",
       "    }\n",
       "\n",
       "    .dataframe tbody tr th {\n",
       "        vertical-align: top;\n",
       "    }\n",
       "\n",
       "    .dataframe thead th {\n",
       "        text-align: right;\n",
       "    }\n",
       "</style>\n",
       "<table border=\"1\" class=\"dataframe\">\n",
       "  <thead>\n",
       "    <tr style=\"text-align: right;\">\n",
       "      <th></th>\n",
       "      <th>image_name</th>\n",
       "      <th>tags</th>\n",
       "    </tr>\n",
       "  </thead>\n",
       "  <tbody>\n",
       "    <tr>\n",
       "      <td>0</td>\n",
       "      <td>train_0</td>\n",
       "      <td>haze primary</td>\n",
       "    </tr>\n",
       "    <tr>\n",
       "      <td>1</td>\n",
       "      <td>train_1</td>\n",
       "      <td>agriculture clear primary water</td>\n",
       "    </tr>\n",
       "    <tr>\n",
       "      <td>2</td>\n",
       "      <td>train_2</td>\n",
       "      <td>clear primary</td>\n",
       "    </tr>\n",
       "    <tr>\n",
       "      <td>3</td>\n",
       "      <td>train_3</td>\n",
       "      <td>clear primary</td>\n",
       "    </tr>\n",
       "    <tr>\n",
       "      <td>4</td>\n",
       "      <td>train_4</td>\n",
       "      <td>agriculture clear habitation primary road</td>\n",
       "    </tr>\n",
       "  </tbody>\n",
       "</table>\n",
       "</div>"
      ],
      "text/plain": [
       "  image_name                                       tags\n",
       "0    train_0                               haze primary\n",
       "1    train_1            agriculture clear primary water\n",
       "2    train_2                              clear primary\n",
       "3    train_3                              clear primary\n",
       "4    train_4  agriculture clear habitation primary road"
      ]
     },
     "execution_count": 3,
     "metadata": {},
     "output_type": "execute_result"
    }
   ],
   "source": [
    "train_df = pd.read_csv(base_path+'train_v2.csv')\n",
    "train_df.head()"
   ]
  },
  {
   "cell_type": "code",
   "execution_count": 4,
   "metadata": {},
   "outputs": [
    {
     "name": "stdout",
     "output_type": "stream",
     "text": [
      "There is 17 unique labels including {'cloudy', 'haze', 'selective_logging', 'partly_cloudy', 'conventional_mine', 'agriculture', 'primary', 'blow_down', 'cultivation', 'bare_ground', 'water', 'habitation', 'clear', 'road', 'blooming', 'artisinal_mine', 'slash_burn'}\n"
     ]
    }
   ],
   "source": [
    "# Print all unique tags\n",
    "from itertools import chain\n",
    "labels_list = list(chain.from_iterable([tags.split(\" \") for tags in train_df['tags'].values]))\n",
    "labels_set = set(labels_list)\n",
    "print(\"There is {} unique labels including {}\".format(len(labels_set), labels_set))"
   ]
  },
  {
   "cell_type": "code",
   "execution_count": 5,
   "metadata": {},
   "outputs": [
    {
     "data": {
      "text/plain": [
       "<matplotlib.axes._subplots.AxesSubplot at 0x7fc5b2290d68>"
      ]
     },
     "execution_count": 5,
     "metadata": {},
     "output_type": "execute_result"
    },
    {
     "data": {
      "image/png": "[encoded data removed]",
      "text/plain": [
       "<Figure size 1152x576 with 1 Axes>"
      ]
     },
     "metadata": {
      "needs_background": "light"
     },
     "output_type": "display_data"
    }
   ],
   "source": [
    "labels_s = pd.Series(labels_list).value_counts() # To sort them by count\n",
    "fig, ax = plt.subplots(figsize=(16, 8))\n",
    "sns.barplot(x=labels_s, y=labels_s.index, orient='h')"
   ]
  },
  {
   "cell_type": "code",
   "execution_count": 6,
   "metadata": {},
   "outputs": [
    {
     "name": "stdout",
     "output_type": "stream",
     "text": [
      "[0.32261477 0.24450885 0.10590997 0.06941124 0.06373519 0.06244517\n",
      " 0.03910456 0.03147629 0.02319441 0.01796557 0.00741327 0.00292403\n",
      " 0.00291543 0.00285523 0.00179742 0.00086861 0.00086001] Index(['primary', 'clear', 'agriculture', 'road', 'water', 'partly_cloudy',\n",
      "       'cultivation', 'habitation', 'haze', 'cloudy', 'bare_ground',\n",
      "       'selective_logging', 'artisinal_mine', 'blooming', 'slash_burn',\n",
      "       'blow_down', 'conventional_mine'],\n",
      "      dtype='object')\n"
     ]
    }
   ],
   "source": [
    "weights = labels_s.values/labels_s.values.sum()\n",
    "print(weights, labels_s.index)"
   ]
  },
  {
   "cell_type": "code",
   "execution_count": 7,
   "metadata": {},
   "outputs": [
    {
     "data": {
      "text/plain": [
       "conventional_mine      100\n",
       "road                  8071\n",
       "habitation            3660\n",
       "primary              37513\n",
       "cloudy                2089\n",
       "cultivation           4547\n",
       "partly_cloudy         7261\n",
       "artisinal_mine         339\n",
       "selective_logging      340\n",
       "blooming               332\n",
       "agriculture          12315\n",
       "water                 7411\n",
       "bare_ground            862\n",
       "blow_down              101\n",
       "slash_burn             209\n",
       "clear                28431\n",
       "haze                  2697\n",
       "dtype: int64"
      ]
     },
     "execution_count": 7,
     "metadata": {},
     "output_type": "execute_result"
    },
    {
     "name": "stdout",
     "output_type": "stream",
     "text": [
      "[0.32261477 0.24450885 0.10590997 0.06941124 0.06373519 0.06244517\n",
      " 0.03910456 0.03147629 0.02319441 0.01796557 0.00741327 0.00292403\n",
      " 0.00291543 0.00285523 0.00179742 0.00086861 0.00086001] Index(['primary', 'clear', 'agriculture', 'road', 'water', 'partly_cloudy',\n",
      "       'cultivation', 'habitation', 'haze', 'cloudy', 'bare_ground',\n",
      "       'selective_logging', 'artisinal_mine', 'blooming', 'slash_burn',\n",
      "       'blow_down', 'conventional_mine'],\n",
      "      dtype='object')\n"
     ]
    }
   ],
   "source": [
    "index = ['conventional_mine', 'road', 'habitation', 'primary', 'cloudy', 'cultivation', 'partly_cloudy', 'artisinal_mine', 'selective_logging', 'blooming', 'agriculture', 'water', 'bare_ground', 'blow_down', 'slash_burn', 'clear', 'haze']\n",
    "labels_s.reindex(index)\n",
    "weights = labels_s.values/labels_s.values.sum()\n",
    "print(weights, labels_s.index)"
   ]
  },
  {
   "cell_type": "code",
   "execution_count": null,
   "metadata": {},
   "outputs": [],
   "source": []
  },
  {
   "cell_type": "code",
   "execution_count": 8,
   "metadata": {},
   "outputs": [
    {
     "name": "stdout",
     "output_type": "stream",
     "text": [
      "primary              37513\n",
      "clear                28431\n",
      "agriculture          12315\n",
      "road                  8071\n",
      "water                 7411\n",
      "partly_cloudy         7261\n",
      "cultivation           4547\n",
      "habitation            3660\n",
      "haze                  2697\n",
      "cloudy                2089\n",
      "bare_ground            862\n",
      "selective_logging      340\n",
      "artisinal_mine         339\n",
      "blooming               332\n",
      "slash_burn             209\n",
      "blow_down              101\n",
      "conventional_mine      100\n",
      "dtype: int64\n"
     ]
    }
   ],
   "source": [
    "print(labels_s)"
   ]
  },
  {
   "cell_type": "code",
   "execution_count": 9,
   "metadata": {},
   "outputs": [],
   "source": [
    "reindexed = labels_s.reindex(index)"
   ]
  },
  {
   "cell_type": "code",
   "execution_count": 10,
   "metadata": {},
   "outputs": [
    {
     "name": "stdout",
     "output_type": "stream",
     "text": [
      "conventional_mine      100\n",
      "road                  8071\n",
      "habitation            3660\n",
      "primary              37513\n",
      "cloudy                2089\n",
      "cultivation           4547\n",
      "partly_cloudy         7261\n",
      "artisinal_mine         339\n",
      "selective_logging      340\n",
      "blooming               332\n",
      "agriculture          12315\n",
      "water                 7411\n",
      "bare_ground            862\n",
      "blow_down              101\n",
      "slash_burn             209\n",
      "clear                28431\n",
      "haze                  2697\n",
      "dtype: int64\n",
      "[0.00860008 0.69411239 0.3147629  3.22614768 0.17965565 0.3910456\n",
      " 0.62445174 0.02915427 0.02924027 0.02855226 1.05909974 0.63735186\n",
      " 0.07413268 0.00868608 0.01797417 2.44508849 0.23194413]\n"
     ]
    }
   ],
   "source": [
    "print(reindexed)\n",
    "weights = 10*reindexed.values/reindexed.values.sum()\n",
    "print(weights)"
   ]
  },
  {
   "cell_type": "code",
   "execution_count": null,
   "metadata": {},
   "outputs": [],
   "source": []
  },
  {
   "cell_type": "code",
   "execution_count": 11,
   "metadata": {},
   "outputs": [],
   "source": [
    "from tqdm import tqdm, tqdm_notebook\n",
    "import cv2\n",
    "\n",
    "import torch\n",
    "from torch import nn\n",
    "import torch.nn.functional as F\n",
    "import torchvision.transforms as transforms\n",
    "import torchvision.datasets as dsets\n",
    "from torch.utils.data import Dataset, DataLoader\n",
    "from torch.utils.data.sampler import SubsetRandomSampler\n",
    "import torchvision.models as models\n",
    "\n",
    "from ignite.engine import create_super\n",
    "\n",
    "\n",
    "from sklearn.metrics import accuracy_score, fbeta_score"
   ]
  },
  {
   "cell_type": "code",
   "execution_count": null,
   "metadata": {},
   "outputs": [],
   "source": []
  },
  {
   "cell_type": "code",
   "execution_count": 12,
   "metadata": {},
   "outputs": [
    {
     "name": "stderr",
     "output_type": "stream",
     "text": [
      "100%|██████████| 40479/40479 [00:42<00:00, 955.77it/s]\n"
     ]
    },
    {
     "name": "stdout",
     "output_type": "stream",
     "text": [
      "(40479, 32, 32, 3)\n",
      "(40479, 17)\n"
     ]
    }
   ],
   "source": [
    "X = []\n",
    "y = []\n",
    "\n",
    "\n",
    "df_train = pd.read_csv(base_path+'train_v2.csv')\n",
    "\n",
    "flatten = lambda l: [item for sublist in l for item in sublist]\n",
    "labels = list(set(flatten([l.split(' ') for l in df_train['tags'].values])))\n",
    "\n",
    "label_map = {l: i for i, l in enumerate(labels)}\n",
    "inv_label_map = {i: l for l, i in label_map.items()}\n",
    "\n",
    "for f, tags in tqdm(df_train.values, miniters=1000):\n",
    "    img = cv2.imread(base_path+'train-jpg/'+'{}.jpg'.format(f))\n",
    "    targets = np.zeros(17)\n",
    "    for t in tags.split(' '):\n",
    "        targets[label_map[t]] = 1 \n",
    "    X.append(cv2.resize(img, (32, 32)))\n",
    "    y.append(targets)\n",
    "    \n",
    "y = np.array(y, np.uint8)\n",
    "X = np.array(X, np.float16) / 255.\n",
    "\n",
    "print(X.shape)\n",
    "print(y.shape)"
   ]
  },
  {
   "cell_type": "code",
   "execution_count": 13,
   "metadata": {},
   "outputs": [
    {
     "name": "stdout",
     "output_type": "stream",
     "text": [
      "(40479, 3, 32, 32)\n"
     ]
    }
   ],
   "source": [
    "X = np.moveaxis(X, [0,1,2,3], [0,2,3,1])\n",
    "print(X.shape)"
   ]
  },
  {
   "cell_type": "code",
   "execution_count": 20,
   "metadata": {},
   "outputs": [
    {
     "name": "stdout",
     "output_type": "stream",
     "text": [
      "(32384, 3, 32, 32) (32384, 17) (8095, 3, 32, 32) (8095, 17)\n"
     ]
    }
   ],
   "source": [
    "SPLIT = 0.2\n",
    "# IMG_SIZE = 32\n",
    "BATCH_SIZE = 256\n",
    "SHUFFLE = True\n",
    "dataset_size = len(X)\n",
    "indices = list(range(dataset_size))\n",
    "split = int(np.floor(SPLIT * dataset_size))\n",
    "\n",
    "np.random.seed(42)\n",
    "np.random.shuffle(indices)\n",
    "\n",
    "train_indices, val_indices = indices[split:], indices[:split]\n",
    "x_train, x_valid, y_train, y_valid = X[train_indices], X[val_indices], y[train_indices], y[val_indices]\n",
    "print(x_train.shape, y_train.shape, x_valid.shape, y_valid.shape)"
   ]
  },
  {
   "cell_type": "code",
   "execution_count": 21,
   "metadata": {},
   "outputs": [],
   "source": [
    "train_dataset = torch.utils.data.TensorDataset(torch.from_numpy(x_train).float(), torch.from_numpy(y_train).float())\n",
    "valid_dataset = torch.utils.data.TensorDataset(torch.from_numpy(x_valid).float(), torch.from_numpy(y_valid).float())\n",
    "\n",
    "train_loader = torch.utils.data.DataLoader(train_dataset, batch_size=BATCH_SIZE, num_workers=8)\n",
    "validation_loader = torch.utils.data.DataLoader(valid_dataset, batch_size=BATCH_SIZE, num_workers=8)"
   ]
  },
  {
   "cell_type": "code",
   "execution_count": 22,
   "metadata": {},
   "outputs": [
    {
     "name": "stdout",
     "output_type": "stream",
     "text": [
      "torch.Size([256, 3, 32, 32]) torch.Size([256, 17])\n"
     ]
    }
   ],
   "source": [
    "for images, labels in train_loader:\n",
    "    print(images.shape, labels.shape)\n",
    "    break"
   ]
  },
  {
   "cell_type": "code",
   "execution_count": null,
   "metadata": {},
   "outputs": [],
   "source": []
  },
  {
   "cell_type": "code",
   "execution_count": 45,
   "metadata": {},
   "outputs": [],
   "source": [
    "class BaseNet(nn.Module):\n",
    "    def __init__(self):\n",
    "        super(BaseNet, self).__init__()\n",
    "        self.conv11 = nn.Conv2d(3, 32, kernel_size=3)\n",
    "        self.conv12 = nn.Conv2d(32, 32, kernel_size=3)\n",
    "        self.conv13 = nn.Conv2d(32, 32, kernel_size=3)\n",
    "        \n",
    "        self.conv21 = nn.Conv2d(32, 64, kernel_size=3)\n",
    "        self.conv22 = nn.Conv2d(64, 64, kernel_size=3)\n",
    "        self.conv23 = nn.Conv2d(64, 64, kernel_size=3)\n",
    "        \n",
    "        self.conv2_drop = nn.Dropout2d()\n",
    "        \n",
    "        self.fc1 = nn.Linear(576, 256)\n",
    "        self.fc2 = nn.Linear(256, 17)\n",
    "\n",
    "    def forward(self, x):\n",
    "        x = F.relu(self.conv11(x))\n",
    "        x = F.relu(self.conv12(x))\n",
    "        x = self.conv2_drop(F.max_pool2d(F.relu(self.conv13(x)), (2,2)))\n",
    "        \n",
    "        x = F.relu(self.conv21(x))\n",
    "        x = F.relu(self.conv22(x))\n",
    "        x = self.conv2_drop(F.max_pool2d(F.relu(self.conv23(x)), (2,2)))\n",
    "                \n",
    "        x = x.view(x.size(0), -1) # Flatten layer\n",
    "                \n",
    "        x = F.relu(self.fc1(x))\n",
    "        x = F.dropout(x, training=self.training)\n",
    "        x = self.fc2(x)\n",
    "        \n",
    "        return torch.sigmoid(x)"
   ]
  },
  {
   "cell_type": "code",
   "execution_count": null,
   "metadata": {},
   "outputs": [],
   "source": []
  },
  {
   "cell_type": "code",
   "execution_count": 46,
   "metadata": {},
   "outputs": [],
   "source": [
    "def train(train_loader, epochs, GPU, print_after=-1, model=None):\n",
    "    \n",
    "    if model is None:\n",
    "        model = BaseNet()\n",
    "    # optimizer = torch.optim.SGD(model.parameters(), lr=0.01, momentum=0.9)\n",
    "    optimizer = torch.optim.Adam(model.parameters(), lr=0.001)\n",
    "    #scheduler = torch.optim.lr_scheduler.CyclicLR(optimizer, base_lr=0.01, max_lr=0.1, \n",
    "    #                                              step_size_up=len(train_loader)//4, cycle_momentum=False)\n",
    "\n",
    "    if torch.cuda.is_available():\n",
    "        model = model.to(torch.device(GPU))\n",
    "        \n",
    "    if print_after < 0:\n",
    "        print_after = len(train_loader)//2\n",
    "        \n",
    "    loss_list = []\n",
    "    eval_loss_list = []\n",
    "    accuracy_list = []\n",
    "        \n",
    "    for epoch in range(epochs):\n",
    "        for iteration, (images, labels) in enumerate(train_loader):\n",
    "\n",
    "            model = model.train()\n",
    "            if torch.cuda.is_available():\n",
    "                images = images.to(torch.device(GPU))\n",
    "                labels = labels.to(torch.device(GPU))\n",
    "                \n",
    "            optimizer.zero_grad()\n",
    "            pred = model(images)\n",
    "            loss = F.binary_cross_entropy(pred, labels)\n",
    "            loss.backward()\n",
    "            optimizer.step()\n",
    "            #scheduler.step()\n",
    "            loss_list.append(loss.detach().cpu().data)\n",
    "            if iteration % print_after == 0:\n",
    "                \n",
    "                eval_loss = 0\n",
    "                true_labels = []\n",
    "                predictions = []\n",
    "                model = model.eval()\n",
    "                for eval_iteration, (X, y) in enumerate(validation_loader):\n",
    "                    if torch.cuda.is_available():\n",
    "                        X = X.to(torch.device(GPU))\n",
    "                        y = y.to(torch.device(GPU))\n",
    "\n",
    "                    y_pred = model(X)\n",
    "\n",
    "                    if torch.cuda.is_available():\n",
    "                        eval_loss += F.binary_cross_entropy(y_pred, y).cpu().detach().numpy()\n",
    "                        true_labels.extend(y.detach().cpu().numpy().tolist())\n",
    "                        predictions.extend(y_pred.detach().cpu().numpy().tolist())\n",
    "                    else:\n",
    "                        eval_loss += F.binary_cross_entropy(y_pred, y).detach().numpy()\n",
    "                        true_labels.extend(y.detach().numpy().tolist())\n",
    "                        predictions.extend(torch.sigmoid(y_pred.detach()).numpy().tolist())\n",
    "                        \n",
    "                \n",
    "                true_labels = np.vstack(true_labels)\n",
    "                predictions = np.vstack(predictions)\n",
    "#                 print(predictions)\n",
    "                \n",
    "#                 score = fbeta_score(true_labels, predictions>0.5, beta=2, average='samples')\n",
    "                accuracy = accuracy_score(true_labels, predictions>0.5)\n",
    "    \n",
    "                eval_loss_list.append(eval_loss/len(train_loader))\n",
    "                accuracy_list.append(accuracy)\n",
    "    \n",
    "    \n",
    "                \n",
    "                \n",
    "                \n",
    "                print(\"EPOCH: {0}: ITERATION: {1} / {2} : LOSS: {3}     EVALUATION: [{4}, {5}]\".format(epoch, iteration, \n",
    "                                                                                                       len(train_loader),\n",
    "                                                                                                       np.round(loss_list[-1], 3), \n",
    "                                                                                                       np.round(eval_loss_list[-1], 3), \n",
    "                                                                                                       np.round(accuracy_list[-1], 3)))\n",
    "                \n",
    "    return model, loss_list, eval_loss_list, accuracy_list\n",
    "                \n",
    "                \n",
    "                "
   ]
  },
  {
   "cell_type": "code",
   "execution_count": null,
   "metadata": {},
   "outputs": [],
   "source": []
  },
  {
   "cell_type": "code",
   "execution_count": 47,
   "metadata": {},
   "outputs": [
    {
     "name": "stdout",
     "output_type": "stream",
     "text": [
      "EPOCH: 0: ITERATION: 0 / 127 : LOSS: 0.6869999766349792     EVALUATION: [0.172, 0.0]\n",
      "EPOCH: 1: ITERATION: 0 / 127 : LOSS: 0.25     EVALUATION: [0.063, 0.343]\n",
      "EPOCH: 2: ITERATION: 0 / 127 : LOSS: 0.23999999463558197     EVALUATION: [0.059, 0.342]\n",
      "EPOCH: 3: ITERATION: 0 / 127 : LOSS: 0.22499999403953552     EVALUATION: [0.059, 0.356]\n",
      "EPOCH: 4: ITERATION: 0 / 127 : LOSS: 0.2240000069141388     EVALUATION: [0.057, 0.313]\n",
      "EPOCH: 5: ITERATION: 0 / 127 : LOSS: 0.2150000035762787     EVALUATION: [0.054, 0.356]\n",
      "EPOCH: 6: ITERATION: 0 / 127 : LOSS: 0.2029999941587448     EVALUATION: [0.051, 0.385]\n",
      "EPOCH: 7: ITERATION: 0 / 127 : LOSS: 0.19900000095367432     EVALUATION: [0.051, 0.411]\n",
      "EPOCH: 8: ITERATION: 0 / 127 : LOSS: 0.18799999356269836     EVALUATION: [0.047, 0.42]\n",
      "EPOCH: 9: ITERATION: 0 / 127 : LOSS: 0.18400000035762787     EVALUATION: [0.048, 0.429]\n",
      "EPOCH: 10: ITERATION: 0 / 127 : LOSS: 0.17800000309944153     EVALUATION: [0.045, 0.46]\n",
      "EPOCH: 11: ITERATION: 0 / 127 : LOSS: 0.18000000715255737     EVALUATION: [0.046, 0.455]\n",
      "EPOCH: 12: ITERATION: 0 / 127 : LOSS: 0.17499999701976776     EVALUATION: [0.044, 0.46]\n",
      "EPOCH: 13: ITERATION: 0 / 127 : LOSS: 0.17000000178813934     EVALUATION: [0.043, 0.47]\n",
      "EPOCH: 14: ITERATION: 0 / 127 : LOSS: 0.16300000250339508     EVALUATION: [0.043, 0.47]\n",
      "EPOCH: 15: ITERATION: 0 / 127 : LOSS: 0.1679999977350235     EVALUATION: [0.042, 0.483]\n",
      "EPOCH: 16: ITERATION: 0 / 127 : LOSS: 0.16200000047683716     EVALUATION: [0.041, 0.496]\n",
      "EPOCH: 17: ITERATION: 0 / 127 : LOSS: 0.16500000655651093     EVALUATION: [0.042, 0.468]\n",
      "EPOCH: 18: ITERATION: 0 / 127 : LOSS: 0.15700000524520874     EVALUATION: [0.04, 0.493]\n",
      "EPOCH: 19: ITERATION: 0 / 127 : LOSS: 0.1599999964237213     EVALUATION: [0.041, 0.492]\n",
      "EPOCH: 20: ITERATION: 0 / 127 : LOSS: 0.16099999845027924     EVALUATION: [0.041, 0.495]\n",
      "EPOCH: 21: ITERATION: 0 / 127 : LOSS: 0.15800000727176666     EVALUATION: [0.039, 0.506]\n",
      "EPOCH: 22: ITERATION: 0 / 127 : LOSS: 0.1599999964237213     EVALUATION: [0.04, 0.495]\n",
      "EPOCH: 23: ITERATION: 0 / 127 : LOSS: 0.1509999930858612     EVALUATION: [0.039, 0.496]\n",
      "EPOCH: 24: ITERATION: 0 / 127 : LOSS: 0.15199999511241913     EVALUATION: [0.039, 0.503]\n",
      "EPOCH: 25: ITERATION: 0 / 127 : LOSS: 0.14800000190734863     EVALUATION: [0.038, 0.505]\n",
      "EPOCH: 26: ITERATION: 0 / 127 : LOSS: 0.15399999916553497     EVALUATION: [0.038, 0.509]\n",
      "EPOCH: 27: ITERATION: 0 / 127 : LOSS: 0.15000000596046448     EVALUATION: [0.038, 0.509]\n",
      "EPOCH: 28: ITERATION: 0 / 127 : LOSS: 0.14399999380111694     EVALUATION: [0.038, 0.499]\n",
      "EPOCH: 29: ITERATION: 0 / 127 : LOSS: 0.14800000190734863     EVALUATION: [0.037, 0.51]\n",
      "EPOCH: 30: ITERATION: 0 / 127 : LOSS: 0.1459999978542328     EVALUATION: [0.037, 0.516]\n",
      "EPOCH: 31: ITERATION: 0 / 127 : LOSS: 0.14900000393390656     EVALUATION: [0.037, 0.512]\n",
      "EPOCH: 32: ITERATION: 0 / 127 : LOSS: 0.14000000059604645     EVALUATION: [0.037, 0.511]\n",
      "EPOCH: 33: ITERATION: 0 / 127 : LOSS: 0.14100000262260437     EVALUATION: [0.037, 0.499]\n",
      "EPOCH: 34: ITERATION: 0 / 127 : LOSS: 0.14100000262260437     EVALUATION: [0.037, 0.513]\n",
      "EPOCH: 35: ITERATION: 0 / 127 : LOSS: 0.14499999582767487     EVALUATION: [0.036, 0.517]\n",
      "EPOCH: 36: ITERATION: 0 / 127 : LOSS: 0.1469999998807907     EVALUATION: [0.037, 0.512]\n",
      "EPOCH: 37: ITERATION: 0 / 127 : LOSS: 0.13699999451637268     EVALUATION: [0.037, 0.506]\n",
      "EPOCH: 38: ITERATION: 0 / 127 : LOSS: 0.14300000667572021     EVALUATION: [0.036, 0.525]\n",
      "EPOCH: 39: ITERATION: 0 / 127 : LOSS: 0.14399999380111694     EVALUATION: [0.036, 0.515]\n",
      "EPOCH: 40: ITERATION: 0 / 127 : LOSS: 0.14000000059604645     EVALUATION: [0.036, 0.517]\n",
      "EPOCH: 41: ITERATION: 0 / 127 : LOSS: 0.1420000046491623     EVALUATION: [0.036, 0.524]\n",
      "EPOCH: 42: ITERATION: 0 / 127 : LOSS: 0.13699999451637268     EVALUATION: [0.036, 0.519]\n",
      "EPOCH: 43: ITERATION: 0 / 127 : LOSS: 0.13899999856948853     EVALUATION: [0.037, 0.506]\n",
      "EPOCH: 44: ITERATION: 0 / 127 : LOSS: 0.13899999856948853     EVALUATION: [0.036, 0.517]\n",
      "EPOCH: 45: ITERATION: 0 / 127 : LOSS: 0.14300000667572021     EVALUATION: [0.036, 0.521]\n",
      "EPOCH: 46: ITERATION: 0 / 127 : LOSS: 0.13199999928474426     EVALUATION: [0.036, 0.522]\n",
      "EPOCH: 47: ITERATION: 0 / 127 : LOSS: 0.13699999451637268     EVALUATION: [0.036, 0.521]\n",
      "EPOCH: 48: ITERATION: 0 / 127 : LOSS: 0.13699999451637268     EVALUATION: [0.035, 0.528]\n",
      "EPOCH: 49: ITERATION: 0 / 127 : LOSS: 0.13600000739097595     EVALUATION: [0.035, 0.531]\n"
     ]
    }
   ],
   "source": [
    "model, loss_list, eval_loss_list, accuracy_list = train(train_loader, 50, 'cuda:0', len(train_loader)//1)"
   ]
  },
  {
   "cell_type": "code",
   "execution_count": 43,
   "metadata": {},
   "outputs": [
    {
     "data": {
      "image/png": "[encoded data removed]",
      "text/plain": [
       "<Figure size 432x288 with 1 Axes>"
      ]
     },
     "metadata": {
      "needs_background": "light"
     },
     "output_type": "display_data"
    }
   ],
   "source": [
    "_ = plt.plot(loss_list)"
   ]
  },
  {
   "cell_type": "code",
   "execution_count": 44,
   "metadata": {},
   "outputs": [
    {
     "data": {
      "image/png": "[encoded data removed]",
      "text/plain": [
       "<Figure size 432x288 with 1 Axes>"
      ]
     },
     "metadata": {
      "needs_background": "light"
     },
     "output_type": "display_data"
    }
   ],
   "source": [
    "_ = plt.plot(eval_loss_list)\n",
    "_ = plt.plot(accuracy_list)"
   ]
  },
  {
   "cell_type": "code",
   "execution_count": null,
   "metadata": {},
   "outputs": [],
   "source": []
  },
  {
   "cell_type": "code",
   "execution_count": 48,
   "metadata": {},
   "outputs": [
    {
     "name": "stdout",
     "output_type": "stream",
     "text": [
      "EPOCH: 0: ITERATION: 0 / 127 : LOSS: 0.1420000046491623     EVALUATION: [0.036, 0.522]\n",
      "EPOCH: 1: ITERATION: 0 / 127 : LOSS: 0.12999999523162842     EVALUATION: [0.036, 0.516]\n",
      "EPOCH: 2: ITERATION: 0 / 127 : LOSS: 0.13300000131130219     EVALUATION: [0.035, 0.52]\n",
      "EPOCH: 3: ITERATION: 0 / 127 : LOSS: 0.13099999725818634     EVALUATION: [0.036, 0.523]\n",
      "EPOCH: 4: ITERATION: 0 / 127 : LOSS: 0.13099999725818634     EVALUATION: [0.036, 0.528]\n",
      "EPOCH: 5: ITERATION: 0 / 127 : LOSS: 0.13500000536441803     EVALUATION: [0.035, 0.527]\n",
      "EPOCH: 6: ITERATION: 0 / 127 : LOSS: 0.12800000607967377     EVALUATION: [0.035, 0.523]\n",
      "EPOCH: 7: ITERATION: 0 / 127 : LOSS: 0.1340000033378601     EVALUATION: [0.035, 0.526]\n",
      "EPOCH: 8: ITERATION: 0 / 127 : LOSS: 0.1469999998807907     EVALUATION: [0.035, 0.52]\n",
      "EPOCH: 9: ITERATION: 0 / 127 : LOSS: 0.12700000405311584     EVALUATION: [0.035, 0.529]\n",
      "EPOCH: 10: ITERATION: 0 / 127 : LOSS: 0.1289999932050705     EVALUATION: [0.035, 0.529]\n",
      "EPOCH: 11: ITERATION: 0 / 127 : LOSS: 0.12999999523162842     EVALUATION: [0.035, 0.534]\n",
      "EPOCH: 12: ITERATION: 0 / 127 : LOSS: 0.12999999523162842     EVALUATION: [0.035, 0.526]\n",
      "EPOCH: 13: ITERATION: 0 / 127 : LOSS: 0.12999999523162842     EVALUATION: [0.035, 0.528]\n",
      "EPOCH: 14: ITERATION: 0 / 127 : LOSS: 0.12999999523162842     EVALUATION: [0.035, 0.531]\n",
      "EPOCH: 15: ITERATION: 0 / 127 : LOSS: 0.1289999932050705     EVALUATION: [0.035, 0.53]\n",
      "EPOCH: 16: ITERATION: 0 / 127 : LOSS: 0.1289999932050705     EVALUATION: [0.035, 0.526]\n",
      "EPOCH: 17: ITERATION: 0 / 127 : LOSS: 0.13300000131130219     EVALUATION: [0.035, 0.532]\n",
      "EPOCH: 18: ITERATION: 0 / 127 : LOSS: 0.12800000607967377     EVALUATION: [0.035, 0.527]\n"
     ]
    },
    {
     "ename": "KeyboardInterrupt",
     "evalue": "",
     "output_type": "error",
     "traceback": [
      "\u001b[0;31m---------------------------------------------------------------------------\u001b[0m",
      "\u001b[0;31mKeyboardInterrupt\u001b[0m                         Traceback (most recent call last)",
      "\u001b[0;32m<ipython-input-48-cfba9dc88d87>\u001b[0m in \u001b[0;36m<module>\u001b[0;34m\u001b[0m\n\u001b[0;32m----> 1\u001b[0;31m \u001b[0mmodel\u001b[0m\u001b[0;34m,\u001b[0m \u001b[0mloss_list\u001b[0m\u001b[0;34m,\u001b[0m \u001b[0meval_loss_list\u001b[0m\u001b[0;34m,\u001b[0m \u001b[0maccuracy_list\u001b[0m \u001b[0;34m=\u001b[0m \u001b[0mtrain\u001b[0m\u001b[0;34m(\u001b[0m\u001b[0mtrain_loader\u001b[0m\u001b[0;34m,\u001b[0m \u001b[0;36m40\u001b[0m\u001b[0;34m,\u001b[0m \u001b[0;34m'cuda:0'\u001b[0m\u001b[0;34m,\u001b[0m \u001b[0mlen\u001b[0m\u001b[0;34m(\u001b[0m\u001b[0mtrain_loader\u001b[0m\u001b[0;34m)\u001b[0m\u001b[0;34m//\u001b[0m\u001b[0;36m1\u001b[0m\u001b[0;34m,\u001b[0m \u001b[0mmodel\u001b[0m\u001b[0;34m)\u001b[0m\u001b[0;34m\u001b[0m\u001b[0m\n\u001b[0m",
      "\u001b[0;32m<ipython-input-46-a5fff51de3a8>\u001b[0m in \u001b[0;36mtrain\u001b[0;34m(train_loader, epochs, GPU, print_after, model)\u001b[0m\n\u001b[1;32m     26\u001b[0m                 \u001b[0mlabels\u001b[0m \u001b[0;34m=\u001b[0m \u001b[0mlabels\u001b[0m\u001b[0;34m.\u001b[0m\u001b[0mto\u001b[0m\u001b[0;34m(\u001b[0m\u001b[0mtorch\u001b[0m\u001b[0;34m.\u001b[0m\u001b[0mdevice\u001b[0m\u001b[0;34m(\u001b[0m\u001b[0mGPU\u001b[0m\u001b[0;34m)\u001b[0m\u001b[0;34m)\u001b[0m\u001b[0;34m\u001b[0m\u001b[0m\n\u001b[1;32m     27\u001b[0m \u001b[0;34m\u001b[0m\u001b[0m\n\u001b[0;32m---> 28\u001b[0;31m             \u001b[0moptimizer\u001b[0m\u001b[0;34m.\u001b[0m\u001b[0mzero_grad\u001b[0m\u001b[0;34m(\u001b[0m\u001b[0;34m)\u001b[0m\u001b[0;34m\u001b[0m\u001b[0m\n\u001b[0m\u001b[1;32m     29\u001b[0m             \u001b[0mpred\u001b[0m \u001b[0;34m=\u001b[0m \u001b[0mmodel\u001b[0m\u001b[0;34m(\u001b[0m\u001b[0mimages\u001b[0m\u001b[0;34m)\u001b[0m\u001b[0;34m\u001b[0m\u001b[0m\n\u001b[1;32m     30\u001b[0m             \u001b[0mloss\u001b[0m \u001b[0;34m=\u001b[0m \u001b[0mF\u001b[0m\u001b[0;34m.\u001b[0m\u001b[0mbinary_cross_entropy\u001b[0m\u001b[0;34m(\u001b[0m\u001b[0mpred\u001b[0m\u001b[0;34m,\u001b[0m \u001b[0mlabels\u001b[0m\u001b[0;34m)\u001b[0m\u001b[0;34m\u001b[0m\u001b[0m\n",
      "\u001b[0;32m/media/avemuri/DEV/software/anaconda3/envs/PT/lib/python3.7/site-packages/torch/optim/optimizer.py\u001b[0m in \u001b[0;36mzero_grad\u001b[0;34m(self)\u001b[0m\n\u001b[1;32m    161\u001b[0m             \u001b[0;32mfor\u001b[0m \u001b[0mp\u001b[0m \u001b[0;32min\u001b[0m \u001b[0mgroup\u001b[0m\u001b[0;34m[\u001b[0m\u001b[0;34m'params'\u001b[0m\u001b[0;34m]\u001b[0m\u001b[0;34m:\u001b[0m\u001b[0;34m\u001b[0m\u001b[0m\n\u001b[1;32m    162\u001b[0m                 \u001b[0;32mif\u001b[0m \u001b[0mp\u001b[0m\u001b[0;34m.\u001b[0m\u001b[0mgrad\u001b[0m \u001b[0;32mis\u001b[0m \u001b[0;32mnot\u001b[0m \u001b[0;32mNone\u001b[0m\u001b[0;34m:\u001b[0m\u001b[0;34m\u001b[0m\u001b[0m\n\u001b[0;32m--> 163\u001b[0;31m                     \u001b[0mp\u001b[0m\u001b[0;34m.\u001b[0m\u001b[0mgrad\u001b[0m\u001b[0;34m.\u001b[0m\u001b[0mdetach_\u001b[0m\u001b[0;34m(\u001b[0m\u001b[0;34m)\u001b[0m\u001b[0;34m\u001b[0m\u001b[0m\n\u001b[0m\u001b[1;32m    164\u001b[0m                     \u001b[0mp\u001b[0m\u001b[0;34m.\u001b[0m\u001b[0mgrad\u001b[0m\u001b[0;34m.\u001b[0m\u001b[0mzero_\u001b[0m\u001b[0;34m(\u001b[0m\u001b[0;34m)\u001b[0m\u001b[0;34m\u001b[0m\u001b[0m\n\u001b[1;32m    165\u001b[0m \u001b[0;34m\u001b[0m\u001b[0m\n",
      "\u001b[0;31mKeyboardInterrupt\u001b[0m: "
     ]
    }
   ],
   "source": [
    "model, loss_list, eval_loss_list, accuracy_list = train(train_loader, 40, 'cuda:0', len(train_loader)//1, model)"
   ]
  },
  {
   "cell_type": "code",
   "execution_count": null,
   "metadata": {},
   "outputs": [],
   "source": []
  },
  {
   "cell_type": "code",
   "execution_count": null,
   "metadata": {},
   "outputs": [],
   "source": []
  },
  {
   "cell_type": "code",
   "execution_count": null,
   "metadata": {},
   "outputs": [],
   "source": []
  },
  {
   "cell_type": "code",
   "execution_count": null,
   "metadata": {},
   "outputs": [],
   "source": []
  },
  {
   "cell_type": "code",
   "execution_count": null,
   "metadata": {},
   "outputs": [],
   "source": []
  },
  {
   "cell_type": "code",
   "execution_count": null,
   "metadata": {},
   "outputs": [],
   "source": []
  },
  {
   "cell_type": "code",
   "execution_count": null,
   "metadata": {},
   "outputs": [],
   "source": []
  },
  {
   "cell_type": "code",
   "execution_count": null,
   "metadata": {},
   "outputs": [],
   "source": []
  },
  {
   "cell_type": "code",
   "execution_count": 12,
   "metadata": {},
   "outputs": [],
   "source": [
    "import numpy as np\n",
    "import matplotlib.pyplot as plt\n",
    "import glob\n",
    "import cv2\n",
    "from PIL import Image\n",
    "from sklearn.preprocessing import MultiLabelBinarizer\n",
    "from sklearn.metrics import accuracy_score, fbeta_score\n",
    "from tqdm import tqdm_notebook, tqdm\n",
    "\n"
   ]
  },
  {
   "cell_type": "code",
   "execution_count": 13,
   "metadata": {},
   "outputs": [
    {
     "name": "stdout",
     "output_type": "stream",
     "text": [
      "40479\n"
     ]
    }
   ],
   "source": [
    "image_list = [f for f in glob.glob(base_path+'train-jpg/*.jpg')]\n",
    "print(len(image_list))"
   ]
  },
  {
   "cell_type": "code",
   "execution_count": 14,
   "metadata": {},
   "outputs": [],
   "source": [
    "class AmazonDataset(Dataset):\n",
    "    def __init__(self, base_folder, csv_file, folder_name, transform=None):\n",
    "        self.csv_file = csv_file\n",
    "        self.labels_df = pd.read_csv(base_path+csv_file)\n",
    "        self.base_folder = base_folder\n",
    "        self.image_list = [f for f in glob.glob(base_path+folder_name+'/*.jpg')]\n",
    "        self.transform = transform\n",
    "        self.mlb = MultiLabelBinarizer()\n",
    "        self.labels = self.mlb.fit_transform(self.labels_df['tags'].str.split()).astype(np.float32)\n",
    "        \n",
    "        \n",
    "    def __len__(self):\n",
    "        return len(self.image_list)\n",
    "    \n",
    "    def __getitem__(self, index):\n",
    "        image = Image.open(self.image_list[index])\n",
    "        image = image.convert('RGB')\n",
    "        # image = cv2.imread(self.image_list[index])\n",
    "        \n",
    "        label = torch.from_numpy(self.labels[index])\n",
    "        \n",
    "        if self.transform is not None:\n",
    "            image = self.transform(image)\n",
    "            \n",
    "        return image, labelAdvancedNet\n"
   ]
  },
  {
   "cell_type": "code",
   "execution_count": 15,
   "metadata": {},
   "outputs": [],
   "source": [
    "IMG_SIZE = 32\n",
    "BATCH_SIZE = 256\n",
    "SHUFFLE = True\n",
    "SPLIT = 0.2"
   ]
  },
  {
   "cell_type": "code",
   "execution_count": 16,
   "metadata": {},
   "outputs": [],
   "source": [
    "train_transform_augmented = transforms.Compose([transforms.RandomResizedCrop(IMG_SIZE),\n",
    "                                                transforms.ColorJitter(brightness=0.5),\n",
    "                                                transforms.RandomVerticalFlip(),\n",
    "                                                transforms.ToTensor()])\n",
    "valid_transform_augmented = transforms.Compose([transforms.RandomResizedCrop(IMG_SIZE),\n",
    "                                                transforms.ToTensor()])"
   ]
  },
  {
   "cell_type": "code",
   "execution_count": 17,
   "metadata": {},
   "outputs": [],
   "source": [
    "train_dataset = AmazonDataset(base_path, 'train_v2.csv', 'train-jpg', transform=train_transform_augmented)\n",
    "valid_dataset = AmazonDataset(base_path, 'train_v2.csv', 'train-jpg', transform=valid_transform_augmented)"
   ]
  },
  {
   "cell_type": "code",
   "execution_count": 18,
   "metadata": {},
   "outputs": [],
   "source": [
    "dataset_size = len(train_dataset)\n",
    "indices = list(range(dataset_size))\n",
    "split = int(np.floor(SPLIT * dataset_size))\n",
    "if SHUFFLE :\n",
    "    np.random.seed(42)\n",
    "    np.random.shuffle(indices)\n",
    "\n",
    "    \n",
    "train_indices, val_indices = indices[split:], indices[:split]\n",
    "\n",
    "train_sampler = SubsetRandomSampler(train_indices)\n",
    "valid_sampler = SubsetRandomSampler(val_indices)\n",
    "\n",
    "\n",
    "train_loader = torch.utils.data.DataLoader(train_dataset, batch_size=BATCH_SIZE, sampler=train_sampler, num_workers=8)\n",
    "validation_loader = torch.utils.data.DataLoader(train_dataset, batch_size=BATCH_SIZE, sampler=valid_sampler, num_workers=8)"
   ]
  },
  {
   "cell_type": "code",
   "execution_count": null,
   "metadata": {},
   "outputs": [],
   "source": []
  },
  {
   "cell_type": "code",
   "execution_count": 19,
   "metadata": {},
   "outputs": [],
   "source": []
  },
  {
   "cell_type": "code",
   "execution_count": 20,
   "metadata": {},
   "outputs": [],
   "source": [
    "def train(train_loader, epochs, GPU, print_after=-1):\n",
    "    \n",
    "    model = BaseNet()\n",
    "    optimizer = torch.optim.SGD(model.parameters(), lr=0.01, momentum=0.9)\n",
    "    # optimizer = torch.optim.Adam(model.parameters(), lr=0.001)\n",
    "    #scheduler = torch.optim.lr_scheduler.CyclicLR(optimizer, base_lr=0.01, max_lr=0.1, \n",
    "    #                                              step_size_up=len(train_loader)//4, cycle_momentum=False)\n",
    "\n",
    "    if torch.cuda.is_available():\n",
    "        model = model.to(torch.device(GPU))\n",
    "        \n",
    "    if print_after < 0:\n",
    "        print_after = len(train_loader)//2\n",
    "        \n",
    "    for epoch in range(epochs):\n",
    "        for iteration, (images, labels) in enumerate(train_loader):\n",
    "\n",
    "            model = model.train()\n",
    "            if torch.cuda.is_available():\n",
    "                images = images.to(torch.device(GPU))\n",
    "                labels = labels.to(torch.device(GPU))\n",
    "                \n",
    "            optimizer.zero_grad()\n",
    "            pred = model(images)\n",
    "            loss = F.binary_cross_entropy(pred, labels)\n",
    "            loss.backward()\n",
    "            optimizer.step()\n",
    "            #scheduler.step()\n",
    "            if iteration % print_after == 0:\n",
    "                \n",
    "                eval_loss = 0\n",
    "                true_labels = []\n",
    "                predictions = []\n",
    "                model = model.eval()\n",
    "                for eval_iteration, (X, y) in enumerate(validation_loader):\n",
    "                    if torch.cuda.is_available():\n",
    "                        X = X.to(torch.device(GPU))\n",
    "                        y = y.to(torch.device(GPU))\n",
    "\n",
    "                    y_pred = model(X)\n",
    "\n",
    "                    if torch.cuda.is_available():\n",
    "                        eval_loss += F.binary_cross_entropy(y_pred, y).cpu().detach().numpy()\n",
    "                        true_labels.extend(y.detach().cpu().numpy().tolist())\n",
    "                        predictions.extend(y_pred.detach().cpu().numpy().tolist())\n",
    "                    else:\n",
    "                        eval_loss += F.binary_cross_entropy(y_pred, y).detach().numpy()\n",
    "                        true_labels.extend(y.detach().numpy().tolist())\n",
    "                        predictions.extend(torch.sigmoid(y_pred.detach()).numpy().tolist())\n",
    "                        \n",
    "                \n",
    "\n",
    "                \n",
    "                true_labels = np.vstack(true_labels)\n",
    "                predictions = np.vstack(predictions)\n",
    "#                 print(predictions)\n",
    "                \n",
    "                score = fbeta_score(true_labels, predictions>0.5, beta=2, average='samples')\n",
    "                accuracy = accuracy_score(true_labels, predictions>0.5)\n",
    "                \n",
    "                \n",
    "                print(\"EPOCH: {0}: ITERATION: {1} / {2} : LOSS: {3}     EVALUATION: [{4}, {5}, {6}]\".format(epoch, iteration, \n",
    "                                                                                                            len(train_loader),\n",
    "                                                                                                            loss.cpu().data, \n",
    "                                                                                                            eval_loss/len(train_loader), \n",
    "                                                                                                            score, accuracy))\n",
    "                \n",
    "                \n",
    "                \n",
    "                #print('Train Epoch: {} [{}/{} ({:.0f}%)]\\tLoss: {:.6f}'.format(epoch, iteration *len(train_loader), \n",
    "                #                                                               len(train_loader.dataset),\n",
    "                #                                                               100. * iteration / len(train_loader), \n",
    "                #                                                               loss.data))\n",
    "            \n",
    "            \n",
    "#     model = model.train()\n",
    "#     for batch_idx, (data, target) in enumerate(train_loader):\n",
    "#         # data, target = data.cuda(async=True), target.cuda(async=True) # On GPU\n",
    "#         data, target = Variable(data), Variable(target)\n",
    "#         optimizer.zero_grad()\n",
    "#         output = model(data)\n",
    "#         loss = F.binary_cross_entropy(output, target)\n",
    "#         loss.backward()\n",
    "#         optimizer.step()\n",
    "#         if batch_idx % 10 == 0:\n",
    "#             print('Train Epoch: {} [{}/{} ({:.0f}%)]\\tLoss: {:.6f}'.format(\n",
    "#                 epoch, batch_idx * len(data), len(train_loader.dataset),\n",
    "#                 100. * batch_idx / len(train_loader), loss.data[0]))\n"
   ]
  },
  {
   "cell_type": "code",
   "execution_count": 21,
   "metadata": {},
   "outputs": [
    {
     "name": "stdout",
     "output_type": "stream",
     "text": [
      "EPOCH: 0: ITERATION: 0 / 127 : LOSS: 0.6953545212745667     EVALUATION: [0.17520444787393405, 0.15473108012941364, 0.0]\n",
      "EPOCH: 1: ITERATION: 0 / 127 : LOSS: 0.2675808072090149     EVALUATION: [0.06607366523404759, 0.647928692073589, 0.342804200123533]\n",
      "EPOCH: 2: ITERATION: 0 / 127 : LOSS: 0.2631596624851227     EVALUATION: [0.06457670537505562, 0.647928692073589, 0.342804200123533]\n",
      "EPOCH: 3: ITERATION: 0 / 127 : LOSS: 0.28092101216316223     EVALUATION: [0.06402085404696427, 0.647928692073589, 0.342804200123533]\n",
      "EPOCH: 4: ITERATION: 0 / 127 : LOSS: 0.2664482891559601     EVALUATION: [0.06402193678645637, 0.647928692073589, 0.342804200123533]\n",
      "EPOCH: 5: ITERATION: 0 / 127 : LOSS: 0.2695227265357971     EVALUATION: [0.0641175691537031, 0.647928692073589, 0.342804200123533]\n",
      "EPOCH: 6: ITERATION: 0 / 127 : LOSS: 0.26704108715057373     EVALUATION: [0.0640502265823169, 0.647928692073589, 0.342804200123533]\n",
      "EPOCH: 7: ITERATION: 0 / 127 : LOSS: 0.26369568705558777     EVALUATION: [0.06408758391076186, 0.647928692073589, 0.342804200123533]\n",
      "EPOCH: 8: ITERATION: 0 / 127 : LOSS: 0.25812220573425293     EVALUATION: [0.06408478612974873, 0.647928692073589, 0.342804200123533]\n",
      "EPOCH: 9: ITERATION: 0 / 127 : LOSS: 0.26991668343544006     EVALUATION: [0.06403836056472749, 0.647928692073589, 0.342804200123533]\n"
     ]
    }
   ],
   "source": [
    "train(train_loader, 10, 'cuda:0', len(train_loader)//1)"
   ]
  },
  {
   "cell_type": "code",
   "execution_count": null,
   "metadata": {},
   "outputs": [],
   "source": []
  },
  {
   "cell_type": "code",
   "execution_count": null,
   "metadata": {},
   "outputs": [],
   "source": []
  },
  {
   "cell_type": "code",
   "execution_count": 30,
   "metadata": {},
   "outputs": [
    {
     "name": "stdout",
     "output_type": "stream",
     "text": [
      "127 32\n",
      "torch.Size([256, 3, 32, 32]) torch.Size([256, 17])\n",
      "torch.Size([256, 17])\n"
     ]
    }
   ],
   "source": [
    "BATCH_SIZE = 256\n",
    "random_seed = 42\n",
    "shuffle_dataset = True\n",
    "validation_split = 0.2\n",
    "dataset_size = len(train_dataset)\n",
    "indices = list(range(dataset_size))\n",
    "split = int(np.floor(validation_split * dataset_size))\n",
    "if shuffle_dataset :\n",
    "    np.random.seed(random_seed)\n",
    "    np.random.shuffle(indices)\n",
    "train_indices, val_indices = indices[split:], indices[:split]\n",
    "\n",
    "\n",
    "train_sampler = SubsetRandomSampler(train_indices)\n",
    "valid_sampler = SubsetRandomSampler(val_indices)\n",
    "\n",
    "\n",
    "train_loader = torch.utils.data.DataLoader(train_dataset, batch_size=BATCH_SIZE, \n",
    "                                           sampler=train_sampler, num_workers=8)\n",
    "validation_loader = torch.utils.data.DataLoader(train_dataset, batch_size=BATCH_SIZE,\n",
    "                                                sampler=valid_sampler, num_workers=8)\n",
    "\n",
    "\n",
    "print(len(train_loader), len(validation_loader))\n",
    "image, label = next(iter(train_loader))\n",
    "print(image.shape, label.shape)\n",
    "# print(label)\n",
    "n_classes = label.shape[1]\n",
    "\n",
    "model = BaseNet()\n",
    "output = model(image)\n",
    "print(output.shape)\n",
    "\n",
    "del(image, label)"
   ]
  },
  {
   "cell_type": "code",
   "execution_count": null,
   "metadata": {},
   "outputs": [],
   "source": []
  }
 ],
 "metadata": {
  "kernelspec": {
   "display_name": "Python 3",
   "language": "python",
   "name": "python3"
  },
  "language_info": {
   "codemirror_mode": {
    "name": "ipython",
    "version": 3
   },
   "file_extension": ".py",
   "mimetype": "text/x-python",
   "name": "python",
   "nbconvert_exporter": "python",
   "pygments_lexer": "ipython3",
   "version": "3.7.0"
  },
  "toc": {
   "base_numbering": 1,
   "nav_menu": {},
   "number_sections": true,
   "sideBar": true,
   "skip_h1_title": false,
   "title_cell": "Table of Contents",
   "title_sidebar": "Contents",
   "toc_cell": false,
   "toc_position": {},
   "toc_section_display": true,
   "toc_window_display": false
  },
  "varInspector": {
   "cols": {
    "lenName": 16,
    "lenType": 16,
    "lenVar": 40
   },
   "kernels_config": {
    "python": {
     "delete_cmd_postfix": "",
     "delete_cmd_prefix": "del ",
     "library": "var_list.py",
     "varRefreshCmd": "print(var_dic_list())"
    },
    "r": {
     "delete_cmd_postfix": ") ",
     "delete_cmd_prefix": "rm(",
     "library": "var_list.r",
     "varRefreshCmd": "cat(var_dic_list()) "
    }
   },
   "types_to_exclude": [
    "module",
    "function",
    "builtin_function_or_method",
    "instance",
    "_Feature"
   ],
   "window_display": false
  }
 },
 "nbformat": 4,
 "nbformat_minor": 4
}
