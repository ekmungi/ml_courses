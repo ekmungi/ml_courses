{
 "cells": [
  {
   "cell_type": "markdown",
   "metadata": {},
   "source": [
    "# Amazon forest analysis from satellite images.\n",
    "\n",
    "\n",
    "Data obtained from the kaggle competition https://www.kaggle.com/c/planet-understanding-the-amazon-from-space/"
   ]
  },
  {
   "cell_type": "markdown",
   "metadata": {},
   "source": [
    "## Visualize whats happening in the dataset"
   ]
  },
  {
   "cell_type": "code",
   "execution_count": 1,
   "metadata": {
    "ExecuteTime": {
     "end_time": "2019-10-07T20:21:42.880568Z",
     "start_time": "2019-10-07T20:21:42.876155Z"
    },
    "init_cell": true
   },
   "outputs": [],
   "source": [
    "import numpy as np\n",
    "import pandas as pd\n",
    "import matplotlib.pyplot as plt\n",
    "import seaborn as sns\n",
    "import os"
   ]
  },
  {
   "cell_type": "code",
   "execution_count": 2,
   "metadata": {
    "ExecuteTime": {
     "end_time": "2019-10-07T20:21:42.888253Z",
     "start_time": "2019-10-07T20:21:42.884132Z"
    },
    "init_cell": true
   },
   "outputs": [],
   "source": [
    "# base_path = '/media/anant/data/amazon_from_space/'\n",
    "base_path = '/media/avemuri/DEV/Data/amazon_from_space/'"
   ]
  },
  {
   "cell_type": "code",
   "execution_count": 3,
   "metadata": {
    "ExecuteTime": {
     "end_time": "2019-10-07T20:21:42.975692Z",
     "start_time": "2019-10-07T20:21:42.890636Z"
    },
    "init_cell": true
   },
   "outputs": [
    {
     "data": {
      "text/html": [
       "<div>\n",
       "<style scoped>\n",
       "    .dataframe tbody tr th:only-of-type {\n",
       "        vertical-align: middle;\n",
       "    }\n",
       "\n",
       "    .dataframe tbody tr th {\n",
       "        vertical-align: top;\n",
       "    }\n",
       "\n",
       "    .dataframe thead th {\n",
       "        text-align: right;\n",
       "    }\n",
       "</style>\n",
       "<table border=\"1\" class=\"dataframe\">\n",
       "  <thead>\n",
       "    <tr style=\"text-align: right;\">\n",
       "      <th></th>\n",
       "      <th>image_name</th>\n",
       "      <th>tags</th>\n",
       "    </tr>\n",
       "  </thead>\n",
       "  <tbody>\n",
       "    <tr>\n",
       "      <td>0</td>\n",
       "      <td>train_0</td>\n",
       "      <td>haze primary</td>\n",
       "    </tr>\n",
       "    <tr>\n",
       "      <td>1</td>\n",
       "      <td>train_1</td>\n",
       "      <td>agriculture clear primary water</td>\n",
       "    </tr>\n",
       "    <tr>\n",
       "      <td>2</td>\n",
       "      <td>train_2</td>\n",
       "      <td>clear primary</td>\n",
       "    </tr>\n",
       "    <tr>\n",
       "      <td>3</td>\n",
       "      <td>train_3</td>\n",
       "      <td>clear primary</td>\n",
       "    </tr>\n",
       "    <tr>\n",
       "      <td>4</td>\n",
       "      <td>train_4</td>\n",
       "      <td>agriculture clear habitation primary road</td>\n",
       "    </tr>\n",
       "  </tbody>\n",
       "</table>\n",
       "</div>"
      ],
      "text/plain": [
       "  image_name                                       tags\n",
       "0    train_0                               haze primary\n",
       "1    train_1            agriculture clear primary water\n",
       "2    train_2                              clear primary\n",
       "3    train_3                              clear primary\n",
       "4    train_4  agriculture clear habitation primary road"
      ]
     },
     "execution_count": 3,
     "metadata": {},
     "output_type": "execute_result"
    }
   ],
   "source": [
    "train_df = pd.read_csv(base_path+'train_v2.csv')\n",
    "train_df.head()"
   ]
  },
  {
   "cell_type": "markdown",
   "metadata": {},
   "source": [
    "### Plot the frequency of each label"
   ]
  },
  {
   "cell_type": "code",
   "execution_count": 31,
   "metadata": {
    "ExecuteTime": {
     "end_time": "2019-09-29T18:32:39.245689Z",
     "start_time": "2019-09-29T18:32:39.201694Z"
    },
    "code_folding": []
   },
   "outputs": [
    {
     "name": "stdout",
     "output_type": "stream",
     "text": [
      "There is 17 unique labels including {'selective_logging', 'bare_ground', 'agriculture', 'clear', 'habitation', 'haze', 'slash_burn', 'cloudy', 'blooming', 'cultivation', 'water', 'primary', 'conventional_mine', 'blow_down', 'road', 'artisinal_mine', 'partly_cloudy'}\n"
     ]
    }
   ],
   "source": [
    "# Print all unique tags\n",
    "from itertools import chain\n",
    "labels_list = list(chain.from_iterable([tags.split(\" \") for tags in train_df['tags'].values]))\n",
    "labels_set = set(labels_list)\n",
    "print(\"There is {} unique labels including {}\".format(len(labels_set), labels_set))"
   ]
  },
  {
   "cell_type": "code",
   "execution_count": 32,
   "metadata": {
    "ExecuteTime": {
     "end_time": "2019-09-29T18:32:41.155759Z",
     "start_time": "2019-09-29T18:32:40.906011Z"
    }
   },
   "outputs": [
    {
     "data": {
      "text/plain": [
       "<matplotlib.axes._subplots.AxesSubplot at 0x7fc30d4bda58>"
      ]
     },
     "execution_count": 32,
     "metadata": {},
     "output_type": "execute_result"
    },
    {
     "data": {
      "image/png": "[encoded data removed]",
      "text/plain": [
       "<Figure size 1152x576 with 1 Axes>"
      ]
     },
     "metadata": {
      "needs_background": "light"
     },
     "output_type": "display_data"
    }
   ],
   "source": [
    "labels_s = pd.Series(labels_list).value_counts() # To sort them by count\n",
    "fig, ax = plt.subplots(figsize=(16, 8))\n",
    "sns.barplot(x=labels_s, y=labels_s.index, orient='h')"
   ]
  },
  {
   "cell_type": "code",
   "execution_count": 33,
   "metadata": {
    "ExecuteTime": {
     "end_time": "2019-09-29T18:32:42.803397Z",
     "start_time": "2019-09-29T18:32:42.786295Z"
    }
   },
   "outputs": [],
   "source": [
    "percentages = labels_s"
   ]
  },
  {
   "cell_type": "code",
   "execution_count": 4,
   "metadata": {
    "ExecuteTime": {
     "end_time": "2019-10-07T20:21:42.983364Z",
     "start_time": "2019-10-07T20:21:42.978231Z"
    },
    "init_cell": true
   },
   "outputs": [],
   "source": [
    "def plot_torch_image(x, y):\n",
    "    for j in range(3):\n",
    "        img = np.moveaxis(x.numpy().squeeze(), (0,1,2), (2,0,1))\n",
    "        for i in range(3):\n",
    "            img[:,:,i] = (img[:,:,i] - img[:,:,i].min()) / (img[:,:,i].max() - img[:,:,i].min())\n",
    "        # print(min(img.flatten()), max(img.flatten()))\n",
    "    _ = plt.figure()\n",
    "    _ = plt.imshow(img)\n",
    "    # print(img.dtype)\n",
    "    print(y)"
   ]
  },
  {
   "cell_type": "markdown",
   "metadata": {},
   "source": [
    "## Imports for training"
   ]
  },
  {
   "cell_type": "code",
   "execution_count": 5,
   "metadata": {
    "ExecuteTime": {
     "end_time": "2019-10-07T20:21:43.349566Z",
     "start_time": "2019-10-07T20:21:42.985016Z"
    },
    "init_cell": true
   },
   "outputs": [],
   "source": [
    "import glob\n",
    "import cv2\n",
    "from PIL import Image\n",
    "from sklearn.preprocessing import MultiLabelBinarizer\n",
    "from sklearn.metrics import accuracy_score, fbeta_score\n",
    "from tqdm import tqdm_notebook, tqdm\n",
    "\n",
    "import torch\n",
    "from torch import nn\n",
    "import torch.nn.functional as F\n",
    "import torchvision.transforms as transforms\n",
    "import torchvision.datasets as dsets\n",
    "from torch.utils.data import Dataset, DataLoader, TensorDataset\n",
    "import torchvision.models as models\n",
    "\n",
    "from ignite.engine import create_supervised_trainer, create_supervised_evaluator, Events\n",
    "from ignite.metrics import Accuracy, Precision, Recall, Loss, Metric\n",
    "# from ignite.contrib.handlers import CosineAnnealingScheduler\n",
    "from ignite.contrib.handlers.param_scheduler import CosineAnnealingScheduler"
   ]
  },
  {
   "cell_type": "markdown",
   "metadata": {},
   "source": [
    "## Get data"
   ]
  },
  {
   "cell_type": "code",
   "execution_count": 6,
   "metadata": {
    "ExecuteTime": {
     "end_time": "2019-10-07T20:21:43.790633Z",
     "start_time": "2019-10-07T20:21:43.351459Z"
    },
    "init_cell": true
   },
   "outputs": [
    {
     "data": {
      "application/vnd.jupyter.widget-view+json": {
       "model_id": "06a641c0a9e04bc3a5eb8672cb53594c",
       "version_major": 2,
       "version_minor": 0
      },
      "text/plain": [
       "HBox(children=(IntProgress(value=0, description='TRAIN SET', max=40479, style=ProgressStyle(description_width=…"
      ]
     },
     "metadata": {},
     "output_type": "display_data"
    },
    {
     "name": "stdout",
     "output_type": "stream",
     "text": [
      "\n",
      "40479 (40479, 17)\n"
     ]
    }
   ],
   "source": [
    "def get_split_data():\n",
    "    image_list = [f for f in glob.glob(base_path+'train-jpg'+'/*.jpg')]\n",
    "    SPLIT = 0.2\n",
    "    dataset_size = len(image_list)\n",
    "    indices = list(range(dataset_size))\n",
    "    split = int(np.floor(SPLIT * dataset_size))\n",
    "\n",
    "    np.random.seed(42)\n",
    "    np.random.shuffle(indices)\n",
    "\n",
    "    train_indices, valid_indices = indices[split:], indices[:split]\n",
    "    df_train = pd.read_csv(base_path+'train_v2.csv')\n",
    "    mlb = MultiLabelBinarizer()\n",
    "    labels = mlb.fit_transform(df_train['tags'].str.split()).astype(np.float32)\n",
    "    image_paths = []\n",
    "    for f, tags in tqdm_notebook(df_train.values, miniters=1000, desc=\"TRAIN SET\"):\n",
    "        image_paths.append(base_path+'train-jpg'+'/'+'{}.jpg'.format(f))\n",
    "        \n",
    "    return image_paths, labels, train_indices, valid_indices, mlb\n",
    "\n",
    "image_paths, labels, train_indices, valid_indices, mlb = get_split_data()\n",
    "print(len(image_paths), labels.shape)"
   ]
  },
  {
   "cell_type": "code",
   "execution_count": 7,
   "metadata": {
    "ExecuteTime": {
     "end_time": "2019-10-07T20:21:44.342045Z",
     "start_time": "2019-10-07T20:21:43.793229Z"
    },
    "init_cell": true
   },
   "outputs": [
    {
     "data": {
      "application/vnd.jupyter.widget-view+json": {
       "model_id": "34c4ec7fe3974b1bb8f9503420b1a0a3",
       "version_major": 2,
       "version_minor": 0
      },
      "text/plain": [
       "HBox(children=(IntProgress(value=0, description='TRAIN SET', max=40479, style=ProgressStyle(description_width=…"
      ]
     },
     "metadata": {},
     "output_type": "display_data"
    },
    {
     "name": "stdout",
     "output_type": "stream",
     "text": [
      "\n"
     ]
    },
    {
     "data": {
      "application/vnd.jupyter.widget-view+json": {
       "model_id": "6890b1cf91b14cd0ba8e58e183ca32c4",
       "version_major": 2,
       "version_minor": 0
      },
      "text/plain": [
       "HBox(children=(IntProgress(value=0, description='TEST SET', max=61191, style=ProgressStyle(description_width='…"
      ]
     },
     "metadata": {},
     "output_type": "display_data"
    },
    {
     "name": "stdout",
     "output_type": "stream",
     "text": [
      "\n",
      "61191\n"
     ]
    }
   ],
   "source": [
    "def get_test_data():\n",
    "    \n",
    "    _, _, _, _, mlb = get_split_data()\n",
    "    \n",
    "    df = pd.read_csv(base_path+'sample_submission_v2.csv')\n",
    "    image_names = df['image_name'].values\n",
    "    \n",
    "#     image_list = [f for f in glob.glob(base_path+'test-jpg'+'/*.jpg')]\n",
    "    \n",
    "    image_paths = []\n",
    "    for file_name in tqdm_notebook(image_names, desc='TEST SET'):\n",
    "        image_paths.append(base_path+'test-jpg'+'/'+'{}.jpg'.format(file_name))\n",
    "    \n",
    "#     for f in tqdm_notebook(list(range(len(image_list))), miniters=1000, desc=\"TEST SET\"):\n",
    "#         image_paths.append(base_path+'test-jpg'+'/'+'{}.jpg'.format(f))\n",
    "        \n",
    "#     image_list_additional = [f for f in glob.glob(base_path+'test-jpg-additional'+'/*.jpg')]\n",
    "        \n",
    "#     for f in tqdm_notebook(list(range(len(image_list_additional))), miniters=1000, desc=\"TEST SET ADDITIONAL\"):\n",
    "#         image_paths.append(base_path+'test-jpg-additional'+'/'+'{}.jpg'.format(f))\n",
    "        \n",
    "    return image_paths, mlb\n",
    "\n",
    "image_test_paths, mlb = get_test_data()\n",
    "print(len(image_test_paths))"
   ]
  },
  {
   "cell_type": "markdown",
   "metadata": {},
   "source": [
    "### Get data as numpy array"
   ]
  },
  {
   "cell_type": "code",
   "execution_count": 38,
   "metadata": {
    "ExecuteTime": {
     "end_time": "2019-09-29T18:33:03.467986Z",
     "start_time": "2019-09-29T18:33:03.448199Z"
    }
   },
   "outputs": [],
   "source": [
    "def get_data(image_paths, labels, image_size=(32, 32)):\n",
    "    \n",
    "    X = []\n",
    "    y = []\n",
    "    \n",
    "    for f, label in tqdm_notebook(zip(image_paths, labels), miniters=1000, total=len(labels)):\n",
    "        img = cv2.imread(f)\n",
    "        X.append(cv2.resize(img, image_size))\n",
    "        y.append(label)\n",
    "    \n",
    "    \n",
    "    \n",
    "    y = np.array(y, np.uint8)\n",
    "    X = np.array(X, np.float16) / 255.\n",
    "                         \n",
    "    return X, y"
   ]
  },
  {
   "cell_type": "code",
   "execution_count": null,
   "metadata": {
    "ExecuteTime": {
     "end_time": "2019-09-29T18:33:08.612534Z",
     "start_time": "2019-09-29T18:33:05.093446Z"
    },
    "deletable": false,
    "editable": false,
    "run_control": {
     "frozen": true
    },
    "scrolled": true
   },
   "outputs": [],
   "source": [
    "X, y = get_data(image_paths, labels, (32, 32))"
   ]
  },
  {
   "cell_type": "code",
   "execution_count": 30,
   "metadata": {
    "ExecuteTime": {
     "end_time": "2019-09-27T21:03:27.616645Z",
     "start_time": "2019-09-27T21:03:27.604046Z"
    },
    "deletable": false,
    "editable": false,
    "run_control": {
     "frozen": true
    }
   },
   "outputs": [
    {
     "name": "stdout",
     "output_type": "stream",
     "text": [
      "(40479, 3, 32, 32) (40479, 17)\n"
     ]
    }
   ],
   "source": [
    "X = np.moveaxis(X, (0,1,2,3), (0,2,3,1))\n",
    "print(X.shape, y.shape)"
   ]
  },
  {
   "cell_type": "code",
   "execution_count": 31,
   "metadata": {
    "ExecuteTime": {
     "end_time": "2019-09-27T21:03:28.307526Z",
     "start_time": "2019-09-27T21:03:28.212271Z"
    },
    "deletable": false,
    "editable": false,
    "run_control": {
     "frozen": true
    }
   },
   "outputs": [
    {
     "name": "stdout",
     "output_type": "stream",
     "text": [
      "(32384, 3, 32, 32) (32384, 17) (8095, 3, 32, 32) (8095, 17)\n"
     ]
    }
   ],
   "source": [
    "x_train, y_train = X[train_indices], y[train_indices]\n",
    "x_valid, y_valid = X[valid_indices], y[valid_indices]\n",
    "\n",
    "print(x_train.shape, y_train.shape, x_valid.shape, y_valid.shape)"
   ]
  },
  {
   "cell_type": "code",
   "execution_count": 32,
   "metadata": {
    "ExecuteTime": {
     "end_time": "2019-09-27T21:03:29.048660Z",
     "start_time": "2019-09-27T21:03:28.983046Z"
    },
    "deletable": false,
    "editable": false,
    "run_control": {
     "frozen": true
    }
   },
   "outputs": [],
   "source": [
    "train_dataset = TensorDataset(torch.from_numpy(x_train).float(), torch.from_numpy(y_train).float())\n",
    "valid_dataset = TensorDataset(torch.from_numpy(x_valid).float(), torch.from_numpy(y_valid).float())"
   ]
  },
  {
   "cell_type": "raw",
   "metadata": {
    "ExecuteTime": {
     "end_time": "2019-09-19T10:03:05.386401Z",
     "start_time": "2019-09-19T10:02:58.069063Z"
    }
   },
   "source": [
    "for i in range(1):\n",
    "    x, y = next(iter(train_loader))\n",
    "    print(x.shape, y.shape)\n",
    "    x, y = next(iter(valid_loader))\n",
    "    print(x.shape, y.shape)"
   ]
  },
  {
   "cell_type": "code",
   "execution_count": 33,
   "metadata": {
    "ExecuteTime": {
     "end_time": "2019-09-27T21:03:29.723199Z",
     "start_time": "2019-09-27T21:03:29.710234Z"
    },
    "deletable": false,
    "editable": false,
    "run_control": {
     "frozen": true
    }
   },
   "outputs": [],
   "source": [
    "import matplotlib.pyplot as plt"
   ]
  },
  {
   "cell_type": "code",
   "execution_count": 34,
   "metadata": {
    "ExecuteTime": {
     "end_time": "2019-09-27T21:03:30.527237Z",
     "start_time": "2019-09-27T21:03:30.409233Z"
    },
    "deletable": false,
    "editable": false,
    "run_control": {
     "frozen": true
    }
   },
   "outputs": [
    {
     "name": "stdout",
     "output_type": "stream",
     "text": [
      "tensor([1., 0., 0., 0., 0., 0., 0., 0., 0., 1., 0., 1., 1., 1., 0., 0., 1.])\n"
     ]
    },
    {
     "data": {
      "image/png": "[encoded data removed]",
      "text/plain": [
       "<Figure size 432x288 with 1 Axes>"
      ]
     },
     "metadata": {
      "needs_background": "light"
     },
     "output_type": "display_data"
    }
   ],
   "source": [
    "x, y = train_dataset[0]\n",
    "plot_torch_image(x,y)"
   ]
  },
  {
   "cell_type": "markdown",
   "metadata": {},
   "source": [
    "### Get data from pytorch dataset object"
   ]
  },
  {
   "cell_type": "code",
   "execution_count": 8,
   "metadata": {
    "ExecuteTime": {
     "end_time": "2019-10-07T20:21:44.353740Z",
     "start_time": "2019-10-07T20:21:44.343654Z"
    },
    "init_cell": true
   },
   "outputs": [],
   "source": [
    "class AmazonDataset(Dataset):\n",
    "    def __init__(self, image_paths, labels=None, select_indices=None, transform=None):\n",
    "        self.image_paths = image_paths\n",
    "        self.labels = labels\n",
    "        self.transform = transform\n",
    "        \n",
    "        if select_indices is not None:\n",
    "            if self.labels is not None:\n",
    "                self.labels = self.labels[select_indices]\n",
    "            self.image_paths = list(np.array(self.image_paths)[select_indices])\n",
    "            \n",
    "        self.length = len(self.image_paths)\n",
    "        \n",
    "    def __len__(self):\n",
    "        return self.length\n",
    "    \n",
    "    def __getitem__(self, index):\n",
    "        #file_name = self.base_path+'train-jpg'+'/'+'{}.jpg'.format(self.image_names[index])\n",
    "        #image = Image.open(file_name)\n",
    "        #image = image.convert('RGB')\n",
    "        #print(self.image_paths[index])\n",
    "        #print(self.labels[index])\n",
    "        #print(self.image_paths[index])\n",
    "        image = cv2.imread(self.image_paths[index])\n",
    "        if self.labels is not None:\n",
    "            label = torch.from_numpy(self.labels[index])\n",
    "        \n",
    "        if self.transform is not None:\n",
    "            image = self.transform(image)\n",
    "            \n",
    "        if self.labels is not None:\n",
    "            return image, label\n",
    "        else:\n",
    "            return image\n"
   ]
  },
  {
   "cell_type": "code",
   "execution_count": 9,
   "metadata": {
    "ExecuteTime": {
     "end_time": "2019-10-07T20:21:44.369992Z",
     "start_time": "2019-10-07T20:21:44.360995Z"
    },
    "init_cell": true
   },
   "outputs": [],
   "source": [
    "IMG_SIZE = (100, 100)\n",
    "normalize = transforms.Normalize(mean=[0.485, 0.456, 0.406],\n",
    "                                 std=[0.229, 0.224, 0.225])\n",
    "train_transform_augmented = transforms.Compose([transforms.ToPILImage(),\n",
    "                                                transforms.Resize(IMG_SIZE, Image.NEAREST),\n",
    "                                                transforms.ColorJitter(brightness=0.5),\n",
    "                                                transforms.RandomVerticalFlip(),\n",
    "                                                transforms.RandomResizedCrop(IMG_SIZE, \n",
    "                                                                             scale=(0.7, 1.0), \n",
    "                                                                             ratio=(1.0,1.0), \n",
    "                                                                             interpolation=Image.NEAREST),\n",
    "                                                transforms.ToTensor(),\n",
    "                                                normalize])\n",
    "valid_transform_augmented = transforms.Compose([transforms.ToPILImage(),\n",
    "                                                transforms.Resize(IMG_SIZE, Image.NEAREST),\n",
    "                                                transforms.ToTensor(),\n",
    "                                                normalize])"
   ]
  },
  {
   "cell_type": "code",
   "execution_count": 10,
   "metadata": {
    "ExecuteTime": {
     "end_time": "2019-10-07T20:21:44.439869Z",
     "start_time": "2019-10-07T20:21:44.374835Z"
    },
    "init_cell": true
   },
   "outputs": [
    {
     "name": "stdout",
     "output_type": "stream",
     "text": [
      "32384 8095 32384 8095 61191\n"
     ]
    }
   ],
   "source": [
    "train_dataset = AmazonDataset(image_paths, labels, select_indices=train_indices,\n",
    "                                 transform=train_transform_augmented)\n",
    "valid_dataset = AmazonDataset(image_paths, labels, select_indices=valid_indices,\n",
    "                                 transform=valid_transform_augmented)\n",
    "test_dataset = AmazonDataset(image_test_paths, transform=valid_transform_augmented)\n",
    "\n",
    "print(len(train_indices), len(valid_indices), len(train_dataset), len(valid_dataset), len(test_dataset))"
   ]
  },
  {
   "cell_type": "code",
   "execution_count": 11,
   "metadata": {
    "ExecuteTime": {
     "end_time": "2019-10-07T20:21:44.638575Z",
     "start_time": "2019-10-07T20:21:44.442631Z"
    },
    "init_cell": true
   },
   "outputs": [
    {
     "name": "stdout",
     "output_type": "stream",
     "text": [
      "tensor([1., 0., 0., 0., 0., 0., 0., 0., 0., 1., 0., 1., 1., 1., 0., 0., 1.])\n"
     ]
    },
    {
     "data": {
      "image/png": "[encoded data removed]",
      "text/plain": [
       "<Figure size 432x288 with 1 Axes>"
      ]
     },
     "metadata": {
      "needs_background": "light"
     },
     "output_type": "display_data"
    }
   ],
   "source": [
    "x, y = train_dataset[0]\n",
    "plot_torch_image(x, y)"
   ]
  },
  {
   "cell_type": "markdown",
   "metadata": {},
   "source": [
    "### Create dataloaders"
   ]
  },
  {
   "cell_type": "code",
   "execution_count": 12,
   "metadata": {
    "ExecuteTime": {
     "end_time": "2019-10-07T20:21:44.645216Z",
     "start_time": "2019-10-07T20:21:44.640313Z"
    },
    "init_cell": true
   },
   "outputs": [
    {
     "name": "stdout",
     "output_type": "stream",
     "text": [
      "253 64 479\n"
     ]
    }
   ],
   "source": [
    "BATCH_SIZE = 128\n",
    "SHUFFLE = True\n",
    "\n",
    "train_loader = DataLoader(train_dataset, batch_size=BATCH_SIZE, shuffle=SHUFFLE, num_workers=8, pin_memory=True)\n",
    "valid_loader = DataLoader(valid_dataset, batch_size=BATCH_SIZE, shuffle=False, num_workers=8, pin_memory=True)\n",
    "test_loader = DataLoader(test_dataset, batch_size=BATCH_SIZE, shuffle=False, num_workers=8, pin_memory=True)\n",
    "\n",
    "print(len(train_loader), len(valid_loader), len(test_loader))"
   ]
  },
  {
   "cell_type": "code",
   "execution_count": 13,
   "metadata": {
    "ExecuteTime": {
     "end_time": "2019-10-07T20:21:49.708610Z",
     "start_time": "2019-10-07T20:21:44.646681Z"
    },
    "init_cell": true
   },
   "outputs": [
    {
     "name": "stdout",
     "output_type": "stream",
     "text": [
      "torch.Size([128, 3, 100, 100]) torch.Size([128, 17])\n",
      "torch.Size([128, 3, 100, 100]) torch.Size([128, 17])\n"
     ]
    }
   ],
   "source": [
    "# for x, y in train_loader:\n",
    "#     print(x.shape, y.shape)\n",
    "\n",
    "for i in range(2):\n",
    "    x, y = next(iter(train_loader))\n",
    "    print(x.shape, y.shape)\n",
    "    "
   ]
  },
  {
   "cell_type": "markdown",
   "metadata": {},
   "source": [
    "## Model definition"
   ]
  },
  {
   "cell_type": "code",
   "execution_count": 14,
   "metadata": {
    "ExecuteTime": {
     "end_time": "2019-10-07T20:21:49.719364Z",
     "start_time": "2019-10-07T20:21:49.712705Z"
    },
    "init_cell": true
   },
   "outputs": [],
   "source": [
    "class Flatten(nn.Module):\n",
    "    \"Flatten `x` to a single dimension, often used at the end of a model. `full` for rank-1 tensor\"\n",
    "    def __init__(self, full:bool=False): \n",
    "        super(Flatten, self).__init__()\n",
    "        self.full = full\n",
    "    def forward(self, x): return x.view(-1) if self.full else x.view(x.size(0), -1)"
   ]
  },
  {
   "cell_type": "code",
   "execution_count": 15,
   "metadata": {
    "ExecuteTime": {
     "end_time": "2019-10-07T20:21:49.729257Z",
     "start_time": "2019-10-07T20:21:49.721032Z"
    },
    "init_cell": true
   },
   "outputs": [],
   "source": [
    "class AdaptiveConcatPool2d(nn.Module):\n",
    "    \"Layer that concats `AdaptiveAvgPool2d` and `AdaptiveMaxPool2d`.\"\n",
    "    def __init__(self, sz=None):\n",
    "        \"Output will be 2*sz or 2 if sz is None\"\n",
    "        super(AdaptiveConcatPool2d, self).__init__()\n",
    "        self.output_size = sz or 1\n",
    "        self.ap = nn.AdaptiveAvgPool2d(self.output_size)\n",
    "        self.mp = nn.AdaptiveMaxPool2d(self.output_size)\n",
    "\n",
    "    def forward(self, x): return torch.cat([self.mp(x), self.ap(x)], 1)"
   ]
  },
  {
   "cell_type": "markdown",
   "metadata": {},
   "source": [
    "### Basic model"
   ]
  },
  {
   "cell_type": "code",
   "execution_count": 16,
   "metadata": {
    "ExecuteTime": {
     "end_time": "2019-10-07T20:21:49.745250Z",
     "start_time": "2019-10-07T20:21:49.731138Z"
    },
    "init_cell": true
   },
   "outputs": [],
   "source": [
    "# class BaseNet(nn.Module):\n",
    "#     def __init__(self):\n",
    "#         super(BaseNet, self).__init__()\n",
    "#         self.conv1 = nn.Conv2d(3, 32, kernel_size=3)\n",
    "#         self.conv2 = nn.Conv2d(32, 64, kernel_size=3)\n",
    "#         self.conv2_drop = nn.Dropout2d()\n",
    "#         self.fc1 = nn.Linear(2304, 256)\n",
    "#         self.fc2 = nn.Linear(256, 17)\n",
    "\n",
    "#     def forward(self, x):\n",
    "#         x = F.relu(F.max_pool2d(self.conv1(x), 2))\n",
    "#         x = F.relu(F.max_pool2d(self.conv2_drop(self.conv2(x)), 2))\n",
    "#         x = x.view(x.size(0), -1) # Flatten layer\n",
    "#         x = F.relu(self.fc1(x))\n",
    "#         x = F.dropout(x, training=self.training)\n",
    "#         x = self.fc2(x)\n",
    "#         return torch.sigmoid(x)\n",
    "\n",
    "class BaseNet(nn.Module):\n",
    "    def __init__(self):\n",
    "        super(BaseNet, self).__init__()\n",
    "        \n",
    "        self.conv11 = nn.Conv2d(3, 32, kernel_size=3)\n",
    "        self.conv12 = nn.Conv2d(32, 64, kernel_size=3)\n",
    "        self.conv13 = nn.Conv2d(64, 128, kernel_size=3)\n",
    "        \n",
    "        self.conv21 = nn.Conv2d(128, 256, kernel_size=3)\n",
    "        self.conv22 = nn.Conv2d(256, 512, kernel_size=3)\n",
    "        self.conv23 = nn.Conv2d(512, 1024, kernel_size=3)\n",
    "        \n",
    "        self.conv2_drop_1 = nn.Dropout2d(0.25)\n",
    "        self.conv2_drop_2 = nn.Dropout2d(0.25)\n",
    "        self.linear_drop_1 = nn.Dropout(0.5)\n",
    "        self.linear_drop_2 = nn.Dropout(0.5)\n",
    "        \n",
    "        self.adaptive_avg_pool2d = nn.AdaptiveAvgPool2d((1,1))\n",
    "        \n",
    "        # self.fc1 = nn.Linear(9216, 256)\n",
    "        self.fc1 = nn.Linear(1024, 256)\n",
    "        self.fc2 = nn.Linear(256, 64)\n",
    "        self.fc3 = nn.Linear(64, 17)\n",
    "        #self.fc4 = nn.Linear(32, 17)\n",
    "\n",
    "    def forward(self, x):\n",
    "        x = F.relu(self.conv11(x))\n",
    "        x = F.relu(self.conv12(x))\n",
    "        x = self.conv2_drop_1(F.max_pool2d(F.relu(self.conv13(x)), (2,2)))\n",
    "        \n",
    "        x = F.relu(self.conv21(x))\n",
    "        x = F.relu(self.conv22(x))\n",
    "        x = self.conv2_drop_2(F.max_pool2d(F.relu(self.conv23(x)), (2,2)))\n",
    "        \n",
    "        x = self.adaptive_avg_pool2d(x)\n",
    "        x = x.view(x.size(0), -1) # Flatten layer\n",
    "        # print(x.shape)\n",
    "        \n",
    "        x = F.relu(self.fc1(x))\n",
    "        x = self.linear_drop_1(x)\n",
    "        x = F.relu(self.fc2(x))\n",
    "        x = self.linear_drop_2(x)\n",
    "        x = self.fc3(x)\n",
    "        \n",
    "        #x = self.fc4(x)\n",
    "        \n",
    "        return torch.sigmoid(x)"
   ]
  },
  {
   "cell_type": "code",
   "execution_count": 49,
   "metadata": {
    "ExecuteTime": {
     "end_time": "2019-09-29T18:34:30.803613Z",
     "start_time": "2019-09-29T18:34:30.731793Z"
    },
    "deletable": false,
    "editable": false,
    "init_cell": true,
    "run_control": {
     "frozen": true
    }
   },
   "outputs": [
    {
     "name": "stdout",
     "output_type": "stream",
     "text": [
      "torch.Size([3, 3, 32, 32])\n",
      "torch.Size([3, 17])\n"
     ]
    }
   ],
   "source": [
    "img = torch.from_numpy(np.random.randn(3,3,32,32)).float()\n",
    "print(img.shape)\n",
    "model = BaseNet()\n",
    "out = model(img)\n",
    "print(out.shape)"
   ]
  },
  {
   "cell_type": "markdown",
   "metadata": {},
   "source": [
    "### Advanced model"
   ]
  },
  {
   "cell_type": "code",
   "execution_count": 17,
   "metadata": {
    "ExecuteTime": {
     "end_time": "2019-10-07T20:21:49.766228Z",
     "start_time": "2019-10-07T20:21:49.747068Z"
    },
    "init_cell": true
   },
   "outputs": [],
   "source": [
    "class AdvancedNet(nn.Module):\n",
    "    def __init__(self, output_features, cut=-2):\n",
    "        super(AdvancedNet, self).__init__()\n",
    "        # model = models.resnet50(pretrained=True)\n",
    "        pretrained = models.resnet50(pretrained=True)\n",
    "        num_ftrs = 2*pretrained.fc.in_features                      # 2* since we are usng AdaptiveConcatPool2d\n",
    "        \n",
    "        self.body = nn.Sequential(*list(pretrained.children())[:cut])\n",
    "        self.head = nn.Sequential(AdaptiveConcatPool2d(), \n",
    "                                  Flatten(),\n",
    "                                  nn.Linear(num_ftrs, 512),\n",
    "                                  nn.BatchNorm1d(512),\n",
    "                                  nn.ReLU(),\n",
    "                                  nn.Dropout2d(0.5),\n",
    "                                  nn.Linear(512,output_features)\n",
    "#                                   nn.BatchNorm1d(256),\n",
    "#                                   nn.ReLU(),\n",
    "#                                   nn.Dropout2d(0.5),\n",
    "#                                   nn.Linear(256,128),\n",
    "#                                   nn.BatchNorm1d(128),\n",
    "#                                   nn.ReLU(),\n",
    "#                                   nn.Dropout2d(0.5),\n",
    "#                                   nn.Linear(128,output_features)\n",
    "                                 )\n",
    "                                 \n",
    "#         self.model = model\n",
    "        \n",
    "    def forward(self, x):\n",
    "        return torch.sigmoid(self.head(self.body(x)))\n",
    "    \n",
    "    def freeze_pretrain(self, last_how_many=1):\n",
    "        for parameter in self.body.parameters():\n",
    "            parameter.requires_grad = False\n",
    "        ### Set requires_grad to True for last block ###\n",
    "        length_of_body = len(list(self.body.children()))\n",
    "        ct = 0\n",
    "        for child in self.body.children():\n",
    "            ct += 1\n",
    "            if ct <= length_of_body-last_how_many:\n",
    "                for param in child.parameters():\n",
    "                    param.requires_grad = False\n",
    "        \n",
    "        for paramter in self.head.parameters():\n",
    "            parameter.requires_grad = True\n",
    "    \n",
    "    def freeze(self):\n",
    "        for parameter in self.body.parameters():\n",
    "            parameter.requires_grad = False\n",
    "        for paramter in self.head.parameters():\n",
    "            parameter.requires_grad = True\n",
    "            \n",
    "    def unfreeze(self):\n",
    "        for parameter in self.body.parameters():\n",
    "            parameter.requires_grad = True\n",
    "        for paramter in self.head.parameters():\n",
    "            parameter.requires_grad = True\n",
    "\n",
    "# class AdvancedNet(nn.Module):\n",
    "#     def __init__(self):\n",
    "#         super(AdvancedNet, self).__init__()\n",
    "        \n",
    "#         pretrained_model = models.resnet34(pretrained=True)\n",
    "#         self.pretrained_model = nn.Sequential(*list(pretrained_model.children())[0:9])\n",
    "        \n",
    "            \n",
    "#         self.additional_stacked_layers = nn.Sequential(nn.Linear(512, 17))\n",
    "# #                                                        ,\n",
    "# #                                                        nn.ReLU(inplace=True),\n",
    "# #                                                        nn.Dropout2d(0.5),\n",
    "# #                                                        nn.Linear(256, 128),\n",
    "# #                                                        nn.ReLU(inplace=True),\n",
    "# #                                                        nn.Linear(128, 64),\n",
    "# #                                                        nn.ReLU(inplace=True),\n",
    "# #                                                        nn.Dropout2d(0.5),\n",
    "# #                                                        nn.Linear(64, 17))\n",
    "        \n",
    "        \n",
    "# #         self.classifier = nn.Sequential(self.pretrained_model,\n",
    "# #                                         self.additional_stacked_layers)\n",
    "        \n",
    "\n",
    "#     def forward(self, x):\n",
    "#         x = self.pretrained_model(x)\n",
    "#         x = x.view(x.size(0), -1) # Flatten layer\n",
    "#         x = self.additional_stacked_layers(x)\n",
    "#         return torch.sigmoid(x)\n",
    "    \n",
    "#     def freeze(self):\n",
    "#         for parameter in self.pretrained_model.parameters():\n",
    "#             parameter.requires_grad = False\n",
    "            \n",
    "#     def unfreeze(self):\n",
    "#         for parameter in self.pretrained_model.parameters():\n",
    "#             parameter.requires_grad = True\n",
    "            \n",
    "        \n",
    "        "
   ]
  },
  {
   "cell_type": "code",
   "execution_count": 18,
   "metadata": {
    "ExecuteTime": {
     "end_time": "2019-10-07T20:21:50.417378Z",
     "start_time": "2019-10-07T20:21:49.768760Z"
    },
    "init_cell": true
   },
   "outputs": [
    {
     "name": "stdout",
     "output_type": "stream",
     "text": [
      "torch.Size([3, 3, 32, 32])\n",
      "torch.Size([3, 17])\n"
     ]
    }
   ],
   "source": [
    "img = torch.from_numpy(np.random.randn(3,3,32,32)).float()\n",
    "print(img.shape)\n",
    "model = AdvancedNet(17)\n",
    "model = model.eval()\n",
    "out = model(img)\n",
    "print(out.shape)"
   ]
  },
  {
   "cell_type": "markdown",
   "metadata": {},
   "source": [
    "## Metrics"
   ]
  },
  {
   "cell_type": "code",
   "execution_count": 19,
   "metadata": {
    "ExecuteTime": {
     "end_time": "2019-10-07T20:21:50.424525Z",
     "start_time": "2019-10-07T20:21:50.420823Z"
    },
    "init_cell": true
   },
   "outputs": [],
   "source": [
    "def thresholded_output_transform(output, threshold=0.5):\n",
    "    y_pred, y = output\n",
    "    # y_pred = torch.ge(y_pred.float(), threshold).float()\n",
    "    # one_tensor = torch.tensor([1]).cuda()\n",
    "    # zero_tensor = torch.tensor([0]).cuda()\n",
    "    # y_pred = torch.where(y_pred>0.4, one_tensor, zero_tensor)\n",
    "    y_pred = torch.round(y_pred)\n",
    "    return y_pred, y"
   ]
  },
  {
   "cell_type": "code",
   "execution_count": 41,
   "metadata": {
    "ExecuteTime": {
     "end_time": "2019-09-29T10:48:58.094937Z",
     "start_time": "2019-09-29T10:48:58.074683Z"
    },
    "deletable": false,
    "editable": false,
    "run_control": {
     "frozen": true
    }
   },
   "outputs": [],
   "source": [
    "class KerasMetrics:\n",
    "\tdef precision(self, y_true, y_pred):\n",
    "\t\ttrue_positives = k.backend.sum(k.backend.round(k.backend.clip(y_true * y_pred, 0, 1)))\n",
    "\t\tpredicted_positives = k.backend.sum(k.backend.round(k.backend.clip(y_pred, 0, 1)))\n",
    "\t\tprecision = true_positives / (predicted_positives + k.backend.epsilon())\n",
    "\t\treturn precision\n",
    "\n",
    "\tdef recall(self, y_true, y_pred):\n",
    "\t\ttrue_positives = k.backend.sum(k.backend.round(k.backend.clip(y_true * y_pred, 0, 1)))\n",
    "\t\tpossible_positives = k.backend.sum(k.backend.round(k.backend.clip(y_true, 0, 1)))\n",
    "\t\trecall = true_positives / (possible_positives + k.backend.epsilon())\n",
    "\t\treturn recall\n",
    "\n",
    "\tdef fbeta_score(self, y_true, y_pred, beta=2):\n",
    "\t\tif beta < 0:\n",
    "\t\t\traise ValueError('The lowest choosable beta is zero (only precision).')\n",
    "\n",
    "\t\tif k.backend.sum(k.backend.round(k.backend.clip(y_true, 0, 1))) == 0:\n",
    "\t\t\treturn 0\n",
    "\n",
    "\t\tp = self.precision(y_true, y_pred)\n",
    "\t\tr = self.recall(y_true, y_pred)\n",
    "\t\tbb = beta ** 2\n",
    "\t\tfbeta_score = (1 + bb) * (p * r) / (bb * p + r + k.backend.epsilon())\n",
    "\t\treturn fbeta_score"
   ]
  },
  {
   "cell_type": "code",
   "execution_count": 20,
   "metadata": {
    "ExecuteTime": {
     "end_time": "2019-10-07T20:21:50.436084Z",
     "start_time": "2019-10-07T20:21:50.426367Z"
    },
    "code_folding": [],
    "init_cell": true
   },
   "outputs": [],
   "source": [
    "class FBetaScore(Metric):\n",
    "    \"\"\"\n",
    "    Calculate the fbeta score.\n",
    "\n",
    "    - `update` must receive output of the form `(y_pred, y)`.\n",
    "    \"\"\"\n",
    "    def __init__(self, beta=2, output_transform=lambda x: x, average=False, is_multilabel=False):\n",
    "        self.precision = Precision(output_transform=output_transform, \n",
    "                                   average=average, is_multilabel=is_multilabel)\n",
    "        self.recall = Recall(output_transform=output_transform,\n",
    "                             average=average, is_multilabel=is_multilabel)\n",
    "        \n",
    "        super(FBetaScore, self).__init__(output_transform)\n",
    "        self.beta = beta\n",
    "        \n",
    "\n",
    "    def reset(self):\n",
    "        self.precision.reset()\n",
    "        self.recall.reset()\n",
    "\n",
    "    def update(self, output):\n",
    "        self.precision.update(output)\n",
    "        self.recall.update(output)\n",
    "\n",
    "    def compute(self):\n",
    "        p = self.precision.compute()\n",
    "        r = self.recall.compute()\n",
    "        bb = self.beta ** 2\n",
    "        fbeta_score = ((1 + bb) * (p * r) / (bb * p + r + 1e-07)).mean().item()\n",
    "        return fbeta_score"
   ]
  },
  {
   "cell_type": "code",
   "execution_count": 95,
   "metadata": {
    "ExecuteTime": {
     "end_time": "2019-09-30T08:59:07.271542Z",
     "start_time": "2019-09-30T08:59:07.258557Z"
    }
   },
   "outputs": [],
   "source": [
    "def fbeta_score(y_true, y_pred, beta=2, threshold=0.5, eps=1e-9):\n",
    "    beta2 = beta**2\n",
    "\n",
    "    y_pred = torch.ge(y_pred.float(), threshold).float()\n",
    "    y_true = y_true.float()\n",
    "\n",
    "    true_positive = (y_pred * y_true).sum(dim=1)\n",
    "    precision = true_positive.div(y_pred.sum(dim=1).add(eps))\n",
    "    recall = true_positive.div(y_true.sum(dim=1).add(eps))\n",
    "\n",
    "    return torch.mean(\n",
    "        (precision*recall).\n",
    "        div(precision.mul(beta2) + recall + eps).\n",
    "        mul(1 + beta2))"
   ]
  },
  {
   "cell_type": "code",
   "execution_count": 96,
   "metadata": {
    "ExecuteTime": {
     "end_time": "2019-09-30T08:59:07.871550Z",
     "start_time": "2019-09-30T08:59:07.865382Z"
    }
   },
   "outputs": [],
   "source": [
    "def custom_loss(y_true, y_pred):\n",
    "    loss_bce = F.binary_cross_entropy(y_true, y_pred)\n",
    "    loss_fbeta = fbeta_score(y_true, y_pred, beta=2, threshold=0.5)\n",
    "    \n",
    "    return loss_bce+(1-loss_fbeta)"
   ]
  },
  {
   "cell_type": "markdown",
   "metadata": {},
   "source": [
    "## Model definition"
   ]
  },
  {
   "cell_type": "markdown",
   "metadata": {
    "deletable": false,
    "editable": false,
    "heading_collapsed": true,
    "run_control": {
     "frozen": true
    }
   },
   "source": [
    "### Model definition: simple model"
   ]
  },
  {
   "cell_type": "code",
   "execution_count": 40,
   "metadata": {
    "ExecuteTime": {
     "end_time": "2019-09-25T08:35:52.187973Z",
     "start_time": "2019-09-25T08:35:52.140630Z"
    },
    "deletable": false,
    "editable": false,
    "hidden": true,
    "run_control": {
     "frozen": true
    }
   },
   "outputs": [],
   "source": [
    "model = BaseNet()"
   ]
  },
  {
   "cell_type": "markdown",
   "metadata": {},
   "source": [
    "### Model definition: advanced model"
   ]
  },
  {
   "cell_type": "code",
   "execution_count": 21,
   "metadata": {
    "ExecuteTime": {
     "end_time": "2019-10-07T20:21:51.090991Z",
     "start_time": "2019-10-07T20:21:50.440394Z"
    },
    "init_cell": true
   },
   "outputs": [],
   "source": [
    "model = AdvancedNet(output_features=17)"
   ]
  },
  {
   "cell_type": "markdown",
   "metadata": {},
   "source": [
    "## Training"
   ]
  },
  {
   "cell_type": "code",
   "execution_count": 22,
   "metadata": {
    "ExecuteTime": {
     "end_time": "2019-10-07T20:21:51.095455Z",
     "start_time": "2019-10-07T20:21:51.092826Z"
    },
    "init_cell": true
   },
   "outputs": [],
   "source": [
    "device = torch.device(\"cuda\" if torch.cuda.is_available() else \"cpu\")"
   ]
  },
  {
   "cell_type": "code",
   "execution_count": 23,
   "metadata": {
    "ExecuteTime": {
     "end_time": "2019-10-07T20:21:51.106600Z",
     "start_time": "2019-10-07T20:21:51.097466Z"
    },
    "init_cell": true
   },
   "outputs": [],
   "source": [
    "# @trainer.on(Events.ITERATION_COMPLETED)\n",
    "# def log_training_loss(trainer):\n",
    "#     iteration = trainer.state.iteration\n",
    "#     if iteration%100 == 0:\n",
    "#         epoch = trainer.state.epoch\n",
    "#         loss = trainer.state.output\n",
    "#         print(\"Epoch: {0} Iteration: {1} Loss: {2}\".format(epoch, iteration, loss))\n",
    "\n",
    "def create_callbacks(trainer):\n",
    "    \n",
    "    @trainer.on(Events.EPOCH_COMPLETED)\n",
    "    def log_training_results(trainer):\n",
    "        loss = trainer.state.output\n",
    "        evaluator.run(train_loader)\n",
    "        metrics = evaluator.state.metrics\n",
    "\n",
    "    #     print(\"Training Results - Epoch: {0}  Training loss: {2}\"\n",
    "    #           .format(trainer.state.epoch,\n",
    "    #                   loss))\n",
    "#         print(\"Training Results - Epoch: {}  Training loss: {:.2f} Avg accuracy: {:.2f} Avg loss: {:.2f}  Avg Recall: {:.2f}  Avg Precision: {:.2f}  Avg fbeta: {:.2f}\"\n",
    "#               .format(trainer.state.epoch,\n",
    "#                       loss,\n",
    "#                       metrics['accuracy'], \n",
    "#                       metrics['loss'],\n",
    "#                       metrics['recall'],\n",
    "#                       metrics['precision'],\n",
    "#                       metrics['fbeta']))\n",
    "        \n",
    "#         print(\"Training Results - Epoch: {}  Training loss: {:.2f} Avg loss: {:.2f} Avg accuracy: {:.2f} Avg recall: {:.2f} Avg precision: {:.2f}\".format(trainer.state.epoch,loss, metrics['loss'],\n",
    "#                                                                                                                  metrics['accuracy'], \n",
    "#                                                                                                                  metrics['recall'],\n",
    "#                                                                                                                  metrics['precision']))\n",
    "\n",
    "        print(\"Training Results - Epoch: {}  Training loss: {:.2f} Avg loss: {:.2f} Avg accuracy: {:.2f} Avg recall: {:.2f} Avg precision: {:.2f} Avg fbeta: {:.2f}\"\n",
    "              .format(trainer.state.epoch, \n",
    "                      loss, \n",
    "                      metrics['loss'], \n",
    "                      metrics['accuracy'], \n",
    "                      metrics['recall'], \n",
    "                      metrics['precision'], \n",
    "                      metrics['fbeta']))\n",
    "\n",
    "    @trainer.on(Events.EPOCH_COMPLETED)\n",
    "    def run_evaluator_on_validation_data(engine):\n",
    "        evaluator.run(valid_loader)\n",
    "\n",
    "    @trainer.on(Events.EPOCH_COMPLETED)\n",
    "    def run_trainer_on_training_data(engine):\n",
    "        evaluator.run(train_loader)\n",
    "        #print(\"Epoch: {0} Loss: {1}\".format(epoch, loss)) "
   ]
  },
  {
   "cell_type": "markdown",
   "metadata": {},
   "source": [
    "### Freeze to pretrain linear layer and perform warmup"
   ]
  },
  {
   "cell_type": "code",
   "execution_count": 24,
   "metadata": {
    "ExecuteTime": {
     "end_time": "2019-10-07T20:21:51.111666Z",
     "start_time": "2019-10-07T20:21:51.108743Z"
    },
    "init_cell": true
   },
   "outputs": [],
   "source": [
    "is_multilabel = False\n",
    "average = True"
   ]
  },
  {
   "cell_type": "code",
   "execution_count": 25,
   "metadata": {
    "ExecuteTime": {
     "end_time": "2019-10-07T20:21:51.119912Z",
     "start_time": "2019-10-07T20:21:51.113520Z"
    },
    "init_cell": true
   },
   "outputs": [],
   "source": [
    "model.freeze_pretrain()"
   ]
  },
  {
   "cell_type": "code",
   "execution_count": 26,
   "metadata": {
    "ExecuteTime": {
     "end_time": "2019-10-07T20:21:51.171440Z",
     "start_time": "2019-10-07T20:21:51.123200Z"
    },
    "init_cell": true
   },
   "outputs": [],
   "source": [
    "LR_START = 0.0001\n",
    "LR_STOP = 1e-4\n",
    "LR_BASE = LR_START\n",
    "optimizer = torch.optim.Adam(model.parameters(), lr=LR_BASE)\n",
    "trainer = create_supervised_trainer(model, optimizer, F.binary_cross_entropy, device=device)\n",
    "evaluator = create_supervised_evaluator(model, device=device, metrics={'loss': Loss(F.binary_cross_entropy),\n",
    "                                                                       'accuracy': Accuracy(thresholded_output_transform, \n",
    "                                                                                            is_multilabel=is_multilabel),\n",
    "                                                                       'recall': Recall(thresholded_output_transform, \n",
    "                                                                                        is_multilabel=is_multilabel,\n",
    "                                                                                        average=average),\n",
    "                                                                       'precision': Precision(thresholded_output_transform, \n",
    "                                                                                              is_multilabel=is_multilabel,\n",
    "                                                                                              average=average),\n",
    "                                                                       'fbeta': FBetaScore(output_transform=thresholded_output_transform, \n",
    "                                                                                           is_multilabel=is_multilabel)})\n",
    "\n",
    "create_callbacks(trainer)"
   ]
  },
  {
   "cell_type": "code",
   "execution_count": 27,
   "metadata": {
    "ExecuteTime": {
     "end_time": "2019-10-07T20:23:07.097605Z",
     "start_time": "2019-10-07T20:22:02.827603Z"
    },
    "scrolled": true
   },
   "outputs": [
    {
     "name": "stdout",
     "output_type": "stream",
     "text": [
      "Training Results - Epoch: 1  Training loss: 0.17 Avg loss: 0.17 Avg accuracy: 0.94 Avg recall: 0.76 Avg precision: 0.90 Avg fbeta: 0.78\n"
     ]
    },
    {
     "data": {
      "text/plain": [
       "<ignite.engine.engine.State at 0x7f4a799ac8d0>"
      ]
     },
     "execution_count": 27,
     "metadata": {},
     "output_type": "execute_result"
    }
   ],
   "source": [
    "trainer.run(train_loader, max_epochs=1)"
   ]
  },
  {
   "cell_type": "markdown",
   "metadata": {},
   "source": [
    "### Freeze to pretrain linear layer"
   ]
  },
  {
   "cell_type": "code",
   "execution_count": 28,
   "metadata": {
    "ExecuteTime": {
     "end_time": "2019-10-07T20:23:07.236496Z",
     "start_time": "2019-10-07T20:23:07.233634Z"
    }
   },
   "outputs": [],
   "source": [
    "is_multilabel = False\n",
    "average = True"
   ]
  },
  {
   "cell_type": "code",
   "execution_count": 29,
   "metadata": {
    "ExecuteTime": {
     "end_time": "2019-10-07T20:23:07.345235Z",
     "start_time": "2019-10-07T20:23:07.342261Z"
    }
   },
   "outputs": [],
   "source": [
    "model.freeze()"
   ]
  },
  {
   "cell_type": "code",
   "execution_count": 30,
   "metadata": {
    "ExecuteTime": {
     "end_time": "2019-10-07T20:23:07.445403Z",
     "start_time": "2019-10-07T20:23:07.434691Z"
    }
   },
   "outputs": [],
   "source": [
    "LR_START = 0.0001\n",
    "LR_STOP = 0.3\n",
    "LR_BASE = LR_START\n",
    "optimizer = torch.optim.Adam(model.parameters(), lr=LR_BASE)\n",
    "trainer = create_supervised_trainer(model, optimizer, F.binary_cross_entropy, device=device)\n",
    "evaluator = create_supervised_evaluator(model, device=device, metrics={'loss': Loss(F.binary_cross_entropy),\n",
    "                                                                       'accuracy': Accuracy(thresholded_output_transform, \n",
    "                                                                                            is_multilabel=is_multilabel),\n",
    "                                                                       'recall': Recall(thresholded_output_transform, \n",
    "                                                                                        is_multilabel=is_multilabel,\n",
    "                                                                                        average=average),\n",
    "                                                                       'precision': Precision(thresholded_output_transform, \n",
    "                                                                                              is_multilabel=is_multilabel,\n",
    "                                                                                              average=average),\n",
    "                                                                       'fbeta': FBetaScore(output_transform=thresholded_output_transform, \n",
    "                                                                                           is_multilabel=is_multilabel)})\n",
    "                                                                       \n",
    "scheduler = CosineAnnealingScheduler(optimizer, 'lr', start_value=LR_START, end_value=LR_STOP,\n",
    "                                     cycle_size=len(train_dataset), cycle_mult=1.0,\n",
    "                                     start_value_mult=0.95, end_value_mult=1.0)\n",
    "trainer.add_event_handler(Events.ITERATION_STARTED, scheduler)\n",
    "# trainer.add_event_handler(Events.ITERATION_COMPLETED, save_lr)\n",
    "\n",
    "create_callbacks(trainer)"
   ]
  },
  {
   "cell_type": "code",
   "execution_count": 31,
   "metadata": {
    "ExecuteTime": {
     "end_time": "2019-10-07T20:33:41.780594Z",
     "start_time": "2019-10-07T20:23:07.446852Z"
    },
    "scrolled": true
   },
   "outputs": [
    {
     "name": "stdout",
     "output_type": "stream",
     "text": [
      "Training Results - Epoch: 1  Training loss: 0.16 Avg loss: 0.14 Avg accuracy: 0.95 Avg recall: 0.78 Avg precision: 0.89 Avg fbeta: 0.80\n",
      "Training Results - Epoch: 2  Training loss: 0.14 Avg loss: 0.13 Avg accuracy: 0.95 Avg recall: 0.78 Avg precision: 0.90 Avg fbeta: 0.80\n",
      "Training Results - Epoch: 3  Training loss: 0.14 Avg loss: 0.13 Avg accuracy: 0.95 Avg recall: 0.79 Avg precision: 0.90 Avg fbeta: 0.81\n",
      "Training Results - Epoch: 4  Training loss: 0.14 Avg loss: 0.13 Avg accuracy: 0.95 Avg recall: 0.76 Avg precision: 0.92 Avg fbeta: 0.79\n",
      "Training Results - Epoch: 5  Training loss: 0.14 Avg loss: 0.13 Avg accuracy: 0.95 Avg recall: 0.78 Avg precision: 0.91 Avg fbeta: 0.80\n",
      "Training Results - Epoch: 6  Training loss: 0.14 Avg loss: 0.13 Avg accuracy: 0.95 Avg recall: 0.81 Avg precision: 0.89 Avg fbeta: 0.82\n",
      "Training Results - Epoch: 7  Training loss: 0.13 Avg loss: 0.13 Avg accuracy: 0.95 Avg recall: 0.81 Avg precision: 0.89 Avg fbeta: 0.82\n",
      "Training Results - Epoch: 8  Training loss: 0.14 Avg loss: 0.13 Avg accuracy: 0.95 Avg recall: 0.81 Avg precision: 0.89 Avg fbeta: 0.82\n",
      "Training Results - Epoch: 9  Training loss: 0.14 Avg loss: 0.12 Avg accuracy: 0.95 Avg recall: 0.80 Avg precision: 0.90 Avg fbeta: 0.82\n",
      "Training Results - Epoch: 10  Training loss: 0.13 Avg loss: 0.13 Avg accuracy: 0.95 Avg recall: 0.77 Avg precision: 0.92 Avg fbeta: 0.79\n"
     ]
    },
    {
     "data": {
      "text/plain": [
       "<ignite.engine.engine.State at 0x7f4a78917828>"
      ]
     },
     "execution_count": 31,
     "metadata": {},
     "output_type": "execute_result"
    }
   ],
   "source": [
    "trainer.run(train_loader, max_epochs=10)"
   ]
  },
  {
   "cell_type": "markdown",
   "metadata": {},
   "source": [
    "### Unfreeze perform warmup training"
   ]
  },
  {
   "cell_type": "code",
   "execution_count": 32,
   "metadata": {
    "ExecuteTime": {
     "end_time": "2019-10-07T20:34:14.410113Z",
     "start_time": "2019-10-07T20:34:14.406655Z"
    }
   },
   "outputs": [],
   "source": [
    "is_multilabel = False\n",
    "average = True"
   ]
  },
  {
   "cell_type": "code",
   "execution_count": 33,
   "metadata": {
    "ExecuteTime": {
     "end_time": "2019-10-07T20:34:15.412281Z",
     "start_time": "2019-10-07T20:34:15.406655Z"
    }
   },
   "outputs": [],
   "source": [
    "model.unfreeze()"
   ]
  },
  {
   "cell_type": "code",
   "execution_count": 34,
   "metadata": {
    "ExecuteTime": {
     "end_time": "2019-10-07T20:34:23.360846Z",
     "start_time": "2019-10-07T20:34:23.346067Z"
    }
   },
   "outputs": [],
   "source": [
    "LR_START = 0.01\n",
    "LR_STOP = 1e-5\n",
    "LR_BASE = 0.0001\n",
    "optimizer = torch.optim.Adam(model.parameters(), lr=LR_BASE)\n",
    "trainer = create_supervised_trainer(model, optimizer, F.binary_cross_entropy, device=device)\n",
    "evaluator = create_supervised_evaluator(model, device=device, metrics={'loss': Loss(F.binary_cross_entropy),\n",
    "                                                                       'accuracy': Accuracy(thresholded_output_transform, \n",
    "                                                                                            is_multilabel=is_multilabel),\n",
    "                                                                       'recall': Recall(thresholded_output_transform, \n",
    "                                                                                        is_multilabel=is_multilabel,\n",
    "                                                                                        average=average),\n",
    "                                                                       'precision': Precision(thresholded_output_transform, \n",
    "                                                                                              is_multilabel=is_multilabel,\n",
    "                                                                                              average=average),\n",
    "                                                                       'fbeta': FBetaScore(output_transform=thresholded_output_transform, \n",
    "                                                                                           is_multilabel=is_multilabel)})\n",
    "\n",
    "create_callbacks(trainer)"
   ]
  },
  {
   "cell_type": "code",
   "execution_count": 35,
   "metadata": {
    "ExecuteTime": {
     "end_time": "2019-10-07T20:36:07.550078Z",
     "start_time": "2019-10-07T20:34:34.926514Z"
    },
    "scrolled": true
   },
   "outputs": [
    {
     "name": "stdout",
     "output_type": "stream",
     "text": [
      "Training Results - Epoch: 1  Training loss: 0.11 Avg loss: 0.10 Avg accuracy: 0.96 Avg recall: 0.86 Avg precision: 0.91 Avg fbeta: 0.87\n"
     ]
    },
    {
     "data": {
      "text/plain": [
       "<ignite.engine.engine.State at 0x7f4a2468bb70>"
      ]
     },
     "execution_count": 35,
     "metadata": {},
     "output_type": "execute_result"
    }
   ],
   "source": [
    "trainer.run(train_loader, max_epochs=1)"
   ]
  },
  {
   "cell_type": "markdown",
   "metadata": {},
   "source": [
    "### Unfreeze to train the complete model"
   ]
  },
  {
   "cell_type": "code",
   "execution_count": 38,
   "metadata": {
    "ExecuteTime": {
     "end_time": "2019-10-07T20:39:47.651708Z",
     "start_time": "2019-10-07T20:39:47.631199Z"
    }
   },
   "outputs": [],
   "source": [
    "LR_START = 0.001\n",
    "LR_STOP = 0.00001\n",
    "LR_BASE = LR_START\n",
    "optimizer = torch.optim.Adam(model.parameters(), lr=LR_BASE)\n",
    "trainer = create_supervised_trainer(model, optimizer, F.binary_cross_entropy, device=device)\n",
    "evaluator = create_supervised_evaluator(model, device=device, metrics={'loss': Loss(F.binary_cross_entropy),\n",
    "                                                                       'accuracy': Accuracy(thresholded_output_transform, \n",
    "                                                                                            is_multilabel=is_multilabel),\n",
    "                                                                       'recall': Recall(thresholded_output_transform, \n",
    "                                                                                        is_multilabel=is_multilabel,\n",
    "                                                                                        average=average),\n",
    "                                                                       'precision': Precision(thresholded_output_transform, \n",
    "                                                                                              is_multilabel=is_multilabel,\n",
    "                                                                                              average=average),\n",
    "                                                                       'fbeta': FBetaScore(output_transform=thresholded_output_transform, \n",
    "                                                                                           is_multilabel=is_multilabel)})\n",
    "                                                                       \n",
    "scheduler = CosineAnnealingScheduler(optimizer, 'lr', start_value=LR_START, end_value=LR_STOP,\n",
    "                                     cycle_size=len(train_dataset), cycle_mult=1.0,\n",
    "                                     start_value_mult=1.0)\n",
    "trainer.add_event_handler(Events.ITERATION_STARTED, scheduler)\n",
    "# # trainer.add_event_handler(Events.ITERATION_COMPLETED, save_lr)\n",
    "\n",
    "create_callbacks(trainer)"
   ]
  },
  {
   "cell_type": "code",
   "execution_count": null,
   "metadata": {
    "ExecuteTime": {
     "start_time": "2019-10-07T20:39:48.799Z"
    }
   },
   "outputs": [
    {
     "name": "stdout",
     "output_type": "stream",
     "text": [
      "Training Results - Epoch: 1  Training loss: 0.11 Avg loss: 0.12 Avg accuracy: 0.95 Avg recall: 0.81 Avg precision: 0.91 Avg fbeta: 0.83\n",
      "Training Results - Epoch: 2  Training loss: 0.12 Avg loss: 0.11 Avg accuracy: 0.96 Avg recall: 0.84 Avg precision: 0.91 Avg fbeta: 0.85\n",
      "Training Results - Epoch: 3  Training loss: 0.11 Avg loss: 0.11 Avg accuracy: 0.96 Avg recall: 0.84 Avg precision: 0.90 Avg fbeta: 0.85\n",
      "Training Results - Epoch: 4  Training loss: 0.15 Avg loss: 0.10 Avg accuracy: 0.96 Avg recall: 0.84 Avg precision: 0.91 Avg fbeta: 0.85\n"
     ]
    }
   ],
   "source": [
    "trainer.run(train_loader, max_epochs=40)"
   ]
  },
  {
   "cell_type": "markdown",
   "metadata": {},
   "source": [
    "## Testing"
   ]
  },
  {
   "cell_type": "markdown",
   "metadata": {},
   "source": [
    "### Evaluate on test data"
   ]
  },
  {
   "cell_type": "code",
   "execution_count": 76,
   "metadata": {
    "ExecuteTime": {
     "end_time": "2019-09-30T08:45:46.547697Z",
     "start_time": "2019-09-30T08:45:18.424594Z"
    }
   },
   "outputs": [
    {
     "data": {
      "application/vnd.jupyter.widget-view+json": {
       "model_id": "71925a0d4e4748f59fe8475b8948143b",
       "version_major": 2,
       "version_minor": 0
      },
      "text/plain": [
       "HBox(children=(IntProgress(value=0, max=479), HTML(value='')))"
      ]
     },
     "metadata": {},
     "output_type": "display_data"
    }
   ],
   "source": [
    "y_test_pred = []\n",
    "with torch.no_grad():\n",
    "    model = model.eval()\n",
    "    for i, x in enumerate(tqdm_notebook(test_loader)):\n",
    "        x = x.to(device)\n",
    "        y_test_pred.append(model(x).cpu().numpy())\n",
    "        \n",
    "y_test_pred = np.vstack(y_test_pred)"
   ]
  },
  {
   "cell_type": "markdown",
   "metadata": {},
   "source": [
    "### Save test predictions "
   ]
  },
  {
   "cell_type": "code",
   "execution_count": 77,
   "metadata": {
    "ExecuteTime": {
     "end_time": "2019-09-30T08:47:57.662519Z",
     "start_time": "2019-09-30T08:47:57.501846Z"
    }
   },
   "outputs": [
    {
     "name": "stdout",
     "output_type": "stream",
     "text": [
      "('clear', 'primary')\n"
     ]
    }
   ],
   "source": [
    "y_test_pred[y_test_pred<0.5] = 0\n",
    "y_test_pred[y_test_pred>0.5] = 1\n",
    "# print(y_test_pred[0])\n",
    "y_preds_tuple = mlb.inverse_transform(y_test_pred>0.5)\n",
    "print(y_preds_tuple[0])"
   ]
  },
  {
   "cell_type": "markdown",
   "metadata": {},
   "source": [
    "### Transform predictions to string"
   ]
  },
  {
   "cell_type": "code",
   "execution_count": 78,
   "metadata": {
    "ExecuteTime": {
     "end_time": "2019-09-30T08:47:59.456671Z",
     "start_time": "2019-09-30T08:47:59.324740Z"
    }
   },
   "outputs": [
    {
     "name": "stdout",
     "output_type": "stream",
     "text": [
      "61191\n",
      "partly_cloudy primary\n"
     ]
    }
   ],
   "source": [
    "y_preds_str = []\n",
    "for preds in y_preds_tuple:\n",
    "    string_val = ''\n",
    "    for i, value in enumerate(preds):\n",
    "        string_val = string_val + value\n",
    "        if i < len(preds)-1:\n",
    "            string_val = string_val + ' '\n",
    "    y_preds_str.append(string_val)\n",
    "    \n",
    "print(len(y_preds_str))\n",
    "print(y_preds_str[10])"
   ]
  },
  {
   "cell_type": "markdown",
   "metadata": {},
   "source": [
    "### Get image test names"
   ]
  },
  {
   "cell_type": "code",
   "execution_count": 79,
   "metadata": {
    "ExecuteTime": {
     "end_time": "2019-09-30T08:48:02.774011Z",
     "start_time": "2019-09-30T08:48:02.485054Z"
    }
   },
   "outputs": [
    {
     "data": {
      "application/vnd.jupyter.widget-view+json": {
       "model_id": "231ccce868e2481dae95157fb41c2cc6",
       "version_major": 2,
       "version_minor": 0
      },
      "text/plain": [
       "HBox(children=(IntProgress(value=0, max=61191), HTML(value='')))"
      ]
     },
     "metadata": {},
     "output_type": "display_data"
    },
    {
     "name": "stdout",
     "output_type": "stream",
     "text": [
      "(61191,)\n"
     ]
    }
   ],
   "source": [
    "y_test_name = []\n",
    "for file_path in tqdm_notebook(image_test_paths):\n",
    "    file_name = os.path.splitext(os.path.split(file_path)[1])[0]\n",
    "    y_test_name.append(file_name)\n",
    "y_test_name = np.array(y_test_name)\n",
    "print(y_test_name.shape)"
   ]
  },
  {
   "cell_type": "markdown",
   "metadata": {},
   "source": [
    "### Save predictions and file names to dataframe"
   ]
  },
  {
   "cell_type": "code",
   "execution_count": 80,
   "metadata": {
    "ExecuteTime": {
     "end_time": "2019-09-30T08:48:03.668705Z",
     "start_time": "2019-09-30T08:48:03.628431Z"
    }
   },
   "outputs": [
    {
     "data": {
      "text/html": [
       "<div>\n",
       "<style scoped>\n",
       "    .dataframe tbody tr th:only-of-type {\n",
       "        vertical-align: middle;\n",
       "    }\n",
       "\n",
       "    .dataframe tbody tr th {\n",
       "        vertical-align: top;\n",
       "    }\n",
       "\n",
       "    .dataframe thead th {\n",
       "        text-align: right;\n",
       "    }\n",
       "</style>\n",
       "<table border=\"1\" class=\"dataframe\">\n",
       "  <thead>\n",
       "    <tr style=\"text-align: right;\">\n",
       "      <th></th>\n",
       "      <th>image_name</th>\n",
       "      <th>tags</th>\n",
       "    </tr>\n",
       "  </thead>\n",
       "  <tbody>\n",
       "    <tr>\n",
       "      <td>0</td>\n",
       "      <td>test_0</td>\n",
       "      <td>clear primary</td>\n",
       "    </tr>\n",
       "    <tr>\n",
       "      <td>1</td>\n",
       "      <td>test_1</td>\n",
       "      <td>clear primary</td>\n",
       "    </tr>\n",
       "    <tr>\n",
       "      <td>2</td>\n",
       "      <td>test_2</td>\n",
       "      <td>partly_cloudy primary</td>\n",
       "    </tr>\n",
       "    <tr>\n",
       "      <td>3</td>\n",
       "      <td>test_3</td>\n",
       "      <td>clear partly_cloudy primary</td>\n",
       "    </tr>\n",
       "    <tr>\n",
       "      <td>4</td>\n",
       "      <td>test_4</td>\n",
       "      <td>partly_cloudy primary</td>\n",
       "    </tr>\n",
       "  </tbody>\n",
       "</table>\n",
       "</div>"
      ],
      "text/plain": [
       "  image_name                         tags\n",
       "0     test_0                clear primary\n",
       "1     test_1                clear primary\n",
       "2     test_2        partly_cloudy primary\n",
       "3     test_3  clear partly_cloudy primary\n",
       "4     test_4        partly_cloudy primary"
      ]
     },
     "execution_count": 80,
     "metadata": {},
     "output_type": "execute_result"
    }
   ],
   "source": [
    "df = pd.DataFrame()\n",
    "df['image_name'] = y_test_name\n",
    "df['tags'] = y_preds_str\n",
    "df.head()"
   ]
  },
  {
   "cell_type": "markdown",
   "metadata": {},
   "source": [
    "### Save results to file"
   ]
  },
  {
   "cell_type": "code",
   "execution_count": 81,
   "metadata": {
    "ExecuteTime": {
     "end_time": "2019-09-30T08:48:05.333661Z",
     "start_time": "2019-09-30T08:48:05.188289Z"
    }
   },
   "outputs": [],
   "source": [
    "df.to_csv(base_path+'test_result.csv', index=False)"
   ]
  },
  {
   "cell_type": "code",
   "execution_count": null,
   "metadata": {},
   "outputs": [],
   "source": []
  }
 ],
 "metadata": {
  "celltoolbar": "Initialization Cell",
  "kernelspec": {
   "display_name": "Python 3",
   "language": "python",
   "name": "python3"
  },
  "language_info": {
   "codemirror_mode": {
    "name": "ipython",
    "version": 3
   },
   "file_extension": ".py",
   "mimetype": "text/x-python",
   "name": "python",
   "nbconvert_exporter": "python",
   "pygments_lexer": "ipython3",
   "version": "3.7.0"
  },
  "toc": {
   "base_numbering": 1,
   "nav_menu": {},
   "number_sections": true,
   "sideBar": true,
   "skip_h1_title": false,
   "title_cell": "Table of Contents",
   "title_sidebar": "Contents",
   "toc_cell": false,
   "toc_position": {
    "height": "calc(100% - 180px)",
    "left": "10px",
    "top": "150px",
    "width": "341.32px"
   },
   "toc_section_display": true,
   "toc_window_display": true
  },
  "varInspector": {
   "cols": {
    "lenName": 16,
    "lenType": 16,
    "lenVar": 40
   },
   "kernels_config": {
    "python": {
     "delete_cmd_postfix": "",
     "delete_cmd_prefix": "del ",
     "library": "var_list.py",
     "varRefreshCmd": "print(var_dic_list())"
    },
    "r": {
     "delete_cmd_postfix": ") ",
     "delete_cmd_prefix": "rm(",
     "library": "var_list.r",
     "varRefreshCmd": "cat(var_dic_list()) "
    }
   },
   "types_to_exclude": [
    "module",
    "function",
    "builtin_function_or_method",
    "instance",
    "_Feature"
   ],
   "window_display": false
  }
 },
 "nbformat": 4,
 "nbformat_minor": 4
}
