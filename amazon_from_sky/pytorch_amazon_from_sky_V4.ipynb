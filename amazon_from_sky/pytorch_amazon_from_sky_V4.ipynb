{
 "cells": [
  {
   "cell_type": "markdown",
   "metadata": {},
   "source": [
    "# Amazon forest analysis from satellite images.\n",
    "\n",
    "\n",
    "Data obtained from the kaggle competition https://www.kaggle.com/c/planet-understanding-the-amazon-from-space/"
   ]
  },
  {
   "cell_type": "markdown",
   "metadata": {},
   "source": [
    "## Visualize whats happening in the dataset"
   ]
  },
  {
   "cell_type": "code",
   "execution_count": 1,
   "metadata": {
    "ExecuteTime": {
     "end_time": "2019-09-19T12:04:10.342009Z",
     "start_time": "2019-09-19T12:04:10.337074Z"
    }
   },
   "outputs": [],
   "source": [
    "import numpy as np\n",
    "import pandas as pd\n",
    "import matplotlib.pyplot as plt\n",
    "import seaborn as sns"
   ]
  },
  {
   "cell_type": "code",
   "execution_count": 2,
   "metadata": {
    "ExecuteTime": {
     "end_time": "2019-09-19T12:04:10.508611Z",
     "start_time": "2019-09-19T12:04:10.506446Z"
    }
   },
   "outputs": [],
   "source": [
    "# base_path = '/media/anant/data/amazon_from_space/'\n",
    "base_path = '/media/avemuri/DEV/Data/amazon_from_space/'"
   ]
  },
  {
   "cell_type": "code",
   "execution_count": 3,
   "metadata": {
    "ExecuteTime": {
     "end_time": "2019-09-19T12:04:10.743484Z",
     "start_time": "2019-09-19T12:04:10.688163Z"
    }
   },
   "outputs": [
    {
     "data": {
      "text/html": [
       "<div>\n",
       "<style scoped>\n",
       "    .dataframe tbody tr th:only-of-type {\n",
       "        vertical-align: middle;\n",
       "    }\n",
       "\n",
       "    .dataframe tbody tr th {\n",
       "        vertical-align: top;\n",
       "    }\n",
       "\n",
       "    .dataframe thead th {\n",
       "        text-align: right;\n",
       "    }\n",
       "</style>\n",
       "<table border=\"1\" class=\"dataframe\">\n",
       "  <thead>\n",
       "    <tr style=\"text-align: right;\">\n",
       "      <th></th>\n",
       "      <th>image_name</th>\n",
       "      <th>tags</th>\n",
       "    </tr>\n",
       "  </thead>\n",
       "  <tbody>\n",
       "    <tr>\n",
       "      <td>0</td>\n",
       "      <td>train_0</td>\n",
       "      <td>haze primary</td>\n",
       "    </tr>\n",
       "    <tr>\n",
       "      <td>1</td>\n",
       "      <td>train_1</td>\n",
       "      <td>agriculture clear primary water</td>\n",
       "    </tr>\n",
       "    <tr>\n",
       "      <td>2</td>\n",
       "      <td>train_2</td>\n",
       "      <td>clear primary</td>\n",
       "    </tr>\n",
       "    <tr>\n",
       "      <td>3</td>\n",
       "      <td>train_3</td>\n",
       "      <td>clear primary</td>\n",
       "    </tr>\n",
       "    <tr>\n",
       "      <td>4</td>\n",
       "      <td>train_4</td>\n",
       "      <td>agriculture clear habitation primary road</td>\n",
       "    </tr>\n",
       "  </tbody>\n",
       "</table>\n",
       "</div>"
      ],
      "text/plain": [
       "  image_name                                       tags\n",
       "0    train_0                               haze primary\n",
       "1    train_1            agriculture clear primary water\n",
       "2    train_2                              clear primary\n",
       "3    train_3                              clear primary\n",
       "4    train_4  agriculture clear habitation primary road"
      ]
     },
     "execution_count": 3,
     "metadata": {},
     "output_type": "execute_result"
    }
   ],
   "source": [
    "train_df = pd.read_csv(base_path+'train_v2.csv')\n",
    "train_df.head()"
   ]
  },
  {
   "cell_type": "markdown",
   "metadata": {},
   "source": [
    "### Plot the frequency of each label"
   ]
  },
  {
   "cell_type": "code",
   "execution_count": 4,
   "metadata": {
    "ExecuteTime": {
     "end_time": "2019-09-19T12:04:11.120490Z",
     "start_time": "2019-09-19T12:04:11.082413Z"
    }
   },
   "outputs": [
    {
     "name": "stdout",
     "output_type": "stream",
     "text": [
      "There is 17 unique labels including {'habitation', 'primary', 'bare_ground', 'artisinal_mine', 'selective_logging', 'partly_cloudy', 'conventional_mine', 'clear', 'blooming', 'agriculture', 'blow_down', 'slash_burn', 'water', 'cloudy', 'cultivation', 'road', 'haze'}\n"
     ]
    }
   ],
   "source": [
    "# Print all unique tags\n",
    "from itertools import chain\n",
    "labels_list = list(chain.from_iterable([tags.split(\" \") for tags in train_df['tags'].values]))\n",
    "labels_set = set(labels_list)\n",
    "print(\"There is {} unique labels including {}\".format(len(labels_set), labels_set))"
   ]
  },
  {
   "cell_type": "code",
   "execution_count": 5,
   "metadata": {
    "ExecuteTime": {
     "end_time": "2019-09-19T12:04:11.757891Z",
     "start_time": "2019-09-19T12:04:11.356096Z"
    }
   },
   "outputs": [
    {
     "data": {
      "text/plain": [
       "<matplotlib.axes._subplots.AxesSubplot at 0x7fec080133c8>"
      ]
     },
     "execution_count": 5,
     "metadata": {},
     "output_type": "execute_result"
    },
    {
     "data": {
      "image/png": "[encoded data removed]",
      "text/plain": [
       "<Figure size 1152x576 with 1 Axes>"
      ]
     },
     "metadata": {
      "needs_background": "light"
     },
     "output_type": "display_data"
    }
   ],
   "source": [
    "labels_s = pd.Series(labels_list).value_counts() # To sort them by count\n",
    "fig, ax = plt.subplots(figsize=(16, 8))\n",
    "sns.barplot(x=labels_s, y=labels_s.index, orient='h')"
   ]
  },
  {
   "cell_type": "markdown",
   "metadata": {},
   "source": [
    "## Imports for training"
   ]
  },
  {
   "cell_type": "code",
   "execution_count": 6,
   "metadata": {
    "ExecuteTime": {
     "end_time": "2019-09-19T12:04:13.059428Z",
     "start_time": "2019-09-19T12:04:12.469838Z"
    }
   },
   "outputs": [],
   "source": [
    "import glob\n",
    "import cv2\n",
    "from PIL import Image\n",
    "from sklearn.preprocessing import MultiLabelBinarizer\n",
    "from sklearn.metrics import accuracy_score, fbeta_score\n",
    "from tqdm import tqdm_notebook, tqdm\n",
    "\n",
    "import torch\n",
    "from torch import nn\n",
    "import torch.nn.functional as F\n",
    "import torchvision.transforms as transforms\n",
    "import torchvision.datasets as dsets\n",
    "from torch.utils.data import Dataset, DataLoader, TensorDataset\n",
    "import torchvision.models as models\n",
    "\n",
    "from ignite.engine import create_supervised_trainer, create_supervised_evaluator, Events\n",
    "from ignite.metrics import Accuracy, Precision, Recall, Loss, Metric"
   ]
  },
  {
   "cell_type": "code",
   "execution_count": null,
   "metadata": {},
   "outputs": [],
   "source": []
  },
  {
   "cell_type": "code",
   "execution_count": null,
   "metadata": {},
   "outputs": [],
   "source": []
  },
  {
   "cell_type": "markdown",
   "metadata": {},
   "source": [
    "## Get data"
   ]
  },
  {
   "cell_type": "markdown",
   "metadata": {
    "heading_collapsed": true
   },
   "source": [
    "### Get data as numpy array"
   ]
  },
  {
   "cell_type": "code",
   "execution_count": 7,
   "metadata": {
    "ExecuteTime": {
     "end_time": "2019-09-19T10:02:16.314768Z",
     "start_time": "2019-09-19T10:02:16.306925Z"
    },
    "hidden": true
   },
   "outputs": [],
   "source": [
    "def get_data(base_path=base_path, folder_name='train-jpg', csv_file='train_v2.csv'):\n",
    "    \n",
    "    X = []\n",
    "    y = []\n",
    "    df_train = pd.read_csv(base_path+csv_file)\n",
    "\n",
    "    flatten = lambda l: [item for sublist in l for item in sublist]\n",
    "    labels = list(set(flatten([l.split(' ') for l in df_train['tags'].values])))\n",
    "\n",
    "    label_map = {l: i for i, l in enumerate(labels)}\n",
    "    inv_label_map = {i: l for l, i in label_map.items()}\n",
    "\n",
    "    for f, tags in tqdm(df_train.values, miniters=1000):\n",
    "        img = cv2.imread(base_path+folder_name+'/'+'{}.jpg'.format(f))\n",
    "        targets = np.zeros(17)\n",
    "        for t in tags.split(' '):\n",
    "            targets[label_map[t]] = 1 \n",
    "        X.append(cv2.resize(img, (32, 32)))\n",
    "        #y.append(targets)\n",
    "    \n",
    "    mlb = MultiLabelBinarizer()\n",
    "    y = mlb.fit_transform(df_train['tags'].str.split()).astype(np.float32)\n",
    "    \n",
    "    # y = np.array(y, np.uint8)\n",
    "    X = np.array(X, np.float16) / 255.\n",
    "                         \n",
    "    return X, y"
   ]
  },
  {
   "cell_type": "code",
   "execution_count": 8,
   "metadata": {
    "ExecuteTime": {
     "end_time": "2019-09-19T10:02:57.787448Z",
     "start_time": "2019-09-19T10:02:16.316322Z"
    },
    "hidden": true,
    "scrolled": true
   },
   "outputs": [
    {
     "name": "stderr",
     "output_type": "stream",
     "text": [
      "100%|██████████| 40479/40479 [00:39<00:00, 1028.22it/s]\n"
     ]
    }
   ],
   "source": [
    "X, y = get_data()"
   ]
  },
  {
   "cell_type": "code",
   "execution_count": 9,
   "metadata": {
    "ExecuteTime": {
     "end_time": "2019-09-19T10:02:57.793844Z",
     "start_time": "2019-09-19T10:02:57.790566Z"
    },
    "hidden": true
   },
   "outputs": [
    {
     "name": "stdout",
     "output_type": "stream",
     "text": [
      "(40479, 3, 32, 32) (40479, 17)\n"
     ]
    }
   ],
   "source": [
    "X = np.moveaxis(X, (0,1,2,3), (0,2,3,1))\n",
    "print(X.shape, y.shape)"
   ]
  },
  {
   "cell_type": "code",
   "execution_count": 10,
   "metadata": {
    "ExecuteTime": {
     "end_time": "2019-09-19T10:02:57.922568Z",
     "start_time": "2019-09-19T10:02:57.796927Z"
    },
    "hidden": true
   },
   "outputs": [
    {
     "name": "stdout",
     "output_type": "stream",
     "text": [
      "(32384, 3, 32, 32) (32384, 17) (8095, 3, 32, 32) (8095, 17)\n"
     ]
    }
   ],
   "source": [
    "SPLIT = 0.2\n",
    "dataset_size = X.shape[0]\n",
    "indices = list(range(dataset_size))\n",
    "split = int(np.floor(SPLIT * dataset_size))\n",
    "\n",
    "np.random.seed(42)\n",
    "np.random.shuffle(indices)\n",
    "\n",
    "train_indices, val_indices = indices[split:], indices[:split]\n",
    "\n",
    "x_train, y_train = X[train_indices], y[train_indices]\n",
    "x_valid, y_valid = X[val_indices], y[val_indices]\n",
    "\n",
    "print(x_train.shape, y_train.shape, x_valid.shape, y_valid.shape)"
   ]
  },
  {
   "cell_type": "code",
   "execution_count": 11,
   "metadata": {
    "ExecuteTime": {
     "end_time": "2019-09-19T10:02:58.067271Z",
     "start_time": "2019-09-19T10:02:57.924118Z"
    },
    "hidden": true
   },
   "outputs": [],
   "source": [
    "BATCH_SIZE = 256\n",
    "train_dataset = TensorDataset(torch.from_numpy(x_train).float(), torch.from_numpy(y_train).float())\n",
    "valid_dataset = TensorDataset(torch.from_numpy(x_valid).float(), torch.from_numpy(y_valid).float())\n",
    "\n",
    "train_loader = DataLoader(train_dataset, batch_size=BATCH_SIZE, \n",
    "                          shuffle=True, num_workers=8, \n",
    "                          pin_memory=True)\n",
    "\n",
    "valid_loader = DataLoader(valid_dataset, batch_size=BATCH_SIZE, \n",
    "                          shuffle=True, num_workers=8, \n",
    "                          pin_memory=True)"
   ]
  },
  {
   "cell_type": "code",
   "execution_count": 12,
   "metadata": {
    "ExecuteTime": {
     "end_time": "2019-09-19T10:03:05.386401Z",
     "start_time": "2019-09-19T10:02:58.069063Z"
    },
    "hidden": true
   },
   "outputs": [
    {
     "name": "stdout",
     "output_type": "stream",
     "text": [
      "torch.Size([256, 3, 32, 32]) torch.Size([256, 17])\n",
      "torch.Size([256, 3, 32, 32]) torch.Size([256, 17])\n",
      "torch.Size([256, 3, 32, 32]) torch.Size([256, 17])\n",
      "torch.Size([256, 3, 32, 32]) torch.Size([256, 17])\n",
      "torch.Size([256, 3, 32, 32]) torch.Size([256, 17])\n",
      "torch.Size([256, 3, 32, 32]) torch.Size([256, 17])\n",
      "torch.Size([256, 3, 32, 32]) torch.Size([256, 17])\n",
      "torch.Size([256, 3, 32, 32]) torch.Size([256, 17])\n"
     ]
    }
   ],
   "source": [
    "for i in range(4):\n",
    "    x, y = next(iter(train_loader))\n",
    "    print(x.shape, y.shape)\n",
    "    x, y = next(iter(valid_loader))\n",
    "    print(x.shape, y.shape)"
   ]
  },
  {
   "cell_type": "markdown",
   "metadata": {},
   "source": [
    "### Get data from pytorch dataset object"
   ]
  },
  {
   "cell_type": "code",
   "execution_count": 7,
   "metadata": {
    "ExecuteTime": {
     "end_time": "2019-09-19T12:04:17.199444Z",
     "start_time": "2019-09-19T12:04:17.160396Z"
    }
   },
   "outputs": [],
   "source": [
    "df_train = pd.read_csv(base_path+'train_v2.csv')"
   ]
  },
  {
   "cell_type": "code",
   "execution_count": 8,
   "metadata": {
    "ExecuteTime": {
     "end_time": "2019-09-19T12:04:17.743874Z",
     "start_time": "2019-09-19T12:04:17.729747Z"
    }
   },
   "outputs": [],
   "source": [
    "class AmazonDataset(Dataset):\n",
    "    def __init__(self, base_folder, csv_file, folder_name, select_indices=None, transform=None):\n",
    "        self.csv_file = csv_file\n",
    "        self.labels_df = pd.read_csv(base_path+csv_file)\n",
    "        self.base_folder = base_folder\n",
    "        self.image_list = [f for f in glob.glob(base_path+folder_name+'/*.jpg')]\n",
    "        self.transform = transform\n",
    "        self.mlb = MultiLabelBinarizer()\n",
    "        self.labels = self.mlb.fit_transform(self.labels_df['tags'].str.split()).astype(np.float32)\n",
    "        \n",
    "        if select_indices is not None:\n",
    "            self.labels_df = self.labels_df.loc[select_indices]\n",
    "            self.image_list = list(np.array(self.image_list)[select_indices])\n",
    "        \n",
    "        \n",
    "    def __len__(self):\n",
    "        return len(self.image_list)\n",
    "    \n",
    "    def __getitem__(self, index):\n",
    "        image = Image.open(self.image_list[index])\n",
    "        image = image.convert('RGB')\n",
    "        # image = cv2.imread(self.image_list[index])\n",
    "        \n",
    "        label = torch.from_numpy(self.labels[index])\n",
    "        \n",
    "        if self.transform is not None:\n",
    "            image = self.transform(image)\n",
    "            \n",
    "        return image, label\n"
   ]
  },
  {
   "cell_type": "code",
   "execution_count": 9,
   "metadata": {
    "ExecuteTime": {
     "end_time": "2019-09-19T12:04:23.863439Z",
     "start_time": "2019-09-19T12:04:23.858755Z"
    }
   },
   "outputs": [],
   "source": [
    "IMG_SIZE = (224, 224)\n",
    "BATCH_SIZE = 64\n",
    "SHUFFLE = True\n",
    "SPLIT = 0.2"
   ]
  },
  {
   "cell_type": "code",
   "execution_count": 10,
   "metadata": {
    "ExecuteTime": {
     "end_time": "2019-09-19T12:04:24.527970Z",
     "start_time": "2019-09-19T12:04:24.522126Z"
    }
   },
   "outputs": [],
   "source": [
    "normalize = transforms.Normalize(mean=[0.485, 0.456, 0.406],\n",
    "                                 std=[0.229, 0.224, 0.225])\n",
    "train_transform_augmented = transforms.Compose([transforms.Resize(IMG_SIZE),\n",
    "                                                #transforms.ColorJitter(brightness=0.5),\n",
    "                                                transforms.RandomVerticalFlip(),\n",
    "                                                transforms.ToTensor(),\n",
    "                                                normalize])\n",
    "valid_transform_augmented = transforms.Compose([transforms.Resize(IMG_SIZE),\n",
    "                                                transforms.ToTensor(), \n",
    "                                                normalize])"
   ]
  },
  {
   "cell_type": "code",
   "execution_count": 11,
   "metadata": {
    "ExecuteTime": {
     "end_time": "2019-09-19T12:04:25.700052Z",
     "start_time": "2019-09-19T12:04:24.970041Z"
    }
   },
   "outputs": [
    {
     "name": "stdout",
     "output_type": "stream",
     "text": [
      "32384 8095 32384 8095\n"
     ]
    }
   ],
   "source": [
    "image_list = [f for f in glob.glob(base_path+'train-jpg'+'/*.jpg')]\n",
    "SPLIT = 0.2\n",
    "dataset_size = len(image_list)\n",
    "indices = list(range(dataset_size))\n",
    "split = int(np.floor(SPLIT * dataset_size))\n",
    "\n",
    "np.random.seed(42)\n",
    "np.random.shuffle(indices)\n",
    "\n",
    "train_indices, val_indices = indices[split:], indices[:split]\n",
    "\n",
    "train_dataset = AmazonDataset(base_path, 'train_v2.csv', 'train-jpg', \n",
    "                              select_indices=train_indices,\n",
    "                              transform=train_transform_augmented)\n",
    "valid_dataset = AmazonDataset(base_path, 'train_v2.csv', 'train-jpg', \n",
    "                              select_indices=val_indices,\n",
    "                              transform=valid_transform_augmented)\n",
    "\n",
    "print(len(train_indices), len(val_indices), len(train_dataset), len(valid_dataset))"
   ]
  },
  {
   "cell_type": "code",
   "execution_count": 12,
   "metadata": {
    "ExecuteTime": {
     "end_time": "2019-09-19T12:04:26.207686Z",
     "start_time": "2019-09-19T12:04:26.203151Z"
    }
   },
   "outputs": [
    {
     "name": "stdout",
     "output_type": "stream",
     "text": [
      "506 127\n"
     ]
    }
   ],
   "source": [
    "train_loader = torch.utils.data.DataLoader(train_dataset, batch_size=BATCH_SIZE, num_workers=8, shuffle=SHUFFLE)\n",
    "valid_loader = torch.utils.data.DataLoader(valid_dataset, batch_size=BATCH_SIZE, num_workers=8, shuffle=SHUFFLE)\n",
    "print(len(train_loader), len(valid_loader))"
   ]
  },
  {
   "cell_type": "code",
   "execution_count": 13,
   "metadata": {
    "ExecuteTime": {
     "end_time": "2019-09-19T12:04:30.863454Z",
     "start_time": "2019-09-19T12:04:27.809157Z"
    }
   },
   "outputs": [
    {
     "name": "stdout",
     "output_type": "stream",
     "text": [
      "torch.Size([64, 3, 224, 224]) torch.Size([64, 17])\n",
      "torch.Size([64, 3, 224, 224]) torch.Size([64, 17])\n",
      "torch.Size([64, 3, 224, 224]) torch.Size([64, 17])\n",
      "torch.Size([64, 3, 224, 224]) torch.Size([64, 17])\n"
     ]
    }
   ],
   "source": [
    "for i in range(4):\n",
    "    x, y = next(iter(train_loader))\n",
    "    print(x.shape, y.shape)\n",
    "    "
   ]
  },
  {
   "cell_type": "markdown",
   "metadata": {},
   "source": [
    "## Model definition"
   ]
  },
  {
   "cell_type": "markdown",
   "metadata": {
    "heading_collapsed": true
   },
   "source": [
    "### Basic model"
   ]
  },
  {
   "cell_type": "code",
   "execution_count": 46,
   "metadata": {
    "ExecuteTime": {
     "end_time": "2019-09-19T10:40:46.061680Z",
     "start_time": "2019-09-19T10:40:46.046322Z"
    },
    "hidden": true
   },
   "outputs": [],
   "source": [
    "class BaseNet(nn.Module):\n",
    "    def __init__(self):\n",
    "        super(BaseNet, self).__init__()\n",
    "        \n",
    "        self.conv11 = nn.Conv2d(3, 32, kernel_size=3)\n",
    "        self.conv12 = nn.Conv2d(32, 32, kernel_size=3)\n",
    "        self.conv13 = nn.Conv2d(32, 32, kernel_size=3)\n",
    "        \n",
    "        self.conv21 = nn.Conv2d(32, 64, kernel_size=3)\n",
    "        self.conv22 = nn.Conv2d(64, 64, kernel_size=3)\n",
    "        self.conv23 = nn.Conv2d(64, 64, kernel_size=3)\n",
    "        \n",
    "        self.conv2_drop_1 = nn.Dropout2d(0.25)\n",
    "        self.conv2_drop_2 = nn.Dropout2d(0.25)\n",
    "        self.linear_drop = nn.Dropout(0.5)\n",
    "        \n",
    "        self.fc1 = nn.Linear(576, 128)\n",
    "        self.fc2 = nn.Linear(128, 128)\n",
    "        self.fc3 = nn.Linear(128, 128)\n",
    "        self.fc4 = nn.Linear(128, 17)\n",
    "\n",
    "    def forward(self, x):\n",
    "        x = F.relu(self.conv11(x))\n",
    "        x = F.relu(self.conv12(x))\n",
    "        x = self.conv2_drop_1(F.max_pool2d(F.relu(self.conv13(x)), (2,2)))\n",
    "        \n",
    "        x = F.relu(self.conv21(x))\n",
    "        x = F.relu(self.conv22(x))\n",
    "        x = self.conv2_drop_2(F.max_pool2d(F.relu(self.conv23(x)), (2,2)))\n",
    "                \n",
    "        x = x.view(x.size(0), -1) # Flatten layer\n",
    "                        \n",
    "        x = F.relu(self.fc1(x))\n",
    "        x = F.relu(self.fc2(x))\n",
    "        x = F.relu(self.fc3(x))\n",
    "        x = self.linear_drop(x)\n",
    "        x = self.fc4(x)\n",
    "        \n",
    "        return torch.sigmoid(x)"
   ]
  },
  {
   "cell_type": "code",
   "execution_count": 47,
   "metadata": {
    "ExecuteTime": {
     "end_time": "2019-09-19T10:40:47.145143Z",
     "start_time": "2019-09-19T10:40:47.121590Z"
    },
    "hidden": true
   },
   "outputs": [
    {
     "name": "stdout",
     "output_type": "stream",
     "text": [
      "torch.Size([3, 3, 32, 32])\n",
      "torch.Size([3, 17])\n"
     ]
    }
   ],
   "source": [
    "img = torch.from_numpy(np.random.randn(3,3,32,32)).float()\n",
    "print(img.shape)\n",
    "model = BaseNet()\n",
    "out = model(img)\n",
    "print(out.shape)"
   ]
  },
  {
   "cell_type": "markdown",
   "metadata": {},
   "source": [
    "### Advanced model"
   ]
  },
  {
   "cell_type": "code",
   "execution_count": 14,
   "metadata": {
    "ExecuteTime": {
     "end_time": "2019-09-19T12:04:34.133676Z",
     "start_time": "2019-09-19T12:04:34.123240Z"
    }
   },
   "outputs": [],
   "source": [
    "class AdvancedNet(nn.Module):\n",
    "    def __init__(self):\n",
    "        super(AdvancedNet, self).__init__()\n",
    "        \n",
    "        pretrained_model = models.resnet34(pretrained=True)\n",
    "        self.pretrained_model = nn.Sequential(*list(pretrained_model.children())[0:9])\n",
    "        for parameter in self.pretrained_model.parameters():\n",
    "            parameter.requires_grad = False\n",
    "            \n",
    "        self.additional_stacked_layers = nn.Sequential(nn.Linear(512, 512),\n",
    "                                                       nn.ReLU(inplace=True),\n",
    "                                                       nn.Dropout2d(0.5),\n",
    "                                                       nn.Linear(512, 256),\n",
    "                                                       nn.ReLU(inplace=True),\n",
    "                                                       nn.Linear(256, 128),\n",
    "                                                       nn.ReLU(inplace=True),\n",
    "                                                       nn.Dropout2d(0.5),\n",
    "                                                       nn.Linear(128, 17))\n",
    "        \n",
    "#         self.classifier = nn.Sequential(self.pretrained_model,\n",
    "#                                         self.additional_stacked_layers)\n",
    "        \n",
    "\n",
    "    def forward(self, x):\n",
    "        x = self.pretrained_model(x)\n",
    "        x = x.view(x.size(0), -1) # Flatten layer\n",
    "        x = self.additional_stacked_layers(x)\n",
    "        \n",
    "        return torch.sigmoid(x)"
   ]
  },
  {
   "cell_type": "code",
   "execution_count": 15,
   "metadata": {
    "ExecuteTime": {
     "end_time": "2019-09-19T12:04:35.607934Z",
     "start_time": "2019-09-19T12:04:34.738964Z"
    }
   },
   "outputs": [
    {
     "name": "stdout",
     "output_type": "stream",
     "text": [
      "torch.Size([3, 3, 224, 224])\n",
      "torch.Size([3, 17])\n"
     ]
    }
   ],
   "source": [
    "img = torch.from_numpy(np.random.randn(3,3,224,224)).float()\n",
    "print(img.shape)\n",
    "model = AdvancedNet()\n",
    "out = model(img)\n",
    "print(out.shape)"
   ]
  },
  {
   "cell_type": "markdown",
   "metadata": {},
   "source": [
    "## Metrics"
   ]
  },
  {
   "cell_type": "code",
   "execution_count": 16,
   "metadata": {
    "ExecuteTime": {
     "end_time": "2019-09-19T12:04:38.622418Z",
     "start_time": "2019-09-19T12:04:38.612464Z"
    }
   },
   "outputs": [],
   "source": [
    "class KerasMetrics:\n",
    "\tdef precision(self, y_true, y_pred):\n",
    "\t\ttrue_positives = k.backend.sum(k.backend.round(k.backend.clip(y_true * y_pred, 0, 1)))\n",
    "\t\tpredicted_positives = k.backend.sum(k.backend.round(k.backend.clip(y_pred, 0, 1)))\n",
    "\t\tprecision = true_positives / (predicted_positives + k.backend.epsilon())\n",
    "\t\treturn precision\n",
    "\n",
    "\tdef recall(self, y_true, y_pred):\n",
    "\t\ttrue_positives = k.backend.sum(k.backend.round(k.backend.clip(y_true * y_pred, 0, 1)))\n",
    "\t\tpossible_positives = k.backend.sum(k.backend.round(k.backend.clip(y_true, 0, 1)))\n",
    "\t\trecall = true_positives / (possible_positives + k.backend.epsilon())\n",
    "\t\treturn recall\n",
    "\n",
    "\tdef fbeta_score(self, y_true, y_pred, beta=2):\n",
    "\t\tif beta < 0:\n",
    "\t\t\traise ValueError('The lowest choosable beta is zero (only precision).')\n",
    "\n",
    "\t\tif k.backend.sum(k.backend.round(k.backend.clip(y_true, 0, 1))) == 0:\n",
    "\t\t\treturn 0\n",
    "\n",
    "\t\tp = self.precision(y_true, y_pred)\n",
    "\t\tr = self.recall(y_true, y_pred)\n",
    "\t\tbb = beta ** 2\n",
    "\t\tfbeta_score = (1 + bb) * (p * r) / (bb * p + r + k.backend.epsilon())\n",
    "\t\treturn fbeta_score"
   ]
  },
  {
   "cell_type": "code",
   "execution_count": 17,
   "metadata": {
    "ExecuteTime": {
     "end_time": "2019-09-19T12:04:39.351541Z",
     "start_time": "2019-09-19T12:04:39.341689Z"
    }
   },
   "outputs": [],
   "source": [
    "class FBetaScore(Metric):\n",
    "    \"\"\"\n",
    "    Calculate the fbeta score.\n",
    "\n",
    "    - `update` must receive output of the form `(y_pred, y)`.\n",
    "    \"\"\"\n",
    "    def __init__(self, beta=2, output_transform=lambda x: x):\n",
    "        self.precision = Precision(average=True)\n",
    "        self.recall = Recall(average=True)\n",
    "        \n",
    "        super(FBetaScore, self).__init__(output_transform)\n",
    "        self.beta = beta\n",
    "        \n",
    "\n",
    "    def reset(self):\n",
    "        self.precision.reset()\n",
    "        self.recall.reset()\n",
    "\n",
    "    def update(self, output):\n",
    "        \n",
    "        self.precision.update(output)\n",
    "        self.recall.update(output)\n",
    "\n",
    "    def compute(self):\n",
    "#         if self._num_examples == 0:\n",
    "#             raise NotComputableError('FBetaScore must have at least one example before it can be computed')\n",
    "        p = self.precision.compute()\n",
    "        r = self.recall.compute()\n",
    "        bb = self.beta ** 2\n",
    "        fbeta_score = (1 + bb) * (p * r) / (bb * p + r + 1e-07) \n",
    "        return fbeta_score"
   ]
  },
  {
   "cell_type": "code",
   "execution_count": 18,
   "metadata": {
    "ExecuteTime": {
     "end_time": "2019-09-19T12:04:40.029121Z",
     "start_time": "2019-09-19T12:04:40.026557Z"
    }
   },
   "outputs": [],
   "source": [
    "# keras_metrics = KerasMetrics() "
   ]
  },
  {
   "cell_type": "markdown",
   "metadata": {},
   "source": [
    "## Training"
   ]
  },
  {
   "cell_type": "markdown",
   "metadata": {
    "heading_collapsed": true
   },
   "source": [
    "### Train - from data as numpy array and simple model"
   ]
  },
  {
   "cell_type": "code",
   "execution_count": 19,
   "metadata": {
    "ExecuteTime": {
     "end_time": "2019-09-19T12:04:42.859010Z",
     "start_time": "2019-09-19T12:04:42.832007Z"
    },
    "hidden": true
   },
   "outputs": [],
   "source": [
    "device = 'cpu'\n",
    "if torch.cuda.is_available():\n",
    "    device = 'cuda'"
   ]
  },
  {
   "cell_type": "code",
   "execution_count": 20,
   "metadata": {
    "ExecuteTime": {
     "end_time": "2019-09-19T12:04:43.711711Z",
     "start_time": "2019-09-19T12:04:43.544718Z"
    },
    "hidden": true
   },
   "outputs": [
    {
     "ename": "NameError",
     "evalue": "name 'BaseNet' is not defined",
     "output_type": "error",
     "traceback": [
      "\u001b[0;31m---------------------------------------------------------------------------\u001b[0m",
      "\u001b[0;31mNameError\u001b[0m                                 Traceback (most recent call last)",
      "\u001b[0;32m<ipython-input-20-384afbff413d>\u001b[0m in \u001b[0;36m<module>\u001b[0;34m\u001b[0m\n\u001b[0;32m----> 1\u001b[0;31m \u001b[0mmodel\u001b[0m \u001b[0;34m=\u001b[0m \u001b[0mBaseNet\u001b[0m\u001b[0;34m(\u001b[0m\u001b[0;34m)\u001b[0m\u001b[0;34m\u001b[0m\u001b[0m\n\u001b[0m\u001b[1;32m      2\u001b[0m \u001b[0moptimizer\u001b[0m \u001b[0;34m=\u001b[0m \u001b[0mtorch\u001b[0m\u001b[0;34m.\u001b[0m\u001b[0moptim\u001b[0m\u001b[0;34m.\u001b[0m\u001b[0mAdam\u001b[0m\u001b[0;34m(\u001b[0m\u001b[0mmodel\u001b[0m\u001b[0;34m.\u001b[0m\u001b[0mparameters\u001b[0m\u001b[0;34m(\u001b[0m\u001b[0;34m)\u001b[0m\u001b[0;34m,\u001b[0m \u001b[0mlr\u001b[0m\u001b[0;34m=\u001b[0m\u001b[0;36m0.0001\u001b[0m\u001b[0;34m)\u001b[0m\u001b[0;34m\u001b[0m\u001b[0m\n\u001b[1;32m      3\u001b[0m \u001b[0mtrainer\u001b[0m \u001b[0;34m=\u001b[0m \u001b[0mcreate_supervised_trainer\u001b[0m\u001b[0;34m(\u001b[0m\u001b[0mmodel\u001b[0m\u001b[0;34m,\u001b[0m \u001b[0moptimizer\u001b[0m\u001b[0;34m,\u001b[0m \u001b[0mF\u001b[0m\u001b[0;34m.\u001b[0m\u001b[0mbinary_cross_entropy\u001b[0m\u001b[0;34m,\u001b[0m \u001b[0mdevice\u001b[0m\u001b[0;34m=\u001b[0m\u001b[0mdevice\u001b[0m\u001b[0;34m)\u001b[0m\u001b[0;34m\u001b[0m\u001b[0m\n\u001b[1;32m      4\u001b[0m evaluator = create_supervised_evaluator(model, device=device, metrics={'accuracy': Accuracy(), \n\u001b[1;32m      5\u001b[0m                                                                        \u001b[0;34m'loss'\u001b[0m\u001b[0;34m:\u001b[0m \u001b[0mLoss\u001b[0m\u001b[0;34m(\u001b[0m\u001b[0mF\u001b[0m\u001b[0;34m.\u001b[0m\u001b[0mbinary_cross_entropy\u001b[0m\u001b[0;34m)\u001b[0m\u001b[0;34m,\u001b[0m\u001b[0;34m\u001b[0m\u001b[0m\n",
      "\u001b[0;31mNameError\u001b[0m: name 'BaseNet' is not defined"
     ]
    }
   ],
   "source": [
    "model = BaseNet()\n",
    "optimizer = torch.optim.Adam(model.parameters(), lr=0.0001)\n",
    "trainer = create_supervised_trainer(model, optimizer, F.binary_cross_entropy, device=device)\n",
    "evaluator = create_supervised_evaluator(model, device=device, metrics={'accuracy': Accuracy(), \n",
    "                                                                       'loss': Loss(F.binary_cross_entropy),\n",
    "                                                                       'recall': Recall(),\n",
    "                                                                       'precision': Precision(),\n",
    "                                                                       'fbeta': FBetaScore()}) "
   ]
  },
  {
   "cell_type": "code",
   "execution_count": 21,
   "metadata": {
    "ExecuteTime": {
     "end_time": "2019-09-19T12:04:44.793242Z",
     "start_time": "2019-09-19T12:04:44.775945Z"
    },
    "hidden": true
   },
   "outputs": [
    {
     "ename": "NameError",
     "evalue": "name 'trainer' is not defined",
     "output_type": "error",
     "traceback": [
      "\u001b[0;31m---------------------------------------------------------------------------\u001b[0m",
      "\u001b[0;31mNameError\u001b[0m                                 Traceback (most recent call last)",
      "\u001b[0;32m<ipython-input-21-c9d5a7590d13>\u001b[0m in \u001b[0;36m<module>\u001b[0;34m\u001b[0m\n\u001b[1;32m      6\u001b[0m \u001b[0;31m#     print(\"Epoch: {0} Loss: {1}\".format(epoch, loss))\u001b[0m\u001b[0;34m\u001b[0m\u001b[0;34m\u001b[0m\u001b[0m\n\u001b[1;32m      7\u001b[0m \u001b[0;34m\u001b[0m\u001b[0m\n\u001b[0;32m----> 8\u001b[0;31m \u001b[0;34m@\u001b[0m\u001b[0mtrainer\u001b[0m\u001b[0;34m.\u001b[0m\u001b[0mon\u001b[0m\u001b[0;34m(\u001b[0m\u001b[0mEvents\u001b[0m\u001b[0;34m.\u001b[0m\u001b[0mEPOCH_COMPLETED\u001b[0m\u001b[0;34m)\u001b[0m\u001b[0;34m\u001b[0m\u001b[0m\n\u001b[0m\u001b[1;32m      9\u001b[0m \u001b[0;32mdef\u001b[0m \u001b[0mlog_training_results\u001b[0m\u001b[0;34m(\u001b[0m\u001b[0mtrainer\u001b[0m\u001b[0;34m)\u001b[0m\u001b[0;34m:\u001b[0m\u001b[0;34m\u001b[0m\u001b[0m\n\u001b[1;32m     10\u001b[0m     \u001b[0mloss\u001b[0m \u001b[0;34m=\u001b[0m \u001b[0mtrainer\u001b[0m\u001b[0;34m.\u001b[0m\u001b[0mstate\u001b[0m\u001b[0;34m.\u001b[0m\u001b[0moutput\u001b[0m\u001b[0;34m\u001b[0m\u001b[0m\n",
      "\u001b[0;31mNameError\u001b[0m: name 'trainer' is not defined"
     ]
    }
   ],
   "source": [
    "# @trainer.on(Events.EPOCH_COMPLETED)\n",
    "# def log_training_loss(trainer):\n",
    "#     epoch = trainer.state.epoch\n",
    "#     #iteration = engine.state.iteration\n",
    "#     loss = trainer.state.output\n",
    "#     print(\"Epoch: {0} Loss: {1}\".format(epoch, loss)) \n",
    "    \n",
    "@trainer.on(Events.EPOCH_COMPLETED)\n",
    "def log_training_results(trainer):\n",
    "    loss = trainer.state.output\n",
    "    evaluator.run(train_loader)\n",
    "    metrics = evaluator.state.metrics\n",
    "    \n",
    "#     print(\"Training Results - Epoch: {0}  Training loss: {2}\"\n",
    "#           .format(trainer.state.epoch,\n",
    "#                   loss))\n",
    "    print(\"Training Results - Epoch: {}  Training loss: {:.2f} Avg accuracy: {:.2f} Avg loss: {:.2f}  Avg Recall: {:.2f}  Avg Precision: {:.2f}  Avg fbeta: {:.2f}\"\n",
    "          .format(trainer.state.epoch,\n",
    "                  loss,\n",
    "                  metrics['accuracy'], \n",
    "                  metrics['loss'],\n",
    "                  metrics['recall'],\n",
    "                  metrics['precision'],\n",
    "                  metrics['fbeta']))\n",
    "    \n",
    "@trainer.on(Events.EPOCH_COMPLETED)\n",
    "def run_evaluator_on_validation_data(engine):\n",
    "    evaluator.run(valid_loader)\n",
    "    \n",
    "@trainer.on(Events.EPOCH_COMPLETED)\n",
    "def run_trainer_on_training_data(engine):\n",
    "    evaluator.run(train_loader)\n",
    "    #print(\"Epoch: {0} Loss: {1}\".format(epoch, loss)) "
   ]
  },
  {
   "cell_type": "code",
   "execution_count": 57,
   "metadata": {
    "ExecuteTime": {
     "end_time": "2019-09-19T10:54:37.115247Z",
     "start_time": "2019-09-19T10:47:45.136482Z"
    },
    "hidden": true,
    "scrolled": true
   },
   "outputs": [
    {
     "name": "stdout",
     "output_type": "stream",
     "text": [
      "Training Results - Epoch: 1  Training loss: 0.30 Avg accuracy: 0.90 Avg loss: 0.27  Avg Recall: 0.57  Avg Precision: 0.81  Avg fbeta: 0.60\n",
      "Training Results - Epoch: 2  Training loss: 0.27 Avg accuracy: 0.90 Avg loss: 0.25  Avg Recall: 0.57  Avg Precision: 0.81  Avg fbeta: 0.60\n",
      "Training Results - Epoch: 3  Training loss: 0.27 Avg accuracy: 0.90 Avg loss: 0.24  Avg Recall: 0.57  Avg Precision: 0.81  Avg fbeta: 0.60\n",
      "Training Results - Epoch: 4  Training loss: 0.25 Avg accuracy: 0.90 Avg loss: 0.24  Avg Recall: 0.57  Avg Precision: 0.81  Avg fbeta: 0.60\n",
      "Training Results - Epoch: 5  Training loss: 0.25 Avg accuracy: 0.90 Avg loss: 0.24  Avg Recall: 0.57  Avg Precision: 0.81  Avg fbeta: 0.60\n",
      "Training Results - Epoch: 6  Training loss: 0.25 Avg accuracy: 0.90 Avg loss: 0.24  Avg Recall: 0.57  Avg Precision: 0.81  Avg fbeta: 0.60\n",
      "Training Results - Epoch: 7  Training loss: 0.25 Avg accuracy: 0.90 Avg loss: 0.24  Avg Recall: 0.57  Avg Precision: 0.81  Avg fbeta: 0.60\n",
      "Training Results - Epoch: 8  Training loss: 0.24 Avg accuracy: 0.90 Avg loss: 0.24  Avg Recall: 0.57  Avg Precision: 0.81  Avg fbeta: 0.60\n",
      "Training Results - Epoch: 9  Training loss: 0.25 Avg accuracy: 0.91 Avg loss: 0.23  Avg Recall: 0.53  Avg Precision: 0.88  Avg fbeta: 0.57\n",
      "Training Results - Epoch: 10  Training loss: 0.23 Avg accuracy: 0.91 Avg loss: 0.22  Avg Recall: 0.55  Avg Precision: 0.87  Avg fbeta: 0.60\n",
      "Training Results - Epoch: 11  Training loss: 0.21 Avg accuracy: 0.91 Avg loss: 0.21  Avg Recall: 0.60  Avg Precision: 0.84  Avg fbeta: 0.64\n",
      "Training Results - Epoch: 12  Training loss: 0.23 Avg accuracy: 0.92 Avg loss: 0.21  Avg Recall: 0.62  Avg Precision: 0.84  Avg fbeta: 0.65\n",
      "Training Results - Epoch: 13  Training loss: 0.21 Avg accuracy: 0.92 Avg loss: 0.21  Avg Recall: 0.60  Avg Precision: 0.86  Avg fbeta: 0.64\n",
      "Training Results - Epoch: 14  Training loss: 0.24 Avg accuracy: 0.92 Avg loss: 0.21  Avg Recall: 0.62  Avg Precision: 0.84  Avg fbeta: 0.66\n",
      "Training Results - Epoch: 15  Training loss: 0.24 Avg accuracy: 0.92 Avg loss: 0.21  Avg Recall: 0.62  Avg Precision: 0.85  Avg fbeta: 0.66\n",
      "Training Results - Epoch: 16  Training loss: 0.20 Avg accuracy: 0.92 Avg loss: 0.20  Avg Recall: 0.63  Avg Precision: 0.84  Avg fbeta: 0.66\n",
      "Training Results - Epoch: 17  Training loss: 0.22 Avg accuracy: 0.92 Avg loss: 0.20  Avg Recall: 0.63  Avg Precision: 0.85  Avg fbeta: 0.66\n",
      "Training Results - Epoch: 18  Training loss: 0.23 Avg accuracy: 0.92 Avg loss: 0.20  Avg Recall: 0.62  Avg Precision: 0.85  Avg fbeta: 0.66\n",
      "Training Results - Epoch: 19  Training loss: 0.22 Avg accuracy: 0.92 Avg loss: 0.20  Avg Recall: 0.63  Avg Precision: 0.84  Avg fbeta: 0.67\n",
      "Training Results - Epoch: 20  Training loss: 0.21 Avg accuracy: 0.92 Avg loss: 0.20  Avg Recall: 0.63  Avg Precision: 0.85  Avg fbeta: 0.66\n",
      "Training Results - Epoch: 21  Training loss: 0.21 Avg accuracy: 0.92 Avg loss: 0.20  Avg Recall: 0.64  Avg Precision: 0.84  Avg fbeta: 0.67\n",
      "Training Results - Epoch: 22  Training loss: 0.23 Avg accuracy: 0.92 Avg loss: 0.20  Avg Recall: 0.63  Avg Precision: 0.84  Avg fbeta: 0.67\n",
      "Training Results - Epoch: 23  Training loss: 0.21 Avg accuracy: 0.92 Avg loss: 0.20  Avg Recall: 0.63  Avg Precision: 0.85  Avg fbeta: 0.66\n",
      "Training Results - Epoch: 24  Training loss: 0.22 Avg accuracy: 0.92 Avg loss: 0.20  Avg Recall: 0.63  Avg Precision: 0.85  Avg fbeta: 0.66\n",
      "Training Results - Epoch: 25  Training loss: 0.22 Avg accuracy: 0.92 Avg loss: 0.20  Avg Recall: 0.63  Avg Precision: 0.85  Avg fbeta: 0.66\n",
      "Training Results - Epoch: 26  Training loss: 0.21 Avg accuracy: 0.92 Avg loss: 0.20  Avg Recall: 0.63  Avg Precision: 0.85  Avg fbeta: 0.67\n",
      "Training Results - Epoch: 27  Training loss: 0.18 Avg accuracy: 0.92 Avg loss: 0.20  Avg Recall: 0.63  Avg Precision: 0.85  Avg fbeta: 0.66\n",
      "Training Results - Epoch: 28  Training loss: 0.23 Avg accuracy: 0.92 Avg loss: 0.20  Avg Recall: 0.64  Avg Precision: 0.85  Avg fbeta: 0.67\n",
      "Training Results - Epoch: 29  Training loss: 0.21 Avg accuracy: 0.92 Avg loss: 0.19  Avg Recall: 0.63  Avg Precision: 0.86  Avg fbeta: 0.67\n",
      "Training Results - Epoch: 30  Training loss: 0.19 Avg accuracy: 0.92 Avg loss: 0.19  Avg Recall: 0.67  Avg Precision: 0.84  Avg fbeta: 0.70\n",
      "Training Results - Epoch: 31  Training loss: 0.19 Avg accuracy: 0.92 Avg loss: 0.19  Avg Recall: 0.69  Avg Precision: 0.83  Avg fbeta: 0.71\n",
      "Training Results - Epoch: 32  Training loss: 0.21 Avg accuracy: 0.93 Avg loss: 0.19  Avg Recall: 0.67  Avg Precision: 0.86  Avg fbeta: 0.70\n",
      "Training Results - Epoch: 33  Training loss: 0.19 Avg accuracy: 0.93 Avg loss: 0.19  Avg Recall: 0.67  Avg Precision: 0.86  Avg fbeta: 0.70\n",
      "Training Results - Epoch: 34  Training loss: 0.17 Avg accuracy: 0.93 Avg loss: 0.19  Avg Recall: 0.69  Avg Precision: 0.85  Avg fbeta: 0.72\n",
      "Training Results - Epoch: 35  Training loss: 0.20 Avg accuracy: 0.93 Avg loss: 0.18  Avg Recall: 0.68  Avg Precision: 0.85  Avg fbeta: 0.71\n",
      "Training Results - Epoch: 36  Training loss: 0.18 Avg accuracy: 0.93 Avg loss: 0.19  Avg Recall: 0.70  Avg Precision: 0.84  Avg fbeta: 0.72\n",
      "Training Results - Epoch: 37  Training loss: 0.20 Avg accuracy: 0.93 Avg loss: 0.18  Avg Recall: 0.70  Avg Precision: 0.84  Avg fbeta: 0.72\n",
      "Training Results - Epoch: 38  Training loss: 0.17 Avg accuracy: 0.93 Avg loss: 0.18  Avg Recall: 0.69  Avg Precision: 0.85  Avg fbeta: 0.72\n",
      "Training Results - Epoch: 39  Training loss: 0.19 Avg accuracy: 0.93 Avg loss: 0.18  Avg Recall: 0.67  Avg Precision: 0.87  Avg fbeta: 0.71\n",
      "Training Results - Epoch: 40  Training loss: 0.19 Avg accuracy: 0.93 Avg loss: 0.18  Avg Recall: 0.69  Avg Precision: 0.85  Avg fbeta: 0.72\n",
      "Training Results - Epoch: 41  Training loss: 0.20 Avg accuracy: 0.93 Avg loss: 0.18  Avg Recall: 0.70  Avg Precision: 0.85  Avg fbeta: 0.72\n",
      "Training Results - Epoch: 42  Training loss: 0.18 Avg accuracy: 0.93 Avg loss: 0.17  Avg Recall: 0.69  Avg Precision: 0.86  Avg fbeta: 0.72\n",
      "Training Results - Epoch: 43  Training loss: 0.18 Avg accuracy: 0.93 Avg loss: 0.17  Avg Recall: 0.70  Avg Precision: 0.86  Avg fbeta: 0.73\n",
      "Training Results - Epoch: 44  Training loss: 0.21 Avg accuracy: 0.93 Avg loss: 0.17  Avg Recall: 0.70  Avg Precision: 0.86  Avg fbeta: 0.73\n",
      "Training Results - Epoch: 45  Training loss: 0.15 Avg accuracy: 0.93 Avg loss: 0.17  Avg Recall: 0.71  Avg Precision: 0.86  Avg fbeta: 0.74\n",
      "Training Results - Epoch: 46  Training loss: 0.18 Avg accuracy: 0.93 Avg loss: 0.17  Avg Recall: 0.71  Avg Precision: 0.86  Avg fbeta: 0.74\n",
      "Training Results - Epoch: 47  Training loss: 0.20 Avg accuracy: 0.93 Avg loss: 0.17  Avg Recall: 0.70  Avg Precision: 0.88  Avg fbeta: 0.73\n",
      "Training Results - Epoch: 48  Training loss: 0.19 Avg accuracy: 0.93 Avg loss: 0.17  Avg Recall: 0.71  Avg Precision: 0.86  Avg fbeta: 0.74\n",
      "Training Results - Epoch: 49  Training loss: 0.18 Avg accuracy: 0.93 Avg loss: 0.17  Avg Recall: 0.70  Avg Precision: 0.88  Avg fbeta: 0.73\n",
      "Training Results - Epoch: 50  Training loss: 0.18 Avg accuracy: 0.93 Avg loss: 0.17  Avg Recall: 0.71  Avg Precision: 0.86  Avg fbeta: 0.74\n"
     ]
    },
    {
     "data": {
      "text/plain": [
       "<ignite.engine.engine.State at 0x7f78282c6cc0>"
      ]
     },
     "execution_count": 57,
     "metadata": {},
     "output_type": "execute_result"
    }
   ],
   "source": [
    "trainer.run(train_loader, max_epochs=50)"
   ]
  },
  {
   "cell_type": "markdown",
   "metadata": {},
   "source": [
    "### Train - using data from pytorch dataloader and advanced model"
   ]
  },
  {
   "cell_type": "code",
   "execution_count": 22,
   "metadata": {
    "ExecuteTime": {
     "end_time": "2019-09-19T12:05:13.424442Z",
     "start_time": "2019-09-19T12:05:13.420539Z"
    }
   },
   "outputs": [],
   "source": [
    "device = 'cpu'\n",
    "if torch.cuda.is_available():\n",
    "    device = 'cuda'"
   ]
  },
  {
   "cell_type": "code",
   "execution_count": 23,
   "metadata": {
    "ExecuteTime": {
     "end_time": "2019-09-19T12:05:17.768915Z",
     "start_time": "2019-09-19T12:05:14.223471Z"
    }
   },
   "outputs": [],
   "source": [
    "model = AdvancedNet()\n",
    "optimizer = torch.optim.Adam(model.parameters(), lr=0.001)\n",
    "trainer = create_supervised_trainer(model, optimizer, F.binary_cross_entropy, device=device)\n",
    "evaluator = create_supervised_evaluator(model, device=device, metrics={'accuracy': Accuracy(), \n",
    "                                                                       'loss': Loss(F.binary_cross_entropy),\n",
    "                                                                       'recall': Recall(),\n",
    "                                                                       'precision': Precision(),\n",
    "                                                                       'fbeta': FBetaScore()}) "
   ]
  },
  {
   "cell_type": "code",
   "execution_count": 24,
   "metadata": {
    "ExecuteTime": {
     "end_time": "2019-09-19T12:05:18.401146Z",
     "start_time": "2019-09-19T12:05:18.396104Z"
    }
   },
   "outputs": [],
   "source": [
    "# @trainer.on(Events.EPOCH_COMPLETED)\n",
    "# def log_training_loss(trainer):\n",
    "#     epoch = trainer.state.epoch\n",
    "#     #iteration = engine.state.iteration\n",
    "#     loss = trainer.state.output\n",
    "#     print(\"Epoch: {0} Loss: {1}\".format(epoch, loss)) \n",
    "    \n",
    "@trainer.on(Events.EPOCH_COMPLETED)\n",
    "def log_training_results(trainer):\n",
    "    loss = trainer.state.output\n",
    "    evaluator.run(train_loader)\n",
    "    metrics = evaluator.state.metrics\n",
    "    \n",
    "#     print(\"Training Results - Epoch: {0}  Training loss: {2}\"\n",
    "#           .format(trainer.state.epoch,\n",
    "#                   loss))\n",
    "    print(\"Training Results - Epoch: {}  Training loss: {:.2f} Avg accuracy: {:.2f} Avg loss: {:.2f}  Avg Recall: {:.2f}  Avg Precision: {:.2f}  Avg fbeta: {:.2f}\"\n",
    "          .format(trainer.state.epoch,\n",
    "                  loss,\n",
    "                  metrics['accuracy'], \n",
    "                  metrics['loss'],\n",
    "                  metrics['recall'],\n",
    "                  metrics['precision'],\n",
    "                  metrics['fbeta']))\n",
    "    \n",
    "@trainer.on(Events.EPOCH_COMPLETED)\n",
    "def run_evaluator_on_validation_data(engine):\n",
    "    evaluator.run(valid_loader)\n",
    "    \n",
    "@trainer.on(Events.EPOCH_COMPLETED)\n",
    "def run_trainer_on_training_data(engine):\n",
    "    evaluator.run(train_loader)\n",
    "    #print(\"Epoch: {0} Loss: {1}\".format(epoch, loss)) "
   ]
  },
  {
   "cell_type": "code",
   "execution_count": null,
   "metadata": {
    "ExecuteTime": {
     "start_time": "2019-09-19T12:05:24.456Z"
    },
    "scrolled": true
   },
   "outputs": [
    {
     "name": "stdout",
     "output_type": "stream",
     "text": [
      "Training Results - Epoch: 1  Training loss: 0.29 Avg accuracy: 0.91 Avg loss: 0.26  Avg Recall: 0.57  Avg Precision: 0.81  Avg fbeta: 0.60\n",
      "Training Results - Epoch: 2  Training loss: 0.28 Avg accuracy: 0.91 Avg loss: 0.26  Avg Recall: 0.57  Avg Precision: 0.81  Avg fbeta: 0.60\n",
      "Training Results - Epoch: 3  Training loss: 0.26 Avg accuracy: 0.91 Avg loss: 0.26  Avg Recall: 0.57  Avg Precision: 0.81  Avg fbeta: 0.60\n"
     ]
    }
   ],
   "source": [
    "trainer.run(train_loader, max_epochs=50)"
   ]
  },
  {
   "cell_type": "code",
   "execution_count": null,
   "metadata": {},
   "outputs": [],
   "source": []
  },
  {
   "cell_type": "code",
   "execution_count": null,
   "metadata": {},
   "outputs": [],
   "source": []
  },
  {
   "cell_type": "code",
   "execution_count": null,
   "metadata": {},
   "outputs": [],
   "source": []
  }
 ],
 "metadata": {
  "kernelspec": {
   "display_name": "Python 3",
   "language": "python",
   "name": "python3"
  },
  "language_info": {
   "codemirror_mode": {
    "name": "ipython",
    "version": 3
   },
   "file_extension": ".py",
   "mimetype": "text/x-python",
   "name": "python",
   "nbconvert_exporter": "python",
   "pygments_lexer": "ipython3",
   "version": "3.7.0"
  },
  "toc": {
   "base_numbering": 1,
   "nav_menu": {},
   "number_sections": true,
   "sideBar": true,
   "skip_h1_title": false,
   "title_cell": "Table of Contents",
   "title_sidebar": "Contents",
   "toc_cell": false,
   "toc_position": {},
   "toc_section_display": true,
   "toc_window_display": true
  },
  "varInspector": {
   "cols": {
    "lenName": 16,
    "lenType": 16,
    "lenVar": 40
   },
   "kernels_config": {
    "python": {
     "delete_cmd_postfix": "",
     "delete_cmd_prefix": "del ",
     "library": "var_list.py",
     "varRefreshCmd": "print(var_dic_list())"
    },
    "r": {
     "delete_cmd_postfix": ") ",
     "delete_cmd_prefix": "rm(",
     "library": "var_list.r",
     "varRefreshCmd": "cat(var_dic_list()) "
    }
   },
   "types_to_exclude": [
    "module",
    "function",
    "builtin_function_or_method",
    "instance",
    "_Feature"
   ],
   "window_display": false
  }
 },
 "nbformat": 4,
 "nbformat_minor": 4
}
