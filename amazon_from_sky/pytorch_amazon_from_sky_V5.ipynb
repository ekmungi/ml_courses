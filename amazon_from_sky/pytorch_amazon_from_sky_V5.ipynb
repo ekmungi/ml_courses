{
 "cells": [
  {
   "cell_type": "markdown",
   "metadata": {},
   "source": [
    "# Amazon forest analysis from satellite images.\n",
    "\n",
    "\n",
    "Data obtained from the kaggle competition https://www.kaggle.com/c/planet-understanding-the-amazon-from-space/"
   ]
  },
  {
   "cell_type": "markdown",
   "metadata": {},
   "source": [
    "## Visualize whats happening in the dataset"
   ]
  },
  {
   "cell_type": "code",
   "execution_count": 10,
   "metadata": {
    "ExecuteTime": {
     "end_time": "2019-09-23T19:01:05.342889Z",
     "start_time": "2019-09-23T19:01:05.324046Z"
    },
    "init_cell": true
   },
   "outputs": [],
   "source": [
    "import numpy as np\n",
    "import pandas as pd\n",
    "import matplotlib.pyplot as plt\n",
    "import seaborn as sns\n",
    "import os"
   ]
  },
  {
   "cell_type": "code",
   "execution_count": 11,
   "metadata": {
    "ExecuteTime": {
     "end_time": "2019-09-23T19:01:05.951650Z",
     "start_time": "2019-09-23T19:01:05.933882Z"
    },
    "init_cell": true
   },
   "outputs": [],
   "source": [
    "base_path = '/media/anant/data/amazon_from_space/'\n",
    "# base_path = '/media/avemuri/DEV/Data/amazon_from_space/'"
   ]
  },
  {
   "cell_type": "code",
   "execution_count": 12,
   "metadata": {
    "ExecuteTime": {
     "end_time": "2019-09-23T19:01:06.526754Z",
     "start_time": "2019-09-23T19:01:06.446672Z"
    },
    "init_cell": true
   },
   "outputs": [
    {
     "data": {
      "text/html": [
       "<div>\n",
       "<style scoped>\n",
       "    .dataframe tbody tr th:only-of-type {\n",
       "        vertical-align: middle;\n",
       "    }\n",
       "\n",
       "    .dataframe tbody tr th {\n",
       "        vertical-align: top;\n",
       "    }\n",
       "\n",
       "    .dataframe thead th {\n",
       "        text-align: right;\n",
       "    }\n",
       "</style>\n",
       "<table border=\"1\" class=\"dataframe\">\n",
       "  <thead>\n",
       "    <tr style=\"text-align: right;\">\n",
       "      <th></th>\n",
       "      <th>image_name</th>\n",
       "      <th>tags</th>\n",
       "    </tr>\n",
       "  </thead>\n",
       "  <tbody>\n",
       "    <tr>\n",
       "      <td>0</td>\n",
       "      <td>train_0</td>\n",
       "      <td>haze primary</td>\n",
       "    </tr>\n",
       "    <tr>\n",
       "      <td>1</td>\n",
       "      <td>train_1</td>\n",
       "      <td>agriculture clear primary water</td>\n",
       "    </tr>\n",
       "    <tr>\n",
       "      <td>2</td>\n",
       "      <td>train_2</td>\n",
       "      <td>clear primary</td>\n",
       "    </tr>\n",
       "    <tr>\n",
       "      <td>3</td>\n",
       "      <td>train_3</td>\n",
       "      <td>clear primary</td>\n",
       "    </tr>\n",
       "    <tr>\n",
       "      <td>4</td>\n",
       "      <td>train_4</td>\n",
       "      <td>agriculture clear habitation primary road</td>\n",
       "    </tr>\n",
       "  </tbody>\n",
       "</table>\n",
       "</div>"
      ],
      "text/plain": [
       "  image_name                                       tags\n",
       "0    train_0                               haze primary\n",
       "1    train_1            agriculture clear primary water\n",
       "2    train_2                              clear primary\n",
       "3    train_3                              clear primary\n",
       "4    train_4  agriculture clear habitation primary road"
      ]
     },
     "execution_count": 12,
     "metadata": {},
     "output_type": "execute_result"
    }
   ],
   "source": [
    "train_df = pd.read_csv(base_path+'train_v2.csv')\n",
    "train_df.head()"
   ]
  },
  {
   "cell_type": "markdown",
   "metadata": {},
   "source": [
    "### Plot the frequency of each label"
   ]
  },
  {
   "cell_type": "code",
   "execution_count": 13,
   "metadata": {
    "ExecuteTime": {
     "end_time": "2019-09-23T19:01:08.447572Z",
     "start_time": "2019-09-23T19:01:08.362235Z"
    },
    "code_folding": []
   },
   "outputs": [
    {
     "name": "stdout",
     "output_type": "stream",
     "text": [
      "There is 17 unique labels including {'cultivation', 'primary', 'cloudy', 'blow_down', 'haze', 'conventional_mine', 'bare_ground', 'selective_logging', 'agriculture', 'water', 'habitation', 'clear', 'slash_burn', 'blooming', 'artisinal_mine', 'road', 'partly_cloudy'}\n"
     ]
    }
   ],
   "source": [
    "# Print all unique tags\n",
    "from itertools import chain\n",
    "labels_list = list(chain.from_iterable([tags.split(\" \") for tags in train_df['tags'].values]))\n",
    "labels_set = set(labels_list)\n",
    "print(\"There is {} unique labels including {}\".format(len(labels_set), labels_set))"
   ]
  },
  {
   "cell_type": "code",
   "execution_count": 14,
   "metadata": {
    "ExecuteTime": {
     "end_time": "2019-09-23T19:01:09.664329Z",
     "start_time": "2019-09-23T19:01:09.093235Z"
    }
   },
   "outputs": [
    {
     "data": {
      "text/plain": [
       "<matplotlib.axes._subplots.AxesSubplot at 0x7f52c8dcb3c8>"
      ]
     },
     "execution_count": 14,
     "metadata": {},
     "output_type": "execute_result"
    },
    {
     "data": {
      "image/png": "[encoded data removed]",
      "text/plain": [
       "<Figure size 1152x576 with 1 Axes>"
      ]
     },
     "metadata": {
      "needs_background": "light"
     },
     "output_type": "display_data"
    }
   ],
   "source": [
    "labels_s = pd.Series(labels_list).value_counts() # To sort them by count\n",
    "fig, ax = plt.subplots(figsize=(16, 8))\n",
    "sns.barplot(x=labels_s, y=labels_s.index, orient='h')"
   ]
  },
  {
   "cell_type": "code",
   "execution_count": 15,
   "metadata": {
    "ExecuteTime": {
     "end_time": "2019-09-23T19:01:09.842012Z",
     "start_time": "2019-09-23T19:01:09.803105Z"
    }
   },
   "outputs": [],
   "source": [
    "percentages = labels_s"
   ]
  },
  {
   "cell_type": "code",
   "execution_count": 16,
   "metadata": {
    "ExecuteTime": {
     "end_time": "2019-09-23T19:01:10.232968Z",
     "start_time": "2019-09-23T19:01:10.213865Z"
    },
    "init_cell": true
   },
   "outputs": [],
   "source": [
    "def plot_torch_image(x, y):\n",
    "    for j in range(3):\n",
    "        img = np.moveaxis(x.numpy().squeeze(), (0,1,2), (2,0,1))\n",
    "        for i in range(3):\n",
    "            img[:,:,i] = (img[:,:,i] - img[:,:,i].min()) / (img[:,:,i].max() - img[:,:,i].min())\n",
    "        # print(min(img.flatten()), max(img.flatten()))\n",
    "    _ = plt.figure()\n",
    "    _ = plt.imshow(img)\n",
    "    # print(img.dtype)\n",
    "    print(y)"
   ]
  },
  {
   "cell_type": "markdown",
   "metadata": {},
   "source": [
    "## Imports for training"
   ]
  },
  {
   "cell_type": "code",
   "execution_count": 45,
   "metadata": {
    "ExecuteTime": {
     "end_time": "2019-09-23T21:09:04.175805Z",
     "start_time": "2019-09-23T21:09:04.154614Z"
    },
    "init_cell": true
   },
   "outputs": [],
   "source": [
    "import glob\n",
    "import cv2\n",
    "from PIL import Image\n",
    "from sklearn.preprocessing import MultiLabelBinarizer\n",
    "from sklearn.metrics import accuracy_score, fbeta_score\n",
    "from tqdm import tqdm_notebook, tqdm\n",
    "\n",
    "import torch\n",
    "from torch import nn\n",
    "import torch.nn.functional as F\n",
    "import torchvision.transforms as transforms\n",
    "import torchvision.datasets as dsets\n",
    "from torch.utils.data import Dataset, DataLoader, TensorDataset\n",
    "import torchvision.models as models\n",
    "\n",
    "\n",
    "from skorch import NeuralNetClassifier\n",
    "from skorch.helper import predefined_split\n",
    "from skorch.callbacks import CyclicLR, Freezer, EpochScoring\n",
    "\n",
    "\n",
    "\n",
    "from ignite.engine import create_supervised_trainer, create_supervised_evaluator, Events\n",
    "from ignite.metrics import Accuracy, Precision, Recall, Loss, Metric"
   ]
  },
  {
   "cell_type": "code",
   "execution_count": null,
   "metadata": {},
   "outputs": [],
   "source": []
  },
  {
   "cell_type": "code",
   "execution_count": null,
   "metadata": {},
   "outputs": [],
   "source": []
  },
  {
   "cell_type": "markdown",
   "metadata": {},
   "source": [
    "## Get data"
   ]
  },
  {
   "cell_type": "code",
   "execution_count": 18,
   "metadata": {
    "ExecuteTime": {
     "end_time": "2019-09-23T19:01:19.593618Z",
     "start_time": "2019-09-23T19:01:18.786939Z"
    },
    "init_cell": true
   },
   "outputs": [
    {
     "data": {
      "application/vnd.jupyter.widget-view+json": {
       "model_id": "9005487807d64ba588d149efb688ba36",
       "version_major": 2,
       "version_minor": 0
      },
      "text/plain": [
       "HBox(children=(IntProgress(value=0, description='TRAIN SET', max=40479, style=ProgressStyle(description_width=…"
      ]
     },
     "metadata": {},
     "output_type": "display_data"
    },
    {
     "name": "stdout",
     "output_type": "stream",
     "text": [
      "\n",
      "40479 (40479, 17)\n"
     ]
    }
   ],
   "source": [
    "def get_split_data():\n",
    "    image_list = [f for f in glob.glob(base_path+'train-jpg'+'/*.jpg')]\n",
    "    SPLIT = 0.2\n",
    "    dataset_size = len(image_list)\n",
    "    indices = list(range(dataset_size))\n",
    "    split = int(np.floor(SPLIT * dataset_size))\n",
    "\n",
    "    np.random.seed(42)\n",
    "    np.random.shuffle(indices)\n",
    "\n",
    "    train_indices, valid_indices = indices[split:], indices[:split]\n",
    "    df_train = pd.read_csv(base_path+'train_v2.csv')\n",
    "    mlb = MultiLabelBinarizer()\n",
    "    labels = mlb.fit_transform(df_train['tags'].str.split()).astype(np.float32)\n",
    "    image_paths = []\n",
    "    for f, tags in tqdm_notebook(df_train.values, miniters=1000, desc=\"TRAIN SET\"):\n",
    "        image_paths.append(base_path+'train-jpg'+'/'+'{}.jpg'.format(f))\n",
    "        \n",
    "    return image_paths, labels, train_indices, valid_indices, mlb\n",
    "\n",
    "image_paths, labels, train_indices, valid_indices, mlb = get_split_data()\n",
    "print(len(image_paths), labels.shape)"
   ]
  },
  {
   "cell_type": "code",
   "execution_count": 21,
   "metadata": {
    "ExecuteTime": {
     "end_time": "2019-09-23T19:02:09.437305Z",
     "start_time": "2019-09-23T19:02:08.635288Z"
    },
    "init_cell": true
   },
   "outputs": [
    {
     "data": {
      "application/vnd.jupyter.widget-view+json": {
       "model_id": "20ff3e50631b42aa896508ebb2252b1f",
       "version_major": 2,
       "version_minor": 0
      },
      "text/plain": [
       "HBox(children=(IntProgress(value=0, description='TRAIN SET', max=40479, style=ProgressStyle(description_width=…"
      ]
     },
     "metadata": {},
     "output_type": "display_data"
    },
    {
     "name": "stdout",
     "output_type": "stream",
     "text": [
      "\n"
     ]
    },
    {
     "data": {
      "application/vnd.jupyter.widget-view+json": {
       "model_id": "3649575cf2954edb8b529cb48dfba533",
       "version_major": 2,
       "version_minor": 0
      },
      "text/plain": [
       "HBox(children=(IntProgress(value=0, description='TEST SET', max=61191, style=ProgressStyle(description_width='…"
      ]
     },
     "metadata": {},
     "output_type": "display_data"
    },
    {
     "name": "stdout",
     "output_type": "stream",
     "text": [
      "\n",
      "61191\n"
     ]
    }
   ],
   "source": [
    "def get_test_data():\n",
    "    \n",
    "    _, _, _, _, mlb = get_split_data()\n",
    "    \n",
    "    df = pd.read_csv(base_path+'sample_submission_v2.csv')\n",
    "    image_names = df['image_name'].values\n",
    "    \n",
    "#     image_list = [f for f in glob.glob(base_path+'test-jpg'+'/*.jpg')]\n",
    "    \n",
    "    image_paths = []\n",
    "    for file_name in tqdm_notebook(image_names, desc='TEST SET'):\n",
    "        image_paths.append(base_path+'test-jpg'+'/'+'{}.jpg'.format(file_name))\n",
    "    \n",
    "#     for f in tqdm_notebook(list(range(len(image_list))), miniters=1000, desc=\"TEST SET\"):\n",
    "#         image_paths.append(base_path+'test-jpg'+'/'+'{}.jpg'.format(f))\n",
    "        \n",
    "#     image_list_additional = [f for f in glob.glob(base_path+'test-jpg-additional'+'/*.jpg')]\n",
    "        \n",
    "#     for f in tqdm_notebook(list(range(len(image_list_additional))), miniters=1000, desc=\"TEST SET ADDITIONAL\"):\n",
    "#         image_paths.append(base_path+'test-jpg-additional'+'/'+'{}.jpg'.format(f))\n",
    "        \n",
    "    return image_paths, mlb\n",
    "\n",
    "image_test_paths, mlb = get_test_data()\n",
    "print(len(image_test_paths))"
   ]
  },
  {
   "cell_type": "markdown",
   "metadata": {
    "deletable": false,
    "editable": false,
    "heading_collapsed": true,
    "run_control": {
     "frozen": true
    }
   },
   "source": [
    "### Get data as numpy array"
   ]
  },
  {
   "cell_type": "code",
   "execution_count": 15,
   "metadata": {
    "ExecuteTime": {
     "end_time": "2019-09-22T10:58:56.028112Z",
     "start_time": "2019-09-22T10:58:56.011696Z"
    },
    "deletable": false,
    "editable": false,
    "hidden": true,
    "run_control": {
     "frozen": true
    }
   },
   "outputs": [],
   "source": [
    "def get_data(image_paths, labels, image_size=(32, 32)):\n",
    "    \n",
    "    X = []\n",
    "    y = []\n",
    "    \n",
    "    for f, label in tqdm_notebook(zip(image_paths, labels), miniters=1000, total=len(labels)):\n",
    "        img = cv2.imread(f)\n",
    "        X.append(cv2.resize(img, image_size))\n",
    "        y.append(label)\n",
    "    \n",
    "    \n",
    "    \n",
    "    y = np.array(y, np.uint8)\n",
    "    X = np.array(X, np.float16) / 255.\n",
    "                         \n",
    "    return X, y"
   ]
  },
  {
   "cell_type": "code",
   "execution_count": 16,
   "metadata": {
    "ExecuteTime": {
     "end_time": "2019-09-22T10:59:38.993049Z",
     "start_time": "2019-09-22T10:58:56.029293Z"
    },
    "deletable": false,
    "editable": false,
    "hidden": true,
    "run_control": {
     "frozen": true
    },
    "scrolled": true
   },
   "outputs": [
    {
     "data": {
      "application/vnd.jupyter.widget-view+json": {
       "model_id": "be6968a25477435bb0f384d19e3c1cae",
       "version_major": 2,
       "version_minor": 0
      },
      "text/plain": [
       "HBox(children=(IntProgress(value=0, max=40479), HTML(value='')))"
      ]
     },
     "metadata": {},
     "output_type": "display_data"
    },
    {
     "name": "stdout",
     "output_type": "stream",
     "text": [
      "\n"
     ]
    }
   ],
   "source": [
    "X, y = get_data(image_paths, labels, (32, 32))"
   ]
  },
  {
   "cell_type": "code",
   "execution_count": 12,
   "metadata": {
    "ExecuteTime": {
     "end_time": "2019-09-19T10:02:57.793844Z",
     "start_time": "2019-09-19T10:02:57.790566Z"
    },
    "deletable": false,
    "editable": false,
    "hidden": true,
    "run_control": {
     "frozen": true
    }
   },
   "outputs": [
    {
     "name": "stdout",
     "output_type": "stream",
     "text": [
      "(40479, 3, 32, 32) (40479, 17)\n"
     ]
    }
   ],
   "source": [
    "X = np.moveaxis(X, (0,1,2,3), (0,2,3,1))\n",
    "print(X.shape, y.shape)"
   ]
  },
  {
   "cell_type": "code",
   "execution_count": 13,
   "metadata": {
    "ExecuteTime": {
     "end_time": "2019-09-19T10:02:57.922568Z",
     "start_time": "2019-09-19T10:02:57.796927Z"
    },
    "deletable": false,
    "editable": false,
    "hidden": true,
    "run_control": {
     "frozen": true
    }
   },
   "outputs": [
    {
     "name": "stdout",
     "output_type": "stream",
     "text": [
      "(32384, 3, 32, 32) (32384, 17) (8095, 3, 32, 32) (8095, 17)\n"
     ]
    }
   ],
   "source": [
    "x_train, y_train = X[train_indices], y[train_indices]\n",
    "x_valid, y_valid = X[valid_indices], y[valid_indices]\n",
    "\n",
    "print(x_train.shape, y_train.shape, x_valid.shape, y_valid.shape)"
   ]
  },
  {
   "cell_type": "code",
   "execution_count": 14,
   "metadata": {
    "ExecuteTime": {
     "end_time": "2019-09-19T10:02:58.067271Z",
     "start_time": "2019-09-19T10:02:57.924118Z"
    },
    "deletable": false,
    "editable": false,
    "hidden": true,
    "run_control": {
     "frozen": true
    }
   },
   "outputs": [],
   "source": [
    "train_dataset = TensorDataset(torch.from_numpy(x_train).float(), torch.from_numpy(y_train).float())\n",
    "valid_dataset = TensorDataset(torch.from_numpy(x_valid).float(), torch.from_numpy(y_valid).float())"
   ]
  },
  {
   "cell_type": "raw",
   "metadata": {
    "ExecuteTime": {
     "end_time": "2019-09-19T10:03:05.386401Z",
     "start_time": "2019-09-19T10:02:58.069063Z"
    },
    "hidden": true
   },
   "source": [
    "for i in range(1):\n",
    "    x, y = next(iter(train_loader))\n",
    "    print(x.shape, y.shape)\n",
    "    x, y = next(iter(valid_loader))\n",
    "    print(x.shape, y.shape)"
   ]
  },
  {
   "cell_type": "code",
   "execution_count": 15,
   "metadata": {
    "hidden": true
   },
   "outputs": [],
   "source": [
    "import matplotlib.pyplot as plt"
   ]
  },
  {
   "cell_type": "code",
   "execution_count": 16,
   "metadata": {
    "hidden": true
   },
   "outputs": [
    {
     "name": "stdout",
     "output_type": "stream",
     "text": [
      "tensor([1., 0., 0., 0., 0., 0., 0., 0., 0., 1., 0., 1., 1., 1., 0., 0., 1.])\n"
     ]
    },
    {
     "data": {
      "image/png": "[encoded data removed]",
      "text/plain": [
       "<Figure size 432x288 with 1 Axes>"
      ]
     },
     "metadata": {
      "needs_background": "light"
     },
     "output_type": "display_data"
    }
   ],
   "source": [
    "x, y = train_dataset[0]\n",
    "plot_torch_image(x,y)"
   ]
  },
  {
   "cell_type": "markdown",
   "metadata": {},
   "source": [
    "### Get data from pytorch dataset object"
   ]
  },
  {
   "cell_type": "code",
   "execution_count": 19,
   "metadata": {
    "ExecuteTime": {
     "end_time": "2019-09-23T19:01:35.095202Z",
     "start_time": "2019-09-23T19:01:35.067972Z"
    },
    "init_cell": true
   },
   "outputs": [],
   "source": [
    "class AmazonDataset(Dataset):\n",
    "    def __init__(self, image_paths, labels=None, select_indices=None, transform=None):\n",
    "        self.image_paths = image_paths\n",
    "        self.labels = labels\n",
    "        self.transform = transform\n",
    "        \n",
    "        if select_indices is not None:\n",
    "            if self.labels is not None:\n",
    "                self.labels = self.labels[select_indices]\n",
    "            self.image_paths = list(np.array(self.image_paths)[select_indices])\n",
    "            \n",
    "        self.length = len(self.image_paths)\n",
    "        \n",
    "    def __len__(self):\n",
    "        return self.length\n",
    "    \n",
    "    def __getitem__(self, index):\n",
    "        #file_name = self.base_path+'train-jpg'+'/'+'{}.jpg'.format(self.image_names[index])\n",
    "        #image = Image.open(file_name)\n",
    "        #image = image.convert('RGB')\n",
    "        #print(self.image_paths[index])\n",
    "        #print(self.labels[index])\n",
    "        #print(self.image_paths[index])\n",
    "        image = cv2.imread(self.image_paths[index])\n",
    "        if self.labels is not None:\n",
    "            label = torch.from_numpy(self.labels[index])\n",
    "        \n",
    "        if self.transform is not None:\n",
    "            image = self.transform(image)\n",
    "            \n",
    "        if self.labels is not None:\n",
    "            return image, label\n",
    "        else:\n",
    "            return image\n"
   ]
  },
  {
   "cell_type": "code",
   "execution_count": 20,
   "metadata": {
    "ExecuteTime": {
     "end_time": "2019-09-23T19:01:38.663318Z",
     "start_time": "2019-09-23T19:01:38.641127Z"
    },
    "init_cell": true
   },
   "outputs": [],
   "source": [
    "IMG_SIZE = (100, 100)\n",
    "normalize = transforms.Normalize(mean=[0.485, 0.456, 0.406],\n",
    "                                 std=[0.229, 0.224, 0.225])\n",
    "train_transform_augmented = transforms.Compose([transforms.ToPILImage(),\n",
    "                                                transforms.Resize(IMG_SIZE, Image.NEAREST),\n",
    "                                                transforms.ColorJitter(brightness=0.5),\n",
    "                                                transforms.RandomVerticalFlip(),\n",
    "                                                transforms.ToTensor()])\n",
    "valid_transform_augmented = transforms.Compose([transforms.ToPILImage(),\n",
    "                                                transforms.Resize(IMG_SIZE, Image.NEAREST),\n",
    "                                                transforms.ToTensor()])"
   ]
  },
  {
   "cell_type": "code",
   "execution_count": 22,
   "metadata": {
    "ExecuteTime": {
     "end_time": "2019-09-23T19:02:24.717824Z",
     "start_time": "2019-09-23T19:02:24.574823Z"
    },
    "code_folding": [],
    "init_cell": true
   },
   "outputs": [
    {
     "name": "stdout",
     "output_type": "stream",
     "text": [
      "32384 8095 32384 8095 61191\n"
     ]
    }
   ],
   "source": [
    "train_dataset = AmazonDataset(image_paths, labels, select_indices=train_indices,\n",
    "                                 transform=train_transform_augmented)\n",
    "valid_dataset = AmazonDataset(image_paths, labels, select_indices=valid_indices,\n",
    "                                 transform=valid_transform_augmented)\n",
    "test_dataset = AmazonDataset(image_test_paths, transform=valid_transform_augmented)\n",
    "\n",
    "print(len(train_indices), len(valid_indices), len(train_dataset), len(valid_dataset), len(test_dataset))"
   ]
  },
  {
   "cell_type": "code",
   "execution_count": 23,
   "metadata": {
    "ExecuteTime": {
     "end_time": "2019-09-23T19:02:28.702187Z",
     "start_time": "2019-09-23T19:02:28.272335Z"
    },
    "init_cell": true
   },
   "outputs": [
    {
     "name": "stdout",
     "output_type": "stream",
     "text": [
      "tensor([1., 0., 0., 0., 0., 0., 0., 0., 0., 1., 0., 1., 1., 1., 0., 0., 1.])\n"
     ]
    },
    {
     "data": {
      "image/png": "[encoded data removed]",
      "text/plain": [
       "<Figure size 432x288 with 1 Axes>"
      ]
     },
     "metadata": {
      "needs_background": "light"
     },
     "output_type": "display_data"
    }
   ],
   "source": [
    "x, y = train_dataset[0]\n",
    "plot_torch_image(x, y)"
   ]
  },
  {
   "cell_type": "code",
   "execution_count": null,
   "metadata": {},
   "outputs": [],
   "source": []
  },
  {
   "cell_type": "markdown",
   "metadata": {},
   "source": [
    "### Create dataloaders"
   ]
  },
  {
   "cell_type": "code",
   "execution_count": 24,
   "metadata": {
    "ExecuteTime": {
     "end_time": "2019-09-23T19:02:35.766826Z",
     "start_time": "2019-09-23T19:02:35.704700Z"
    },
    "init_cell": true
   },
   "outputs": [
    {
     "name": "stdout",
     "output_type": "stream",
     "text": [
      "506 127 957\n"
     ]
    }
   ],
   "source": [
    "BATCH_SIZE = 64\n",
    "SHUFFLE = True\n",
    "\n",
    "train_loader = DataLoader(train_dataset, batch_size=BATCH_SIZE, shuffle=SHUFFLE, num_workers=8, pin_memory=True)\n",
    "valid_loader = DataLoader(valid_dataset, batch_size=BATCH_SIZE, shuffle=False, num_workers=8, pin_memory=True)\n",
    "test_loader = DataLoader(test_dataset, batch_size=BATCH_SIZE, shuffle=False, num_workers=8, pin_memory=True)\n",
    "\n",
    "print(len(train_loader), len(valid_loader), len(test_loader))"
   ]
  },
  {
   "cell_type": "code",
   "execution_count": 25,
   "metadata": {
    "ExecuteTime": {
     "end_time": "2019-09-23T19:02:45.402978Z",
     "start_time": "2019-09-23T19:02:39.087531Z"
    },
    "init_cell": true
   },
   "outputs": [
    {
     "name": "stdout",
     "output_type": "stream",
     "text": [
      "torch.Size([64, 3, 100, 100]) torch.Size([64, 17])\n",
      "torch.Size([64, 3, 100, 100]) torch.Size([64, 17])\n"
     ]
    }
   ],
   "source": [
    "# for x, y in train_loader:\n",
    "#     print(x.shape, y.shape)\n",
    "\n",
    "for i in range(2):\n",
    "    x, y = next(iter(train_loader))\n",
    "    print(x.shape, y.shape)\n",
    "    "
   ]
  },
  {
   "cell_type": "markdown",
   "metadata": {},
   "source": [
    "## Model definition"
   ]
  },
  {
   "cell_type": "markdown",
   "metadata": {},
   "source": [
    "### Basic model"
   ]
  },
  {
   "cell_type": "code",
   "execution_count": null,
   "metadata": {
    "ExecuteTime": {
     "end_time": "2019-09-23T19:00:22.861853Z",
     "start_time": "2019-09-23T19:00:20.756Z"
    },
    "init_cell": true
   },
   "outputs": [],
   "source": [
    "# class BaseNet(nn.Module):\n",
    "#     def __init__(self):\n",
    "#         super(BaseNet, self).__init__()\n",
    "#         self.conv1 = nn.Conv2d(3, 32, kernel_size=3)\n",
    "#         self.conv2 = nn.Conv2d(32, 64, kernel_size=3)\n",
    "#         self.conv2_drop = nn.Dropout2d()\n",
    "#         self.fc1 = nn.Linear(2304, 256)\n",
    "#         self.fc2 = nn.Linear(256, 17)\n",
    "\n",
    "#     def forward(self, x):\n",
    "#         x = F.relu(F.max_pool2d(self.conv1(x), 2))\n",
    "#         x = F.relu(F.max_pool2d(self.conv2_drop(self.conv2(x)), 2))\n",
    "#         x = x.view(x.size(0), -1) # Flatten layer\n",
    "#         x = F.relu(self.fc1(x))\n",
    "#         x = F.dropout(x, training=self.training)\n",
    "#         x = self.fc2(x)\n",
    "#         return torch.sigmoid(x)\n",
    "\n",
    "class BaseNet(nn.Module):\n",
    "    def __init__(self):\n",
    "        super(BaseNet, self).__init__()\n",
    "        \n",
    "        self.conv11 = nn.Conv2d(3, 32, kernel_size=3)\n",
    "        self.conv12 = nn.Conv2d(32, 64, kernel_size=3)\n",
    "        self.conv13 = nn.Conv2d(64, 128, kernel_size=3)\n",
    "        \n",
    "        self.conv21 = nn.Conv2d(128, 256, kernel_size=3)\n",
    "        self.conv22 = nn.Conv2d(256, 512, kernel_size=3)\n",
    "        self.conv23 = nn.Conv2d(512, 1024, kernel_size=3)\n",
    "        \n",
    "        self.conv2_drop_1 = nn.Dropout2d(0.25)\n",
    "        self.conv2_drop_2 = nn.Dropout2d(0.25)\n",
    "        self.linear_drop_1 = nn.Dropout(0.5)\n",
    "        self.linear_drop_2 = nn.Dropout(0.5)\n",
    "        \n",
    "        self.adaptive_avg_pool2d = nn.AdaptiveAvgPool2d((1,1))\n",
    "        \n",
    "        # self.fc1 = nn.Linear(9216, 256)\n",
    "        self.fc1 = nn.Linear(1024, 256)\n",
    "        self.fc2 = nn.Linear(256, 64)\n",
    "        self.fc3 = nn.Linear(64, 17)\n",
    "        #self.fc4 = nn.Linear(32, 17)\n",
    "\n",
    "    def forward(self, x):\n",
    "        x = F.relu(self.conv11(x))\n",
    "        x = F.relu(self.conv12(x))\n",
    "        x = self.conv2_drop_1(F.max_pool2d(F.relu(self.conv13(x)), (2,2)))\n",
    "        \n",
    "        x = F.relu(self.conv21(x))\n",
    "        x = F.relu(self.conv22(x))\n",
    "        x = self.conv2_drop_2(F.max_pool2d(F.relu(self.conv23(x)), (2,2)))\n",
    "        \n",
    "        x = self.adaptive_avg_pool2d(x)\n",
    "        x = x.view(x.size(0), -1) # Flatten layer\n",
    "        # print(x.shape)\n",
    "        \n",
    "        x = F.relu(self.fc1(x))\n",
    "        x = self.linear_drop_1(x)\n",
    "        x = F.relu(self.fc2(x))\n",
    "        x = self.linear_drop_2(x)\n",
    "        x = self.fc3(x)\n",
    "        \n",
    "        #x = self.fc4(x)\n",
    "        \n",
    "        return torch.sigmoid(x)"
   ]
  },
  {
   "cell_type": "code",
   "execution_count": null,
   "metadata": {
    "ExecuteTime": {
     "end_time": "2019-09-23T19:00:22.862952Z",
     "start_time": "2019-09-23T19:00:20.760Z"
    },
    "init_cell": true
   },
   "outputs": [],
   "source": [
    "img = torch.from_numpy(np.random.randn(3,3,32,32)).float()\n",
    "print(img.shape)\n",
    "model = BaseNet()\n",
    "out = model(img)\n",
    "print(out.shape)"
   ]
  },
  {
   "cell_type": "markdown",
   "metadata": {},
   "source": [
    "### Advanced model"
   ]
  },
  {
   "cell_type": "code",
   "execution_count": 26,
   "metadata": {
    "ExecuteTime": {
     "end_time": "2019-09-23T19:03:42.108638Z",
     "start_time": "2019-09-23T19:03:42.086014Z"
    },
    "init_cell": true
   },
   "outputs": [],
   "source": [
    "class AdvancedNet(nn.Module):\n",
    "    def __init__(self, output_features):\n",
    "        super().__init__()\n",
    "        model = models.resnet18(pretrained=True)\n",
    "        num_ftrs = model.fc.in_features\n",
    "        model.fc = nn.Linear(num_ftrs, output_features)\n",
    "        self.model = model\n",
    "        \n",
    "    def forward(self, x):\n",
    "        return torch.sigmoid(self.model(x))\n",
    "\n",
    "\n",
    "# class AdvancedNet(nn.Module):\n",
    "#     def __init__(self):\n",
    "#         super(AdvancedNet, self).__init__()\n",
    "        \n",
    "#         pretrained_model = models.resnet34(pretrained=True)\n",
    "#         self.pretrained_model = nn.Sequential(*list(pretrained_model.children())[0:9])\n",
    "        \n",
    "            \n",
    "#         self.additional_stacked_layers = nn.Sequential(nn.Linear(512, 17))\n",
    "# #                                                        ,\n",
    "# #                                                        nn.ReLU(inplace=True),\n",
    "# #                                                        nn.Dropout2d(0.5),\n",
    "# #                                                        nn.Linear(256, 128),\n",
    "# #                                                        nn.ReLU(inplace=True),\n",
    "# #                                                        nn.Linear(128, 64),\n",
    "# #                                                        nn.ReLU(inplace=True),\n",
    "# #                                                        nn.Dropout2d(0.5),\n",
    "# #                                                        nn.Linear(64, 17))\n",
    "        \n",
    "        \n",
    "# #         self.classifier = nn.Sequential(self.pretrained_model,\n",
    "# #                                         self.additional_stacked_layers)\n",
    "        \n",
    "\n",
    "#     def forward(self, x):\n",
    "#         x = self.pretrained_model(x)\n",
    "#         x = x.view(x.size(0), -1) # Flatten layer\n",
    "#         x = self.additional_stacked_layers(x)\n",
    "#         return torch.sigmoid(x)\n",
    "    \n",
    "#     def freeze(self):\n",
    "#         for parameter in self.pretrained_model.parameters():\n",
    "#             parameter.requires_grad = False\n",
    "            \n",
    "#     def unfreeze(self):\n",
    "#         for parameter in self.pretrained_model.parameters():\n",
    "#             parameter.requires_grad = True\n",
    "            \n",
    "        \n",
    "        "
   ]
  },
  {
   "cell_type": "code",
   "execution_count": 37,
   "metadata": {
    "ExecuteTime": {
     "end_time": "2019-09-23T19:12:43.585376Z",
     "start_time": "2019-09-23T19:12:42.801298Z"
    },
    "init_cell": true,
    "scrolled": true
   },
   "outputs": [
    {
     "name": "stdout",
     "output_type": "stream",
     "text": [
      "torch.Size([3, 3, 32, 32])\n",
      "torch.Size([3, 17])\n"
     ]
    }
   ],
   "source": [
    "img = torch.from_numpy(np.random.randn(3,3,32,32)).float()\n",
    "print(img.shape)\n",
    "model = AdvancedNet(output_features=17)\n",
    "model = model.eval()\n",
    "out = model(img)\n",
    "print(out.shape)"
   ]
  },
  {
   "cell_type": "markdown",
   "metadata": {},
   "source": [
    "## Metrics"
   ]
  },
  {
   "cell_type": "code",
   "execution_count": 27,
   "metadata": {
    "ExecuteTime": {
     "end_time": "2019-09-23T19:04:25.183867Z",
     "start_time": "2019-09-23T19:04:25.126040Z"
    },
    "init_cell": true
   },
   "outputs": [],
   "source": [
    "class KerasMetrics:\n",
    "\tdef precision(self, y_true, y_pred):\n",
    "\t\ttrue_positives = k.backend.sum(k.backend.round(k.backend.clip(y_true * y_pred, 0, 1)))\n",
    "\t\tpredicted_positives = k.backend.sum(k.backend.round(k.backend.clip(y_pred, 0, 1)))\n",
    "\t\tprecision = true_positives / (predicted_positives + k.backend.epsilon())\n",
    "\t\treturn precision\n",
    "\n",
    "\tdef recall(self, y_true, y_pred):\n",
    "\t\ttrue_positives = k.backend.sum(k.backend.round(k.backend.clip(y_true * y_pred, 0, 1)))\n",
    "\t\tpossible_positives = k.backend.sum(k.backend.round(k.backend.clip(y_true, 0, 1)))\n",
    "\t\trecall = true_positives / (possible_positives + k.backend.epsilon())\n",
    "\t\treturn recall\n",
    "\n",
    "\tdef fbeta_score(self, y_true, y_pred, beta=2):\n",
    "\t\tif beta < 0:\n",
    "\t\t\traise ValueError('The lowest choosable beta is zero (only precision).')\n",
    "\n",
    "\t\tif k.backend.sum(k.backend.round(k.backend.clip(y_true, 0, 1))) == 0:\n",
    "\t\t\treturn 0\n",
    "\n",
    "\t\tp = self.precision(y_true, y_pred)\n",
    "\t\tr = self.recall(y_true, y_pred)\n",
    "\t\tbb = beta ** 2\n",
    "\t\tfbeta_score = (1 + bb) * (p * r) / (bb * p + r + k.backend.epsilon())\n",
    "\t\treturn fbeta_score"
   ]
  },
  {
   "cell_type": "code",
   "execution_count": 28,
   "metadata": {
    "ExecuteTime": {
     "end_time": "2019-09-23T19:04:26.024763Z",
     "start_time": "2019-09-23T19:04:25.989708Z"
    },
    "init_cell": true
   },
   "outputs": [],
   "source": [
    "class FBetaScore(Metric):\n",
    "    \"\"\"\n",
    "    Calculate the fbeta score.\n",
    "\n",
    "    - `update` must receive output of the form `(y_pred, y)`.\n",
    "    \"\"\"\n",
    "    def __init__(self, beta=2, output_transform=lambda x: x):\n",
    "        self.precision = Precision(average=True)\n",
    "        self.recall = Recall(average=True)\n",
    "        \n",
    "        super(FBetaScore, self).__init__(output_transform)\n",
    "        self.beta = beta\n",
    "        \n",
    "\n",
    "    def reset(self):\n",
    "        self.precision.reset()\n",
    "        self.recall.reset()\n",
    "\n",
    "    def update(self, output):\n",
    "        \n",
    "        self.precision.update(output)\n",
    "        self.recall.update(output)\n",
    "\n",
    "    def compute(self):\n",
    "#         if self._num_examples == 0:\n",
    "#             raise NotComputableError('FBetaScore must have at least one example before it can be computed')\n",
    "        p = self.precision.compute()\n",
    "        r = self.recall.compute()\n",
    "        bb = self.beta ** 2\n",
    "        fbeta_score = (1 + bb) * (p * r) / (bb * p + r + 1e-07) \n",
    "        return fbeta_score"
   ]
  },
  {
   "cell_type": "code",
   "execution_count": 29,
   "metadata": {
    "ExecuteTime": {
     "end_time": "2019-09-23T19:04:26.916025Z",
     "start_time": "2019-09-23T19:04:26.891061Z"
    },
    "init_cell": true
   },
   "outputs": [],
   "source": [
    "def fbeta_score(y_true, y_pred, beta, threshold, eps=1e-9):\n",
    "    beta2 = beta**2\n",
    "\n",
    "    y_pred = torch.ge(y_pred.float(), threshold).float()\n",
    "    y_true = y_true.float()\n",
    "\n",
    "    true_positive = (y_pred * y_true).sum(dim=1)\n",
    "    precision = true_positive.div(y_pred.sum(dim=1).add(eps))\n",
    "    recall = true_positive.div(y_true.sum(dim=1).add(eps))\n",
    "\n",
    "    return torch.mean(\n",
    "        (precision*recall).\n",
    "        div(precision.mul(beta2) + recall + eps).\n",
    "        mul(1 + beta2))"
   ]
  },
  {
   "cell_type": "code",
   "execution_count": 30,
   "metadata": {
    "ExecuteTime": {
     "end_time": "2019-09-23T19:04:27.697912Z",
     "start_time": "2019-09-23T19:04:27.676704Z"
    },
    "init_cell": true
   },
   "outputs": [],
   "source": [
    "def custom_loss(y_true, y_pred):\n",
    "    loss_bce = F.binary_cross_entropy(y_true, y_pred)\n",
    "    loss_fbeta = fbeta_score(y_true, y_pred, beta=5, threshold=0.5)\n",
    "    \n",
    "    return loss_bce+(1-loss_fbeta)"
   ]
  },
  {
   "cell_type": "code",
   "execution_count": 31,
   "metadata": {
    "ExecuteTime": {
     "end_time": "2019-09-23T19:04:28.355342Z",
     "start_time": "2019-09-23T19:04:28.331185Z"
    }
   },
   "outputs": [],
   "source": [
    "# keras_metrics = KerasMetrics() "
   ]
  },
  {
   "cell_type": "markdown",
   "metadata": {},
   "source": [
    "## Model definition"
   ]
  },
  {
   "cell_type": "code",
   "execution_count": 32,
   "metadata": {
    "ExecuteTime": {
     "end_time": "2019-09-23T19:04:33.035697Z",
     "start_time": "2019-09-23T19:04:33.019071Z"
    }
   },
   "outputs": [],
   "source": [
    "device = torch.device(\"cuda:1\" if torch.cuda.is_available() else \"cpu\")"
   ]
  },
  {
   "cell_type": "markdown",
   "metadata": {},
   "source": [
    "### Model definition: simple model"
   ]
  },
  {
   "cell_type": "code",
   "execution_count": 161,
   "metadata": {
    "ExecuteTime": {
     "end_time": "2019-09-22T20:43:13.933431Z",
     "start_time": "2019-09-22T20:43:13.879189Z"
    }
   },
   "outputs": [],
   "source": [
    "model = BaseNet()"
   ]
  },
  {
   "cell_type": "markdown",
   "metadata": {},
   "source": [
    "### Model definition: advanced model"
   ]
  },
  {
   "cell_type": "code",
   "execution_count": 33,
   "metadata": {
    "ExecuteTime": {
     "end_time": "2019-09-23T19:04:40.051778Z",
     "start_time": "2019-09-23T19:04:39.548539Z"
    }
   },
   "outputs": [],
   "source": [
    "model = AdvancedNet(output_features=17)"
   ]
  },
  {
   "cell_type": "markdown",
   "metadata": {
    "heading_collapsed": true
   },
   "source": [
    "### Create skorch model"
   ]
  },
  {
   "cell_type": "code",
   "execution_count": 30,
   "metadata": {
    "ExecuteTime": {
     "end_time": "2019-09-22T22:25:21.938677Z",
     "start_time": "2019-09-22T22:25:21.922272Z"
    },
    "code_folding": [
     0
    ],
    "hidden": true
   },
   "outputs": [],
   "source": [
    "model = NeuralNetClassifier(AdvancedNet, \n",
    "                            criterion=nn.BCELoss,\n",
    "                            lr=0.001,\n",
    "                            batch_size=64,\n",
    "                            max_epochs=25,\n",
    "                            module__output_features=17,\n",
    "                            optimizer=torch.optim.AdamW,\n",
    "                            iterator_train__shuffle=True,\n",
    "                            iterator_train__num_workers=4,\n",
    "                            iterator_valid__shuffle=True,\n",
    "                            iterator_valid__num_workers=4,\n",
    "                            train_split=predefined_split(valid_dataset),\n",
    "                            #callbacks=[lrscheduler, checkpoint, freezer],\n",
    "                            device=device) # comment to train on cpu)"
   ]
  },
  {
   "cell_type": "markdown",
   "metadata": {},
   "source": [
    "## Training"
   ]
  },
  {
   "cell_type": "markdown",
   "metadata": {},
   "source": [
    "### Ignite"
   ]
  },
  {
   "cell_type": "code",
   "execution_count": 34,
   "metadata": {
    "ExecuteTime": {
     "end_time": "2019-09-23T19:04:49.556530Z",
     "start_time": "2019-09-23T19:04:44.887564Z"
    }
   },
   "outputs": [],
   "source": [
    "optimizer = torch.optim.Adam(model.parameters(), lr=0.001)\n",
    "# optimizer = torch.optim.AdamW(model.parameters(), lr=0.001)\n",
    "# optimizer = torch.optim.SGD(model.parameters(), lr=0.01, momentum=0.9)\n",
    "trainer = create_supervised_trainer(model, optimizer, F.binary_cross_entropy, device=device)\n",
    "evaluator = create_supervised_evaluator(model, device=device, metrics={'accuracy': Accuracy(), \n",
    "                                                                       'loss': Loss(F.binary_cross_entropy),\n",
    "                                                                       'recall': Recall(),\n",
    "                                                                       'precision': Precision(),\n",
    "                                                                       'fbeta': FBetaScore()}) "
   ]
  },
  {
   "cell_type": "code",
   "execution_count": 35,
   "metadata": {
    "ExecuteTime": {
     "end_time": "2019-09-23T19:05:08.065883Z",
     "start_time": "2019-09-23T19:05:08.022074Z"
    }
   },
   "outputs": [],
   "source": [
    "# @trainer.on(Events.ITERATION_COMPLETED)\n",
    "# def log_training_loss(trainer):\n",
    "#     iteration = trainer.state.iteration\n",
    "#     if iteration%100 == 0:\n",
    "#         epoch = trainer.state.epoch\n",
    "#         loss = trainer.state.output\n",
    "#         print(\"Epoch: {0} Iteration: {1} Loss: {2}\".format(epoch, iteration, loss)) \n",
    "    \n",
    "@trainer.on(Events.EPOCH_COMPLETED)\n",
    "def log_training_results(trainer):\n",
    "    loss = trainer.state.output\n",
    "    evaluator.run(train_loader)\n",
    "    metrics = evaluator.state.metrics\n",
    "    \n",
    "#     print(\"Training Results - Epoch: {0}  Training loss: {2}\"\n",
    "#           .format(trainer.state.epoch,\n",
    "#                   loss))\n",
    "    print(\"Training Results - Epoch: {}  Training loss: {:.2f} Avg accuracy: {:.2f} Avg loss: {:.2f}  Avg Recall: {:.2f}  Avg Precision: {:.2f}  Avg fbeta: {:.2f}\"\n",
    "          .format(trainer.state.epoch,\n",
    "                  loss,\n",
    "                  metrics['accuracy'], \n",
    "                  metrics['loss'],\n",
    "                  metrics['recall'],\n",
    "                  metrics['precision'],\n",
    "                  metrics['fbeta']))\n",
    "    \n",
    "@trainer.on(Events.EPOCH_COMPLETED)\n",
    "def run_evaluator_on_validation_data(engine):\n",
    "    evaluator.run(valid_loader)\n",
    "    \n",
    "@trainer.on(Events.EPOCH_COMPLETED)\n",
    "def run_trainer_on_training_data(engine):\n",
    "    evaluator.run(train_loader)\n",
    "    #print(\"Epoch: {0} Loss: {1}\".format(epoch, loss)) "
   ]
  },
  {
   "cell_type": "markdown",
   "metadata": {},
   "source": [
    "#### Base model with no augmentation"
   ]
  },
  {
   "cell_type": "code",
   "execution_count": 24,
   "metadata": {
    "ExecuteTime": {
     "end_time": "2019-09-22T13:34:48.720608Z",
     "start_time": "2019-09-22T11:06:27.972472Z"
    },
    "collapsed": true,
    "deletable": false,
    "editable": false,
    "run_control": {
     "frozen": true
    }
   },
   "outputs": [
    {
     "name": "stdout",
     "output_type": "stream",
     "text": [
      "Training Results - Epoch: 1  Training loss: 0.27 Avg accuracy: 0.91 Avg loss: 0.22  Avg Recall: 0.55  Avg Precision: 0.87  Avg fbeta: 0.59\n",
      "Training Results - Epoch: 2  Training loss: 0.19 Avg accuracy: 0.91 Avg loss: 0.20  Avg Recall: 0.56  Avg Precision: 0.87  Avg fbeta: 0.61\n",
      "Training Results - Epoch: 3  Training loss: 0.18 Avg accuracy: 0.92 Avg loss: 0.19  Avg Recall: 0.67  Avg Precision: 0.85  Avg fbeta: 0.70\n",
      "Training Results - Epoch: 4  Training loss: 0.15 Avg accuracy: 0.93 Avg loss: 0.18  Avg Recall: 0.71  Avg Precision: 0.85  Avg fbeta: 0.73\n",
      "Training Results - Epoch: 5  Training loss: 0.17 Avg accuracy: 0.94 Avg loss: 0.16  Avg Recall: 0.72  Avg Precision: 0.88  Avg fbeta: 0.74\n",
      "Training Results - Epoch: 6  Training loss: 0.17 Avg accuracy: 0.94 Avg loss: 0.16  Avg Recall: 0.73  Avg Precision: 0.88  Avg fbeta: 0.76\n",
      "Training Results - Epoch: 7  Training loss: 0.16 Avg accuracy: 0.94 Avg loss: 0.15  Avg Recall: 0.73  Avg Precision: 0.90  Avg fbeta: 0.76\n",
      "Training Results - Epoch: 8  Training loss: 0.12 Avg accuracy: 0.94 Avg loss: 0.15  Avg Recall: 0.74  Avg Precision: 0.89  Avg fbeta: 0.77\n",
      "Training Results - Epoch: 9  Training loss: 0.18 Avg accuracy: 0.94 Avg loss: 0.14  Avg Recall: 0.75  Avg Precision: 0.89  Avg fbeta: 0.78\n",
      "Training Results - Epoch: 10  Training loss: 0.19 Avg accuracy: 0.94 Avg loss: 0.14  Avg Recall: 0.75  Avg Precision: 0.91  Avg fbeta: 0.77\n",
      "Training Results - Epoch: 11  Training loss: 0.18 Avg accuracy: 0.95 Avg loss: 0.14  Avg Recall: 0.74  Avg Precision: 0.92  Avg fbeta: 0.77\n",
      "Training Results - Epoch: 12  Training loss: 0.12 Avg accuracy: 0.95 Avg loss: 0.14  Avg Recall: 0.76  Avg Precision: 0.91  Avg fbeta: 0.78\n",
      "Training Results - Epoch: 13  Training loss: 0.13 Avg accuracy: 0.95 Avg loss: 0.13  Avg Recall: 0.75  Avg Precision: 0.91  Avg fbeta: 0.78\n",
      "Training Results - Epoch: 14  Training loss: 0.14 Avg accuracy: 0.95 Avg loss: 0.13  Avg Recall: 0.77  Avg Precision: 0.91  Avg fbeta: 0.79\n",
      "Training Results - Epoch: 15  Training loss: 0.16 Avg accuracy: 0.95 Avg loss: 0.13  Avg Recall: 0.76  Avg Precision: 0.91  Avg fbeta: 0.79\n",
      "Training Results - Epoch: 16  Training loss: 0.13 Avg accuracy: 0.95 Avg loss: 0.13  Avg Recall: 0.78  Avg Precision: 0.90  Avg fbeta: 0.80\n",
      "Training Results - Epoch: 17  Training loss: 0.13 Avg accuracy: 0.95 Avg loss: 0.13  Avg Recall: 0.79  Avg Precision: 0.90  Avg fbeta: 0.81\n",
      "Training Results - Epoch: 18  Training loss: 0.12 Avg accuracy: 0.95 Avg loss: 0.12  Avg Recall: 0.79  Avg Precision: 0.91  Avg fbeta: 0.82\n",
      "Training Results - Epoch: 19  Training loss: 0.12 Avg accuracy: 0.95 Avg loss: 0.12  Avg Recall: 0.79  Avg Precision: 0.91  Avg fbeta: 0.81\n",
      "Training Results - Epoch: 20  Training loss: 0.15 Avg accuracy: 0.95 Avg loss: 0.12  Avg Recall: 0.80  Avg Precision: 0.91  Avg fbeta: 0.82\n",
      "Training Results - Epoch: 21  Training loss: 0.19 Avg accuracy: 0.95 Avg loss: 0.12  Avg Recall: 0.79  Avg Precision: 0.90  Avg fbeta: 0.81\n",
      "Training Results - Epoch: 22  Training loss: 0.13 Avg accuracy: 0.95 Avg loss: 0.12  Avg Recall: 0.81  Avg Precision: 0.91  Avg fbeta: 0.83\n",
      "Training Results - Epoch: 23  Training loss: 0.15 Avg accuracy: 0.95 Avg loss: 0.12  Avg Recall: 0.81  Avg Precision: 0.91  Avg fbeta: 0.83\n",
      "Training Results - Epoch: 24  Training loss: 0.11 Avg accuracy: 0.95 Avg loss: 0.11  Avg Recall: 0.80  Avg Precision: 0.92  Avg fbeta: 0.82\n",
      "Training Results - Epoch: 25  Training loss: 0.17 Avg accuracy: 0.96 Avg loss: 0.11  Avg Recall: 0.82  Avg Precision: 0.91  Avg fbeta: 0.84\n",
      "Training Results - Epoch: 26  Training loss: 0.12 Avg accuracy: 0.96 Avg loss: 0.11  Avg Recall: 0.82  Avg Precision: 0.91  Avg fbeta: 0.83\n",
      "Training Results - Epoch: 27  Training loss: 0.12 Avg accuracy: 0.95 Avg loss: 0.12  Avg Recall: 0.82  Avg Precision: 0.90  Avg fbeta: 0.83\n",
      "Training Results - Epoch: 28  Training loss: 0.12 Avg accuracy: 0.96 Avg loss: 0.11  Avg Recall: 0.82  Avg Precision: 0.92  Avg fbeta: 0.84\n",
      "Training Results - Epoch: 29  Training loss: 0.12 Avg accuracy: 0.96 Avg loss: 0.11  Avg Recall: 0.82  Avg Precision: 0.92  Avg fbeta: 0.84\n",
      "Training Results - Epoch: 30  Training loss: 0.14 Avg accuracy: 0.96 Avg loss: 0.11  Avg Recall: 0.83  Avg Precision: 0.91  Avg fbeta: 0.84\n",
      "Training Results - Epoch: 31  Training loss: 0.13 Avg accuracy: 0.96 Avg loss: 0.11  Avg Recall: 0.82  Avg Precision: 0.92  Avg fbeta: 0.84\n",
      "Training Results - Epoch: 32  Training loss: 0.14 Avg accuracy: 0.96 Avg loss: 0.11  Avg Recall: 0.83  Avg Precision: 0.92  Avg fbeta: 0.84\n",
      "Training Results - Epoch: 33  Training loss: 0.14 Avg accuracy: 0.96 Avg loss: 0.11  Avg Recall: 0.83  Avg Precision: 0.92  Avg fbeta: 0.85\n",
      "Training Results - Epoch: 34  Training loss: 0.13 Avg accuracy: 0.96 Avg loss: 0.11  Avg Recall: 0.82  Avg Precision: 0.92  Avg fbeta: 0.84\n",
      "Training Results - Epoch: 35  Training loss: 0.14 Avg accuracy: 0.96 Avg loss: 0.10  Avg Recall: 0.83  Avg Precision: 0.92  Avg fbeta: 0.85\n",
      "Training Results - Epoch: 36  Training loss: 0.10 Avg accuracy: 0.96 Avg loss: 0.10  Avg Recall: 0.83  Avg Precision: 0.93  Avg fbeta: 0.85\n",
      "Training Results - Epoch: 37  Training loss: 0.14 Avg accuracy: 0.96 Avg loss: 0.10  Avg Recall: 0.84  Avg Precision: 0.92  Avg fbeta: 0.86\n",
      "Training Results - Epoch: 38  Training loss: 0.13 Avg accuracy: 0.96 Avg loss: 0.11  Avg Recall: 0.82  Avg Precision: 0.93  Avg fbeta: 0.84\n",
      "Training Results - Epoch: 39  Training loss: 0.13 Avg accuracy: 0.96 Avg loss: 0.10  Avg Recall: 0.84  Avg Precision: 0.92  Avg fbeta: 0.85\n",
      "Training Results - Epoch: 40  Training loss: 0.11 Avg accuracy: 0.96 Avg loss: 0.10  Avg Recall: 0.84  Avg Precision: 0.92  Avg fbeta: 0.85\n",
      "Training Results - Epoch: 41  Training loss: 0.16 Avg accuracy: 0.96 Avg loss: 0.10  Avg Recall: 0.84  Avg Precision: 0.92  Avg fbeta: 0.86\n",
      "Training Results - Epoch: 42  Training loss: 0.13 Avg accuracy: 0.96 Avg loss: 0.10  Avg Recall: 0.85  Avg Precision: 0.92  Avg fbeta: 0.86\n",
      "Training Results - Epoch: 43  Training loss: 0.14 Avg accuracy: 0.96 Avg loss: 0.10  Avg Recall: 0.85  Avg Precision: 0.92  Avg fbeta: 0.86\n",
      "Training Results - Epoch: 44  Training loss: 0.12 Avg accuracy: 0.96 Avg loss: 0.10  Avg Recall: 0.83  Avg Precision: 0.93  Avg fbeta: 0.85\n",
      "Training Results - Epoch: 45  Training loss: 0.08 Avg accuracy: 0.96 Avg loss: 0.10  Avg Recall: 0.84  Avg Precision: 0.92  Avg fbeta: 0.86\n",
      "Training Results - Epoch: 46  Training loss: 0.11 Avg accuracy: 0.96 Avg loss: 0.10  Avg Recall: 0.85  Avg Precision: 0.92  Avg fbeta: 0.86\n",
      "Training Results - Epoch: 47  Training loss: 0.16 Avg accuracy: 0.96 Avg loss: 0.10  Avg Recall: 0.84  Avg Precision: 0.93  Avg fbeta: 0.86\n",
      "Training Results - Epoch: 48  Training loss: 0.13 Avg accuracy: 0.96 Avg loss: 0.10  Avg Recall: 0.85  Avg Precision: 0.92  Avg fbeta: 0.86\n",
      "Training Results - Epoch: 49  Training loss: 0.14 Avg accuracy: 0.96 Avg loss: 0.09  Avg Recall: 0.85  Avg Precision: 0.93  Avg fbeta: 0.86\n",
      "Training Results - Epoch: 50  Training loss: 0.13 Avg accuracy: 0.96 Avg loss: 0.09  Avg Recall: 0.84  Avg Precision: 0.93  Avg fbeta: 0.86\n"
     ]
    },
    {
     "data": {
      "text/plain": [
       "<ignite.engine.engine.State at 0x7f2a4bbd3208>"
      ]
     },
     "execution_count": 24,
     "metadata": {},
     "output_type": "execute_result"
    }
   ],
   "source": [
    "trainer.run(train_loader, max_epochs=50)"
   ]
  },
  {
   "cell_type": "markdown",
   "metadata": {},
   "source": [
    "#### Base model with vertical swap and brightness jitter"
   ]
  },
  {
   "cell_type": "code",
   "execution_count": null,
   "metadata": {
    "ExecuteTime": {
     "start_time": "2019-09-22T20:45:48.073Z"
    }
   },
   "outputs": [
    {
     "name": "stdout",
     "output_type": "stream",
     "text": [
      "Training Results - Epoch: 1  Training loss: 0.24 Avg accuracy: 0.90 Avg loss: 0.24  Avg Recall: 0.57  Avg Precision: 0.81  Avg fbeta: 0.60\n",
      "Training Results - Epoch: 2  Training loss: 0.21 Avg accuracy: 0.91 Avg loss: 0.23  Avg Recall: 0.51  Avg Precision: 0.88  Avg fbeta: 0.56\n",
      "Training Results - Epoch: 3  Training loss: 0.24 Avg accuracy: 0.91 Avg loss: 0.22  Avg Recall: 0.53  Avg Precision: 0.87  Avg fbeta: 0.58\n",
      "Training Results - Epoch: 4  Training loss: 0.21 Avg accuracy: 0.91 Avg loss: 0.21  Avg Recall: 0.60  Avg Precision: 0.84  Avg fbeta: 0.63\n",
      "Training Results - Epoch: 5  Training loss: 0.20 Avg accuracy: 0.92 Avg loss: 0.20  Avg Recall: 0.63  Avg Precision: 0.84  Avg fbeta: 0.66\n",
      "Training Results - Epoch: 6  Training loss: 0.17 Avg accuracy: 0.92 Avg loss: 0.19  Avg Recall: 0.63  Avg Precision: 0.85  Avg fbeta: 0.66\n",
      "Training Results - Epoch: 7  Training loss: 0.20 Avg accuracy: 0.92 Avg loss: 0.18  Avg Recall: 0.65  Avg Precision: 0.85  Avg fbeta: 0.68\n",
      "Training Results - Epoch: 8  Training loss: 0.17 Avg accuracy: 0.92 Avg loss: 0.18  Avg Recall: 0.65  Avg Precision: 0.86  Avg fbeta: 0.68\n"
     ]
    }
   ],
   "source": [
    "trainer.run(train_loader, max_epochs=100)"
   ]
  },
  {
   "cell_type": "markdown",
   "metadata": {},
   "source": [
    "### Skorch"
   ]
  },
  {
   "cell_type": "code",
   "execution_count": 47,
   "metadata": {
    "ExecuteTime": {
     "end_time": "2019-09-23T21:15:49.997175Z",
     "start_time": "2019-09-23T21:15:49.980097Z"
    }
   },
   "outputs": [],
   "source": [
    "def accuracy(net, X, y):\n",
    "    y_pred = net.predict(X)\n",
    "    return accuracy_score(y, y_pred>0.5)"
   ]
  },
  {
   "cell_type": "code",
   "execution_count": 52,
   "metadata": {
    "ExecuteTime": {
     "end_time": "2019-09-23T21:18:18.777313Z",
     "start_time": "2019-09-23T21:18:18.749565Z"
    }
   },
   "outputs": [],
   "source": [
    "\n",
    "net = NeuralNetClassifier(\n",
    "    AdvancedNet, \n",
    "    criterion=nn.BCELoss,\n",
    "    lr=0.001,\n",
    "    batch_size=32,\n",
    "    max_epochs=5,\n",
    "    module__output_features=17,\n",
    "    optimizer=torch.optim.AdamW,\n",
    "    iterator_train__shuffle=True,\n",
    "    iterator_train__num_workers=4,\n",
    "    iterator_valid__shuffle=True,\n",
    "    iterator_valid__num_workers=4,\n",
    "    train_split=predefined_split(valid_dataset),\n",
    "    callbacks=[EpochScoring(accuracy)],\n",
    "#     callbacks=[lrscheduler, checkpoint, freezer],\n",
    "    device=device # comment to train on cpu\n",
    ")\n",
    "\n"
   ]
  },
  {
   "cell_type": "code",
   "execution_count": 53,
   "metadata": {
    "ExecuteTime": {
     "end_time": "2019-09-23T21:19:10.688881Z",
     "start_time": "2019-09-23T21:18:20.895076Z"
    }
   },
   "outputs": [
    {
     "ename": "ValueError",
     "evalue": "Classification metrics can't handle a mix of multilabel-indicator and multiclass targets",
     "output_type": "error",
     "traceback": [
      "\u001b[0;31m---------------------------------------------------------------------------\u001b[0m",
      "\u001b[0;31mValueError\u001b[0m                                Traceback (most recent call last)",
      "\u001b[0;32m<ipython-input-53-4d97eef073fd>\u001b[0m in \u001b[0;36m<module>\u001b[0;34m\u001b[0m\n\u001b[0;32m----> 1\u001b[0;31m \u001b[0mnet\u001b[0m\u001b[0;34m.\u001b[0m\u001b[0mfit\u001b[0m\u001b[0;34m(\u001b[0m\u001b[0mtrain_dataset\u001b[0m\u001b[0;34m,\u001b[0m \u001b[0my\u001b[0m\u001b[0;34m=\u001b[0m\u001b[0;32mNone\u001b[0m\u001b[0;34m)\u001b[0m\u001b[0;34m\u001b[0m\u001b[0m\n\u001b[0m",
      "\u001b[0;32m~/anaconda3/envs/PT/lib/python3.7/site-packages/skorch/classifier.py\u001b[0m in \u001b[0;36mfit\u001b[0;34m(self, X, y, **fit_params)\u001b[0m\n\u001b[1;32m    120\u001b[0m         \u001b[0;31m# this is actually a pylint bug:\u001b[0m\u001b[0;34m\u001b[0m\u001b[0;34m\u001b[0m\u001b[0m\n\u001b[1;32m    121\u001b[0m         \u001b[0;31m# https://github.com/PyCQA/pylint/issues/1085\u001b[0m\u001b[0;34m\u001b[0m\u001b[0;34m\u001b[0m\u001b[0m\n\u001b[0;32m--> 122\u001b[0;31m         \u001b[0;32mreturn\u001b[0m \u001b[0msuper\u001b[0m\u001b[0;34m(\u001b[0m\u001b[0mNeuralNetClassifier\u001b[0m\u001b[0;34m,\u001b[0m \u001b[0mself\u001b[0m\u001b[0;34m)\u001b[0m\u001b[0;34m.\u001b[0m\u001b[0mfit\u001b[0m\u001b[0;34m(\u001b[0m\u001b[0mX\u001b[0m\u001b[0;34m,\u001b[0m \u001b[0my\u001b[0m\u001b[0;34m,\u001b[0m \u001b[0;34m**\u001b[0m\u001b[0mfit_params\u001b[0m\u001b[0;34m)\u001b[0m\u001b[0;34m\u001b[0m\u001b[0m\n\u001b[0m\u001b[1;32m    123\u001b[0m \u001b[0;34m\u001b[0m\u001b[0m\n\u001b[1;32m    124\u001b[0m     \u001b[0;32mdef\u001b[0m \u001b[0mpredict_proba\u001b[0m\u001b[0;34m(\u001b[0m\u001b[0mself\u001b[0m\u001b[0;34m,\u001b[0m \u001b[0mX\u001b[0m\u001b[0;34m)\u001b[0m\u001b[0;34m:\u001b[0m\u001b[0;34m\u001b[0m\u001b[0m\n",
      "\u001b[0;32m~/anaconda3/envs/PT/lib/python3.7/site-packages/skorch/net.py\u001b[0m in \u001b[0;36mfit\u001b[0;34m(self, X, y, **fit_params)\u001b[0m\n\u001b[1;32m    850\u001b[0m             \u001b[0mself\u001b[0m\u001b[0;34m.\u001b[0m\u001b[0minitialize\u001b[0m\u001b[0;34m(\u001b[0m\u001b[0;34m)\u001b[0m\u001b[0;34m\u001b[0m\u001b[0m\n\u001b[1;32m    851\u001b[0m \u001b[0;34m\u001b[0m\u001b[0m\n\u001b[0;32m--> 852\u001b[0;31m         \u001b[0mself\u001b[0m\u001b[0;34m.\u001b[0m\u001b[0mpartial_fit\u001b[0m\u001b[0;34m(\u001b[0m\u001b[0mX\u001b[0m\u001b[0;34m,\u001b[0m \u001b[0my\u001b[0m\u001b[0;34m,\u001b[0m \u001b[0;34m**\u001b[0m\u001b[0mfit_params\u001b[0m\u001b[0;34m)\u001b[0m\u001b[0;34m\u001b[0m\u001b[0m\n\u001b[0m\u001b[1;32m    853\u001b[0m         \u001b[0;32mreturn\u001b[0m \u001b[0mself\u001b[0m\u001b[0;34m\u001b[0m\u001b[0m\n\u001b[1;32m    854\u001b[0m \u001b[0;34m\u001b[0m\u001b[0m\n",
      "\u001b[0;32m~/anaconda3/envs/PT/lib/python3.7/site-packages/skorch/net.py\u001b[0m in \u001b[0;36mpartial_fit\u001b[0;34m(self, X, y, classes, **fit_params)\u001b[0m\n\u001b[1;32m    809\u001b[0m         \u001b[0mself\u001b[0m\u001b[0;34m.\u001b[0m\u001b[0mnotify\u001b[0m\u001b[0;34m(\u001b[0m\u001b[0;34m'on_train_begin'\u001b[0m\u001b[0;34m,\u001b[0m \u001b[0mX\u001b[0m\u001b[0;34m=\u001b[0m\u001b[0mX\u001b[0m\u001b[0;34m,\u001b[0m \u001b[0my\u001b[0m\u001b[0;34m=\u001b[0m\u001b[0my\u001b[0m\u001b[0;34m)\u001b[0m\u001b[0;34m\u001b[0m\u001b[0m\n\u001b[1;32m    810\u001b[0m         \u001b[0;32mtry\u001b[0m\u001b[0;34m:\u001b[0m\u001b[0;34m\u001b[0m\u001b[0m\n\u001b[0;32m--> 811\u001b[0;31m             \u001b[0mself\u001b[0m\u001b[0;34m.\u001b[0m\u001b[0mfit_loop\u001b[0m\u001b[0;34m(\u001b[0m\u001b[0mX\u001b[0m\u001b[0;34m,\u001b[0m \u001b[0my\u001b[0m\u001b[0;34m,\u001b[0m \u001b[0;34m**\u001b[0m\u001b[0mfit_params\u001b[0m\u001b[0;34m)\u001b[0m\u001b[0;34m\u001b[0m\u001b[0m\n\u001b[0m\u001b[1;32m    812\u001b[0m         \u001b[0;32mexcept\u001b[0m \u001b[0mKeyboardInterrupt\u001b[0m\u001b[0;34m:\u001b[0m\u001b[0;34m\u001b[0m\u001b[0m\n\u001b[1;32m    813\u001b[0m             \u001b[0;32mpass\u001b[0m\u001b[0;34m\u001b[0m\u001b[0m\n",
      "\u001b[0;32m~/anaconda3/envs/PT/lib/python3.7/site-packages/skorch/net.py\u001b[0m in \u001b[0;36mfit_loop\u001b[0;34m(self, X, y, epochs, **fit_params)\u001b[0m\n\u001b[1;32m    764\u001b[0m             \u001b[0mself\u001b[0m\u001b[0;34m.\u001b[0m\u001b[0mhistory\u001b[0m\u001b[0;34m.\u001b[0m\u001b[0mrecord\u001b[0m\u001b[0;34m(\u001b[0m\u001b[0;34m\"valid_batch_count\"\u001b[0m\u001b[0;34m,\u001b[0m \u001b[0mvalid_batch_count\u001b[0m\u001b[0;34m)\u001b[0m\u001b[0;34m\u001b[0m\u001b[0m\n\u001b[1;32m    765\u001b[0m \u001b[0;34m\u001b[0m\u001b[0m\n\u001b[0;32m--> 766\u001b[0;31m             \u001b[0mself\u001b[0m\u001b[0;34m.\u001b[0m\u001b[0mnotify\u001b[0m\u001b[0;34m(\u001b[0m\u001b[0;34m'on_epoch_end'\u001b[0m\u001b[0;34m,\u001b[0m \u001b[0;34m**\u001b[0m\u001b[0mon_epoch_kwargs\u001b[0m\u001b[0;34m)\u001b[0m\u001b[0;34m\u001b[0m\u001b[0m\n\u001b[0m\u001b[1;32m    767\u001b[0m         \u001b[0;32mreturn\u001b[0m \u001b[0mself\u001b[0m\u001b[0;34m\u001b[0m\u001b[0m\n\u001b[1;32m    768\u001b[0m \u001b[0;34m\u001b[0m\u001b[0m\n",
      "\u001b[0;32m~/anaconda3/envs/PT/lib/python3.7/site-packages/skorch/net.py\u001b[0m in \u001b[0;36mnotify\u001b[0;34m(self, method_name, **cb_kwargs)\u001b[0m\n\u001b[1;32m    286\u001b[0m         \u001b[0mgetattr\u001b[0m\u001b[0;34m(\u001b[0m\u001b[0mself\u001b[0m\u001b[0;34m,\u001b[0m \u001b[0mmethod_name\u001b[0m\u001b[0;34m)\u001b[0m\u001b[0;34m(\u001b[0m\u001b[0mself\u001b[0m\u001b[0;34m,\u001b[0m \u001b[0;34m**\u001b[0m\u001b[0mcb_kwargs\u001b[0m\u001b[0;34m)\u001b[0m\u001b[0;34m\u001b[0m\u001b[0m\n\u001b[1;32m    287\u001b[0m         \u001b[0;32mfor\u001b[0m \u001b[0m_\u001b[0m\u001b[0;34m,\u001b[0m \u001b[0mcb\u001b[0m \u001b[0;32min\u001b[0m \u001b[0mself\u001b[0m\u001b[0;34m.\u001b[0m\u001b[0mcallbacks_\u001b[0m\u001b[0;34m:\u001b[0m\u001b[0;34m\u001b[0m\u001b[0m\n\u001b[0;32m--> 288\u001b[0;31m             \u001b[0mgetattr\u001b[0m\u001b[0;34m(\u001b[0m\u001b[0mcb\u001b[0m\u001b[0;34m,\u001b[0m \u001b[0mmethod_name\u001b[0m\u001b[0;34m)\u001b[0m\u001b[0;34m(\u001b[0m\u001b[0mself\u001b[0m\u001b[0;34m,\u001b[0m \u001b[0;34m**\u001b[0m\u001b[0mcb_kwargs\u001b[0m\u001b[0;34m)\u001b[0m\u001b[0;34m\u001b[0m\u001b[0m\n\u001b[0m\u001b[1;32m    289\u001b[0m \u001b[0;34m\u001b[0m\u001b[0m\n\u001b[1;32m    290\u001b[0m     \u001b[0;31m# pylint: disable=unused-argument\u001b[0m\u001b[0;34m\u001b[0m\u001b[0;34m\u001b[0m\u001b[0m\n",
      "\u001b[0;32m~/anaconda3/envs/PT/lib/python3.7/site-packages/skorch/callbacks/scoring.py\u001b[0m in \u001b[0;36mon_epoch_end\u001b[0;34m(self, net, dataset_train, dataset_valid, **kwargs)\u001b[0m\n\u001b[1;32m    415\u001b[0m \u001b[0;34m\u001b[0m\u001b[0m\n\u001b[1;32m    416\u001b[0m         \u001b[0;32mwith\u001b[0m \u001b[0mcache_net_infer\u001b[0m\u001b[0;34m(\u001b[0m\u001b[0mnet\u001b[0m\u001b[0;34m,\u001b[0m \u001b[0mself\u001b[0m\u001b[0;34m.\u001b[0m\u001b[0muse_caching\u001b[0m\u001b[0;34m,\u001b[0m \u001b[0my_pred\u001b[0m\u001b[0;34m)\u001b[0m \u001b[0;32mas\u001b[0m \u001b[0mcached_net\u001b[0m\u001b[0;34m:\u001b[0m\u001b[0;34m\u001b[0m\u001b[0m\n\u001b[0;32m--> 417\u001b[0;31m             \u001b[0mcurrent_score\u001b[0m \u001b[0;34m=\u001b[0m \u001b[0mself\u001b[0m\u001b[0;34m.\u001b[0m\u001b[0m_scoring\u001b[0m\u001b[0;34m(\u001b[0m\u001b[0mcached_net\u001b[0m\u001b[0;34m,\u001b[0m \u001b[0mX_test\u001b[0m\u001b[0;34m,\u001b[0m \u001b[0my_test\u001b[0m\u001b[0;34m)\u001b[0m\u001b[0;34m\u001b[0m\u001b[0m\n\u001b[0m\u001b[1;32m    418\u001b[0m \u001b[0;34m\u001b[0m\u001b[0m\n\u001b[1;32m    419\u001b[0m         \u001b[0mself\u001b[0m\u001b[0;34m.\u001b[0m\u001b[0m_record_score\u001b[0m\u001b[0;34m(\u001b[0m\u001b[0mnet\u001b[0m\u001b[0;34m.\u001b[0m\u001b[0mhistory\u001b[0m\u001b[0;34m,\u001b[0m \u001b[0mcurrent_score\u001b[0m\u001b[0;34m)\u001b[0m\u001b[0;34m\u001b[0m\u001b[0m\n",
      "\u001b[0;32m~/anaconda3/envs/PT/lib/python3.7/site-packages/skorch/callbacks/scoring.py\u001b[0m in \u001b[0;36m_scoring\u001b[0;34m(self, net, X_test, y_test)\u001b[0m\n\u001b[1;32m    122\u001b[0m             \u001b[0my_test\u001b[0m\u001b[0;34m=\u001b[0m\u001b[0my_test\u001b[0m\u001b[0;34m,\u001b[0m\u001b[0;34m\u001b[0m\u001b[0m\n\u001b[1;32m    123\u001b[0m             \u001b[0mscorer\u001b[0m\u001b[0;34m=\u001b[0m\u001b[0mscorer\u001b[0m\u001b[0;34m,\u001b[0m\u001b[0;34m\u001b[0m\u001b[0m\n\u001b[0;32m--> 124\u001b[0;31m             \u001b[0mis_multimetric\u001b[0m\u001b[0;34m=\u001b[0m\u001b[0;32mFalse\u001b[0m\u001b[0;34m,\u001b[0m\u001b[0;34m\u001b[0m\u001b[0m\n\u001b[0m\u001b[1;32m    125\u001b[0m         )\n\u001b[1;32m    126\u001b[0m         \u001b[0;32mreturn\u001b[0m \u001b[0mscores\u001b[0m\u001b[0;34m\u001b[0m\u001b[0m\n",
      "\u001b[0;32m~/anaconda3/envs/PT/lib/python3.7/site-packages/sklearn/model_selection/_validation.py\u001b[0m in \u001b[0;36m_score\u001b[0;34m(estimator, X_test, y_test, scorer, is_multimetric)\u001b[0m\n\u001b[1;32m    608\u001b[0m             \u001b[0mscore\u001b[0m \u001b[0;34m=\u001b[0m \u001b[0mscorer\u001b[0m\u001b[0;34m(\u001b[0m\u001b[0mestimator\u001b[0m\u001b[0;34m,\u001b[0m \u001b[0mX_test\u001b[0m\u001b[0;34m)\u001b[0m\u001b[0;34m\u001b[0m\u001b[0m\n\u001b[1;32m    609\u001b[0m         \u001b[0;32melse\u001b[0m\u001b[0;34m:\u001b[0m\u001b[0;34m\u001b[0m\u001b[0m\n\u001b[0;32m--> 610\u001b[0;31m             \u001b[0mscore\u001b[0m \u001b[0;34m=\u001b[0m \u001b[0mscorer\u001b[0m\u001b[0;34m(\u001b[0m\u001b[0mestimator\u001b[0m\u001b[0;34m,\u001b[0m \u001b[0mX_test\u001b[0m\u001b[0;34m,\u001b[0m \u001b[0my_test\u001b[0m\u001b[0;34m)\u001b[0m\u001b[0;34m\u001b[0m\u001b[0m\n\u001b[0m\u001b[1;32m    611\u001b[0m \u001b[0;34m\u001b[0m\u001b[0m\n\u001b[1;32m    612\u001b[0m         \u001b[0;32mif\u001b[0m \u001b[0mhasattr\u001b[0m\u001b[0;34m(\u001b[0m\u001b[0mscore\u001b[0m\u001b[0;34m,\u001b[0m \u001b[0;34m'item'\u001b[0m\u001b[0;34m)\u001b[0m\u001b[0;34m:\u001b[0m\u001b[0;34m\u001b[0m\u001b[0m\n",
      "\u001b[0;32m~/anaconda3/envs/PT/lib/python3.7/site-packages/sklearn/metrics/scorer.py\u001b[0m in \u001b[0;36m__call__\u001b[0;34m(self, estimator, X, y_true, sample_weight)\u001b[0m\n\u001b[1;32m     96\u001b[0m         \u001b[0;32melse\u001b[0m\u001b[0;34m:\u001b[0m\u001b[0;34m\u001b[0m\u001b[0m\n\u001b[1;32m     97\u001b[0m             return self._sign * self._score_func(y_true, y_pred,\n\u001b[0;32m---> 98\u001b[0;31m                                                  **self._kwargs)\n\u001b[0m\u001b[1;32m     99\u001b[0m \u001b[0;34m\u001b[0m\u001b[0m\n\u001b[1;32m    100\u001b[0m \u001b[0;34m\u001b[0m\u001b[0m\n",
      "\u001b[0;32m~/anaconda3/envs/PT/lib/python3.7/site-packages/sklearn/metrics/classification.py\u001b[0m in \u001b[0;36maccuracy_score\u001b[0;34m(y_true, y_pred, normalize, sample_weight)\u001b[0m\n\u001b[1;32m    174\u001b[0m \u001b[0;34m\u001b[0m\u001b[0m\n\u001b[1;32m    175\u001b[0m     \u001b[0;31m# Compute accuracy for each possible representation\u001b[0m\u001b[0;34m\u001b[0m\u001b[0;34m\u001b[0m\u001b[0m\n\u001b[0;32m--> 176\u001b[0;31m     \u001b[0my_type\u001b[0m\u001b[0;34m,\u001b[0m \u001b[0my_true\u001b[0m\u001b[0;34m,\u001b[0m \u001b[0my_pred\u001b[0m \u001b[0;34m=\u001b[0m \u001b[0m_check_targets\u001b[0m\u001b[0;34m(\u001b[0m\u001b[0my_true\u001b[0m\u001b[0;34m,\u001b[0m \u001b[0my_pred\u001b[0m\u001b[0;34m)\u001b[0m\u001b[0;34m\u001b[0m\u001b[0m\n\u001b[0m\u001b[1;32m    177\u001b[0m     \u001b[0mcheck_consistent_length\u001b[0m\u001b[0;34m(\u001b[0m\u001b[0my_true\u001b[0m\u001b[0;34m,\u001b[0m \u001b[0my_pred\u001b[0m\u001b[0;34m,\u001b[0m \u001b[0msample_weight\u001b[0m\u001b[0;34m)\u001b[0m\u001b[0;34m\u001b[0m\u001b[0m\n\u001b[1;32m    178\u001b[0m     \u001b[0;32mif\u001b[0m \u001b[0my_type\u001b[0m\u001b[0;34m.\u001b[0m\u001b[0mstartswith\u001b[0m\u001b[0;34m(\u001b[0m\u001b[0;34m'multilabel'\u001b[0m\u001b[0;34m)\u001b[0m\u001b[0;34m:\u001b[0m\u001b[0;34m\u001b[0m\u001b[0m\n",
      "\u001b[0;32m~/anaconda3/envs/PT/lib/python3.7/site-packages/sklearn/metrics/classification.py\u001b[0m in \u001b[0;36m_check_targets\u001b[0;34m(y_true, y_pred)\u001b[0m\n\u001b[1;32m     79\u001b[0m     \u001b[0;32mif\u001b[0m \u001b[0mlen\u001b[0m\u001b[0;34m(\u001b[0m\u001b[0my_type\u001b[0m\u001b[0;34m)\u001b[0m \u001b[0;34m>\u001b[0m \u001b[0;36m1\u001b[0m\u001b[0;34m:\u001b[0m\u001b[0;34m\u001b[0m\u001b[0m\n\u001b[1;32m     80\u001b[0m         raise ValueError(\"Classification metrics can't handle a mix of {0} \"\n\u001b[0;32m---> 81\u001b[0;31m                          \"and {1} targets\".format(type_true, type_pred))\n\u001b[0m\u001b[1;32m     82\u001b[0m \u001b[0;34m\u001b[0m\u001b[0m\n\u001b[1;32m     83\u001b[0m     \u001b[0;31m# We can't have more than one value on y_type => The set is no more needed\u001b[0m\u001b[0;34m\u001b[0m\u001b[0;34m\u001b[0m\u001b[0m\n",
      "\u001b[0;31mValueError\u001b[0m: Classification metrics can't handle a mix of multilabel-indicator and multiclass targets"
     ]
    }
   ],
   "source": [
    "net.fit(train_dataset, y=None)"
   ]
  },
  {
   "cell_type": "markdown",
   "metadata": {},
   "source": [
    "## Testing"
   ]
  },
  {
   "cell_type": "markdown",
   "metadata": {},
   "source": [
    "### Evaluate on test data"
   ]
  },
  {
   "cell_type": "code",
   "execution_count": 141,
   "metadata": {
    "ExecuteTime": {
     "end_time": "2019-09-22T20:38:01.593313Z",
     "start_time": "2019-09-22T20:36:53.754565Z"
    }
   },
   "outputs": [
    {
     "data": {
      "application/vnd.jupyter.widget-view+json": {
       "model_id": "29c8f1af648340a6b6c94fdc98ea8e3c",
       "version_major": 2,
       "version_minor": 0
      },
      "text/plain": [
       "HBox(children=(IntProgress(value=0, max=957), HTML(value='')))"
      ]
     },
     "metadata": {},
     "output_type": "display_data"
    }
   ],
   "source": [
    "y_test_pred = []\n",
    "with torch.no_grad():\n",
    "    model = model.eval()\n",
    "    for i, x in enumerate(tqdm_notebook(test_loader)):\n",
    "        x = x.to(device)\n",
    "        y_test_pred.append(model(x).cpu().numpy())\n",
    "        \n",
    "y_test_pred = np.vstack(y_test_pred)"
   ]
  },
  {
   "cell_type": "markdown",
   "metadata": {},
   "source": [
    "### Save test predictions "
   ]
  },
  {
   "cell_type": "code",
   "execution_count": 142,
   "metadata": {
    "ExecuteTime": {
     "end_time": "2019-09-22T20:40:27.608300Z",
     "start_time": "2019-09-22T20:40:27.420537Z"
    }
   },
   "outputs": [
    {
     "name": "stdout",
     "output_type": "stream",
     "text": [
      "('clear', 'primary')\n"
     ]
    }
   ],
   "source": [
    "y_test_pred[y_test_pred<0.5] = 0\n",
    "y_test_pred[y_test_pred>0.5] = 1\n",
    "# print(y_test_pred[0])\n",
    "y_preds_tuple = mlb.inverse_transform(y_test_pred>0.5)\n",
    "print(y_preds_tuple[0])"
   ]
  },
  {
   "cell_type": "markdown",
   "metadata": {},
   "source": [
    "### Transform predictions to string"
   ]
  },
  {
   "cell_type": "code",
   "execution_count": 143,
   "metadata": {
    "ExecuteTime": {
     "end_time": "2019-09-22T20:40:28.969194Z",
     "start_time": "2019-09-22T20:40:28.868675Z"
    }
   },
   "outputs": [
    {
     "name": "stdout",
     "output_type": "stream",
     "text": [
      "61191\n",
      "partly_cloudy primary\n"
     ]
    }
   ],
   "source": [
    "y_preds_str = []\n",
    "for preds in y_preds_tuple:\n",
    "    string_val = ''\n",
    "    for i, value in enumerate(preds):\n",
    "        string_val = string_val + value\n",
    "        if i < len(preds)-1:\n",
    "            string_val = string_val + ' '\n",
    "    y_preds_str.append(string_val)\n",
    "    \n",
    "print(len(y_preds_str))\n",
    "print(y_preds_str[10])"
   ]
  },
  {
   "cell_type": "markdown",
   "metadata": {},
   "source": [
    "### Get image test names"
   ]
  },
  {
   "cell_type": "code",
   "execution_count": 144,
   "metadata": {
    "ExecuteTime": {
     "end_time": "2019-09-22T20:40:30.450117Z",
     "start_time": "2019-09-22T20:40:30.214015Z"
    }
   },
   "outputs": [
    {
     "data": {
      "application/vnd.jupyter.widget-view+json": {
       "model_id": "8c42a24e6f2a459b9ad1400b515806ce",
       "version_major": 2,
       "version_minor": 0
      },
      "text/plain": [
       "HBox(children=(IntProgress(value=0, max=61191), HTML(value='')))"
      ]
     },
     "metadata": {},
     "output_type": "display_data"
    },
    {
     "name": "stdout",
     "output_type": "stream",
     "text": [
      "(61191,)\n"
     ]
    }
   ],
   "source": [
    "y_test_name = []\n",
    "for file_path in tqdm_notebook(image_test_paths):\n",
    "    file_name = os.path.splitext(os.path.split(file_path)[1])[0]\n",
    "    y_test_name.append(file_name)\n",
    "y_test_name = np.array(y_test_name)\n",
    "print(y_test_name.shape)"
   ]
  },
  {
   "cell_type": "markdown",
   "metadata": {},
   "source": [
    "### Save predictions and file names to dataframe"
   ]
  },
  {
   "cell_type": "code",
   "execution_count": 145,
   "metadata": {
    "ExecuteTime": {
     "end_time": "2019-09-22T20:40:32.491360Z",
     "start_time": "2019-09-22T20:40:32.454077Z"
    }
   },
   "outputs": [
    {
     "data": {
      "text/html": [
       "<div>\n",
       "<style scoped>\n",
       "    .dataframe tbody tr th:only-of-type {\n",
       "        vertical-align: middle;\n",
       "    }\n",
       "\n",
       "    .dataframe tbody tr th {\n",
       "        vertical-align: top;\n",
       "    }\n",
       "\n",
       "    .dataframe thead th {\n",
       "        text-align: right;\n",
       "    }\n",
       "</style>\n",
       "<table border=\"1\" class=\"dataframe\">\n",
       "  <thead>\n",
       "    <tr style=\"text-align: right;\">\n",
       "      <th></th>\n",
       "      <th>image_name</th>\n",
       "      <th>tags</th>\n",
       "    </tr>\n",
       "  </thead>\n",
       "  <tbody>\n",
       "    <tr>\n",
       "      <td>0</td>\n",
       "      <td>test_0</td>\n",
       "      <td>clear primary</td>\n",
       "    </tr>\n",
       "    <tr>\n",
       "      <td>1</td>\n",
       "      <td>test_1</td>\n",
       "      <td>clear primary</td>\n",
       "    </tr>\n",
       "    <tr>\n",
       "      <td>2</td>\n",
       "      <td>test_2</td>\n",
       "      <td>partly_cloudy primary</td>\n",
       "    </tr>\n",
       "    <tr>\n",
       "      <td>3</td>\n",
       "      <td>test_3</td>\n",
       "      <td>clear primary</td>\n",
       "    </tr>\n",
       "    <tr>\n",
       "      <td>4</td>\n",
       "      <td>test_4</td>\n",
       "      <td>partly_cloudy</td>\n",
       "    </tr>\n",
       "  </tbody>\n",
       "</table>\n",
       "</div>"
      ],
      "text/plain": [
       "  image_name                   tags\n",
       "0     test_0          clear primary\n",
       "1     test_1          clear primary\n",
       "2     test_2  partly_cloudy primary\n",
       "3     test_3          clear primary\n",
       "4     test_4          partly_cloudy"
      ]
     },
     "execution_count": 145,
     "metadata": {},
     "output_type": "execute_result"
    }
   ],
   "source": [
    "df = pd.DataFrame()\n",
    "df['image_name'] = y_test_name\n",
    "df['tags'] = y_preds_str\n",
    "df.head()"
   ]
  },
  {
   "cell_type": "markdown",
   "metadata": {},
   "source": [
    "### Save results to file"
   ]
  },
  {
   "cell_type": "code",
   "execution_count": 146,
   "metadata": {
    "ExecuteTime": {
     "end_time": "2019-09-22T20:40:34.561887Z",
     "start_time": "2019-09-22T20:40:34.436868Z"
    }
   },
   "outputs": [],
   "source": [
    "df.to_csv(base_path+'test_result.csv')"
   ]
  },
  {
   "cell_type": "code",
   "execution_count": null,
   "metadata": {},
   "outputs": [],
   "source": []
  }
 ],
 "metadata": {
  "celltoolbar": "Initialization Cell",
  "kernelspec": {
   "display_name": "Python 3",
   "language": "python",
   "name": "python3"
  },
  "language_info": {
   "codemirror_mode": {
    "name": "ipython",
    "version": 3
   },
   "file_extension": ".py",
   "mimetype": "text/x-python",
   "name": "python",
   "nbconvert_exporter": "python",
   "pygments_lexer": "ipython3",
   "version": "3.7.0"
  },
  "toc": {
   "base_numbering": 1,
   "nav_menu": {},
   "number_sections": true,
   "sideBar": true,
   "skip_h1_title": false,
   "title_cell": "Table of Contents",
   "title_sidebar": "Contents",
   "toc_cell": false,
   "toc_position": {
    "height": "calc(100% - 180px)",
    "left": "10px",
    "top": "150px",
    "width": "341.333px"
   },
   "toc_section_display": true,
   "toc_window_display": true
  },
  "varInspector": {
   "cols": {
    "lenName": 16,
    "lenType": 16,
    "lenVar": 40
   },
   "kernels_config": {
    "python": {
     "delete_cmd_postfix": "",
     "delete_cmd_prefix": "del ",
     "library": "var_list.py",
     "varRefreshCmd": "print(var_dic_list())"
    },
    "r": {
     "delete_cmd_postfix": ") ",
     "delete_cmd_prefix": "rm(",
     "library": "var_list.r",
     "varRefreshCmd": "cat(var_dic_list()) "
    }
   },
   "types_to_exclude": [
    "module",
    "function",
    "builtin_function_or_method",
    "instance",
    "_Feature"
   ],
   "window_display": false
  }
 },
 "nbformat": 4,
 "nbformat_minor": 4
}
