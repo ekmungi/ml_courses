{
 "cells": [
  {
   "cell_type": "markdown",
   "metadata": {},
   "source": [
    "# Amazon forest analysis from satellite images.\n",
    "\n",
    "\n",
    "#### Data obtained from the kaggle competition https://www.kaggle.com/c/planet-understanding-the-amazon-from-space/"
   ]
  },
  {
   "cell_type": "markdown",
   "metadata": {},
   "source": [
    "## Visualize whats happening in the dataset"
   ]
  },
  {
   "cell_type": "code",
   "execution_count": 1,
   "metadata": {},
   "outputs": [],
   "source": [
    "import numpy as np\n",
    "import pandas as pd\n",
    "import matplotlib.pyplot as plt\n",
    "import seaborn as sns"
   ]
  },
  {
   "cell_type": "code",
   "execution_count": 2,
   "metadata": {},
   "outputs": [],
   "source": [
    "# base_path = '/media/anant/data/amazon_from_space/'\n",
    "base_path = '/media/avemuri/DEV/Data/amazon_from_space/'"
   ]
  },
  {
   "cell_type": "code",
   "execution_count": 3,
   "metadata": {},
   "outputs": [
    {
     "data": {
      "text/html": [
       "<div>\n",
       "<style scoped>\n",
       "    .dataframe tbody tr th:only-of-type {\n",
       "        vertical-align: middle;\n",
       "    }\n",
       "\n",
       "    .dataframe tbody tr th {\n",
       "        vertical-align: top;\n",
       "    }\n",
       "\n",
       "    .dataframe thead th {\n",
       "        text-align: right;\n",
       "    }\n",
       "</style>\n",
       "<table border=\"1\" class=\"dataframe\">\n",
       "  <thead>\n",
       "    <tr style=\"text-align: right;\">\n",
       "      <th></th>\n",
       "      <th>image_name</th>\n",
       "      <th>tags</th>\n",
       "    </tr>\n",
       "  </thead>\n",
       "  <tbody>\n",
       "    <tr>\n",
       "      <th>0</th>\n",
       "      <td>train_0</td>\n",
       "      <td>haze primary</td>\n",
       "    </tr>\n",
       "    <tr>\n",
       "      <th>1</th>\n",
       "      <td>train_1</td>\n",
       "      <td>agriculture clear primary water</td>\n",
       "    </tr>\n",
       "    <tr>\n",
       "      <th>2</th>\n",
       "      <td>train_2</td>\n",
       "      <td>clear primary</td>\n",
       "    </tr>\n",
       "    <tr>\n",
       "      <th>3</th>\n",
       "      <td>train_3</td>\n",
       "      <td>clear primary</td>\n",
       "    </tr>\n",
       "    <tr>\n",
       "      <th>4</th>\n",
       "      <td>train_4</td>\n",
       "      <td>agriculture clear habitation primary road</td>\n",
       "    </tr>\n",
       "  </tbody>\n",
       "</table>\n",
       "</div>"
      ],
      "text/plain": [
       "  image_name                                       tags\n",
       "0    train_0                               haze primary\n",
       "1    train_1            agriculture clear primary water\n",
       "2    train_2                              clear primary\n",
       "3    train_3                              clear primary\n",
       "4    train_4  agriculture clear habitation primary road"
      ]
     },
     "execution_count": 3,
     "metadata": {},
     "output_type": "execute_result"
    }
   ],
   "source": [
    "train_df = pd.read_csv(base_path+'train_v2.csv')\n",
    "train_df.head()"
   ]
  },
  {
   "cell_type": "markdown",
   "metadata": {},
   "source": [
    "### Plot the frequency of each label"
   ]
  },
  {
   "cell_type": "code",
   "execution_count": 4,
   "metadata": {},
   "outputs": [
    {
     "name": "stdout",
     "output_type": "stream",
     "text": [
      "There is 17 unique labels including {'haze', 'blow_down', 'clear', 'cultivation', 'water', 'road', 'bare_ground', 'primary', 'conventional_mine', 'selective_logging', 'partly_cloudy', 'habitation', 'blooming', 'slash_burn', 'agriculture', 'cloudy', 'artisinal_mine'}\n"
     ]
    }
   ],
   "source": [
    "# Print all unique tags\n",
    "from itertools import chain\n",
    "labels_list = list(chain.from_iterable([tags.split(\" \") for tags in train_df['tags'].values]))\n",
    "labels_set = set(labels_list)\n",
    "print(\"There is {} unique labels including {}\".format(len(labels_set), labels_set))"
   ]
  },
  {
   "cell_type": "code",
   "execution_count": 5,
   "metadata": {},
   "outputs": [
    {
     "data": {
      "text/plain": [
       "<matplotlib.axes._subplots.AxesSubplot at 0x7f5f6f84e2b0>"
      ]
     },
     "execution_count": 5,
     "metadata": {},
     "output_type": "execute_result"
    },
    {
     "data": {
      "image/png": "[encoded data removed]",
      "text/plain": [
       "<Figure size 1152x576 with 1 Axes>"
      ]
     },
     "metadata": {
      "needs_background": "light"
     },
     "output_type": "display_data"
    }
   ],
   "source": [
    "labels_s = pd.Series(labels_list).value_counts() # To sort them by count\n",
    "fig, ax = plt.subplots(figsize=(16, 8))\n",
    "sns.barplot(x=labels_s, y=labels_s.index, orient='h')"
   ]
  },
  {
   "cell_type": "markdown",
   "metadata": {},
   "source": [
    "## Imports for training"
   ]
  },
  {
   "cell_type": "code",
   "execution_count": 10,
   "metadata": {},
   "outputs": [],
   "source": [
    "import glob\n",
    "import cv2\n",
    "from PIL import Image\n",
    "from sklearn.preprocessing import MultiLabelBinarizer\n",
    "from sklearn.metrics import accuracy_score, fbeta_score\n",
    "from tqdm import tqdm_notebook, tqdm\n",
    "\n",
    "\n",
    "import tensorflow.keras as k\n",
    "from tensorflow.keras.models import Sequential\n",
    "from tensorflow.keras.layers import Dense, Dropout, Flatten\n",
    "from tensorflow.keras.layers import Conv2D, MaxPooling2D"
   ]
  },
  {
   "cell_type": "code",
   "execution_count": null,
   "metadata": {},
   "outputs": [],
   "source": []
  },
  {
   "cell_type": "code",
   "execution_count": 11,
   "metadata": {},
   "outputs": [
    {
     "name": "stdout",
     "output_type": "stream",
     "text": [
      "40479\n"
     ]
    }
   ],
   "source": []
  },
  {
   "cell_type": "markdown",
   "metadata": {},
   "source": [
    "## Get data"
   ]
  },
  {
   "cell_type": "markdown",
   "metadata": {},
   "source": [
    "### Get data as numpy array"
   ]
  },
  {
   "cell_type": "code",
   "execution_count": 21,
   "metadata": {},
   "outputs": [],
   "source": [
    "def get_data(base_path=base_path, folder_name='train-jpg', csv_file='train_v2.csv'):\n",
    "    \n",
    "    X = []\n",
    "    y = []\n",
    "    df_train = pd.read_csv(base_path+csv_file)\n",
    "\n",
    "    flatten = lambda l: [item for sublist in l for item in sublist]\n",
    "    labels = list(set(flatten([l.split(' ') for l in df_train['tags'].values])))\n",
    "\n",
    "    label_map = {l: i for i, l in enumerate(labels)}\n",
    "    inv_label_map = {i: l for l, i in label_map.items()}\n",
    "\n",
    "    for f, tags in tqdm(df_train.values, miniters=1000):\n",
    "        img = cv2.imread(base_path+folder_name+'/'+'{}.jpg'.format(f))\n",
    "        targets = np.zeros(17)\n",
    "        for t in tags.split(' '):\n",
    "            targets[label_map[t]] = 1 \n",
    "        X.append(cv2.resize(img, (32, 32)))\n",
    "        #y.append(targets)\n",
    "    \n",
    "    mlb = MultiLabelBinarizer()\n",
    "    y = mlb.fit_transform(df_train['tags'].str.split()).astype(np.float32)\n",
    "    \n",
    "    # y = np.array(y, np.uint8)\n",
    "    X = np.array(X, np.float16) / 255.\n",
    "                         \n",
    "    return X, y"
   ]
  },
  {
   "cell_type": "code",
   "execution_count": 22,
   "metadata": {},
   "outputs": [
    {
     "name": "stderr",
     "output_type": "stream",
     "text": [
      "100%|██████████| 40479/40479 [01:10<00:00, 571.39it/s]\n"
     ]
    },
    {
     "name": "stdout",
     "output_type": "stream",
     "text": [
      "(32384, 32, 32, 3) (32384, 17) (8095, 32, 32, 3) (8095, 17)\n"
     ]
    }
   ],
   "source": [
    "X, y = get_data()\n",
    "\n",
    "SPLIT = 0.2\n",
    "dataset_size = len(image_list)\n",
    "indices = list(range(dataset_size))\n",
    "split = int(np.floor(SPLIT * dataset_size))\n",
    "\n",
    "np.random.seed(42)\n",
    "np.random.shuffle(indices)\n",
    "\n",
    "train_indices, val_indices = indices[split:], indices[:split]\n",
    "\n",
    "x_train, y_train = X[train_indices], y[train_indices]\n",
    "x_valid, y_valid = X[val_indices], y[val_indices]\n",
    "\n",
    "print(x_train.shape, y_train.shape, x_valid.shape, y_valid.shape)"
   ]
  },
  {
   "cell_type": "markdown",
   "metadata": {},
   "source": [
    "### Load data as data generator"
   ]
  },
  {
   "cell_type": "code",
   "execution_count": 23,
   "metadata": {},
   "outputs": [
    {
     "name": "stdout",
     "output_type": "stream",
     "text": [
      "32384 8095\n"
     ]
    }
   ],
   "source": [
    "image_list = [f for f in glob.glob(base_path+'train-jpg/*.jpg')]\n",
    "labels_df = pd.read_csv(base_path+'train_v2.csv')\n",
    "mlb = MultiLabelBinarizer()\n",
    "labels = mlb.fit_transform(labels_df['tags'].str.split()).astype(np.float32)\n",
    "\n",
    "SPLIT = 0.2\n",
    "dataset_size = len(image_list)\n",
    "indices = list(range(dataset_size))\n",
    "split = int(np.floor(SPLIT * dataset_size))\n",
    "\n",
    "np.random.seed(42)\n",
    "np.random.shuffle(indices)\n",
    "\n",
    "train_indices, val_indices = indices[split:], indices[:split]\n",
    "print(len(train_indices), len(val_indices))"
   ]
  },
  {
   "cell_type": "code",
   "execution_count": 24,
   "metadata": {},
   "outputs": [],
   "source": [
    "def image_generator(image_list, labels, batch_size=64, selection_indices=None):\n",
    "    \n",
    "    while True:\n",
    "        # Select files (paths/indices) for the batch\n",
    "        if selection_indices is None:\n",
    "            batch_paths = np.random.choice(a=np.arange(len(image_list)), \n",
    "                                            size=batch_size, replace=False)\n",
    "        else:\n",
    "            batch_paths = np.random.choice(a=selection_indices, \n",
    "                                            size=batch_size, replace=False)\n",
    "\n",
    "        batch_input = []\n",
    "        batch_output = [] \n",
    "        \n",
    "        # Read in each input, perform preprocessing and get labels\n",
    "        for index in batch_paths:\n",
    "            image = cv2.resize(cv2.imread(image_list[index]), (32, 32)) / 255.\n",
    "            # input = preprocess_input(image=input)\n",
    "            batch_input += [ image ]\n",
    "            batch_output += [ labels[index] ]\n",
    "        # Return a tuple of (input,output) to feed the network\n",
    "        batch_x = np.array( batch_input )\n",
    "        batch_y = np.array( batch_output )\n",
    "        \n",
    "        yield( batch_x, batch_y )"
   ]
  },
  {
   "cell_type": "code",
   "execution_count": 25,
   "metadata": {},
   "outputs": [],
   "source": [
    "BATCH_SIZE = 256\n",
    "train_datagen = image_generator(image_list, labels, batch_size=BATCH_SIZE, selection_indices=train_indices)\n",
    "valid_datagen = image_generator(image_list, labels, batch_size=BATCH_SIZE, selection_indices=val_indices)"
   ]
  },
  {
   "cell_type": "code",
   "execution_count": 26,
   "metadata": {},
   "outputs": [
    {
     "name": "stdout",
     "output_type": "stream",
     "text": [
      "(256, 32, 32, 3) (256, 17)\n",
      "(256, 32, 32, 3) (256, 17)\n",
      "(256, 32, 32, 3) (256, 17)\n",
      "(256, 32, 32, 3) (256, 17)\n",
      "(256, 32, 32, 3) (256, 17)\n",
      "(256, 32, 32, 3) (256, 17)\n",
      "(256, 32, 32, 3) (256, 17)\n",
      "(256, 32, 32, 3) (256, 17)\n"
     ]
    }
   ],
   "source": [
    "for i in range(4):\n",
    "    x, y = next(train_datagen)\n",
    "    print(x.shape, y.shape)\n",
    "    x, y = next(valid_datagen)\n",
    "    print(x.shape, y.shape)"
   ]
  },
  {
   "cell_type": "markdown",
   "metadata": {},
   "source": [
    "## Model definition"
   ]
  },
  {
   "cell_type": "code",
   "execution_count": 27,
   "metadata": {},
   "outputs": [],
   "source": [
    "def create_simple_model(image_input_size=(32,32,3)):\n",
    "    model = Sequential()\n",
    "    model.add(Conv2D(32, kernel_size=(3, 3),\n",
    "                     activation='relu',\n",
    "                     input_shape=image_input_size))\n",
    "\n",
    "    model.add(Conv2D(32, (3, 3), activation='relu'))\n",
    "    model.add(Conv2D(32, (3, 3), activation='relu'))\n",
    "    model.add(Conv2D(32, (3, 3), activation='relu'))\n",
    "    model.add(MaxPooling2D(pool_size=(2, 2)))\n",
    "    model.add(Dropout(0.25))\n",
    "    model.add(Conv2D(64, (3, 3), activation='relu'))\n",
    "    model.add(Conv2D(64, (3, 3), activation='relu'))\n",
    "    model.add(Conv2D(64, (3, 3), activation='relu'))\n",
    "    model.add(MaxPooling2D(pool_size=(2, 2)))\n",
    "    model.add(Dropout(0.25))\n",
    "    model.add(Flatten())\n",
    "    model.add(Dense(128, activation='relu'))\n",
    "    model.add(Dense(128, activation='relu'))\n",
    "    model.add(Dense(128, activation='relu'))\n",
    "    model.add(Dropout(0.5))\n",
    "    model.add(Dense(17, activation='sigmoid'))\n",
    "    \n",
    "    return model"
   ]
  },
  {
   "cell_type": "markdown",
   "metadata": {},
   "source": [
    "## Metrics"
   ]
  },
  {
   "cell_type": "code",
   "execution_count": 28,
   "metadata": {},
   "outputs": [],
   "source": [
    "class KerasMetrics:\n",
    "\tdef precision(self, y_true, y_pred):\n",
    "\t\ttrue_positives = k.backend.sum(k.backend.round(k.backend.clip(y_true * y_pred, 0, 1)))\n",
    "\t\tpredicted_positives = k.backend.sum(k.backend.round(k.backend.clip(y_pred, 0, 1)))\n",
    "\t\tprecision = true_positives / (predicted_positives + k.backend.epsilon())\n",
    "\t\treturn precision\n",
    "\n",
    "\tdef recall(self, y_true, y_pred):\n",
    "\t\ttrue_positives = k.backend.sum(k.backend.round(k.backend.clip(y_true * y_pred, 0, 1)))\n",
    "\t\tpossible_positives = k.backend.sum(k.backend.round(k.backend.clip(y_true, 0, 1)))\n",
    "\t\trecall = true_positives / (possible_positives + k.backend.epsilon())\n",
    "\t\treturn recall\n",
    "\n",
    "\tdef fbeta_score(self, y_true, y_pred, beta=2):\n",
    "\t\tif beta < 0:\n",
    "\t\t\traise ValueError('The lowest choosable beta is zero (only precision).')\n",
    "\n",
    "\t\tif k.backend.sum(k.backend.round(k.backend.clip(y_true, 0, 1))) == 0:\n",
    "\t\t\treturn 0\n",
    "\n",
    "\t\tp = self.precision(y_true, y_pred)\n",
    "\t\tr = self.recall(y_true, y_pred)\n",
    "\t\tbb = beta ** 2\n",
    "\t\tfbeta_score = (1 + bb) * (p * r) / (bb * p + r + k.backend.epsilon())\n",
    "\t\treturn fbeta_score"
   ]
  },
  {
   "cell_type": "code",
   "execution_count": 29,
   "metadata": {},
   "outputs": [],
   "source": [
    "keras_metrics = KerasMetrics()"
   ]
  },
  {
   "cell_type": "markdown",
   "metadata": {},
   "source": [
    "## Training"
   ]
  },
  {
   "cell_type": "markdown",
   "metadata": {},
   "source": [
    "### Train - from data as numpy array"
   ]
  },
  {
   "cell_type": "code",
   "execution_count": 30,
   "metadata": {},
   "outputs": [
    {
     "name": "stderr",
     "output_type": "stream",
     "text": [
      "WARNING: Logging before flag parsing goes to stderr.\n",
      "W0917 16:37:05.932328 140048735446848 deprecation.py:506] From /media/avemuri/DEV/software/anaconda3/envs/TF/lib/python3.7/site-packages/tensorflow/python/ops/init_ops.py:1251: calling VarianceScaling.__init__ (from tensorflow.python.ops.init_ops) with dtype is deprecated and will be removed in a future version.\n",
      "Instructions for updating:\n",
      "Call initializer instance with the dtype argument instead of passing it to the constructor\n"
     ]
    }
   ],
   "source": [
    "model = create_simple_model()"
   ]
  },
  {
   "cell_type": "code",
   "execution_count": 31,
   "metadata": {},
   "outputs": [
    {
     "name": "stderr",
     "output_type": "stream",
     "text": [
      "W0917 16:37:10.792775 140048735446848 deprecation.py:323] From /media/avemuri/DEV/software/anaconda3/envs/TF/lib/python3.7/site-packages/tensorflow/python/ops/nn_impl.py:180: add_dispatch_support.<locals>.wrapper (from tensorflow.python.ops.array_ops) is deprecated and will be removed in a future version.\n",
      "Instructions for updating:\n",
      "Use tf.where in 2.0, which has the same broadcast rule as np.where\n"
     ]
    }
   ],
   "source": [
    "# We NEED binary here, since categorical_crossentropy l1 norms the output before calculating loss.\n",
    "optim = k.optimizers.Adam(lr=1e-3, beta_1=0.9, beta_2=0.999, epsilon=None, decay=0.0, amsgrad=False)\n",
    "model.compile(loss='binary_crossentropy', optimizer=optim, metrics=['accuracy', keras_metrics.fbeta_score])"
   ]
  },
  {
   "cell_type": "code",
   "execution_count": 32,
   "metadata": {},
   "outputs": [],
   "source": [
    "datagen = k.preprocessing.image.ImageDataGenerator()\n",
    "# width_shift_range=0.2,\n",
    "#                                                    height_shift_range=0.2,\n",
    "#                                                    vertical_flip=True)\n",
    "\n",
    "# datagen.fit(x_train)"
   ]
  },
  {
   "cell_type": "code",
   "execution_count": 33,
   "metadata": {
    "jupyter": {
     "outputs_hidden": true
    }
   },
   "outputs": [
    {
     "name": "stdout",
     "output_type": "stream",
     "text": [
      "Epoch 1/100\n",
      "127/126 [==============================] - 5s 40ms/step - loss: 0.3006 - acc: 0.8872 - fbeta_score: 0.5834 - val_loss: 0.2386 - val_acc: 0.9066 - val_fbeta_score: 0.6085\n",
      "Epoch 2/100\n",
      "127/126 [==============================] - 3s 21ms/step - loss: 0.2394 - acc: 0.9078 - fbeta_score: 0.6034 - val_loss: 0.2113 - val_acc: 0.9156 - val_fbeta_score: 0.6369\n",
      "Epoch 3/100\n",
      "127/126 [==============================] - 3s 21ms/step - loss: 0.2253 - acc: 0.9121 - fbeta_score: 0.6279 - val_loss: 0.2059 - val_acc: 0.9176 - val_fbeta_score: 0.6432\n",
      "Epoch 4/100\n",
      "127/126 [==============================] - 3s 21ms/step - loss: 0.2142 - acc: 0.9146 - fbeta_score: 0.6423 - val_loss: 0.2010 - val_acc: 0.9177 - val_fbeta_score: 0.6765\n",
      "Epoch 5/100\n",
      "127/126 [==============================] - 3s 22ms/step - loss: 0.2096 - acc: 0.9158 - fbeta_score: 0.6487 - val_loss: 0.1939 - val_acc: 0.9211 - val_fbeta_score: 0.6488\n",
      "Epoch 6/100\n",
      "127/126 [==============================] - 3s 26ms/step - loss: 0.1992 - acc: 0.9200 - fbeta_score: 0.6716 - val_loss: 0.1867 - val_acc: 0.9266 - val_fbeta_score: 0.6981\n",
      "Epoch 7/100\n",
      "127/126 [==============================] - 3s 24ms/step - loss: 0.1888 - acc: 0.9250 - fbeta_score: 0.7007 - val_loss: 0.1719 - val_acc: 0.9318 - val_fbeta_score: 0.7249\n",
      "Epoch 8/100\n",
      "127/126 [==============================] - 3s 24ms/step - loss: 0.1803 - acc: 0.9283 - fbeta_score: 0.7178 - val_loss: 0.1666 - val_acc: 0.9337 - val_fbeta_score: 0.7494\n",
      "Epoch 9/100\n",
      "127/126 [==============================] - 3s 22ms/step - loss: 0.1729 - acc: 0.9323 - fbeta_score: 0.7325 - val_loss: 0.1601 - val_acc: 0.9361 - val_fbeta_score: 0.7357\n",
      "Epoch 10/100\n",
      "127/126 [==============================] - 3s 22ms/step - loss: 0.1673 - acc: 0.9344 - fbeta_score: 0.7403 - val_loss: 0.1556 - val_acc: 0.9388 - val_fbeta_score: 0.7571\n",
      "Epoch 11/100\n",
      "127/126 [==============================] - 3s 22ms/step - loss: 0.1644 - acc: 0.9358 - fbeta_score: 0.7449 - val_loss: 0.1527 - val_acc: 0.9397 - val_fbeta_score: 0.7619\n",
      "Epoch 12/100\n",
      "127/126 [==============================] - 3s 21ms/step - loss: 0.1626 - acc: 0.9363 - fbeta_score: 0.7476 - val_loss: 0.1539 - val_acc: 0.9381 - val_fbeta_score: 0.7497\n",
      "Epoch 13/100\n",
      "127/126 [==============================] - 3s 22ms/step - loss: 0.1572 - acc: 0.9382 - fbeta_score: 0.7577 - val_loss: 0.1479 - val_acc: 0.9417 - val_fbeta_score: 0.7780\n",
      "Epoch 14/100\n",
      "127/126 [==============================] - 3s 23ms/step - loss: 0.1565 - acc: 0.9386 - fbeta_score: 0.7597 - val_loss: 0.1505 - val_acc: 0.9404 - val_fbeta_score: 0.7684\n",
      "Epoch 15/100\n",
      "127/126 [==============================] - 3s 22ms/step - loss: 0.1538 - acc: 0.9397 - fbeta_score: 0.7640 - val_loss: 0.1452 - val_acc: 0.9430 - val_fbeta_score: 0.7809\n",
      "Epoch 16/100\n",
      "127/126 [==============================] - 3s 21ms/step - loss: 0.1521 - acc: 0.9404 - fbeta_score: 0.7672 - val_loss: 0.1467 - val_acc: 0.9416 - val_fbeta_score: 0.7733\n",
      "Epoch 17/100\n",
      "127/126 [==============================] - 3s 25ms/step - loss: 0.1507 - acc: 0.9409 - fbeta_score: 0.7699 - val_loss: 0.1415 - val_acc: 0.9451 - val_fbeta_score: 0.7822\n",
      "Epoch 18/100\n",
      "127/126 [==============================] - 3s 27ms/step - loss: 0.1529 - acc: 0.9399 - fbeta_score: 0.7647 - val_loss: 0.1449 - val_acc: 0.9426 - val_fbeta_score: 0.7708\n",
      "Epoch 19/100\n",
      "127/126 [==============================] - 3s 25ms/step - loss: 0.1482 - acc: 0.9416 - fbeta_score: 0.7720 - val_loss: 0.1400 - val_acc: 0.9446 - val_fbeta_score: 0.7803\n",
      "Epoch 20/100\n",
      "127/126 [==============================] - 3s 25ms/step - loss: 0.1471 - acc: 0.9421 - fbeta_score: 0.7743 - val_loss: 0.1396 - val_acc: 0.9450 - val_fbeta_score: 0.7864\n",
      "Epoch 21/100\n",
      "127/126 [==============================] - 3s 24ms/step - loss: 0.1453 - acc: 0.9427 - fbeta_score: 0.7778 - val_loss: 0.1361 - val_acc: 0.9460 - val_fbeta_score: 0.7955\n",
      "Epoch 22/100\n",
      "127/126 [==============================] - 3s 25ms/step - loss: 0.1446 - acc: 0.9432 - fbeta_score: 0.7793 - val_loss: 0.1388 - val_acc: 0.9451 - val_fbeta_score: 0.7787\n",
      "Epoch 23/100\n",
      "127/126 [==============================] - 3s 22ms/step - loss: 0.1427 - acc: 0.9438 - fbeta_score: 0.7810 - val_loss: 0.1395 - val_acc: 0.9438 - val_fbeta_score: 0.7711\n",
      "Epoch 24/100\n",
      "127/126 [==============================] - 3s 24ms/step - loss: 0.1420 - acc: 0.9436 - fbeta_score: 0.7820 - val_loss: 0.1363 - val_acc: 0.9465 - val_fbeta_score: 0.7948\n",
      "Epoch 25/100\n",
      "127/126 [==============================] - 3s 23ms/step - loss: 0.1409 - acc: 0.9440 - fbeta_score: 0.7837 - val_loss: 0.1349 - val_acc: 0.9465 - val_fbeta_score: 0.8009\n",
      "Epoch 26/100\n",
      "127/126 [==============================] - 3s 23ms/step - loss: 0.1400 - acc: 0.9444 - fbeta_score: 0.7850 - val_loss: 0.1358 - val_acc: 0.9460 - val_fbeta_score: 0.7909\n",
      "Epoch 27/100\n",
      "127/126 [==============================] - 3s 24ms/step - loss: 0.1388 - acc: 0.9445 - fbeta_score: 0.7855 - val_loss: 0.1347 - val_acc: 0.9475 - val_fbeta_score: 0.7999\n",
      "Epoch 28/100\n",
      "127/126 [==============================] - 3s 23ms/step - loss: 0.1367 - acc: 0.9459 - fbeta_score: 0.7916 - val_loss: 0.1317 - val_acc: 0.9476 - val_fbeta_score: 0.7972\n",
      "Epoch 29/100\n",
      "127/126 [==============================] - 3s 24ms/step - loss: 0.1371 - acc: 0.9458 - fbeta_score: 0.7911 - val_loss: 0.1330 - val_acc: 0.9475 - val_fbeta_score: 0.8039\n",
      "Epoch 30/100\n",
      "127/126 [==============================] - 3s 23ms/step - loss: 0.1369 - acc: 0.9457 - fbeta_score: 0.7921 - val_loss: 0.1313 - val_acc: 0.9477 - val_fbeta_score: 0.8027\n",
      "Epoch 31/100\n",
      "127/126 [==============================] - 3s 24ms/step - loss: 0.1353 - acc: 0.9464 - fbeta_score: 0.7945 - val_loss: 0.1291 - val_acc: 0.9486 - val_fbeta_score: 0.8045\n",
      "Epoch 32/100\n",
      "127/126 [==============================] - 3s 24ms/step - loss: 0.1341 - acc: 0.9469 - fbeta_score: 0.7959 - val_loss: 0.1318 - val_acc: 0.9478 - val_fbeta_score: 0.7973\n",
      "Epoch 33/100\n",
      "127/126 [==============================] - 3s 23ms/step - loss: 0.1343 - acc: 0.9471 - fbeta_score: 0.7972 - val_loss: 0.1292 - val_acc: 0.9483 - val_fbeta_score: 0.8059\n",
      "Epoch 34/100\n",
      "127/126 [==============================] - 3s 24ms/step - loss: 0.1317 - acc: 0.9477 - fbeta_score: 0.8009 - val_loss: 0.1290 - val_acc: 0.9483 - val_fbeta_score: 0.8056\n",
      "Epoch 35/100\n",
      "127/126 [==============================] - 3s 24ms/step - loss: 0.1305 - acc: 0.9480 - fbeta_score: 0.8015 - val_loss: 0.1271 - val_acc: 0.9498 - val_fbeta_score: 0.8081\n",
      "Epoch 36/100\n",
      "127/126 [==============================] - 3s 24ms/step - loss: 0.1302 - acc: 0.9481 - fbeta_score: 0.8019 - val_loss: 0.1309 - val_acc: 0.9479 - val_fbeta_score: 0.8070\n",
      "Epoch 37/100\n",
      "127/126 [==============================] - 3s 24ms/step - loss: 0.1299 - acc: 0.9484 - fbeta_score: 0.8037 - val_loss: 0.1303 - val_acc: 0.9487 - val_fbeta_score: 0.8048\n",
      "Epoch 38/100\n",
      "127/126 [==============================] - 3s 26ms/step - loss: 0.1298 - acc: 0.9485 - fbeta_score: 0.8042 - val_loss: 0.1326 - val_acc: 0.9485 - val_fbeta_score: 0.8091\n",
      "Epoch 39/100\n",
      "127/126 [==============================] - 3s 25ms/step - loss: 0.1282 - acc: 0.9492 - fbeta_score: 0.8077 - val_loss: 0.1303 - val_acc: 0.9481 - val_fbeta_score: 0.7983\n",
      "Epoch 40/100\n",
      "127/126 [==============================] - 3s 22ms/step - loss: 0.1285 - acc: 0.9493 - fbeta_score: 0.8073 - val_loss: 0.1286 - val_acc: 0.9496 - val_fbeta_score: 0.8080\n",
      "Epoch 41/100\n",
      "127/126 [==============================] - 3s 22ms/step - loss: 0.1267 - acc: 0.9498 - fbeta_score: 0.8099 - val_loss: 0.1271 - val_acc: 0.9499 - val_fbeta_score: 0.8147\n",
      "Epoch 42/100\n",
      "127/126 [==============================] - 3s 22ms/step - loss: 0.1265 - acc: 0.9497 - fbeta_score: 0.8107 - val_loss: 0.1306 - val_acc: 0.9490 - val_fbeta_score: 0.8118\n",
      "Epoch 43/100\n",
      "127/126 [==============================] - 3s 23ms/step - loss: 0.1263 - acc: 0.9500 - fbeta_score: 0.8122 - val_loss: 0.1281 - val_acc: 0.9500 - val_fbeta_score: 0.8072\n",
      "Epoch 44/100\n",
      "127/126 [==============================] - 3s 23ms/step - loss: 0.1254 - acc: 0.9501 - fbeta_score: 0.8118 - val_loss: 0.1328 - val_acc: 0.9478 - val_fbeta_score: 0.8047\n",
      "Epoch 45/100\n",
      "127/126 [==============================] - 3s 23ms/step - loss: 0.1247 - acc: 0.9505 - fbeta_score: 0.8138 - val_loss: 0.1282 - val_acc: 0.9506 - val_fbeta_score: 0.8131\n",
      "Epoch 46/100\n",
      "127/126 [==============================] - 3s 25ms/step - loss: 0.1251 - acc: 0.9503 - fbeta_score: 0.8129 - val_loss: 0.1266 - val_acc: 0.9499 - val_fbeta_score: 0.8210\n",
      "Epoch 47/100\n",
      "127/126 [==============================] - 3s 22ms/step - loss: 0.1238 - acc: 0.9511 - fbeta_score: 0.8156 - val_loss: 0.1270 - val_acc: 0.9501 - val_fbeta_score: 0.8220\n",
      "Epoch 48/100\n",
      "127/126 [==============================] - 3s 23ms/step - loss: 0.1223 - acc: 0.9514 - fbeta_score: 0.8173 - val_loss: 0.1270 - val_acc: 0.9502 - val_fbeta_score: 0.8109\n",
      "Epoch 49/100\n",
      "127/126 [==============================] - 3s 22ms/step - loss: 0.1231 - acc: 0.9514 - fbeta_score: 0.8175 - val_loss: 0.1270 - val_acc: 0.9510 - val_fbeta_score: 0.8179\n",
      "Epoch 50/100\n",
      "127/126 [==============================] - 3s 22ms/step - loss: 0.1229 - acc: 0.9515 - fbeta_score: 0.8182 - val_loss: 0.1340 - val_acc: 0.9488 - val_fbeta_score: 0.8179\n",
      "Epoch 51/100\n",
      "127/126 [==============================] - 3s 22ms/step - loss: 0.1225 - acc: 0.9513 - fbeta_score: 0.8177 - val_loss: 0.1337 - val_acc: 0.9489 - val_fbeta_score: 0.8113\n",
      "Epoch 52/100\n",
      "127/126 [==============================] - 3s 22ms/step - loss: 0.1221 - acc: 0.9515 - fbeta_score: 0.8188 - val_loss: 0.1285 - val_acc: 0.9497 - val_fbeta_score: 0.8175\n",
      "Epoch 53/100\n",
      "127/126 [==============================] - 3s 22ms/step - loss: 0.1203 - acc: 0.9520 - fbeta_score: 0.8216 - val_loss: 0.1288 - val_acc: 0.9512 - val_fbeta_score: 0.8219\n",
      "Epoch 54/100\n",
      "127/126 [==============================] - 3s 23ms/step - loss: 0.1210 - acc: 0.9523 - fbeta_score: 0.8216 - val_loss: 0.1267 - val_acc: 0.9510 - val_fbeta_score: 0.8213\n",
      "Epoch 55/100\n",
      "127/126 [==============================] - 3s 23ms/step - loss: 0.1187 - acc: 0.9527 - fbeta_score: 0.8240 - val_loss: 0.1287 - val_acc: 0.9507 - val_fbeta_score: 0.8193\n",
      "Epoch 56/100\n",
      "127/126 [==============================] - 3s 22ms/step - loss: 0.1174 - acc: 0.9533 - fbeta_score: 0.8256 - val_loss: 0.1269 - val_acc: 0.9513 - val_fbeta_score: 0.8139\n",
      "Epoch 57/100\n",
      "127/126 [==============================] - 3s 22ms/step - loss: 0.1179 - acc: 0.9531 - fbeta_score: 0.8244 - val_loss: 0.1270 - val_acc: 0.9504 - val_fbeta_score: 0.8152\n",
      "Epoch 58/100\n",
      "127/126 [==============================] - 3s 23ms/step - loss: 0.1182 - acc: 0.9534 - fbeta_score: 0.8263 - val_loss: 0.1294 - val_acc: 0.9499 - val_fbeta_score: 0.8193\n",
      "Epoch 59/100\n",
      "127/126 [==============================] - 3s 22ms/step - loss: 0.1165 - acc: 0.9540 - fbeta_score: 0.8286 - val_loss: 0.1290 - val_acc: 0.9513 - val_fbeta_score: 0.8215\n",
      "Epoch 60/100\n",
      "127/126 [==============================] - 3s 22ms/step - loss: 0.1155 - acc: 0.9542 - fbeta_score: 0.8297 - val_loss: 0.1279 - val_acc: 0.9514 - val_fbeta_score: 0.8163\n",
      "Epoch 61/100\n",
      "127/126 [==============================] - 3s 22ms/step - loss: 0.1149 - acc: 0.9543 - fbeta_score: 0.8305 - val_loss: 0.1276 - val_acc: 0.9514 - val_fbeta_score: 0.8200\n",
      "Epoch 62/100\n",
      "127/126 [==============================] - 3s 22ms/step - loss: 0.1152 - acc: 0.9546 - fbeta_score: 0.8303 - val_loss: 0.1278 - val_acc: 0.9513 - val_fbeta_score: 0.8207\n",
      "Epoch 63/100\n",
      "127/126 [==============================] - 3s 22ms/step - loss: 0.1156 - acc: 0.9542 - fbeta_score: 0.8295 - val_loss: 0.1294 - val_acc: 0.9506 - val_fbeta_score: 0.8168\n",
      "Epoch 64/100\n",
      "127/126 [==============================] - 3s 22ms/step - loss: 0.1157 - acc: 0.9540 - fbeta_score: 0.8289 - val_loss: 0.1280 - val_acc: 0.9516 - val_fbeta_score: 0.8229\n",
      "Epoch 65/100\n",
      "127/126 [==============================] - 3s 22ms/step - loss: 0.1140 - acc: 0.9548 - fbeta_score: 0.8317 - val_loss: 0.1290 - val_acc: 0.9512 - val_fbeta_score: 0.8223\n",
      "Epoch 66/100\n",
      "127/126 [==============================] - 3s 22ms/step - loss: 0.1142 - acc: 0.9548 - fbeta_score: 0.8310 - val_loss: 0.1315 - val_acc: 0.9495 - val_fbeta_score: 0.8235\n",
      "Epoch 67/100\n",
      "127/126 [==============================] - 3s 22ms/step - loss: 0.1142 - acc: 0.9550 - fbeta_score: 0.8326 - val_loss: 0.1317 - val_acc: 0.9501 - val_fbeta_score: 0.8187\n",
      "Epoch 68/100\n",
      "127/126 [==============================] - 3s 22ms/step - loss: 0.1130 - acc: 0.9554 - fbeta_score: 0.8337 - val_loss: 0.1305 - val_acc: 0.9508 - val_fbeta_score: 0.8237\n",
      "Epoch 69/100\n",
      "127/126 [==============================] - 3s 22ms/step - loss: 0.1120 - acc: 0.9556 - fbeta_score: 0.8358 - val_loss: 0.1295 - val_acc: 0.9512 - val_fbeta_score: 0.8182\n",
      "Epoch 70/100\n",
      "127/126 [==============================] - 3s 22ms/step - loss: 0.1118 - acc: 0.9558 - fbeta_score: 0.8351 - val_loss: 0.1295 - val_acc: 0.9511 - val_fbeta_score: 0.8252\n",
      "Epoch 71/100\n",
      "127/126 [==============================] - 3s 22ms/step - loss: 0.1105 - acc: 0.9562 - fbeta_score: 0.8372 - val_loss: 0.1300 - val_acc: 0.9513 - val_fbeta_score: 0.8238\n",
      "Epoch 72/100\n",
      "127/126 [==============================] - 3s 22ms/step - loss: 0.1107 - acc: 0.9564 - fbeta_score: 0.8383 - val_loss: 0.1320 - val_acc: 0.9507 - val_fbeta_score: 0.8201\n",
      "Epoch 73/100\n",
      "127/126 [==============================] - 3s 22ms/step - loss: 0.1112 - acc: 0.9559 - fbeta_score: 0.8359 - val_loss: 0.1317 - val_acc: 0.9503 - val_fbeta_score: 0.8338\n",
      "Epoch 74/100\n",
      "127/126 [==============================] - 3s 22ms/step - loss: 0.1098 - acc: 0.9563 - fbeta_score: 0.8388 - val_loss: 0.1327 - val_acc: 0.9497 - val_fbeta_score: 0.8173\n",
      "Epoch 75/100\n",
      "127/126 [==============================] - 3s 22ms/step - loss: 0.1099 - acc: 0.9566 - fbeta_score: 0.8398 - val_loss: 0.1305 - val_acc: 0.9516 - val_fbeta_score: 0.8215\n",
      "Epoch 76/100\n",
      "127/126 [==============================] - 3s 23ms/step - loss: 0.1096 - acc: 0.9563 - fbeta_score: 0.8380 - val_loss: 0.1309 - val_acc: 0.9513 - val_fbeta_score: 0.8279\n",
      "Epoch 77/100\n",
      "127/126 [==============================] - 3s 22ms/step - loss: 0.1104 - acc: 0.9562 - fbeta_score: 0.8376 - val_loss: 0.1341 - val_acc: 0.9506 - val_fbeta_score: 0.8214\n",
      "Epoch 78/100\n",
      "127/126 [==============================] - 3s 23ms/step - loss: 0.1092 - acc: 0.9565 - fbeta_score: 0.8389 - val_loss: 0.1307 - val_acc: 0.9514 - val_fbeta_score: 0.8223\n",
      "Epoch 79/100\n",
      "127/126 [==============================] - 3s 25ms/step - loss: 0.1085 - acc: 0.9568 - fbeta_score: 0.8406 - val_loss: 0.1320 - val_acc: 0.9516 - val_fbeta_score: 0.8223\n",
      "Epoch 80/100\n",
      "127/126 [==============================] - 3s 24ms/step - loss: 0.1087 - acc: 0.9569 - fbeta_score: 0.8403 - val_loss: 0.1332 - val_acc: 0.9510 - val_fbeta_score: 0.8226\n",
      "Epoch 81/100\n",
      "127/126 [==============================] - 3s 25ms/step - loss: 0.1072 - acc: 0.9573 - fbeta_score: 0.8418 - val_loss: 0.1341 - val_acc: 0.9510 - val_fbeta_score: 0.8222\n",
      "Epoch 82/100\n",
      "127/126 [==============================] - 3s 24ms/step - loss: 0.1071 - acc: 0.9573 - fbeta_score: 0.8422 - val_loss: 0.1361 - val_acc: 0.9506 - val_fbeta_score: 0.8210\n",
      "Epoch 83/100\n",
      "127/126 [==============================] - 3s 23ms/step - loss: 0.1063 - acc: 0.9575 - fbeta_score: 0.8438 - val_loss: 0.1331 - val_acc: 0.9501 - val_fbeta_score: 0.8193\n",
      "Epoch 84/100\n",
      "127/126 [==============================] - 3s 23ms/step - loss: 0.1079 - acc: 0.9569 - fbeta_score: 0.8408 - val_loss: 0.1300 - val_acc: 0.9509 - val_fbeta_score: 0.8224\n",
      "Epoch 85/100\n",
      "127/126 [==============================] - 3s 22ms/step - loss: 0.1062 - acc: 0.9578 - fbeta_score: 0.8441 - val_loss: 0.1344 - val_acc: 0.9510 - val_fbeta_score: 0.8191\n",
      "Epoch 86/100\n",
      "127/126 [==============================] - 3s 22ms/step - loss: 0.1055 - acc: 0.9579 - fbeta_score: 0.8443 - val_loss: 0.1376 - val_acc: 0.9496 - val_fbeta_score: 0.8160\n",
      "Epoch 87/100\n",
      "127/126 [==============================] - 3s 21ms/step - loss: 0.1051 - acc: 0.9584 - fbeta_score: 0.8462 - val_loss: 0.1359 - val_acc: 0.9508 - val_fbeta_score: 0.8273\n",
      "Epoch 88/100\n",
      "127/126 [==============================] - 3s 21ms/step - loss: 0.1050 - acc: 0.9583 - fbeta_score: 0.8463 - val_loss: 0.1351 - val_acc: 0.9507 - val_fbeta_score: 0.8258\n",
      "Epoch 89/100\n",
      "127/126 [==============================] - 3s 21ms/step - loss: 0.1055 - acc: 0.9582 - fbeta_score: 0.8456 - val_loss: 0.1353 - val_acc: 0.9512 - val_fbeta_score: 0.8205\n",
      "Epoch 90/100\n",
      "127/126 [==============================] - 3s 21ms/step - loss: 0.1058 - acc: 0.9579 - fbeta_score: 0.8453 - val_loss: 0.1351 - val_acc: 0.9512 - val_fbeta_score: 0.8197\n",
      "Epoch 91/100\n",
      "127/126 [==============================] - 3s 22ms/step - loss: 0.1050 - acc: 0.9581 - fbeta_score: 0.8453 - val_loss: 0.1373 - val_acc: 0.9507 - val_fbeta_score: 0.8226\n",
      "Epoch 92/100\n",
      "127/126 [==============================] - 3s 22ms/step - loss: 0.1048 - acc: 0.9584 - fbeta_score: 0.8468 - val_loss: 0.1337 - val_acc: 0.9507 - val_fbeta_score: 0.8262\n",
      "Epoch 93/100\n",
      "127/126 [==============================] - 3s 22ms/step - loss: 0.1059 - acc: 0.9581 - fbeta_score: 0.8456 - val_loss: 0.1411 - val_acc: 0.9503 - val_fbeta_score: 0.8230\n",
      "Epoch 94/100\n",
      "127/126 [==============================] - 3s 22ms/step - loss: 0.1040 - acc: 0.9586 - fbeta_score: 0.8470 - val_loss: 0.1366 - val_acc: 0.9510 - val_fbeta_score: 0.8262\n",
      "Epoch 95/100\n",
      "127/126 [==============================] - 3s 25ms/step - loss: 0.1028 - acc: 0.9591 - fbeta_score: 0.8493 - val_loss: 0.1341 - val_acc: 0.9517 - val_fbeta_score: 0.8240\n",
      "Epoch 96/100\n",
      "127/126 [==============================] - 3s 21ms/step - loss: 0.1015 - acc: 0.9598 - fbeta_score: 0.8526 - val_loss: 0.1379 - val_acc: 0.9508 - val_fbeta_score: 0.8174\n",
      "Epoch 97/100\n",
      "127/126 [==============================] - 3s 21ms/step - loss: 0.1032 - acc: 0.9589 - fbeta_score: 0.8484 - val_loss: 0.1367 - val_acc: 0.9511 - val_fbeta_score: 0.8280\n",
      "Epoch 98/100\n",
      "127/126 [==============================] - 3s 22ms/step - loss: 0.1030 - acc: 0.9592 - fbeta_score: 0.8500 - val_loss: 0.1379 - val_acc: 0.9501 - val_fbeta_score: 0.8220\n",
      "Epoch 99/100\n",
      "127/126 [==============================] - 3s 22ms/step - loss: 0.1036 - acc: 0.9587 - fbeta_score: 0.8480 - val_loss: 0.1377 - val_acc: 0.9493 - val_fbeta_score: 0.8242\n",
      "Epoch 100/100\n",
      "127/126 [==============================] - 3s 21ms/step - loss: 0.1037 - acc: 0.9589 - fbeta_score: 0.8477 - val_loss: 0.1370 - val_acc: 0.9505 - val_fbeta_score: 0.8139\n"
     ]
    }
   ],
   "source": [
    "history = model.fit_generator(datagen.flow(x_train, y_train, batch_size=BATCH_SIZE),\n",
    "                              steps_per_epoch=len(x_train)/BATCH_SIZE, epochs=100,\n",
    "                              validation_data=(x_valid, y_valid))"
   ]
  },
  {
   "cell_type": "code",
   "execution_count": null,
   "metadata": {},
   "outputs": [],
   "source": []
  },
  {
   "cell_type": "markdown",
   "metadata": {},
   "source": [
    "### Train - data as custom datagenerator"
   ]
  },
  {
   "cell_type": "code",
   "execution_count": 37,
   "metadata": {},
   "outputs": [],
   "source": [
    "model = create_simple_model()"
   ]
  },
  {
   "cell_type": "code",
   "execution_count": 41,
   "metadata": {},
   "outputs": [],
   "source": [
    "# We NEED binary here, since categorical_crossentropy l1 norms the output before calculating loss.\n",
    "optim = k.optimizers.Adam(lr=0.1, beta_1=0.9, beta_2=0.999, epsilon=None, decay=0.0, amsgrad=False)\n",
    "model.compile(loss='binary_crossentropy', optimizer=optim, metrics=['accuracy', keras_metrics.fbeta_score])"
   ]
  },
  {
   "cell_type": "code",
   "execution_count": 42,
   "metadata": {},
   "outputs": [
    {
     "name": "stdout",
     "output_type": "stream",
     "text": [
      "Epoch 1/10\n",
      "127/126 [==============================] - 52s 406ms/step - loss: 13.4707 - acc: 0.8927 - fbeta_score: 0.5900 - val_loss: 0.2564 - val_acc: 0.9070 - val_fbeta_score: 0.6103\n",
      "Epoch 2/10\n",
      "127/126 [==============================] - 48s 378ms/step - loss: 0.2582 - acc: 0.9052 - fbeta_score: 0.6045 - val_loss: 0.2569 - val_acc: 0.9070 - val_fbeta_score: 0.6103\n",
      "Epoch 3/10\n",
      "127/126 [==============================] - 48s 380ms/step - loss: 0.2561 - acc: 0.9052 - fbeta_score: 0.6045 - val_loss: 0.2568 - val_acc: 0.9070 - val_fbeta_score: 0.6103\n",
      "Epoch 4/10\n",
      "127/126 [==============================] - 48s 378ms/step - loss: 0.2573 - acc: 0.9045 - fbeta_score: 0.6022 - val_loss: 0.2563 - val_acc: 0.9070 - val_fbeta_score: 0.6103\n",
      "Epoch 5/10\n",
      "127/126 [==============================] - 48s 379ms/step - loss: 0.2565 - acc: 0.9049 - fbeta_score: 0.6035 - val_loss: 0.2564 - val_acc: 0.9070 - val_fbeta_score: 0.6103\n",
      "Epoch 6/10\n",
      " 20/126 [===>..........................] - ETA: 16s - loss: 0.2620 - acc: 0.9019 - fbeta_score: 0.5945"
     ]
    },
    {
     "name": "stderr",
     "output_type": "stream",
     "text": [
      "Process Keras_worker_ForkPoolWorker-9:\n",
      "Traceback (most recent call last):\n",
      "  File \"/media/avemuri/DEV/software/anaconda3/envs/TF/lib/python3.7/multiprocessing/process.py\", line 297, in _bootstrap\n",
      "    self.run()\n"
     ]
    },
    {
     "ename": "KeyboardInterrupt",
     "evalue": "",
     "output_type": "error",
     "traceback": [
      "\u001b[0;31m---------------------------------------------------------------------------\u001b[0m",
      "\u001b[0;31mKeyboardInterrupt\u001b[0m                         Traceback (most recent call last)",
      "\u001b[0;32m<ipython-input-42-4cfc37c541d1>\u001b[0m in \u001b[0;36m<module>\u001b[0;34m\u001b[0m\n\u001b[1;32m      2\u001b[0m                               \u001b[0msteps_per_epoch\u001b[0m\u001b[0;34m=\u001b[0m\u001b[0mlen\u001b[0m\u001b[0;34m(\u001b[0m\u001b[0mtrain_indices\u001b[0m\u001b[0;34m)\u001b[0m\u001b[0;34m/\u001b[0m\u001b[0mBATCH_SIZE\u001b[0m\u001b[0;34m,\u001b[0m \u001b[0mepochs\u001b[0m\u001b[0;34m=\u001b[0m\u001b[0;36m10\u001b[0m\u001b[0;34m,\u001b[0m\u001b[0;34m\u001b[0m\u001b[0;34m\u001b[0m\u001b[0m\n\u001b[1;32m      3\u001b[0m                               \u001b[0mvalidation_data\u001b[0m\u001b[0;34m=\u001b[0m\u001b[0mvalid_datagen\u001b[0m\u001b[0;34m,\u001b[0m\u001b[0;34m\u001b[0m\u001b[0;34m\u001b[0m\u001b[0m\n\u001b[0;32m----> 4\u001b[0;31m                               validation_steps=len(val_indices)/BATCH_SIZE, use_multiprocessing=True)\n\u001b[0m",
      "\u001b[0;32m/media/avemuri/DEV/software/anaconda3/envs/TF/lib/python3.7/site-packages/tensorflow/python/keras/engine/training.py\u001b[0m in \u001b[0;36mfit_generator\u001b[0;34m(self, generator, steps_per_epoch, epochs, verbose, callbacks, validation_data, validation_steps, validation_freq, class_weight, max_queue_size, workers, use_multiprocessing, shuffle, initial_epoch)\u001b[0m\n\u001b[1;32m   1431\u001b[0m         \u001b[0mshuffle\u001b[0m\u001b[0;34m=\u001b[0m\u001b[0mshuffle\u001b[0m\u001b[0;34m,\u001b[0m\u001b[0;34m\u001b[0m\u001b[0;34m\u001b[0m\u001b[0m\n\u001b[1;32m   1432\u001b[0m         \u001b[0minitial_epoch\u001b[0m\u001b[0;34m=\u001b[0m\u001b[0minitial_epoch\u001b[0m\u001b[0;34m,\u001b[0m\u001b[0;34m\u001b[0m\u001b[0;34m\u001b[0m\u001b[0m\n\u001b[0;32m-> 1433\u001b[0;31m         steps_name='steps_per_epoch')\n\u001b[0m\u001b[1;32m   1434\u001b[0m \u001b[0;34m\u001b[0m\u001b[0m\n\u001b[1;32m   1435\u001b[0m   def evaluate_generator(self,\n",
      "\u001b[0;32m/media/avemuri/DEV/software/anaconda3/envs/TF/lib/python3.7/site-packages/tensorflow/python/keras/engine/training_generator.py\u001b[0m in \u001b[0;36mmodel_iteration\u001b[0;34m(model, data, steps_per_epoch, epochs, verbose, callbacks, validation_data, validation_steps, validation_freq, class_weight, max_queue_size, workers, use_multiprocessing, shuffle, initial_epoch, mode, batch_size, steps_name, **kwargs)\u001b[0m\n\u001b[1;32m    218\u001b[0m     \u001b[0mstep\u001b[0m \u001b[0;34m=\u001b[0m \u001b[0;36m0\u001b[0m\u001b[0;34m\u001b[0m\u001b[0;34m\u001b[0m\u001b[0m\n\u001b[1;32m    219\u001b[0m     \u001b[0;32mwhile\u001b[0m \u001b[0mstep\u001b[0m \u001b[0;34m<\u001b[0m \u001b[0mtarget_steps\u001b[0m\u001b[0;34m:\u001b[0m\u001b[0;34m\u001b[0m\u001b[0;34m\u001b[0m\u001b[0m\n\u001b[0;32m--> 220\u001b[0;31m       \u001b[0mbatch_data\u001b[0m \u001b[0;34m=\u001b[0m \u001b[0m_get_next_batch\u001b[0m\u001b[0;34m(\u001b[0m\u001b[0mgenerator\u001b[0m\u001b[0;34m,\u001b[0m \u001b[0mmode\u001b[0m\u001b[0;34m)\u001b[0m\u001b[0;34m\u001b[0m\u001b[0;34m\u001b[0m\u001b[0m\n\u001b[0m\u001b[1;32m    221\u001b[0m       \u001b[0;32mif\u001b[0m \u001b[0mbatch_data\u001b[0m \u001b[0;32mis\u001b[0m \u001b[0;32mNone\u001b[0m\u001b[0;34m:\u001b[0m\u001b[0;34m\u001b[0m\u001b[0;34m\u001b[0m\u001b[0m\n\u001b[1;32m    222\u001b[0m         \u001b[0;32mif\u001b[0m \u001b[0mis_dataset\u001b[0m\u001b[0;34m:\u001b[0m\u001b[0;34m\u001b[0m\u001b[0;34m\u001b[0m\u001b[0m\n",
      "\u001b[0;32m/media/avemuri/DEV/software/anaconda3/envs/TF/lib/python3.7/site-packages/tensorflow/python/keras/engine/training_generator.py\u001b[0m in \u001b[0;36m_get_next_batch\u001b[0;34m(generator, mode)\u001b[0m\n\u001b[1;32m    360\u001b[0m   \u001b[0;34m\"\"\"Retrieves the next batch of input data.\"\"\"\u001b[0m\u001b[0;34m\u001b[0m\u001b[0;34m\u001b[0m\u001b[0m\n\u001b[1;32m    361\u001b[0m   \u001b[0;32mtry\u001b[0m\u001b[0;34m:\u001b[0m\u001b[0;34m\u001b[0m\u001b[0;34m\u001b[0m\u001b[0m\n\u001b[0;32m--> 362\u001b[0;31m     \u001b[0mgenerator_output\u001b[0m \u001b[0;34m=\u001b[0m \u001b[0mnext\u001b[0m\u001b[0;34m(\u001b[0m\u001b[0mgenerator\u001b[0m\u001b[0;34m)\u001b[0m\u001b[0;34m\u001b[0m\u001b[0;34m\u001b[0m\u001b[0m\n\u001b[0m\u001b[1;32m    363\u001b[0m   \u001b[0;32mexcept\u001b[0m \u001b[0;34m(\u001b[0m\u001b[0mStopIteration\u001b[0m\u001b[0;34m,\u001b[0m \u001b[0merrors\u001b[0m\u001b[0;34m.\u001b[0m\u001b[0mOutOfRangeError\u001b[0m\u001b[0;34m)\u001b[0m\u001b[0;34m:\u001b[0m\u001b[0;34m\u001b[0m\u001b[0;34m\u001b[0m\u001b[0m\n\u001b[1;32m    364\u001b[0m     \u001b[0;32mreturn\u001b[0m \u001b[0;32mNone\u001b[0m\u001b[0;34m\u001b[0m\u001b[0;34m\u001b[0m\u001b[0m\n",
      "\u001b[0;32m/media/avemuri/DEV/software/anaconda3/envs/TF/lib/python3.7/site-packages/tensorflow/python/keras/utils/data_utils.py\u001b[0m in \u001b[0;36mget\u001b[0;34m(self)\u001b[0m\n\u001b[1;32m    892\u001b[0m     \u001b[0;32mtry\u001b[0m\u001b[0;34m:\u001b[0m\u001b[0;34m\u001b[0m\u001b[0;34m\u001b[0m\u001b[0m\n\u001b[1;32m    893\u001b[0m       \u001b[0;32mwhile\u001b[0m \u001b[0mself\u001b[0m\u001b[0;34m.\u001b[0m\u001b[0mis_running\u001b[0m\u001b[0;34m(\u001b[0m\u001b[0;34m)\u001b[0m\u001b[0;34m:\u001b[0m\u001b[0;34m\u001b[0m\u001b[0;34m\u001b[0m\u001b[0m\n\u001b[0;32m--> 894\u001b[0;31m         \u001b[0minputs\u001b[0m \u001b[0;34m=\u001b[0m \u001b[0mself\u001b[0m\u001b[0;34m.\u001b[0m\u001b[0mqueue\u001b[0m\u001b[0;34m.\u001b[0m\u001b[0mget\u001b[0m\u001b[0;34m(\u001b[0m\u001b[0mblock\u001b[0m\u001b[0;34m=\u001b[0m\u001b[0;32mTrue\u001b[0m\u001b[0;34m)\u001b[0m\u001b[0;34m.\u001b[0m\u001b[0mget\u001b[0m\u001b[0;34m(\u001b[0m\u001b[0;34m)\u001b[0m\u001b[0;34m\u001b[0m\u001b[0;34m\u001b[0m\u001b[0m\n\u001b[0m\u001b[1;32m    895\u001b[0m         \u001b[0mself\u001b[0m\u001b[0;34m.\u001b[0m\u001b[0mqueue\u001b[0m\u001b[0;34m.\u001b[0m\u001b[0mtask_done\u001b[0m\u001b[0;34m(\u001b[0m\u001b[0;34m)\u001b[0m\u001b[0;34m\u001b[0m\u001b[0;34m\u001b[0m\u001b[0m\n\u001b[1;32m    896\u001b[0m         \u001b[0;32mif\u001b[0m \u001b[0minputs\u001b[0m \u001b[0;32mis\u001b[0m \u001b[0;32mnot\u001b[0m \u001b[0;32mNone\u001b[0m\u001b[0;34m:\u001b[0m\u001b[0;34m\u001b[0m\u001b[0;34m\u001b[0m\u001b[0m\n",
      "\u001b[0;32m/media/avemuri/DEV/software/anaconda3/envs/TF/lib/python3.7/multiprocessing/pool.py\u001b[0m in \u001b[0;36mget\u001b[0;34m(self, timeout)\u001b[0m\n\u001b[1;32m    675\u001b[0m \u001b[0;34m\u001b[0m\u001b[0m\n\u001b[1;32m    676\u001b[0m     \u001b[0;32mdef\u001b[0m \u001b[0mget\u001b[0m\u001b[0;34m(\u001b[0m\u001b[0mself\u001b[0m\u001b[0;34m,\u001b[0m \u001b[0mtimeout\u001b[0m\u001b[0;34m=\u001b[0m\u001b[0;32mNone\u001b[0m\u001b[0;34m)\u001b[0m\u001b[0;34m:\u001b[0m\u001b[0;34m\u001b[0m\u001b[0;34m\u001b[0m\u001b[0m\n\u001b[0;32m--> 677\u001b[0;31m         \u001b[0mself\u001b[0m\u001b[0;34m.\u001b[0m\u001b[0mwait\u001b[0m\u001b[0;34m(\u001b[0m\u001b[0mtimeout\u001b[0m\u001b[0;34m)\u001b[0m\u001b[0;34m\u001b[0m\u001b[0;34m\u001b[0m\u001b[0m\n\u001b[0m\u001b[1;32m    678\u001b[0m         \u001b[0;32mif\u001b[0m \u001b[0;32mnot\u001b[0m \u001b[0mself\u001b[0m\u001b[0;34m.\u001b[0m\u001b[0mready\u001b[0m\u001b[0;34m(\u001b[0m\u001b[0;34m)\u001b[0m\u001b[0;34m:\u001b[0m\u001b[0;34m\u001b[0m\u001b[0;34m\u001b[0m\u001b[0m\n\u001b[1;32m    679\u001b[0m             \u001b[0;32mraise\u001b[0m \u001b[0mTimeoutError\u001b[0m\u001b[0;34m\u001b[0m\u001b[0;34m\u001b[0m\u001b[0m\n",
      "\u001b[0;32m/media/avemuri/DEV/software/anaconda3/envs/TF/lib/python3.7/multiprocessing/pool.py\u001b[0m in \u001b[0;36mwait\u001b[0;34m(self, timeout)\u001b[0m\n\u001b[1;32m    672\u001b[0m \u001b[0;34m\u001b[0m\u001b[0m\n\u001b[1;32m    673\u001b[0m     \u001b[0;32mdef\u001b[0m \u001b[0mwait\u001b[0m\u001b[0;34m(\u001b[0m\u001b[0mself\u001b[0m\u001b[0;34m,\u001b[0m \u001b[0mtimeout\u001b[0m\u001b[0;34m=\u001b[0m\u001b[0;32mNone\u001b[0m\u001b[0;34m)\u001b[0m\u001b[0;34m:\u001b[0m\u001b[0;34m\u001b[0m\u001b[0;34m\u001b[0m\u001b[0m\n\u001b[0;32m--> 674\u001b[0;31m         \u001b[0mself\u001b[0m\u001b[0;34m.\u001b[0m\u001b[0m_event\u001b[0m\u001b[0;34m.\u001b[0m\u001b[0mwait\u001b[0m\u001b[0;34m(\u001b[0m\u001b[0mtimeout\u001b[0m\u001b[0;34m)\u001b[0m\u001b[0;34m\u001b[0m\u001b[0;34m\u001b[0m\u001b[0m\n\u001b[0m\u001b[1;32m    675\u001b[0m \u001b[0;34m\u001b[0m\u001b[0m\n\u001b[1;32m    676\u001b[0m     \u001b[0;32mdef\u001b[0m \u001b[0mget\u001b[0m\u001b[0;34m(\u001b[0m\u001b[0mself\u001b[0m\u001b[0;34m,\u001b[0m \u001b[0mtimeout\u001b[0m\u001b[0;34m=\u001b[0m\u001b[0;32mNone\u001b[0m\u001b[0;34m)\u001b[0m\u001b[0;34m:\u001b[0m\u001b[0;34m\u001b[0m\u001b[0;34m\u001b[0m\u001b[0m\n",
      "\u001b[0;32m/media/avemuri/DEV/software/anaconda3/envs/TF/lib/python3.7/threading.py\u001b[0m in \u001b[0;36mwait\u001b[0;34m(self, timeout)\u001b[0m\n\u001b[1;32m    550\u001b[0m             \u001b[0msignaled\u001b[0m \u001b[0;34m=\u001b[0m \u001b[0mself\u001b[0m\u001b[0;34m.\u001b[0m\u001b[0m_flag\u001b[0m\u001b[0;34m\u001b[0m\u001b[0;34m\u001b[0m\u001b[0m\n\u001b[1;32m    551\u001b[0m             \u001b[0;32mif\u001b[0m \u001b[0;32mnot\u001b[0m \u001b[0msignaled\u001b[0m\u001b[0;34m:\u001b[0m\u001b[0;34m\u001b[0m\u001b[0;34m\u001b[0m\u001b[0m\n\u001b[0;32m--> 552\u001b[0;31m                 \u001b[0msignaled\u001b[0m \u001b[0;34m=\u001b[0m \u001b[0mself\u001b[0m\u001b[0;34m.\u001b[0m\u001b[0m_cond\u001b[0m\u001b[0;34m.\u001b[0m\u001b[0mwait\u001b[0m\u001b[0;34m(\u001b[0m\u001b[0mtimeout\u001b[0m\u001b[0;34m)\u001b[0m\u001b[0;34m\u001b[0m\u001b[0;34m\u001b[0m\u001b[0m\n\u001b[0m\u001b[1;32m    553\u001b[0m             \u001b[0;32mreturn\u001b[0m \u001b[0msignaled\u001b[0m\u001b[0;34m\u001b[0m\u001b[0;34m\u001b[0m\u001b[0m\n\u001b[1;32m    554\u001b[0m \u001b[0;34m\u001b[0m\u001b[0m\n",
      "\u001b[0;32m/media/avemuri/DEV/software/anaconda3/envs/TF/lib/python3.7/threading.py\u001b[0m in \u001b[0;36mwait\u001b[0;34m(self, timeout)\u001b[0m\n\u001b[1;32m    294\u001b[0m         \u001b[0;32mtry\u001b[0m\u001b[0;34m:\u001b[0m    \u001b[0;31m# restore state no matter what (e.g., KeyboardInterrupt)\u001b[0m\u001b[0;34m\u001b[0m\u001b[0;34m\u001b[0m\u001b[0m\n\u001b[1;32m    295\u001b[0m             \u001b[0;32mif\u001b[0m \u001b[0mtimeout\u001b[0m \u001b[0;32mis\u001b[0m \u001b[0;32mNone\u001b[0m\u001b[0;34m:\u001b[0m\u001b[0;34m\u001b[0m\u001b[0;34m\u001b[0m\u001b[0m\n\u001b[0;32m--> 296\u001b[0;31m                 \u001b[0mwaiter\u001b[0m\u001b[0;34m.\u001b[0m\u001b[0macquire\u001b[0m\u001b[0;34m(\u001b[0m\u001b[0;34m)\u001b[0m\u001b[0;34m\u001b[0m\u001b[0;34m\u001b[0m\u001b[0m\n\u001b[0m\u001b[1;32m    297\u001b[0m                 \u001b[0mgotit\u001b[0m \u001b[0;34m=\u001b[0m \u001b[0;32mTrue\u001b[0m\u001b[0;34m\u001b[0m\u001b[0;34m\u001b[0m\u001b[0m\n\u001b[1;32m    298\u001b[0m             \u001b[0;32melse\u001b[0m\u001b[0;34m:\u001b[0m\u001b[0;34m\u001b[0m\u001b[0;34m\u001b[0m\u001b[0m\n",
      "\u001b[0;31mKeyboardInterrupt\u001b[0m: "
     ]
    },
    {
     "name": "stderr",
     "output_type": "stream",
     "text": [
      "  File \"/media/avemuri/DEV/software/anaconda3/envs/TF/lib/python3.7/multiprocessing/process.py\", line 99, in run\n",
      "    self._target(*self._args, **self._kwargs)\n",
      "  File \"/media/avemuri/DEV/software/anaconda3/envs/TF/lib/python3.7/multiprocessing/pool.py\", line 121, in worker\n",
      "    result = (True, func(*args, **kwds))\n",
      "  File \"/media/avemuri/DEV/software/anaconda3/envs/TF/lib/python3.7/site-packages/tensorflow/python/keras/utils/data_utils.py\", line 828, in next_sample\n",
      "    return six.next(_SHARED_SEQUENCES[uid])\n",
      "  File \"<ipython-input-24-1df731828cd8>\", line 17, in image_generator\n",
      "    image = cv2.resize(cv2.imread(image_list[index]), (32, 32)) / 255.\n",
      "KeyboardInterrupt\n"
     ]
    }
   ],
   "source": [
    "history = model.fit_generator(train_datagen,\n",
    "                              steps_per_epoch=len(train_indices)/BATCH_SIZE, epochs=10,\n",
    "                              validation_data=valid_datagen,\n",
    "                              validation_steps=len(val_indices)/BATCH_SIZE, use_multiprocessing=True)"
   ]
  },
  {
   "cell_type": "code",
   "execution_count": null,
   "metadata": {},
   "outputs": [],
   "source": []
  },
  {
   "cell_type": "code",
   "execution_count": null,
   "metadata": {},
   "outputs": [],
   "source": []
  },
  {
   "cell_type": "code",
   "execution_count": null,
   "metadata": {},
   "outputs": [],
   "source": []
  },
  {
   "cell_type": "code",
   "execution_count": null,
   "metadata": {},
   "outputs": [],
   "source": []
  },
  {
   "cell_type": "code",
   "execution_count": null,
   "metadata": {},
   "outputs": [],
   "source": []
  },
  {
   "cell_type": "code",
   "execution_count": null,
   "metadata": {},
   "outputs": [],
   "source": []
  },
  {
   "cell_type": "code",
   "execution_count": null,
   "metadata": {},
   "outputs": [],
   "source": []
  },
  {
   "cell_type": "code",
   "execution_count": null,
   "metadata": {},
   "outputs": [],
   "source": []
  },
  {
   "cell_type": "code",
   "execution_count": null,
   "metadata": {},
   "outputs": [],
   "source": []
  },
  {
   "cell_type": "code",
   "execution_count": 49,
   "metadata": {},
   "outputs": [
    {
     "data": {
      "image/png": "[encoded data removed]",
      "text/plain": [
       "<Figure size 432x288 with 1 Axes>"
      ]
     },
     "metadata": {
      "needs_background": "light"
     },
     "output_type": "display_data"
    }
   ],
   "source": [
    "_ = plt.plot(history.history['loss'], label='Train')\n",
    "_ = plt.plot(history.history['val_loss'], label='Validation')\n",
    "_ = plt.title('Loss')"
   ]
  },
  {
   "cell_type": "code",
   "execution_count": null,
   "metadata": {},
   "outputs": [],
   "source": []
  },
  {
   "cell_type": "code",
   "execution_count": null,
   "metadata": {},
   "outputs": [],
   "source": []
  },
  {
   "cell_type": "code",
   "execution_count": null,
   "metadata": {},
   "outputs": [],
   "source": []
  },
  {
   "cell_type": "code",
   "execution_count": null,
   "metadata": {},
   "outputs": [],
   "source": []
  },
  {
   "cell_type": "code",
   "execution_count": 50,
   "metadata": {},
   "outputs": [
    {
     "data": {
      "image/png": "[encoded data removed]",
      "text/plain": [
       "<Figure size 432x288 with 1 Axes>"
      ]
     },
     "metadata": {
      "needs_background": "light"
     },
     "output_type": "display_data"
    }
   ],
   "source": [
    "_ = plt.plot(history.history['fbeta_score'], label='Train')\n",
    "_ = plt.plot(history.history['val_fbeta_score'], label='Validation')\n",
    "_ = plt.title('fbeta score')"
   ]
  },
  {
   "cell_type": "code",
   "execution_count": 51,
   "metadata": {},
   "outputs": [
    {
     "data": {
      "image/png": "[encoded data removed]",
      "text/plain": [
       "<Figure size 432x288 with 1 Axes>"
      ]
     },
     "metadata": {
      "needs_background": "light"
     },
     "output_type": "display_data"
    }
   ],
   "source": [
    "_ = plt.plot(history.history['acc'], label='Train')\n",
    "_ = plt.plot(history.history['val_acc'], label='Validation')\n",
    "_ = plt.title('Accuracy')"
   ]
  },
  {
   "cell_type": "code",
   "execution_count": null,
   "metadata": {},
   "outputs": [],
   "source": []
  },
  {
   "cell_type": "code",
   "execution_count": null,
   "metadata": {},
   "outputs": [],
   "source": []
  },
  {
   "cell_type": "code",
   "execution_count": 35,
   "metadata": {},
   "outputs": [],
   "source": [
    "image_list = [f for f in glob.glob(base_path+'train-jpg/*.jpg')]\n",
    "labels_df = pd.read_csv(base_path+'train_v2.csv')\n",
    "mlb = MultiLabelBinarizer()\n",
    "labels = mlb.fit_transform(labels_df['tags'].str.split()).astype(np.float32)\n",
    "\n",
    "SPLIT = 0.2\n",
    "dataset_size = len(image_list)\n",
    "indices = list(range(dataset_size))\n",
    "split = int(np.floor(SPLIT * dataset_size))\n",
    "\n",
    "np.random.seed(42)\n",
    "np.random.shuffle(indices)\n",
    "\n",
    "train_indices, val_indices = indices[split:], indices[:split]"
   ]
  },
  {
   "cell_type": "code",
   "execution_count": 36,
   "metadata": {},
   "outputs": [
    {
     "data": {
      "text/plain": [
       "array(['agriculture', 'artisinal_mine', 'bare_ground', 'blooming',\n",
       "       'blow_down', 'clear', 'cloudy', 'conventional_mine', 'cultivation',\n",
       "       'habitation', 'haze', 'partly_cloudy', 'primary', 'road',\n",
       "       'selective_logging', 'slash_burn', 'water'], dtype=object)"
      ]
     },
     "execution_count": 36,
     "metadata": {},
     "output_type": "execute_result"
    }
   ],
   "source": [
    "mlb.classes_"
   ]
  },
  {
   "cell_type": "code",
   "execution_count": null,
   "metadata": {},
   "outputs": [],
   "source": []
  },
  {
   "cell_type": "code",
   "execution_count": null,
   "metadata": {},
   "outputs": [],
   "source": []
  },
  {
   "cell_type": "code",
   "execution_count": 15,
   "metadata": {},
   "outputs": [],
   "source": [
    "def image_generator(image_list, labels, batch_size=64, selection_indices=None):\n",
    "    \n",
    "    while True:\n",
    "        # Select files (paths/indices) for the batch\n",
    "        if selection_indices is None:\n",
    "            batch_paths = np.random.choice(a=np.arange(len(image_list)), \n",
    "                                            size=batch_size)\n",
    "        else:\n",
    "            batch_paths = np.random.choice(a=selection_indices, \n",
    "                                            size=batch_size)\n",
    "\n",
    "        batch_input = []\n",
    "        batch_output = [] \n",
    "        \n",
    "        # Read in each input, perform preprocessing and get labels\n",
    "        for index in batch_paths:\n",
    "            image = cv2.resize(cv2.imread(image_list[index]), (32, 32)) / 255.\n",
    "            # input = preprocess_input(image=input)\n",
    "            batch_input += [ image ]\n",
    "            batch_output += [ labels[index] ]\n",
    "        # Return a tuple of (input,output) to feed the network\n",
    "        batch_x = np.array( batch_input )\n",
    "        batch_y = np.array( batch_output )\n",
    "        \n",
    "        yield( batch_x, batch_y )"
   ]
  },
  {
   "cell_type": "code",
   "execution_count": null,
   "metadata": {},
   "outputs": [],
   "source": []
  },
  {
   "cell_type": "code",
   "execution_count": 16,
   "metadata": {},
   "outputs": [
    {
     "name": "stdout",
     "output_type": "stream",
     "text": [
      "i:  (16, 32, 32, 3) (16, 17)\n",
      "i:  (16, 32, 32, 3) (16, 17)\n",
      "i:  (16, 32, 32, 3) (16, 17)\n",
      "i:  (16, 32, 32, 3) (16, 17)\n"
     ]
    }
   ],
   "source": [
    "for i in range(4):\n",
    "    X, y = next(image_generator(image_list, labels, batch_size=16, selection_indices=train_indices))\n",
    "    print(\"i: \", X.shape, y.shape)"
   ]
  },
  {
   "cell_type": "code",
   "execution_count": null,
   "metadata": {},
   "outputs": [],
   "source": []
  },
  {
   "cell_type": "code",
   "execution_count": 52,
   "metadata": {},
   "outputs": [],
   "source": []
  },
  {
   "cell_type": "code",
   "execution_count": null,
   "metadata": {},
   "outputs": [],
   "source": []
  },
  {
   "cell_type": "code",
   "execution_count": 18,
   "metadata": {},
   "outputs": [],
   "source": [
    "class KerasMetrics:\n",
    "\tdef precision(self, y_true, y_pred):\n",
    "\t\ttrue_positives = k.backend.sum(k.backend.round(k.backend.clip(y_true * y_pred, 0, 1)))\n",
    "\t\tpredicted_positives = k.backend.sum(k.backend.round(k.backend.clip(y_pred, 0, 1)))\n",
    "\t\tprecision = true_positives / (predicted_positives + k.backend.epsilon())\n",
    "\t\treturn precision\n",
    "\n",
    "\tdef recall(self, y_true, y_pred):\n",
    "\t\ttrue_positives = k.backend.sum(k.backend.round(k.backend.clip(y_true * y_pred, 0, 1)))\n",
    "\t\tpossible_positives = k.backend.sum(k.backend.round(k.backend.clip(y_true, 0, 1)))\n",
    "\t\trecall = true_positives / (possible_positives + k.backend.epsilon())\n",
    "\t\treturn recall\n",
    "\n",
    "\tdef fbeta_score(self, y_true, y_pred, beta=2):\n",
    "\t\tif beta < 0:\n",
    "\t\t\traise ValueError('The lowest choosable beta is zero (only precision).')\n",
    "\n",
    "\t\tif k.backend.sum(k.backend.round(k.backend.clip(y_true, 0, 1))) == 0:\n",
    "\t\t\treturn 0\n",
    "\n",
    "\t\tp = self.precision(y_true, y_pred)\n",
    "\t\tr = self.recall(y_true, y_pred)\n",
    "\t\tbb = beta ** 2\n",
    "\t\tfbeta_score = (1 + bb) * (p * r) / (bb * p + r + k.backend.epsilon())\n",
    "\t\treturn fbeta_score"
   ]
  },
  {
   "cell_type": "code",
   "execution_count": null,
   "metadata": {},
   "outputs": [],
   "source": []
  },
  {
   "cell_type": "code",
   "execution_count": 19,
   "metadata": {},
   "outputs": [
    {
     "name": "stderr",
     "output_type": "stream",
     "text": [
      "W0917 11:12:03.231876 140101946357568 deprecation.py:323] From /media/avemuri/DEV/software/anaconda3/envs/TF/lib/python3.7/site-packages/tensorflow/python/ops/nn_impl.py:180: add_dispatch_support.<locals>.wrapper (from tensorflow.python.ops.array_ops) is deprecated and will be removed in a future version.\n",
      "Instructions for updating:\n",
      "Use tf.where in 2.0, which has the same broadcast rule as np.where\n"
     ]
    }
   ],
   "source": [
    "keras_metrics = KerasMetrics()\n",
    "# We NEED binary here, since categorical_crossentropy l1 norms the output before calculating loss.\n",
    "optim = k.optimizers.Adam(lr=0.01, beta_1=0.9, beta_2=0.999, epsilon=None, decay=0.0, amsgrad=False)\n",
    "model.compile(loss='binary_crossentropy', optimizer=optim, metrics=['accuracy', keras_metrics.fbeta_score])"
   ]
  },
  {
   "cell_type": "code",
   "execution_count": null,
   "metadata": {},
   "outputs": [],
   "source": []
  },
  {
   "cell_type": "code",
   "execution_count": 20,
   "metadata": {},
   "outputs": [
    {
     "name": "stdout",
     "output_type": "stream",
     "text": [
      "Epoch 1/10\n",
      "127/126 [==============================] - 57s 449ms/step - loss: 0.3437 - acc: 0.8967 - fbeta_score: 0.5956 - val_loss: 0.2567 - val_acc: 0.9064 - val_fbeta_score: 0.6084\n",
      "Epoch 2/10\n",
      "127/126 [==============================] - 53s 420ms/step - loss: 0.2607 - acc: 0.9046 - fbeta_score: 0.6027 - val_loss: 0.2576 - val_acc: 0.9067 - val_fbeta_score: 0.6090\n",
      "Epoch 3/10\n",
      "127/126 [==============================] - 53s 421ms/step - loss: 0.2623 - acc: 0.9034 - fbeta_score: 0.5988 - val_loss: 0.2581 - val_acc: 0.9064 - val_fbeta_score: 0.6083\n",
      "Epoch 4/10\n",
      " 98/126 [======================>.......] - ETA: 9s - loss: 0.2596 - acc: 0.9048 - fbeta_score: 0.6032"
     ]
    },
    {
     "ename": "KeyboardInterrupt",
     "evalue": "",
     "output_type": "error",
     "traceback": [
      "\u001b[0;31m---------------------------------------------------------------------------\u001b[0m",
      "\u001b[0;31mKeyboardInterrupt\u001b[0m                         Traceback (most recent call last)",
      "\u001b[0;32m<ipython-input-20-5475dcebcecf>\u001b[0m in \u001b[0;36m<module>\u001b[0;34m\u001b[0m\n\u001b[1;32m      5\u001b[0m                               validation_data=image_generator(image_list, labels, \n\u001b[1;32m      6\u001b[0m                                                               batch_size=BATCH_SIZE, selection_indices=val_indices),\n\u001b[0;32m----> 7\u001b[0;31m                               validation_steps=len(val_indices)/BATCH_SIZE)\n\u001b[0m",
      "\u001b[0;32m/media/avemuri/DEV/software/anaconda3/envs/TF/lib/python3.7/site-packages/tensorflow/python/keras/engine/training.py\u001b[0m in \u001b[0;36mfit_generator\u001b[0;34m(self, generator, steps_per_epoch, epochs, verbose, callbacks, validation_data, validation_steps, validation_freq, class_weight, max_queue_size, workers, use_multiprocessing, shuffle, initial_epoch)\u001b[0m\n\u001b[1;32m   1431\u001b[0m         \u001b[0mshuffle\u001b[0m\u001b[0;34m=\u001b[0m\u001b[0mshuffle\u001b[0m\u001b[0;34m,\u001b[0m\u001b[0;34m\u001b[0m\u001b[0;34m\u001b[0m\u001b[0m\n\u001b[1;32m   1432\u001b[0m         \u001b[0minitial_epoch\u001b[0m\u001b[0;34m=\u001b[0m\u001b[0minitial_epoch\u001b[0m\u001b[0;34m,\u001b[0m\u001b[0;34m\u001b[0m\u001b[0;34m\u001b[0m\u001b[0m\n\u001b[0;32m-> 1433\u001b[0;31m         steps_name='steps_per_epoch')\n\u001b[0m\u001b[1;32m   1434\u001b[0m \u001b[0;34m\u001b[0m\u001b[0m\n\u001b[1;32m   1435\u001b[0m   def evaluate_generator(self,\n",
      "\u001b[0;32m/media/avemuri/DEV/software/anaconda3/envs/TF/lib/python3.7/site-packages/tensorflow/python/keras/engine/training_generator.py\u001b[0m in \u001b[0;36mmodel_iteration\u001b[0;34m(model, data, steps_per_epoch, epochs, verbose, callbacks, validation_data, validation_steps, validation_freq, class_weight, max_queue_size, workers, use_multiprocessing, shuffle, initial_epoch, mode, batch_size, steps_name, **kwargs)\u001b[0m\n\u001b[1;32m    218\u001b[0m     \u001b[0mstep\u001b[0m \u001b[0;34m=\u001b[0m \u001b[0;36m0\u001b[0m\u001b[0;34m\u001b[0m\u001b[0;34m\u001b[0m\u001b[0m\n\u001b[1;32m    219\u001b[0m     \u001b[0;32mwhile\u001b[0m \u001b[0mstep\u001b[0m \u001b[0;34m<\u001b[0m \u001b[0mtarget_steps\u001b[0m\u001b[0;34m:\u001b[0m\u001b[0;34m\u001b[0m\u001b[0;34m\u001b[0m\u001b[0m\n\u001b[0;32m--> 220\u001b[0;31m       \u001b[0mbatch_data\u001b[0m \u001b[0;34m=\u001b[0m \u001b[0m_get_next_batch\u001b[0m\u001b[0;34m(\u001b[0m\u001b[0mgenerator\u001b[0m\u001b[0;34m,\u001b[0m \u001b[0mmode\u001b[0m\u001b[0;34m)\u001b[0m\u001b[0;34m\u001b[0m\u001b[0;34m\u001b[0m\u001b[0m\n\u001b[0m\u001b[1;32m    221\u001b[0m       \u001b[0;32mif\u001b[0m \u001b[0mbatch_data\u001b[0m \u001b[0;32mis\u001b[0m \u001b[0;32mNone\u001b[0m\u001b[0;34m:\u001b[0m\u001b[0;34m\u001b[0m\u001b[0;34m\u001b[0m\u001b[0m\n\u001b[1;32m    222\u001b[0m         \u001b[0;32mif\u001b[0m \u001b[0mis_dataset\u001b[0m\u001b[0;34m:\u001b[0m\u001b[0;34m\u001b[0m\u001b[0;34m\u001b[0m\u001b[0m\n",
      "\u001b[0;32m/media/avemuri/DEV/software/anaconda3/envs/TF/lib/python3.7/site-packages/tensorflow/python/keras/engine/training_generator.py\u001b[0m in \u001b[0;36m_get_next_batch\u001b[0;34m(generator, mode)\u001b[0m\n\u001b[1;32m    360\u001b[0m   \u001b[0;34m\"\"\"Retrieves the next batch of input data.\"\"\"\u001b[0m\u001b[0;34m\u001b[0m\u001b[0;34m\u001b[0m\u001b[0m\n\u001b[1;32m    361\u001b[0m   \u001b[0;32mtry\u001b[0m\u001b[0;34m:\u001b[0m\u001b[0;34m\u001b[0m\u001b[0;34m\u001b[0m\u001b[0m\n\u001b[0;32m--> 362\u001b[0;31m     \u001b[0mgenerator_output\u001b[0m \u001b[0;34m=\u001b[0m \u001b[0mnext\u001b[0m\u001b[0;34m(\u001b[0m\u001b[0mgenerator\u001b[0m\u001b[0;34m)\u001b[0m\u001b[0;34m\u001b[0m\u001b[0;34m\u001b[0m\u001b[0m\n\u001b[0m\u001b[1;32m    363\u001b[0m   \u001b[0;32mexcept\u001b[0m \u001b[0;34m(\u001b[0m\u001b[0mStopIteration\u001b[0m\u001b[0;34m,\u001b[0m \u001b[0merrors\u001b[0m\u001b[0;34m.\u001b[0m\u001b[0mOutOfRangeError\u001b[0m\u001b[0;34m)\u001b[0m\u001b[0;34m:\u001b[0m\u001b[0;34m\u001b[0m\u001b[0;34m\u001b[0m\u001b[0m\n\u001b[1;32m    364\u001b[0m     \u001b[0;32mreturn\u001b[0m \u001b[0;32mNone\u001b[0m\u001b[0;34m\u001b[0m\u001b[0;34m\u001b[0m\u001b[0m\n",
      "\u001b[0;32m/media/avemuri/DEV/software/anaconda3/envs/TF/lib/python3.7/site-packages/tensorflow/python/keras/utils/data_utils.py\u001b[0m in \u001b[0;36mget\u001b[0;34m(self)\u001b[0m\n\u001b[1;32m    892\u001b[0m     \u001b[0;32mtry\u001b[0m\u001b[0;34m:\u001b[0m\u001b[0;34m\u001b[0m\u001b[0;34m\u001b[0m\u001b[0m\n\u001b[1;32m    893\u001b[0m       \u001b[0;32mwhile\u001b[0m \u001b[0mself\u001b[0m\u001b[0;34m.\u001b[0m\u001b[0mis_running\u001b[0m\u001b[0;34m(\u001b[0m\u001b[0;34m)\u001b[0m\u001b[0;34m:\u001b[0m\u001b[0;34m\u001b[0m\u001b[0;34m\u001b[0m\u001b[0m\n\u001b[0;32m--> 894\u001b[0;31m         \u001b[0minputs\u001b[0m \u001b[0;34m=\u001b[0m \u001b[0mself\u001b[0m\u001b[0;34m.\u001b[0m\u001b[0mqueue\u001b[0m\u001b[0;34m.\u001b[0m\u001b[0mget\u001b[0m\u001b[0;34m(\u001b[0m\u001b[0mblock\u001b[0m\u001b[0;34m=\u001b[0m\u001b[0;32mTrue\u001b[0m\u001b[0;34m)\u001b[0m\u001b[0;34m.\u001b[0m\u001b[0mget\u001b[0m\u001b[0;34m(\u001b[0m\u001b[0;34m)\u001b[0m\u001b[0;34m\u001b[0m\u001b[0;34m\u001b[0m\u001b[0m\n\u001b[0m\u001b[1;32m    895\u001b[0m         \u001b[0mself\u001b[0m\u001b[0;34m.\u001b[0m\u001b[0mqueue\u001b[0m\u001b[0;34m.\u001b[0m\u001b[0mtask_done\u001b[0m\u001b[0;34m(\u001b[0m\u001b[0;34m)\u001b[0m\u001b[0;34m\u001b[0m\u001b[0;34m\u001b[0m\u001b[0m\n\u001b[1;32m    896\u001b[0m         \u001b[0;32mif\u001b[0m \u001b[0minputs\u001b[0m \u001b[0;32mis\u001b[0m \u001b[0;32mnot\u001b[0m \u001b[0;32mNone\u001b[0m\u001b[0;34m:\u001b[0m\u001b[0;34m\u001b[0m\u001b[0;34m\u001b[0m\u001b[0m\n",
      "\u001b[0;32m/media/avemuri/DEV/software/anaconda3/envs/TF/lib/python3.7/multiprocessing/pool.py\u001b[0m in \u001b[0;36mget\u001b[0;34m(self, timeout)\u001b[0m\n\u001b[1;32m    675\u001b[0m \u001b[0;34m\u001b[0m\u001b[0m\n\u001b[1;32m    676\u001b[0m     \u001b[0;32mdef\u001b[0m \u001b[0mget\u001b[0m\u001b[0;34m(\u001b[0m\u001b[0mself\u001b[0m\u001b[0;34m,\u001b[0m \u001b[0mtimeout\u001b[0m\u001b[0;34m=\u001b[0m\u001b[0;32mNone\u001b[0m\u001b[0;34m)\u001b[0m\u001b[0;34m:\u001b[0m\u001b[0;34m\u001b[0m\u001b[0;34m\u001b[0m\u001b[0m\n\u001b[0;32m--> 677\u001b[0;31m         \u001b[0mself\u001b[0m\u001b[0;34m.\u001b[0m\u001b[0mwait\u001b[0m\u001b[0;34m(\u001b[0m\u001b[0mtimeout\u001b[0m\u001b[0;34m)\u001b[0m\u001b[0;34m\u001b[0m\u001b[0;34m\u001b[0m\u001b[0m\n\u001b[0m\u001b[1;32m    678\u001b[0m         \u001b[0;32mif\u001b[0m \u001b[0;32mnot\u001b[0m \u001b[0mself\u001b[0m\u001b[0;34m.\u001b[0m\u001b[0mready\u001b[0m\u001b[0;34m(\u001b[0m\u001b[0;34m)\u001b[0m\u001b[0;34m:\u001b[0m\u001b[0;34m\u001b[0m\u001b[0;34m\u001b[0m\u001b[0m\n\u001b[1;32m    679\u001b[0m             \u001b[0;32mraise\u001b[0m \u001b[0mTimeoutError\u001b[0m\u001b[0;34m\u001b[0m\u001b[0;34m\u001b[0m\u001b[0m\n",
      "\u001b[0;32m/media/avemuri/DEV/software/anaconda3/envs/TF/lib/python3.7/multiprocessing/pool.py\u001b[0m in \u001b[0;36mwait\u001b[0;34m(self, timeout)\u001b[0m\n\u001b[1;32m    672\u001b[0m \u001b[0;34m\u001b[0m\u001b[0m\n\u001b[1;32m    673\u001b[0m     \u001b[0;32mdef\u001b[0m \u001b[0mwait\u001b[0m\u001b[0;34m(\u001b[0m\u001b[0mself\u001b[0m\u001b[0;34m,\u001b[0m \u001b[0mtimeout\u001b[0m\u001b[0;34m=\u001b[0m\u001b[0;32mNone\u001b[0m\u001b[0;34m)\u001b[0m\u001b[0;34m:\u001b[0m\u001b[0;34m\u001b[0m\u001b[0;34m\u001b[0m\u001b[0m\n\u001b[0;32m--> 674\u001b[0;31m         \u001b[0mself\u001b[0m\u001b[0;34m.\u001b[0m\u001b[0m_event\u001b[0m\u001b[0;34m.\u001b[0m\u001b[0mwait\u001b[0m\u001b[0;34m(\u001b[0m\u001b[0mtimeout\u001b[0m\u001b[0;34m)\u001b[0m\u001b[0;34m\u001b[0m\u001b[0;34m\u001b[0m\u001b[0m\n\u001b[0m\u001b[1;32m    675\u001b[0m \u001b[0;34m\u001b[0m\u001b[0m\n\u001b[1;32m    676\u001b[0m     \u001b[0;32mdef\u001b[0m \u001b[0mget\u001b[0m\u001b[0;34m(\u001b[0m\u001b[0mself\u001b[0m\u001b[0;34m,\u001b[0m \u001b[0mtimeout\u001b[0m\u001b[0;34m=\u001b[0m\u001b[0;32mNone\u001b[0m\u001b[0;34m)\u001b[0m\u001b[0;34m:\u001b[0m\u001b[0;34m\u001b[0m\u001b[0;34m\u001b[0m\u001b[0m\n",
      "\u001b[0;32m/media/avemuri/DEV/software/anaconda3/envs/TF/lib/python3.7/threading.py\u001b[0m in \u001b[0;36mwait\u001b[0;34m(self, timeout)\u001b[0m\n\u001b[1;32m    550\u001b[0m             \u001b[0msignaled\u001b[0m \u001b[0;34m=\u001b[0m \u001b[0mself\u001b[0m\u001b[0;34m.\u001b[0m\u001b[0m_flag\u001b[0m\u001b[0;34m\u001b[0m\u001b[0;34m\u001b[0m\u001b[0m\n\u001b[1;32m    551\u001b[0m             \u001b[0;32mif\u001b[0m \u001b[0;32mnot\u001b[0m \u001b[0msignaled\u001b[0m\u001b[0;34m:\u001b[0m\u001b[0;34m\u001b[0m\u001b[0;34m\u001b[0m\u001b[0m\n\u001b[0;32m--> 552\u001b[0;31m                 \u001b[0msignaled\u001b[0m \u001b[0;34m=\u001b[0m \u001b[0mself\u001b[0m\u001b[0;34m.\u001b[0m\u001b[0m_cond\u001b[0m\u001b[0;34m.\u001b[0m\u001b[0mwait\u001b[0m\u001b[0;34m(\u001b[0m\u001b[0mtimeout\u001b[0m\u001b[0;34m)\u001b[0m\u001b[0;34m\u001b[0m\u001b[0;34m\u001b[0m\u001b[0m\n\u001b[0m\u001b[1;32m    553\u001b[0m             \u001b[0;32mreturn\u001b[0m \u001b[0msignaled\u001b[0m\u001b[0;34m\u001b[0m\u001b[0;34m\u001b[0m\u001b[0m\n\u001b[1;32m    554\u001b[0m \u001b[0;34m\u001b[0m\u001b[0m\n",
      "\u001b[0;32m/media/avemuri/DEV/software/anaconda3/envs/TF/lib/python3.7/threading.py\u001b[0m in \u001b[0;36mwait\u001b[0;34m(self, timeout)\u001b[0m\n\u001b[1;32m    294\u001b[0m         \u001b[0;32mtry\u001b[0m\u001b[0;34m:\u001b[0m    \u001b[0;31m# restore state no matter what (e.g., KeyboardInterrupt)\u001b[0m\u001b[0;34m\u001b[0m\u001b[0;34m\u001b[0m\u001b[0m\n\u001b[1;32m    295\u001b[0m             \u001b[0;32mif\u001b[0m \u001b[0mtimeout\u001b[0m \u001b[0;32mis\u001b[0m \u001b[0;32mNone\u001b[0m\u001b[0;34m:\u001b[0m\u001b[0;34m\u001b[0m\u001b[0;34m\u001b[0m\u001b[0m\n\u001b[0;32m--> 296\u001b[0;31m                 \u001b[0mwaiter\u001b[0m\u001b[0;34m.\u001b[0m\u001b[0macquire\u001b[0m\u001b[0;34m(\u001b[0m\u001b[0;34m)\u001b[0m\u001b[0;34m\u001b[0m\u001b[0;34m\u001b[0m\u001b[0m\n\u001b[0m\u001b[1;32m    297\u001b[0m                 \u001b[0mgotit\u001b[0m \u001b[0;34m=\u001b[0m \u001b[0;32mTrue\u001b[0m\u001b[0;34m\u001b[0m\u001b[0;34m\u001b[0m\u001b[0m\n\u001b[1;32m    298\u001b[0m             \u001b[0;32melse\u001b[0m\u001b[0;34m:\u001b[0m\u001b[0;34m\u001b[0m\u001b[0;34m\u001b[0m\u001b[0m\n",
      "\u001b[0;31mKeyboardInterrupt\u001b[0m: "
     ]
    }
   ],
   "source": [
    "BATCH_SIZE = 256\n",
    "history = model.fit_generator(image_generator(image_list, labels, batch_size=BATCH_SIZE, \n",
    "                                              selection_indices=train_indices),\n",
    "                              steps_per_epoch=len(train_indices)/BATCH_SIZE, epochs=10,\n",
    "                              validation_data=image_generator(image_list, labels, \n",
    "                                                              batch_size=BATCH_SIZE, selection_indices=val_indices),\n",
    "                              validation_steps=len(val_indices)/BATCH_SIZE)"
   ]
  },
  {
   "cell_type": "code",
   "execution_count": null,
   "metadata": {},
   "outputs": [],
   "source": []
  },
  {
   "cell_type": "code",
   "execution_count": null,
   "metadata": {},
   "outputs": [],
   "source": []
  },
  {
   "cell_type": "code",
   "execution_count": null,
   "metadata": {},
   "outputs": [],
   "source": []
  },
  {
   "cell_type": "code",
   "execution_count": null,
   "metadata": {},
   "outputs": [],
   "source": []
  },
  {
   "cell_type": "code",
   "execution_count": 22,
   "metadata": {},
   "outputs": [],
   "source": [
    "class DataGenerator(k.utils.Sequence):\n",
    "    'Generates data for Keras'\n",
    "    def __init__(self, list_IDs, labels, batch_size=32, dim=(32,32), n_channels=1,\n",
    "                 n_classes=10, shuffle=True):\n",
    "        'Initialization'\n",
    "        self.dim = dim\n",
    "        self.batch_size = batch_size\n",
    "        self.labels = labels\n",
    "        self.list_IDs = list_IDs\n",
    "        self.n_channels = n_channels\n",
    "        self.n_classes = n_classes\n",
    "        self.shuffle = shuffle\n",
    "        self.on_epoch_end()\n",
    "\n",
    "    def __len__(self):\n",
    "        'Denotes the number of batches per epoch'\n",
    "        return int(np.floor(len(self.list_IDs) / self.batch_size))\n",
    "\n",
    "    def __getitem__(self, index):\n",
    "        'Generate one batch of data'\n",
    "        # Generate indexes of the batch\n",
    "        indexes = self.indexes[index*self.batch_size:(index+1)*self.batch_size]\n",
    "\n",
    "        # Find list of IDs\n",
    "        list_IDs_temp = [self.list_IDs[idx] for idx in indexes]\n",
    "\n",
    "        # Generate data\n",
    "        #X, y = self.__data_generation(list_IDs_temp)\n",
    "\n",
    "        #return X, y\n",
    "\n",
    "    def on_epoch_end(self):\n",
    "        'Updates indexes after each epoch'\n",
    "        self.indexes = np.arange(len(self.list_IDs))\n",
    "        if self.shuffle == True:\n",
    "            np.random.shuffle(self.indexes)\n",
    "\n",
    "#     def __data_generation(self, list_IDs_temp):\n",
    "#         'Generates data containing batch_size samples' # X : (n_samples, *dim, n_channels)\n",
    "#         # Initialization\n",
    "#         X = np.empty((self.batch_size, *self.dim, self.n_channels))\n",
    "#         y = np.empty((self.batch_size), dtype=int)\n",
    "\n",
    "#         # Generate data\n",
    "#         for i, ID in enumerate(list_IDs_temp):\n",
    "#             # Store sample\n",
    "#             X[i,] = np.load('data/' + ID + '.npy')\n",
    "\n",
    "#             # Store class\n",
    "#             y[i] = self.labels[ID]\n",
    "\n",
    "#         return X, keras.utils.to_categorical(y, num_classes=self.n_classes)"
   ]
  },
  {
   "cell_type": "code",
   "execution_count": null,
   "metadata": {},
   "outputs": [],
   "source": [
    "gen = DataGenerator()"
   ]
  },
  {
   "cell_type": "code",
   "execution_count": null,
   "metadata": {},
   "outputs": [],
   "source": []
  },
  {
   "cell_type": "code",
   "execution_count": null,
   "metadata": {},
   "outputs": [],
   "source": [
    "def csv_image_generator(inputPath, bs, lb, mode=\"train\", aug=None):\n",
    "\t# open the CSV file for reading\n",
    "\tf = open(inputPath, \"r\")\n",
    "\n",
    "\t# loop indefinitely\n",
    "\twhile True:\n",
    "\t\t# initialize our batches of images and labels\n",
    "\t\timages = []\n",
    "\t\tlabels = []\n",
    "\n",
    "\t\t# keep looping until we reach our batch size\n",
    "\t\twhile len(images) < bs:\n",
    "\t\t\t# attempt to read the next line of the CSV file\n",
    "\t\t\tline = f.readline()\n",
    "\n",
    "\t\t\t# check to see if the line is empty, indicating we have\n",
    "\t\t\t# reached the end of the file\n",
    "\t\t\tif line == \"\":\n",
    "\t\t\t\t# reset the file pointer to the beginning of the file\n",
    "\t\t\t\t# and re-read the line\n",
    "\t\t\t\tf.seek(0)\n",
    "\t\t\t\tline = f.readline()\n",
    "\n",
    "\t\t\t\t# if we are evaluating we should now break from our\n",
    "\t\t\t\t# loop to ensure we don't continue to fill up the\n",
    "\t\t\t\t# batch from samples at the beginning of the file\n",
    "\t\t\t\tif mode == \"eval\":\n",
    "\t\t\t\t\tbreak\n",
    "\n",
    "\t\t\t# extract the label and construct the image\n",
    "\t\t\tline = line.strip().split(\",\")\n",
    "\t\t\tlabel = line[0]\n",
    "\t\t\timage = np.array([int(x) for x in line[1:]], dtype=\"uint8\")\n",
    "\t\t\timage = image.reshape((64, 64, 3))\n",
    "\n",
    "\t\t\t# update our corresponding batches lists\n",
    "\t\t\timages.append(image)\n",
    "\t\t\tlabels.append(label)\n",
    "\n",
    "\t\t# one-hot encode the labels\n",
    "\t\tlabels = lb.transform(np.array(labels))\n",
    "\n",
    "\t\t# if the data augmentation object is not None, apply it\n",
    "\t\tif aug is not None:\n",
    "\t\t\t(images, labels) = next(aug.flow(np.array(images),\n",
    "\t\t\t\tlabels, batch_size=bs))\n",
    "\n",
    "\t\t# yield the batch to the calling function\n",
    "\t\tyield (np.array(images), labels)"
   ]
  }
 ],
 "metadata": {
  "kernelspec": {
   "display_name": "Python 3",
   "language": "python",
   "name": "python3"
  },
  "language_info": {
   "codemirror_mode": {
    "name": "ipython",
    "version": 3
   },
   "file_extension": ".py",
   "mimetype": "text/x-python",
   "name": "python",
   "nbconvert_exporter": "python",
   "pygments_lexer": "ipython3",
   "version": "3.7.0"
  },
  "toc": {
   "base_numbering": 1,
   "nav_menu": {},
   "number_sections": true,
   "sideBar": true,
   "skip_h1_title": false,
   "title_cell": "Table of Contents",
   "title_sidebar": "Contents",
   "toc_cell": false,
   "toc_position": {},
   "toc_section_display": true,
   "toc_window_display": false
  },
  "varInspector": {
   "cols": {
    "lenName": 16,
    "lenType": 16,
    "lenVar": 40
   },
   "kernels_config": {
    "python": {
     "delete_cmd_postfix": "",
     "delete_cmd_prefix": "del ",
     "library": "var_list.py",
     "varRefreshCmd": "print(var_dic_list())"
    },
    "r": {
     "delete_cmd_postfix": ") ",
     "delete_cmd_prefix": "rm(",
     "library": "var_list.r",
     "varRefreshCmd": "cat(var_dic_list()) "
    }
   },
   "types_to_exclude": [
    "module",
    "function",
    "builtin_function_or_method",
    "instance",
    "_Feature"
   ],
   "window_display": false
  }
 },
 "nbformat": 4,
 "nbformat_minor": 4
}
