{
 "cells": [
  {
   "cell_type": "code",
   "execution_count": 1,
   "metadata": {},
   "outputs": [],
   "source": [
    "import numpy as np\n",
    "import pandas as pd\n",
    "import matplotlib.pyplot as plt\n",
    "import seaborn as sns"
   ]
  },
  {
   "cell_type": "code",
   "execution_count": 2,
   "metadata": {},
   "outputs": [],
   "source": [
    "# base_path = '/media/anant/data/amazon_from_space/'\n",
    "base_path = '/media/avemuri/DEV/Data/amazon_from_space/'"
   ]
  },
  {
   "cell_type": "code",
   "execution_count": 3,
   "metadata": {},
   "outputs": [
    {
     "data": {
      "text/html": [
       "<div>\n",
       "<style scoped>\n",
       "    .dataframe tbody tr th:only-of-type {\n",
       "        vertical-align: middle;\n",
       "    }\n",
       "\n",
       "    .dataframe tbody tr th {\n",
       "        vertical-align: top;\n",
       "    }\n",
       "\n",
       "    .dataframe thead th {\n",
       "        text-align: right;\n",
       "    }\n",
       "</style>\n",
       "<table border=\"1\" class=\"dataframe\">\n",
       "  <thead>\n",
       "    <tr style=\"text-align: right;\">\n",
       "      <th></th>\n",
       "      <th>image_name</th>\n",
       "      <th>tags</th>\n",
       "    </tr>\n",
       "  </thead>\n",
       "  <tbody>\n",
       "    <tr>\n",
       "      <th>0</th>\n",
       "      <td>train_0</td>\n",
       "      <td>haze primary</td>\n",
       "    </tr>\n",
       "    <tr>\n",
       "      <th>1</th>\n",
       "      <td>train_1</td>\n",
       "      <td>agriculture clear primary water</td>\n",
       "    </tr>\n",
       "    <tr>\n",
       "      <th>2</th>\n",
       "      <td>train_2</td>\n",
       "      <td>clear primary</td>\n",
       "    </tr>\n",
       "    <tr>\n",
       "      <th>3</th>\n",
       "      <td>train_3</td>\n",
       "      <td>clear primary</td>\n",
       "    </tr>\n",
       "    <tr>\n",
       "      <th>4</th>\n",
       "      <td>train_4</td>\n",
       "      <td>agriculture clear habitation primary road</td>\n",
       "    </tr>\n",
       "  </tbody>\n",
       "</table>\n",
       "</div>"
      ],
      "text/plain": [
       "  image_name                                       tags\n",
       "0    train_0                               haze primary\n",
       "1    train_1            agriculture clear primary water\n",
       "2    train_2                              clear primary\n",
       "3    train_3                              clear primary\n",
       "4    train_4  agriculture clear habitation primary road"
      ]
     },
     "execution_count": 3,
     "metadata": {},
     "output_type": "execute_result"
    }
   ],
   "source": [
    "train_df = pd.read_csv(base_path+'train_v2.csv')\n",
    "train_df.head()"
   ]
  },
  {
   "cell_type": "code",
   "execution_count": 4,
   "metadata": {},
   "outputs": [
    {
     "name": "stdout",
     "output_type": "stream",
     "text": [
      "There is 17 unique labels including {'selective_logging', 'road', 'clear', 'haze', 'slash_burn', 'blooming', 'agriculture', 'water', 'artisinal_mine', 'primary', 'cloudy', 'habitation', 'partly_cloudy', 'conventional_mine', 'bare_ground', 'blow_down', 'cultivation'}\n"
     ]
    }
   ],
   "source": [
    "# Print all unique tags\n",
    "from itertools import chain\n",
    "labels_list = list(chain.from_iterable([tags.split(\" \") for tags in train_df['tags'].values]))\n",
    "labels_set = set(labels_list)\n",
    "print(\"There is {} unique labels including {}\".format(len(labels_set), labels_set))"
   ]
  },
  {
   "cell_type": "code",
   "execution_count": 5,
   "metadata": {},
   "outputs": [
    {
     "data": {
      "text/plain": [
       "<matplotlib.axes._subplots.AxesSubplot at 0x7f71c60a1518>"
      ]
     },
     "execution_count": 5,
     "metadata": {},
     "output_type": "execute_result"
    },
    {
     "data": {
      "image/png": "[encoded data removed]",
      "text/plain": [
       "<Figure size 1152x576 with 1 Axes>"
      ]
     },
     "metadata": {
      "needs_background": "light"
     },
     "output_type": "display_data"
    }
   ],
   "source": [
    "labels_s = pd.Series(labels_list).value_counts() # To sort them by count\n",
    "fig, ax = plt.subplots(figsize=(16, 8))\n",
    "sns.barplot(x=labels_s, y=labels_s.index, orient='h')"
   ]
  },
  {
   "cell_type": "code",
   "execution_count": 6,
   "metadata": {},
   "outputs": [
    {
     "name": "stdout",
     "output_type": "stream",
     "text": [
      "[0.32261477 0.24450885 0.10590997 0.06941124 0.06373519 0.06244517\n",
      " 0.03910456 0.03147629 0.02319441 0.01796557 0.00741327 0.00292403\n",
      " 0.00291543 0.00285523 0.00179742 0.00086861 0.00086001] Index(['primary', 'clear', 'agriculture', 'road', 'water', 'partly_cloudy',\n",
      "       'cultivation', 'habitation', 'haze', 'cloudy', 'bare_ground',\n",
      "       'selective_logging', 'artisinal_mine', 'blooming', 'slash_burn',\n",
      "       'blow_down', 'conventional_mine'],\n",
      "      dtype='object')\n"
     ]
    }
   ],
   "source": [
    "weights = labels_s.values/labels_s.values.sum()\n",
    "print(weights, labels_s.index)"
   ]
  },
  {
   "cell_type": "code",
   "execution_count": 7,
   "metadata": {},
   "outputs": [
    {
     "data": {
      "text/plain": [
       "conventional_mine      100\n",
       "road                  8071\n",
       "habitation            3660\n",
       "primary              37513\n",
       "cloudy                2089\n",
       "cultivation           4547\n",
       "partly_cloudy         7261\n",
       "artisinal_mine         339\n",
       "selective_logging      340\n",
       "blooming               332\n",
       "agriculture          12315\n",
       "water                 7411\n",
       "bare_ground            862\n",
       "blow_down              101\n",
       "slash_burn             209\n",
       "clear                28431\n",
       "haze                  2697\n",
       "dtype: int64"
      ]
     },
     "execution_count": 7,
     "metadata": {},
     "output_type": "execute_result"
    },
    {
     "name": "stdout",
     "output_type": "stream",
     "text": [
      "[0.32261477 0.24450885 0.10590997 0.06941124 0.06373519 0.06244517\n",
      " 0.03910456 0.03147629 0.02319441 0.01796557 0.00741327 0.00292403\n",
      " 0.00291543 0.00285523 0.00179742 0.00086861 0.00086001] Index(['primary', 'clear', 'agriculture', 'road', 'water', 'partly_cloudy',\n",
      "       'cultivation', 'habitation', 'haze', 'cloudy', 'bare_ground',\n",
      "       'selective_logging', 'artisinal_mine', 'blooming', 'slash_burn',\n",
      "       'blow_down', 'conventional_mine'],\n",
      "      dtype='object')\n"
     ]
    }
   ],
   "source": [
    "index = ['conventional_mine', 'road', 'habitation', 'primary', 'cloudy', 'cultivation', 'partly_cloudy', 'artisinal_mine', 'selective_logging', 'blooming', 'agriculture', 'water', 'bare_ground', 'blow_down', 'slash_burn', 'clear', 'haze']\n",
    "labels_s.reindex(index)\n",
    "weights = labels_s.values/labels_s.values.sum()\n",
    "print(weights, labels_s.index)"
   ]
  },
  {
   "cell_type": "code",
   "execution_count": null,
   "metadata": {},
   "outputs": [],
   "source": []
  },
  {
   "cell_type": "code",
   "execution_count": 8,
   "metadata": {},
   "outputs": [
    {
     "name": "stdout",
     "output_type": "stream",
     "text": [
      "primary              37513\n",
      "clear                28431\n",
      "agriculture          12315\n",
      "road                  8071\n",
      "water                 7411\n",
      "partly_cloudy         7261\n",
      "cultivation           4547\n",
      "habitation            3660\n",
      "haze                  2697\n",
      "cloudy                2089\n",
      "bare_ground            862\n",
      "selective_logging      340\n",
      "artisinal_mine         339\n",
      "blooming               332\n",
      "slash_burn             209\n",
      "blow_down              101\n",
      "conventional_mine      100\n",
      "dtype: int64\n"
     ]
    }
   ],
   "source": [
    "print(labels_s)"
   ]
  },
  {
   "cell_type": "code",
   "execution_count": 9,
   "metadata": {},
   "outputs": [],
   "source": [
    "reindexed = labels_s.reindex(index)"
   ]
  },
  {
   "cell_type": "code",
   "execution_count": 10,
   "metadata": {},
   "outputs": [
    {
     "name": "stdout",
     "output_type": "stream",
     "text": [
      "conventional_mine      100\n",
      "road                  8071\n",
      "habitation            3660\n",
      "primary              37513\n",
      "cloudy                2089\n",
      "cultivation           4547\n",
      "partly_cloudy         7261\n",
      "artisinal_mine         339\n",
      "selective_logging      340\n",
      "blooming               332\n",
      "agriculture          12315\n",
      "water                 7411\n",
      "bare_ground            862\n",
      "blow_down              101\n",
      "slash_burn             209\n",
      "clear                28431\n",
      "haze                  2697\n",
      "dtype: int64\n",
      "[0.00860008 0.69411239 0.3147629  3.22614768 0.17965565 0.3910456\n",
      " 0.62445174 0.02915427 0.02924027 0.02855226 1.05909974 0.63735186\n",
      " 0.07413268 0.00868608 0.01797417 2.44508849 0.23194413]\n"
     ]
    }
   ],
   "source": [
    "print(reindexed)\n",
    "weights = 10*reindexed.values/reindexed.values.sum()\n",
    "print(weights)"
   ]
  },
  {
   "cell_type": "code",
   "execution_count": null,
   "metadata": {},
   "outputs": [],
   "source": []
  },
  {
   "cell_type": "code",
   "execution_count": null,
   "metadata": {},
   "outputs": [],
   "source": []
  },
  {
   "cell_type": "code",
   "execution_count": 11,
   "metadata": {},
   "outputs": [],
   "source": [
    "# for ival in index"
   ]
  },
  {
   "cell_type": "code",
   "execution_count": 12,
   "metadata": {},
   "outputs": [],
   "source": [
    "import glob\n",
    "import cv2\n",
    "from PIL import Image\n",
    "from sklearn.preprocessing import MultiLabelBinarizer\n",
    "from sklearn.metrics import accuracy_score, fbeta_score\n",
    "from tqdm import tqdm_notebook, tqdm\n",
    "\n",
    "\n",
    "import tensorflow.keras as k\n",
    "from tensorflow.keras.models import Sequential\n",
    "from tensorflow.keras.layers import Dense, Dropout, Flatten\n",
    "from tensorflow.keras.layers import Conv2D, MaxPooling2D"
   ]
  },
  {
   "cell_type": "code",
   "execution_count": null,
   "metadata": {},
   "outputs": [],
   "source": []
  },
  {
   "cell_type": "code",
   "execution_count": 13,
   "metadata": {},
   "outputs": [
    {
     "name": "stdout",
     "output_type": "stream",
     "text": [
      "40479\n"
     ]
    }
   ],
   "source": [
    "image_list = [f for f in glob.glob(base_path+'train-jpg/*.jpg')]\n",
    "print(len(image_list))"
   ]
  },
  {
   "cell_type": "code",
   "execution_count": null,
   "metadata": {},
   "outputs": [],
   "source": []
  },
  {
   "cell_type": "code",
   "execution_count": 14,
   "metadata": {},
   "outputs": [
    {
     "name": "stderr",
     "output_type": "stream",
     "text": [
      "100%|██████████| 40479/40479 [00:49<00:00, 814.34it/s]\n"
     ]
    },
    {
     "name": "stdout",
     "output_type": "stream",
     "text": [
      "(40479, 32, 32, 3)\n",
      "(40479, 17)\n"
     ]
    }
   ],
   "source": [
    "X = []\n",
    "y = []\n",
    "\n",
    "\n",
    "df_train = pd.read_csv(base_path+'train_v2.csv')\n",
    "\n",
    "flatten = lambda l: [item for sublist in l for item in sublist]\n",
    "labels = list(set(flatten([l.split(' ') for l in df_train['tags'].values])))\n",
    "\n",
    "label_map = {l: i for i, l in enumerate(labels)}\n",
    "inv_label_map = {i: l for l, i in label_map.items()}\n",
    "\n",
    "for f, tags in tqdm(df_train.values, miniters=1000):\n",
    "    img = cv2.imread(base_path+'train-jpg/'+'{}.jpg'.format(f))\n",
    "    targets = np.zeros(17)\n",
    "    for t in tags.split(' '):\n",
    "        targets[label_map[t]] = 1 \n",
    "    X.append(cv2.resize(img, (32, 32)))\n",
    "    y.append(targets)\n",
    "    \n",
    "y = np.array(y, np.uint8)\n",
    "X = np.array(X, np.float16) / 255.\n",
    "\n",
    "print(X.shape)\n",
    "print(y.shape)"
   ]
  },
  {
   "cell_type": "code",
   "execution_count": null,
   "metadata": {},
   "outputs": [],
   "source": []
  },
  {
   "cell_type": "code",
   "execution_count": 43,
   "metadata": {},
   "outputs": [
    {
     "name": "stdout",
     "output_type": "stream",
     "text": [
      "(32384, 32, 32, 3) (32384, 17) (8095, 32, 32, 3) (8095, 17)\n"
     ]
    }
   ],
   "source": [
    "SPLIT = 0.2\n",
    "dataset_size = len(X)\n",
    "indices = list(range(dataset_size))\n",
    "split = int(np.floor(SPLIT * dataset_size))\n",
    "\n",
    "np.random.seed(42)\n",
    "np.random.shuffle(indices)\n",
    "\n",
    "train_indices, val_indices = indices[split:], indices[:split]\n",
    "x_train, x_valid, y_train, y_valid = X[train_indices], X[val_indices], y[train_indices], y[val_indices]\n",
    "print(x_train.shape, y_train.shape, x_valid.shape, y_valid.shape)"
   ]
  },
  {
   "cell_type": "code",
   "execution_count": 44,
   "metadata": {},
   "outputs": [],
   "source": [
    "model = Sequential()\n",
    "model.add(Conv2D(32, kernel_size=(3, 3),\n",
    "                 activation='relu',\n",
    "                 input_shape=(32, 32, 3)))\n",
    "\n",
    "model.add(Conv2D(32, (3, 3), activation='relu'))\n",
    "model.add(Conv2D(32, (3, 3), activation='relu'))\n",
    "model.add(Conv2D(32, (3, 3), activation='relu'))\n",
    "model.add(MaxPooling2D(pool_size=(2, 2)))\n",
    "model.add(Dropout(0.25))\n",
    "model.add(Conv2D(64, (3, 3), activation='relu'))\n",
    "model.add(Conv2D(64, (3, 3), activation='relu'))\n",
    "model.add(Conv2D(64, (3, 3), activation='relu'))\n",
    "model.add(MaxPooling2D(pool_size=(2, 2)))\n",
    "model.add(Dropout(0.25))\n",
    "model.add(Flatten())\n",
    "model.add(Dense(128, activation='relu'))\n",
    "model.add(Dense(128, activation='relu'))\n",
    "model.add(Dense(128, activation='relu'))\n",
    "model.add(Dropout(0.5))\n",
    "model.add(Dense(17, activation='sigmoid'))"
   ]
  },
  {
   "cell_type": "code",
   "execution_count": 45,
   "metadata": {},
   "outputs": [],
   "source": [
    "class KerasMetrics:\n",
    "\tdef precision(self, y_true, y_pred):\n",
    "\t\ttrue_positives = k.backend.sum(k.backend.round(k.backend.clip(y_true * y_pred, 0, 1)))\n",
    "\t\tpredicted_positives = k.backend.sum(k.backend.round(k.backend.clip(y_pred, 0, 1)))\n",
    "\t\tprecision = true_positives / (predicted_positives + k.backend.epsilon())\n",
    "\t\treturn precision\n",
    "\n",
    "\tdef recall(self, y_true, y_pred):\n",
    "\t\ttrue_positives = k.backend.sum(k.backend.round(k.backend.clip(y_true * y_pred, 0, 1)))\n",
    "\t\tpossible_positives = k.backend.sum(k.backend.round(k.backend.clip(y_true, 0, 1)))\n",
    "\t\trecall = true_positives / (possible_positives + k.backend.epsilon())\n",
    "\t\treturn recall\n",
    "\n",
    "\tdef fbeta_score(self, y_true, y_pred, beta=2):\n",
    "\t\tif beta < 0:\n",
    "\t\t\traise ValueError('The lowest choosable beta is zero (only precision).')\n",
    "\n",
    "\t\tif k.backend.sum(k.backend.round(k.backend.clip(y_true, 0, 1))) == 0:\n",
    "\t\t\treturn 0\n",
    "\n",
    "\t\tp = self.precision(y_true, y_pred)\n",
    "\t\tr = self.recall(y_true, y_pred)\n",
    "\t\tbb = beta ** 2\n",
    "\t\tfbeta_score = (1 + bb) * (p * r) / (bb * p + r + k.backend.epsilon())\n",
    "\t\treturn fbeta_score"
   ]
  },
  {
   "cell_type": "code",
   "execution_count": 46,
   "metadata": {},
   "outputs": [],
   "source": [
    "keras_metrics = KerasMetrics()\n",
    "# We NEED binary here, since categorical_crossentropy l1 norms the output before calculating loss.\n",
    "optim = k.optimizers.Adam(lr=1e-3, beta_1=0.9, beta_2=0.999, epsilon=None, decay=0.0, amsgrad=False)\n",
    "model.compile(loss='binary_crossentropy', optimizer=optim, metrics=['accuracy', keras_metrics.fbeta_score])"
   ]
  },
  {
   "cell_type": "code",
   "execution_count": 47,
   "metadata": {},
   "outputs": [],
   "source": [
    "datagen = k.preprocessing.image.ImageDataGenerator(width_shift_range=0.2,\n",
    "                                                   height_shift_range=0.2,\n",
    "                                                   vertical_flip=True)\n",
    "\n",
    "datagen.fit(x_train)"
   ]
  },
  {
   "cell_type": "code",
   "execution_count": 48,
   "metadata": {},
   "outputs": [
    {
     "name": "stdout",
     "output_type": "stream",
     "text": [
      "Epoch 1/50\n",
      "127/126 [==============================] - 13s 105ms/step - loss: 0.3110 - acc: 0.8815 - fbeta_score: 0.5843 - val_loss: 0.2408 - val_acc: 0.9066 - val_fbeta_score: 0.6085\n",
      "Epoch 2/50\n",
      "127/126 [==============================] - 12s 92ms/step - loss: 0.2448 - acc: 0.9065 - fbeta_score: 0.6052 - val_loss: 0.2196 - val_acc: 0.9143 - val_fbeta_score: 0.6356\n",
      "Epoch 3/50\n",
      "127/126 [==============================] - 13s 101ms/step - loss: 0.2266 - acc: 0.9125 - fbeta_score: 0.6306 - val_loss: 0.2051 - val_acc: 0.9184 - val_fbeta_score: 0.6546\n",
      "Epoch 4/50\n",
      "127/126 [==============================] - 12s 96ms/step - loss: 0.2196 - acc: 0.9146 - fbeta_score: 0.6401 - val_loss: 0.1994 - val_acc: 0.9209 - val_fbeta_score: 0.6634\n",
      "Epoch 5/50\n",
      "127/126 [==============================] - 12s 92ms/step - loss: 0.2116 - acc: 0.9164 - fbeta_score: 0.6534 - val_loss: 0.1931 - val_acc: 0.9220 - val_fbeta_score: 0.6901\n",
      "Epoch 6/50\n",
      "127/126 [==============================] - 12s 95ms/step - loss: 0.2037 - acc: 0.9201 - fbeta_score: 0.6719 - val_loss: 0.1897 - val_acc: 0.9245 - val_fbeta_score: 0.7147\n",
      "Epoch 7/50\n",
      "127/126 [==============================] - 12s 93ms/step - loss: 0.1980 - acc: 0.9231 - fbeta_score: 0.6884 - val_loss: 0.1834 - val_acc: 0.9270 - val_fbeta_score: 0.7060\n",
      "Epoch 8/50\n",
      "127/126 [==============================] - 12s 93ms/step - loss: 0.1886 - acc: 0.9267 - fbeta_score: 0.7082 - val_loss: 0.1728 - val_acc: 0.9325 - val_fbeta_score: 0.7396\n",
      "Epoch 9/50\n",
      "127/126 [==============================] - 12s 94ms/step - loss: 0.1837 - acc: 0.9285 - fbeta_score: 0.7154 - val_loss: 0.1731 - val_acc: 0.9322 - val_fbeta_score: 0.7339\n",
      "Epoch 10/50\n",
      "127/126 [==============================] - 12s 94ms/step - loss: 0.1818 - acc: 0.9293 - fbeta_score: 0.7212 - val_loss: 0.1652 - val_acc: 0.9349 - val_fbeta_score: 0.7468\n",
      "Epoch 11/50\n",
      "127/126 [==============================] - 12s 95ms/step - loss: 0.1777 - acc: 0.9311 - fbeta_score: 0.7273 - val_loss: 0.1640 - val_acc: 0.9349 - val_fbeta_score: 0.7465\n",
      "Epoch 12/50\n",
      "127/126 [==============================] - 12s 94ms/step - loss: 0.1739 - acc: 0.9329 - fbeta_score: 0.7346 - val_loss: 0.1600 - val_acc: 0.9379 - val_fbeta_score: 0.7500\n",
      "Epoch 13/50\n",
      "127/126 [==============================] - 12s 95ms/step - loss: 0.1714 - acc: 0.9341 - fbeta_score: 0.7392 - val_loss: 0.1564 - val_acc: 0.9386 - val_fbeta_score: 0.7611\n",
      "Epoch 14/50\n",
      "127/126 [==============================] - 12s 95ms/step - loss: 0.1695 - acc: 0.9346 - fbeta_score: 0.7414 - val_loss: 0.1557 - val_acc: 0.9390 - val_fbeta_score: 0.7653\n",
      "Epoch 15/50\n",
      "127/126 [==============================] - 12s 94ms/step - loss: 0.1674 - acc: 0.9354 - fbeta_score: 0.7444 - val_loss: 0.1511 - val_acc: 0.9408 - val_fbeta_score: 0.7599\n",
      "Epoch 16/50\n",
      "127/126 [==============================] - 12s 92ms/step - loss: 0.1637 - acc: 0.9370 - fbeta_score: 0.7512 - val_loss: 0.1509 - val_acc: 0.9416 - val_fbeta_score: 0.7749\n",
      "Epoch 17/50\n",
      "127/126 [==============================] - 12s 92ms/step - loss: 0.1626 - acc: 0.9374 - fbeta_score: 0.7535 - val_loss: 0.1487 - val_acc: 0.9416 - val_fbeta_score: 0.7673\n",
      "Epoch 18/50\n",
      "127/126 [==============================] - 12s 95ms/step - loss: 0.1610 - acc: 0.9385 - fbeta_score: 0.7582 - val_loss: 0.1480 - val_acc: 0.9427 - val_fbeta_score: 0.7782\n",
      "Epoch 19/50\n",
      "127/126 [==============================] - 12s 93ms/step - loss: 0.1597 - acc: 0.9384 - fbeta_score: 0.7594 - val_loss: 0.1467 - val_acc: 0.9431 - val_fbeta_score: 0.7844\n",
      "Epoch 20/50\n",
      "127/126 [==============================] - 12s 94ms/step - loss: 0.1574 - acc: 0.9395 - fbeta_score: 0.7634 - val_loss: 0.1450 - val_acc: 0.9432 - val_fbeta_score: 0.7877\n",
      "Epoch 21/50\n",
      "127/126 [==============================] - 12s 92ms/step - loss: 0.1563 - acc: 0.9401 - fbeta_score: 0.7665 - val_loss: 0.1490 - val_acc: 0.9425 - val_fbeta_score: 0.7872\n",
      "Epoch 22/50\n",
      "127/126 [==============================] - 11s 88ms/step - loss: 0.1568 - acc: 0.9397 - fbeta_score: 0.7661 - val_loss: 0.1495 - val_acc: 0.9420 - val_fbeta_score: 0.7890\n",
      "Epoch 23/50\n",
      "127/126 [==============================] - 12s 95ms/step - loss: 0.1552 - acc: 0.9404 - fbeta_score: 0.7689 - val_loss: 0.1402 - val_acc: 0.9450 - val_fbeta_score: 0.7924\n",
      "Epoch 24/50\n",
      "127/126 [==============================] - 12s 95ms/step - loss: 0.1536 - acc: 0.9413 - fbeta_score: 0.7725 - val_loss: 0.1419 - val_acc: 0.9443 - val_fbeta_score: 0.7900\n",
      "Epoch 25/50\n",
      "127/126 [==============================] - 13s 100ms/step - loss: 0.1532 - acc: 0.9411 - fbeta_score: 0.7709 - val_loss: 0.1404 - val_acc: 0.9444 - val_fbeta_score: 0.7897\n",
      "Epoch 26/50\n",
      "127/126 [==============================] - 13s 99ms/step - loss: 0.1525 - acc: 0.9415 - fbeta_score: 0.7738 - val_loss: 0.1448 - val_acc: 0.9437 - val_fbeta_score: 0.7922\n",
      "Epoch 27/50\n",
      "127/126 [==============================] - 12s 95ms/step - loss: 0.1526 - acc: 0.9412 - fbeta_score: 0.7717 - val_loss: 0.1376 - val_acc: 0.9461 - val_fbeta_score: 0.7901\n",
      "Epoch 28/50\n",
      "127/126 [==============================] - 12s 94ms/step - loss: 0.1509 - acc: 0.9420 - fbeta_score: 0.7758 - val_loss: 0.1394 - val_acc: 0.9453 - val_fbeta_score: 0.7939\n",
      "Epoch 29/50\n",
      "127/126 [==============================] - 13s 99ms/step - loss: 0.1500 - acc: 0.9421 - fbeta_score: 0.7761 - val_loss: 0.1340 - val_acc: 0.9475 - val_fbeta_score: 0.8006\n",
      "Epoch 30/50\n",
      "127/126 [==============================] - 12s 97ms/step - loss: 0.1491 - acc: 0.9430 - fbeta_score: 0.7798 - val_loss: 0.1377 - val_acc: 0.9453 - val_fbeta_score: 0.7963\n",
      "Epoch 31/50\n",
      "127/126 [==============================] - 13s 99ms/step - loss: 0.1489 - acc: 0.9430 - fbeta_score: 0.7805 - val_loss: 0.1379 - val_acc: 0.9461 - val_fbeta_score: 0.7959\n",
      "Epoch 32/50\n",
      "127/126 [==============================] - 12s 93ms/step - loss: 0.1485 - acc: 0.9429 - fbeta_score: 0.7803 - val_loss: 0.1353 - val_acc: 0.9472 - val_fbeta_score: 0.8029\n",
      "Epoch 33/50\n",
      "127/126 [==============================] - 12s 97ms/step - loss: 0.1481 - acc: 0.9430 - fbeta_score: 0.7817 - val_loss: 0.1358 - val_acc: 0.9467 - val_fbeta_score: 0.7980\n",
      "Epoch 34/50\n",
      "127/126 [==============================] - 12s 97ms/step - loss: 0.1475 - acc: 0.9431 - fbeta_score: 0.7812 - val_loss: 0.1455 - val_acc: 0.9430 - val_fbeta_score: 0.7816\n",
      "Epoch 35/50\n",
      "127/126 [==============================] - 13s 100ms/step - loss: 0.1470 - acc: 0.9435 - fbeta_score: 0.7827 - val_loss: 0.1312 - val_acc: 0.9488 - val_fbeta_score: 0.8037\n",
      "Epoch 36/50\n",
      "127/126 [==============================] - 12s 96ms/step - loss: 0.1451 - acc: 0.9438 - fbeta_score: 0.7849 - val_loss: 0.1336 - val_acc: 0.9469 - val_fbeta_score: 0.8019\n",
      "Epoch 37/50\n",
      "127/126 [==============================] - 13s 100ms/step - loss: 0.1447 - acc: 0.9442 - fbeta_score: 0.7859 - val_loss: 0.1309 - val_acc: 0.9482 - val_fbeta_score: 0.8016\n",
      "Epoch 38/50\n",
      "127/126 [==============================] - 12s 98ms/step - loss: 0.1459 - acc: 0.9437 - fbeta_score: 0.7851 - val_loss: 0.1305 - val_acc: 0.9486 - val_fbeta_score: 0.8100\n",
      "Epoch 39/50\n",
      "127/126 [==============================] - 12s 98ms/step - loss: 0.1446 - acc: 0.9448 - fbeta_score: 0.7889 - val_loss: 0.1300 - val_acc: 0.9494 - val_fbeta_score: 0.8091\n",
      "Epoch 40/50\n",
      "127/126 [==============================] - 12s 98ms/step - loss: 0.1434 - acc: 0.9447 - fbeta_score: 0.7898 - val_loss: 0.1338 - val_acc: 0.9479 - val_fbeta_score: 0.8125\n",
      "Epoch 41/50\n",
      "127/126 [==============================] - 12s 96ms/step - loss: 0.1425 - acc: 0.9451 - fbeta_score: 0.7916 - val_loss: 0.1349 - val_acc: 0.9471 - val_fbeta_score: 0.8111\n",
      "Epoch 42/50\n",
      "127/126 [==============================] - 12s 96ms/step - loss: 0.1426 - acc: 0.9450 - fbeta_score: 0.7914 - val_loss: 0.1348 - val_acc: 0.9468 - val_fbeta_score: 0.8138\n",
      "Epoch 43/50\n",
      "127/126 [==============================] - 13s 102ms/step - loss: 0.1426 - acc: 0.9456 - fbeta_score: 0.7931 - val_loss: 0.1335 - val_acc: 0.9474 - val_fbeta_score: 0.8112\n",
      "Epoch 44/50\n",
      "127/126 [==============================] - 13s 106ms/step - loss: 0.1424 - acc: 0.9452 - fbeta_score: 0.7920 - val_loss: 0.1336 - val_acc: 0.9473 - val_fbeta_score: 0.8053\n",
      "Epoch 45/50\n",
      "127/126 [==============================] - 12s 97ms/step - loss: 0.1423 - acc: 0.9454 - fbeta_score: 0.7929 - val_loss: 0.1303 - val_acc: 0.9496 - val_fbeta_score: 0.8102\n",
      "Epoch 46/50\n",
      "127/126 [==============================] - 13s 100ms/step - loss: 0.1419 - acc: 0.9458 - fbeta_score: 0.7933 - val_loss: 0.1302 - val_acc: 0.9489 - val_fbeta_score: 0.8099\n",
      "Epoch 47/50\n",
      "127/126 [==============================] - 13s 99ms/step - loss: 0.1409 - acc: 0.9459 - fbeta_score: 0.7962 - val_loss: 0.1315 - val_acc: 0.9484 - val_fbeta_score: 0.8122\n",
      "Epoch 48/50\n",
      "127/126 [==============================] - 13s 103ms/step - loss: 0.1403 - acc: 0.9462 - fbeta_score: 0.7964 - val_loss: 0.1278 - val_acc: 0.9496 - val_fbeta_score: 0.8124\n",
      "Epoch 49/50\n",
      "127/126 [==============================] - 13s 99ms/step - loss: 0.1401 - acc: 0.9460 - fbeta_score: 0.7956 - val_loss: 0.1294 - val_acc: 0.9495 - val_fbeta_score: 0.8164\n",
      "Epoch 50/50\n",
      "127/126 [==============================] - 13s 98ms/step - loss: 0.1398 - acc: 0.9466 - fbeta_score: 0.7984 - val_loss: 0.1287 - val_acc: 0.9496 - val_fbeta_score: 0.8202\n"
     ]
    }
   ],
   "source": [
    "history = model.fit_generator(datagen.flow(x_train, y_train, batch_size=256),\n",
    "                              steps_per_epoch=len(x_train) / 256, epochs=50,\n",
    "                              validation_data=(x_valid, y_valid))"
   ]
  },
  {
   "cell_type": "code",
   "execution_count": 34,
   "metadata": {
    "collapsed": true,
    "jupyter": {
     "outputs_hidden": true,
     "source_hidden": true
    }
   },
   "outputs": [
    {
     "name": "stdout",
     "output_type": "stream",
     "text": [
      "Train on 32384 samples, validate on 8095 samples\n",
      "Epoch 1/50\n",
      "32384/32384 [==============================] - 3s 91us/sample - loss: 0.2963 - acc: 0.8893 - fbeta_score: 0.5768 - val_loss: 0.2270 - val_acc: 0.9104 - val_fbeta_score: 0.5898\n",
      "Epoch 2/50\n",
      "32384/32384 [==============================] - 3s 78us/sample - loss: 0.2305 - acc: 0.9101 - fbeta_score: 0.6182 - val_loss: 0.2028 - val_acc: 0.9197 - val_fbeta_score: 0.6600\n",
      "Epoch 3/50\n",
      "32384/32384 [==============================] - 3s 79us/sample - loss: 0.2081 - acc: 0.9191 - fbeta_score: 0.6755 - val_loss: 0.1974 - val_acc: 0.9209 - val_fbeta_score: 0.7195\n",
      "Epoch 4/50\n",
      "32384/32384 [==============================] - 2s 76us/sample - loss: 0.1902 - acc: 0.9264 - fbeta_score: 0.7109 - val_loss: 0.1721 - val_acc: 0.9327 - val_fbeta_score: 0.7470\n",
      "Epoch 5/50\n",
      "32384/32384 [==============================] - 2s 75us/sample - loss: 0.1793 - acc: 0.9300 - fbeta_score: 0.7274 - val_loss: 0.1713 - val_acc: 0.9326 - val_fbeta_score: 0.7535\n",
      "Epoch 6/50\n",
      "32384/32384 [==============================] - 2s 77us/sample - loss: 0.1737 - acc: 0.9323 - fbeta_score: 0.7361 - val_loss: 0.1690 - val_acc: 0.9328 - val_fbeta_score: 0.7208\n",
      "Epoch 7/50\n",
      "32384/32384 [==============================] - 3s 78us/sample - loss: 0.1693 - acc: 0.9337 - fbeta_score: 0.7392 - val_loss: 0.1603 - val_acc: 0.9368 - val_fbeta_score: 0.7607\n",
      "Epoch 8/50\n",
      "32384/32384 [==============================] - 3s 78us/sample - loss: 0.1665 - acc: 0.9350 - fbeta_score: 0.7455 - val_loss: 0.1573 - val_acc: 0.9385 - val_fbeta_score: 0.7542\n",
      "Epoch 9/50\n",
      "32384/32384 [==============================] - 2s 77us/sample - loss: 0.1625 - acc: 0.9367 - fbeta_score: 0.7517 - val_loss: 0.1522 - val_acc: 0.9402 - val_fbeta_score: 0.7478\n",
      "Epoch 10/50\n",
      "32384/32384 [==============================] - 2s 73us/sample - loss: 0.1602 - acc: 0.9377 - fbeta_score: 0.7561 - val_loss: 0.1502 - val_acc: 0.9409 - val_fbeta_score: 0.7699\n",
      "Epoch 11/50\n",
      "32384/32384 [==============================] - 2s 74us/sample - loss: 0.1568 - acc: 0.9386 - fbeta_score: 0.7606 - val_loss: 0.1473 - val_acc: 0.9418 - val_fbeta_score: 0.7608\n",
      "Epoch 12/50\n",
      "32384/32384 [==============================] - 2s 77us/sample - loss: 0.1549 - acc: 0.9396 - fbeta_score: 0.7635 - val_loss: 0.1443 - val_acc: 0.9433 - val_fbeta_score: 0.7874\n",
      "Epoch 13/50\n",
      "32384/32384 [==============================] - 2s 75us/sample - loss: 0.1525 - acc: 0.9404 - fbeta_score: 0.7675 - val_loss: 0.1449 - val_acc: 0.9430 - val_fbeta_score: 0.7880\n",
      "Epoch 14/50\n",
      "32384/32384 [==============================] - 3s 82us/sample - loss: 0.1504 - acc: 0.9405 - fbeta_score: 0.7685 - val_loss: 0.1462 - val_acc: 0.9417 - val_fbeta_score: 0.7539\n",
      "Epoch 15/50\n",
      "32384/32384 [==============================] - 3s 79us/sample - loss: 0.1490 - acc: 0.9416 - fbeta_score: 0.7729 - val_loss: 0.1416 - val_acc: 0.9439 - val_fbeta_score: 0.7896\n",
      "Epoch 16/50\n",
      "32384/32384 [==============================] - 3s 80us/sample - loss: 0.1482 - acc: 0.9419 - fbeta_score: 0.7742 - val_loss: 0.1401 - val_acc: 0.9449 - val_fbeta_score: 0.7860\n",
      "Epoch 17/50\n",
      "32384/32384 [==============================] - 2s 76us/sample - loss: 0.1452 - acc: 0.9429 - fbeta_score: 0.7789 - val_loss: 0.1412 - val_acc: 0.9443 - val_fbeta_score: 0.7746\n",
      "Epoch 18/50\n",
      "32384/32384 [==============================] - 3s 77us/sample - loss: 0.1446 - acc: 0.9434 - fbeta_score: 0.7811 - val_loss: 0.1371 - val_acc: 0.9455 - val_fbeta_score: 0.7874\n",
      "Epoch 19/50\n",
      "32384/32384 [==============================] - 3s 79us/sample - loss: 0.1435 - acc: 0.9434 - fbeta_score: 0.7819 - val_loss: 0.1373 - val_acc: 0.9452 - val_fbeta_score: 0.7828\n",
      "Epoch 20/50\n",
      "32384/32384 [==============================] - 2s 77us/sample - loss: 0.1414 - acc: 0.9446 - fbeta_score: 0.7867 - val_loss: 0.1351 - val_acc: 0.9464 - val_fbeta_score: 0.7947\n",
      "Epoch 21/50\n",
      "32384/32384 [==============================] - 2s 76us/sample - loss: 0.1408 - acc: 0.9448 - fbeta_score: 0.7880 - val_loss: 0.1346 - val_acc: 0.9475 - val_fbeta_score: 0.8008\n",
      "Epoch 22/50\n",
      "32384/32384 [==============================] - 2s 75us/sample - loss: 0.1392 - acc: 0.9457 - fbeta_score: 0.7915 - val_loss: 0.1341 - val_acc: 0.9469 - val_fbeta_score: 0.7868\n",
      "Epoch 23/50\n",
      "32384/32384 [==============================] - 3s 79us/sample - loss: 0.1405 - acc: 0.9448 - fbeta_score: 0.7878 - val_loss: 0.1314 - val_acc: 0.9486 - val_fbeta_score: 0.7995\n",
      "Epoch 24/50\n",
      "32384/32384 [==============================] - 3s 78us/sample - loss: 0.1374 - acc: 0.9461 - fbeta_score: 0.7930 - val_loss: 0.1328 - val_acc: 0.9483 - val_fbeta_score: 0.7990\n",
      "Epoch 25/50\n",
      "32384/32384 [==============================] - 2s 77us/sample - loss: 0.1365 - acc: 0.9464 - fbeta_score: 0.7954 - val_loss: 0.1349 - val_acc: 0.9475 - val_fbeta_score: 0.8039\n",
      "Epoch 26/50\n",
      "32384/32384 [==============================] - 2s 76us/sample - loss: 0.1363 - acc: 0.9465 - fbeta_score: 0.7946 - val_loss: 0.1319 - val_acc: 0.9487 - val_fbeta_score: 0.8069\n",
      "Epoch 27/50\n",
      "32384/32384 [==============================] - 3s 81us/sample - loss: 0.1348 - acc: 0.9470 - fbeta_score: 0.7982 - val_loss: 0.1310 - val_acc: 0.9482 - val_fbeta_score: 0.7946\n",
      "Epoch 28/50\n",
      "32384/32384 [==============================] - 3s 85us/sample - loss: 0.1351 - acc: 0.9471 - fbeta_score: 0.7981 - val_loss: 0.1306 - val_acc: 0.9488 - val_fbeta_score: 0.8015\n",
      "Epoch 29/50\n",
      "32384/32384 [==============================] - 2s 73us/sample - loss: 0.1333 - acc: 0.9478 - fbeta_score: 0.8008 - val_loss: 0.1299 - val_acc: 0.9486 - val_fbeta_score: 0.7963\n",
      "Epoch 30/50\n",
      "32384/32384 [==============================] - 2s 67us/sample - loss: 0.1332 - acc: 0.9478 - fbeta_score: 0.8020 - val_loss: 0.1297 - val_acc: 0.9484 - val_fbeta_score: 0.8001\n",
      "Epoch 31/50\n",
      "32384/32384 [==============================] - 2s 68us/sample - loss: 0.1313 - acc: 0.9482 - fbeta_score: 0.8039 - val_loss: 0.1278 - val_acc: 0.9495 - val_fbeta_score: 0.8003\n",
      "Epoch 32/50\n",
      "32384/32384 [==============================] - 2s 72us/sample - loss: 0.1325 - acc: 0.9478 - fbeta_score: 0.8018 - val_loss: 0.1294 - val_acc: 0.9498 - val_fbeta_score: 0.8058\n",
      "Epoch 33/50\n",
      "32384/32384 [==============================] - 2s 72us/sample - loss: 0.1309 - acc: 0.9490 - fbeta_score: 0.8066 - val_loss: 0.1288 - val_acc: 0.9488 - val_fbeta_score: 0.8137\n",
      "Epoch 34/50\n",
      "32384/32384 [==============================] - 2s 70us/sample - loss: 0.1312 - acc: 0.9485 - fbeta_score: 0.8052 - val_loss: 0.1257 - val_acc: 0.9507 - val_fbeta_score: 0.8075\n",
      "Epoch 35/50\n",
      "32384/32384 [==============================] - 2s 70us/sample - loss: 0.1300 - acc: 0.9488 - fbeta_score: 0.8064 - val_loss: 0.1307 - val_acc: 0.9495 - val_fbeta_score: 0.8082\n",
      "Epoch 36/50\n",
      "32384/32384 [==============================] - 2s 75us/sample - loss: 0.1301 - acc: 0.9489 - fbeta_score: 0.8072 - val_loss: 0.1283 - val_acc: 0.9496 - val_fbeta_score: 0.8053\n",
      "Epoch 37/50\n",
      "32384/32384 [==============================] - 2s 70us/sample - loss: 0.1290 - acc: 0.9496 - fbeta_score: 0.8096 - val_loss: 0.1283 - val_acc: 0.9497 - val_fbeta_score: 0.8128\n",
      "Epoch 38/50\n",
      "32384/32384 [==============================] - 2s 70us/sample - loss: 0.1283 - acc: 0.9498 - fbeta_score: 0.8112 - val_loss: 0.1278 - val_acc: 0.9502 - val_fbeta_score: 0.8097\n",
      "Epoch 39/50\n",
      "32384/32384 [==============================] - 2s 71us/sample - loss: 0.1272 - acc: 0.9502 - fbeta_score: 0.8135 - val_loss: 0.1262 - val_acc: 0.9509 - val_fbeta_score: 0.8120\n",
      "Epoch 40/50\n",
      "32384/32384 [==============================] - 2s 68us/sample - loss: 0.1260 - acc: 0.9505 - fbeta_score: 0.8143 - val_loss: 0.1247 - val_acc: 0.9514 - val_fbeta_score: 0.8192\n",
      "Epoch 41/50\n",
      "32384/32384 [==============================] - 2s 70us/sample - loss: 0.1260 - acc: 0.9508 - fbeta_score: 0.8153 - val_loss: 0.1273 - val_acc: 0.9508 - val_fbeta_score: 0.8120\n",
      "Epoch 42/50\n",
      "32384/32384 [==============================] - 2s 70us/sample - loss: 0.1247 - acc: 0.9509 - fbeta_score: 0.8167 - val_loss: 0.1257 - val_acc: 0.9508 - val_fbeta_score: 0.8170\n",
      "Epoch 43/50\n",
      "32384/32384 [==============================] - 2s 68us/sample - loss: 0.1243 - acc: 0.9513 - fbeta_score: 0.8190 - val_loss: 0.1271 - val_acc: 0.9510 - val_fbeta_score: 0.8141\n",
      "Epoch 44/50\n",
      "32384/32384 [==============================] - 2s 70us/sample - loss: 0.1239 - acc: 0.9513 - fbeta_score: 0.8178 - val_loss: 0.1308 - val_acc: 0.9502 - val_fbeta_score: 0.8206\n",
      "Epoch 45/50\n",
      "32384/32384 [==============================] - 2s 72us/sample - loss: 0.1240 - acc: 0.9519 - fbeta_score: 0.8209 - val_loss: 0.1258 - val_acc: 0.9520 - val_fbeta_score: 0.8158\n",
      "Epoch 46/50\n",
      "32384/32384 [==============================] - 2s 69us/sample - loss: 0.1218 - acc: 0.9525 - fbeta_score: 0.8225 - val_loss: 0.1257 - val_acc: 0.9510 - val_fbeta_score: 0.8178\n",
      "Epoch 47/50\n",
      "32384/32384 [==============================] - 2s 73us/sample - loss: 0.1221 - acc: 0.9521 - fbeta_score: 0.8215 - val_loss: 0.1267 - val_acc: 0.9516 - val_fbeta_score: 0.8129\n",
      "Epoch 48/50\n",
      "32384/32384 [==============================] - 2s 70us/sample - loss: 0.1223 - acc: 0.9521 - fbeta_score: 0.8215 - val_loss: 0.1249 - val_acc: 0.9518 - val_fbeta_score: 0.8225\n",
      "Epoch 49/50\n",
      "32384/32384 [==============================] - 2s 73us/sample - loss: 0.1207 - acc: 0.9527 - fbeta_score: 0.8246 - val_loss: 0.1270 - val_acc: 0.9499 - val_fbeta_score: 0.8137\n",
      "Epoch 50/50\n",
      "32384/32384 [==============================] - 2s 69us/sample - loss: 0.1200 - acc: 0.9529 - fbeta_score: 0.8247 - val_loss: 0.1255 - val_acc: 0.9523 - val_fbeta_score: 0.8196\n"
     ]
    }
   ],
   "source": [
    "history = model.fit(x_train, y_train,\n",
    "                    batch_size=256,\n",
    "                    epochs=50,\n",
    "                    verbose=1,\n",
    "                    validation_data=(x_valid, y_valid))"
   ]
  },
  {
   "cell_type": "code",
   "execution_count": null,
   "metadata": {},
   "outputs": [],
   "source": []
  },
  {
   "cell_type": "code",
   "execution_count": 49,
   "metadata": {},
   "outputs": [
    {
     "data": {
      "image/png": "[encoded data removed]",
      "text/plain": [
       "<Figure size 432x288 with 1 Axes>"
      ]
     },
     "metadata": {
      "needs_background": "light"
     },
     "output_type": "display_data"
    }
   ],
   "source": [
    "_ = plt.plot(history.history['loss'], label='Train')\n",
    "_ = plt.plot(history.history['val_loss'], label='Validation')\n",
    "_ = plt.title('Loss')"
   ]
  },
  {
   "cell_type": "code",
   "execution_count": 50,
   "metadata": {},
   "outputs": [
    {
     "data": {
      "image/png": "[encoded data removed]",
      "text/plain": [
       "<Figure size 432x288 with 1 Axes>"
      ]
     },
     "metadata": {
      "needs_background": "light"
     },
     "output_type": "display_data"
    }
   ],
   "source": [
    "_ = plt.plot(history.history['fbeta_score'], label='Train')\n",
    "_ = plt.plot(history.history['val_fbeta_score'], label='Validation')\n",
    "_ = plt.title('fbeta score')"
   ]
  },
  {
   "cell_type": "code",
   "execution_count": 51,
   "metadata": {},
   "outputs": [
    {
     "data": {
      "image/png": "[encoded data removed]",
      "text/plain": [
       "<Figure size 432x288 with 1 Axes>"
      ]
     },
     "metadata": {
      "needs_background": "light"
     },
     "output_type": "display_data"
    }
   ],
   "source": [
    "_ = plt.plot(history.history['acc'], label='Train')\n",
    "_ = plt.plot(history.history['val_acc'], label='Validation')\n",
    "_ = plt.title('Accuracy')"
   ]
  },
  {
   "cell_type": "code",
   "execution_count": null,
   "metadata": {},
   "outputs": [],
   "source": []
  },
  {
   "cell_type": "code",
   "execution_count": 22,
   "metadata": {
    "jupyter": {
     "source_hidden": true
    }
   },
   "outputs": [],
   "source": [
    "class DataGenerator(k.utils.Sequence):\n",
    "    'Generates data for Keras'\n",
    "    def __init__(self, list_IDs, labels, batch_size=32, dim=(32,32), n_channels=1,\n",
    "                 n_classes=10, shuffle=True):\n",
    "        'Initialization'\n",
    "        self.dim = dim\n",
    "        self.batch_size = batch_size\n",
    "        self.labels = labels\n",
    "        self.list_IDs = list_IDs\n",
    "        self.n_channels = n_channels\n",
    "        self.n_classes = n_classes\n",
    "        self.shuffle = shuffle\n",
    "        self.on_epoch_end()\n",
    "\n",
    "    def __len__(self):\n",
    "        'Denotes the number of batches per epoch'\n",
    "        return int(np.floor(len(self.list_IDs) / self.batch_size))\n",
    "\n",
    "    def __getitem__(self, index):\n",
    "        'Generate one batch of data'\n",
    "        # Generate indexes of the batch\n",
    "        indexes = self.indexes[index*self.batch_size:(index+1)*self.batch_size]\n",
    "\n",
    "        # Find list of IDs\n",
    "        list_IDs_temp = [self.list_IDs[idx] for idx in indexes]\n",
    "\n",
    "        # Generate data\n",
    "        #X, y = self.__data_generation(list_IDs_temp)\n",
    "\n",
    "        #return X, y\n",
    "\n",
    "    def on_epoch_end(self):\n",
    "        'Updates indexes after each epoch'\n",
    "        self.indexes = np.arange(len(self.list_IDs))\n",
    "        if self.shuffle == True:\n",
    "            np.random.shuffle(self.indexes)\n",
    "\n",
    "#     def __data_generation(self, list_IDs_temp):\n",
    "#         'Generates data containing batch_size samples' # X : (n_samples, *dim, n_channels)\n",
    "#         # Initialization\n",
    "#         X = np.empty((self.batch_size, *self.dim, self.n_channels))\n",
    "#         y = np.empty((self.batch_size), dtype=int)\n",
    "\n",
    "#         # Generate data\n",
    "#         for i, ID in enumerate(list_IDs_temp):\n",
    "#             # Store sample\n",
    "#             X[i,] = np.load('data/' + ID + '.npy')\n",
    "\n",
    "#             # Store class\n",
    "#             y[i] = self.labels[ID]\n",
    "\n",
    "#         return X, keras.utils.to_categorical(y, num_classes=self.n_classes)"
   ]
  },
  {
   "cell_type": "code",
   "execution_count": null,
   "metadata": {
    "jupyter": {
     "source_hidden": true
    }
   },
   "outputs": [],
   "source": [
    "gen = DataGenerator()"
   ]
  },
  {
   "cell_type": "code",
   "execution_count": null,
   "metadata": {
    "jupyter": {
     "source_hidden": true
    }
   },
   "outputs": [],
   "source": []
  },
  {
   "cell_type": "code",
   "execution_count": null,
   "metadata": {
    "jupyter": {
     "source_hidden": true
    }
   },
   "outputs": [],
   "source": [
    "def csv_image_generator(inputPath, bs, lb, mode=\"train\", aug=None):\n",
    "\t# open the CSV file for reading\n",
    "\tf = open(inputPath, \"r\")\n",
    "\n",
    "\t# loop indefinitely\n",
    "\twhile True:\n",
    "\t\t# initialize our batches of images and labels\n",
    "\t\timages = []\n",
    "\t\tlabels = []\n",
    "\n",
    "\t\t# keep looping until we reach our batch size\n",
    "\t\twhile len(images) < bs:\n",
    "\t\t\t# attempt to read the next line of the CSV file\n",
    "\t\t\tline = f.readline()\n",
    "\n",
    "\t\t\t# check to see if the line is empty, indicating we have\n",
    "\t\t\t# reached the end of the file\n",
    "\t\t\tif line == \"\":\n",
    "\t\t\t\t# reset the file pointer to the beginning of the file\n",
    "\t\t\t\t# and re-read the line\n",
    "\t\t\t\tf.seek(0)\n",
    "\t\t\t\tline = f.readline()\n",
    "\n",
    "\t\t\t\t# if we are evaluating we should now break from our\n",
    "\t\t\t\t# loop to ensure we don't continue to fill up the\n",
    "\t\t\t\t# batch from samples at the beginning of the file\n",
    "\t\t\t\tif mode == \"eval\":\n",
    "\t\t\t\t\tbreak\n",
    "\n",
    "\t\t\t# extract the label and construct the image\n",
    "\t\t\tline = line.strip().split(\",\")\n",
    "\t\t\tlabel = line[0]\n",
    "\t\t\timage = np.array([int(x) for x in line[1:]], dtype=\"uint8\")\n",
    "\t\t\timage = image.reshape((64, 64, 3))\n",
    "\n",
    "\t\t\t# update our corresponding batches lists\n",
    "\t\t\timages.append(image)\n",
    "\t\t\tlabels.append(label)\n",
    "\n",
    "\t\t# one-hot encode the labels\n",
    "\t\tlabels = lb.transform(np.array(labels))\n",
    "\n",
    "\t\t# if the data augmentation object is not None, apply it\n",
    "\t\tif aug is not None:\n",
    "\t\t\t(images, labels) = next(aug.flow(np.array(images),\n",
    "\t\t\t\tlabels, batch_size=bs))\n",
    "\n",
    "\t\t# yield the batch to the calling function\n",
    "\t\tyield (np.array(images), labels)"
   ]
  }
 ],
 "metadata": {
  "kernelspec": {
   "display_name": "Python 3",
   "language": "python",
   "name": "python3"
  },
  "language_info": {
   "codemirror_mode": {
    "name": "ipython",
    "version": 3
   },
   "file_extension": ".py",
   "mimetype": "text/x-python",
   "name": "python",
   "nbconvert_exporter": "python",
   "pygments_lexer": "ipython3",
   "version": "3.7.1"
  }
 },
 "nbformat": 4,
 "nbformat_minor": 4
}
