{
 "cells": [
  {
   "cell_type": "code",
   "execution_count": 1,
   "metadata": {},
   "outputs": [],
   "source": [
    "import numpy as np\n",
    "import matplotlib.pyplot as plt\n",
    "%matplotlib inline\n",
    "\n",
    "from tensorflow.keras.utils import to_categorical\n",
    "import tensorflow.keras.datasets as datasets\n",
    "from tensorflow.keras.layers import Conv2D, MaxPool2D, Dense, Dropout, Flatten, Reshape, Activation, BatchNormalization\n",
    "from tensorflow.keras.models import Sequential\n",
    "from tensorflow.keras.optimizers import SGD, Adam\n",
    "from tensorflow.keras.preprocessing.image import ImageDataGenerator"
   ]
  },
  {
   "cell_type": "code",
   "execution_count": 2,
   "metadata": {},
   "outputs": [],
   "source": [
    "MAX_WORDS = 10000"
   ]
  },
  {
   "cell_type": "code",
   "execution_count": 3,
   "metadata": {},
   "outputs": [
    {
     "name": "stdout",
     "output_type": "stream",
     "text": [
      "<class 'numpy.ndarray'> (8982,)\n",
      "<class 'numpy.ndarray'> (8982,)\n",
      "Maximum word value:  9999\n"
     ]
    }
   ],
   "source": [
    "np_load_old = np.load\n",
    "# modify the default parameters of np.load\n",
    "np.load = lambda *a,**k: np_load_old(*a, allow_pickle=True, **k)\n",
    "\n",
    "(train_words, train_labels), (test_words, test_labels) = datasets.reuters.load_data(num_words=MAX_WORDS)\n",
    "print(type(train_words), train_words.shape)\n",
    "print(type(train_labels), train_labels.shape)\n",
    "\n",
    "# restore np.load for future normal usage\n",
    "np.load = np_load_old\n",
    "\n",
    "max_val = 0\n",
    "for i in range(len(train_words)):\n",
    "    if max_val < max(train_words[i]):\n",
    "        max_val = max(train_words[i])\n",
    "print('Maximum word value: ', max_val)"
   ]
  },
  {
   "cell_type": "code",
   "execution_count": 4,
   "metadata": {},
   "outputs": [
    {
     "name": "stdout",
     "output_type": "stream",
     "text": [
      "? ? ? said as a result of its december acquisition of space co it expects earnings per share in 1987 of 1 15 to 1 30 dlrs per share up from 70 cts in 1986 the company said pretax net should rise to nine to 10 mln dlrs from six mln dlrs in 1986 and rental operation revenues to 19 to 22 mln dlrs from 12 5 mln dlrs it said cash flow per share this year should be 2 50 to three dlrs reuter 3\n"
     ]
    }
   ],
   "source": [
    "word_index =  datasets.reuters.get_word_index()\n",
    "reverse_word_index = dict([(value, key) for (key, value) in word_index.items()])\n",
    "decoded_newswire = ' '.join([reverse_word_index.get(i-3, '?') for i in train_words[0]])\n",
    "print(decoded_newswire)"
   ]
  },
  {
   "cell_type": "code",
   "execution_count": 5,
   "metadata": {},
   "outputs": [],
   "source": [
    "def vectorize_sequences(sequences, dimensions=MAX_WORDS):\n",
    "    output = np.zeros((len(sequences), dimensions))\n",
    "    for i, sequence in enumerate(sequences):\n",
    "        output[i, sequence] = 1\n",
    "    return output"
   ]
  },
  {
   "cell_type": "code",
   "execution_count": 6,
   "metadata": {},
   "outputs": [
    {
     "name": "stdout",
     "output_type": "stream",
     "text": [
      "(8982, 10000) (2246, 10000)\n",
      "(8982, 46) (2246, 46)\n"
     ]
    }
   ],
   "source": [
    "x_train = vectorize_sequences(train_words)\n",
    "x_test = vectorize_sequences(test_words)\n",
    "\n",
    "y_train = to_categorical(train_labels)\n",
    "y_test = to_categorical(test_labels)\n",
    "\n",
    "print(x_train.shape, x_test.shape)\n",
    "print(y_train.shape, y_test.shape)"
   ]
  },
  {
   "cell_type": "code",
   "execution_count": 7,
   "metadata": {},
   "outputs": [
    {
     "name": "stdout",
     "output_type": "stream",
     "text": [
      "[0. 1. 1. ... 0. 0. 0.] 57.0\n"
     ]
    }
   ],
   "source": [
    "print(x_train[0], sum(x_train[0]))"
   ]
  },
  {
   "cell_type": "code",
   "execution_count": 8,
   "metadata": {},
   "outputs": [
    {
     "name": "stderr",
     "output_type": "stream",
     "text": [
      "WARNING: Logging before flag parsing goes to stderr.\n",
      "W0817 23:17:19.925770 140267178510144 deprecation.py:506] From /home/anant/anaconda3/envs/TF/lib/python3.7/site-packages/tensorflow/python/ops/init_ops.py:1251: calling VarianceScaling.__init__ (from tensorflow.python.ops.init_ops) with dtype is deprecated and will be removed in a future version.\n",
      "Instructions for updating:\n",
      "Call initializer instance with the dtype argument instead of passing it to the constructor\n"
     ]
    },
    {
     "name": "stdout",
     "output_type": "stream",
     "text": [
      "Model: \"sequential\"\n",
      "_________________________________________________________________\n",
      "Layer (type)                 Output Shape              Param #   \n",
      "=================================================================\n",
      "dense (Dense)                (None, 64)                640064    \n",
      "_________________________________________________________________\n",
      "dropout (Dropout)            (None, 64)                0         \n",
      "_________________________________________________________________\n",
      "dense_1 (Dense)              (None, 64)                4160      \n",
      "_________________________________________________________________\n",
      "dense_2 (Dense)              (None, 46)                2990      \n",
      "=================================================================\n",
      "Total params: 647,214\n",
      "Trainable params: 647,214\n",
      "Non-trainable params: 0\n",
      "_________________________________________________________________\n"
     ]
    }
   ],
   "source": [
    "model = Sequential([Dense(64, activation='relu', input_shape=(MAX_WORDS,)),\n",
    "                    Dropout(0.5),\n",
    "                    Dense(64, activation='relu'),\n",
    "#                     Dense(128, activation='relu'),\n",
    "#                     Dropout(0.5),\n",
    "#                     Dense(128, activation='relu'),\n",
    "                    Dense(46, activation='softmax')])\n",
    "model.summary()"
   ]
  },
  {
   "cell_type": "code",
   "execution_count": 26,
   "metadata": {},
   "outputs": [],
   "source": [
    "model.compile(optimizer='rmsprop', loss='categorical_crossentropy', metrics=['accuracy'])"
   ]
  },
  {
   "cell_type": "code",
   "execution_count": 27,
   "metadata": {},
   "outputs": [
    {
     "name": "stdout",
     "output_type": "stream",
     "text": [
      "Train on 8982 samples, validate on 2246 samples\n",
      "Epoch 1/40\n",
      "8982/8982 [==============================] - 1s 67us/sample - loss: 2.6742 - acc: 0.4525 - val_loss: 1.8173 - val_acc: 0.6015\n",
      "Epoch 2/40\n",
      "8982/8982 [==============================] - 0s 53us/sample - loss: 1.6425 - acc: 0.6254 - val_loss: 1.4316 - val_acc: 0.6825\n",
      "Epoch 3/40\n",
      "8982/8982 [==============================] - 0s 52us/sample - loss: 1.3386 - acc: 0.6956 - val_loss: 1.2718 - val_acc: 0.7142\n",
      "Epoch 4/40\n",
      "8982/8982 [==============================] - 0s 50us/sample - loss: 1.1700 - acc: 0.7315 - val_loss: 1.1882 - val_acc: 0.7315\n",
      "Epoch 5/40\n",
      "8982/8982 [==============================] - 0s 52us/sample - loss: 1.0261 - acc: 0.7609 - val_loss: 1.1092 - val_acc: 0.7551\n",
      "Epoch 6/40\n",
      "8982/8982 [==============================] - 0s 52us/sample - loss: 0.9124 - acc: 0.7885 - val_loss: 1.0539 - val_acc: 0.7667\n",
      "Epoch 7/40\n",
      "8982/8982 [==============================] - 0s 52us/sample - loss: 0.8188 - acc: 0.8084 - val_loss: 1.0247 - val_acc: 0.7711\n",
      "Epoch 8/40\n",
      "8982/8982 [==============================] - 0s 41us/sample - loss: 0.7478 - acc: 0.8243 - val_loss: 1.0030 - val_acc: 0.7787\n",
      "Epoch 9/40\n",
      "8982/8982 [==============================] - 0s 40us/sample - loss: 0.6800 - acc: 0.8432 - val_loss: 0.9729 - val_acc: 0.7841\n",
      "Epoch 10/40\n",
      "8982/8982 [==============================] - 0s 52us/sample - loss: 0.6055 - acc: 0.8614 - val_loss: 0.9596 - val_acc: 0.7876\n",
      "Epoch 11/40\n",
      "8982/8982 [==============================] - 0s 53us/sample - loss: 0.5549 - acc: 0.8724 - val_loss: 0.9428 - val_acc: 0.7956\n",
      "Epoch 12/40\n",
      "8982/8982 [==============================] - 0s 55us/sample - loss: 0.5101 - acc: 0.8792 - val_loss: 0.9514 - val_acc: 0.7930\n",
      "Epoch 13/40\n",
      "8982/8982 [==============================] - 0s 55us/sample - loss: 0.4685 - acc: 0.8925 - val_loss: 0.9537 - val_acc: 0.7996\n",
      "Epoch 14/40\n",
      "8982/8982 [==============================] - 1s 57us/sample - loss: 0.4281 - acc: 0.8975 - val_loss: 0.9647 - val_acc: 0.8010\n",
      "Epoch 15/40\n",
      "8982/8982 [==============================] - 1s 56us/sample - loss: 0.3978 - acc: 0.9079 - val_loss: 0.9898 - val_acc: 0.7956\n",
      "Epoch 16/40\n",
      "8982/8982 [==============================] - 0s 51us/sample - loss: 0.3670 - acc: 0.9108 - val_loss: 0.9933 - val_acc: 0.8005\n",
      "Epoch 17/40\n",
      "8982/8982 [==============================] - 0s 50us/sample - loss: 0.3404 - acc: 0.9194 - val_loss: 0.9835 - val_acc: 0.8050\n",
      "Epoch 18/40\n",
      "8982/8982 [==============================] - 0s 54us/sample - loss: 0.3225 - acc: 0.9224 - val_loss: 1.0074 - val_acc: 0.7992\n",
      "Epoch 19/40\n",
      "8982/8982 [==============================] - 0s 52us/sample - loss: 0.2939 - acc: 0.9291 - val_loss: 1.0125 - val_acc: 0.8005\n",
      "Epoch 20/40\n",
      "8982/8982 [==============================] - 0s 54us/sample - loss: 0.2738 - acc: 0.9319 - val_loss: 1.0458 - val_acc: 0.7992\n",
      "Epoch 21/40\n",
      "8982/8982 [==============================] - 0s 53us/sample - loss: 0.2576 - acc: 0.9355 - val_loss: 1.0745 - val_acc: 0.8005\n",
      "Epoch 22/40\n",
      "8982/8982 [==============================] - 0s 54us/sample - loss: 0.2503 - acc: 0.9355 - val_loss: 1.0688 - val_acc: 0.8050\n",
      "Epoch 23/40\n",
      "8982/8982 [==============================] - 1s 58us/sample - loss: 0.2355 - acc: 0.9381 - val_loss: 1.1010 - val_acc: 0.8032\n",
      "Epoch 24/40\n",
      "8982/8982 [==============================] - 1s 61us/sample - loss: 0.2238 - acc: 0.9405 - val_loss: 1.1150 - val_acc: 0.7965\n",
      "Epoch 25/40\n",
      "8982/8982 [==============================] - 1s 57us/sample - loss: 0.2190 - acc: 0.9429 - val_loss: 1.1329 - val_acc: 0.8037\n",
      "Epoch 26/40\n",
      "8982/8982 [==============================] - 0s 55us/sample - loss: 0.2062 - acc: 0.9423 - val_loss: 1.1841 - val_acc: 0.7979\n",
      "Epoch 27/40\n",
      "8982/8982 [==============================] - 0s 54us/sample - loss: 0.1965 - acc: 0.9472 - val_loss: 1.2166 - val_acc: 0.8010\n",
      "Epoch 28/40\n",
      "8982/8982 [==============================] - 1s 57us/sample - loss: 0.1884 - acc: 0.9479 - val_loss: 1.2131 - val_acc: 0.8005\n",
      "Epoch 29/40\n",
      "8982/8982 [==============================] - 0s 56us/sample - loss: 0.1867 - acc: 0.9454 - val_loss: 1.2198 - val_acc: 0.8045\n",
      "Epoch 30/40\n",
      "8982/8982 [==============================] - 0s 55us/sample - loss: 0.1789 - acc: 0.9496 - val_loss: 1.2899 - val_acc: 0.7961\n",
      "Epoch 31/40\n",
      "8982/8982 [==============================] - 0s 53us/sample - loss: 0.1759 - acc: 0.9505 - val_loss: 1.2803 - val_acc: 0.7974\n",
      "Epoch 32/40\n",
      "8982/8982 [==============================] - 0s 55us/sample - loss: 0.1749 - acc: 0.9490 - val_loss: 1.2969 - val_acc: 0.7996\n",
      "Epoch 33/40\n",
      "8982/8982 [==============================] - 0s 54us/sample - loss: 0.1597 - acc: 0.9516 - val_loss: 1.3093 - val_acc: 0.8005\n",
      "Epoch 34/40\n",
      "8982/8982 [==============================] - 1s 56us/sample - loss: 0.1656 - acc: 0.9496 - val_loss: 1.3220 - val_acc: 0.8001\n",
      "Epoch 35/40\n",
      "8982/8982 [==============================] - 1s 56us/sample - loss: 0.1604 - acc: 0.9529 - val_loss: 1.3406 - val_acc: 0.8019\n",
      "Epoch 36/40\n",
      "8982/8982 [==============================] - 0s 55us/sample - loss: 0.1513 - acc: 0.9556 - val_loss: 1.3923 - val_acc: 0.7988\n",
      "Epoch 37/40\n",
      "8982/8982 [==============================] - 0s 54us/sample - loss: 0.1507 - acc: 0.9519 - val_loss: 1.3945 - val_acc: 0.8010\n",
      "Epoch 38/40\n",
      "8982/8982 [==============================] - 1s 58us/sample - loss: 0.1492 - acc: 0.9529 - val_loss: 1.4036 - val_acc: 0.7996\n",
      "Epoch 39/40\n",
      "8982/8982 [==============================] - 1s 59us/sample - loss: 0.1486 - acc: 0.9532 - val_loss: 1.4501 - val_acc: 0.7947\n",
      "Epoch 40/40\n",
      "8982/8982 [==============================] - 0s 53us/sample - loss: 0.1423 - acc: 0.9554 - val_loss: 1.4413 - val_acc: 0.7979\n"
     ]
    }
   ],
   "source": [
    "history = model.fit(x_train, y_train, epochs=40, batch_size=512, validation_data=(x_test, y_test))"
   ]
  },
  {
   "cell_type": "code",
   "execution_count": 28,
   "metadata": {},
   "outputs": [],
   "source": [
    "train_loss = history.history['loss']\n",
    "test_loss = history.history['val_loss']\n",
    "train_acc = history.history['acc']\n",
    "test_acc = history.history['val_acc']"
   ]
  },
  {
   "cell_type": "code",
   "execution_count": 29,
   "metadata": {},
   "outputs": [
    {
     "data": {
      "text/plain": [
       "<matplotlib.legend.Legend at 0x7f9cd024f950>"
      ]
     },
     "execution_count": 29,
     "metadata": {},
     "output_type": "execute_result"
    },
    {
     "data": {
      "image/png": "[encoded data removed]",
      "text/plain": [
       "<Figure size 432x288 with 1 Axes>"
      ]
     },
     "metadata": {
      "needs_background": "light"
     },
     "output_type": "display_data"
    }
   ],
   "source": [
    "plt.plot(list(range(len(train_loss))), train_loss, label='Training loss')\n",
    "plt.plot(list(range(len(test_loss))), test_loss, label='Test loss')\n",
    "plt.legend()"
   ]
  },
  {
   "cell_type": "code",
   "execution_count": 30,
   "metadata": {},
   "outputs": [
    {
     "data": {
      "text/plain": [
       "<matplotlib.legend.Legend at 0x7f9cd02603d0>"
      ]
     },
     "execution_count": 30,
     "metadata": {},
     "output_type": "execute_result"
    },
    {
     "data": {
      "image/png": "[encoded data removed]",
      "text/plain": [
       "<Figure size 432x288 with 1 Axes>"
      ]
     },
     "metadata": {
      "needs_background": "light"
     },
     "output_type": "display_data"
    }
   ],
   "source": [
    "plt.plot(list(range(len(train_loss))), train_acc, label='Training accuracy')\n",
    "plt.plot(list(range(len(test_loss))), test_acc, label='Test accuracy')\n",
    "plt.legend()"
   ]
  },
  {
   "cell_type": "code",
   "execution_count": null,
   "metadata": {},
   "outputs": [],
   "source": []
  }
 ],
 "metadata": {
  "kernelspec": {
   "display_name": "Python 3",
   "language": "python",
   "name": "python3"
  },
  "language_info": {
   "codemirror_mode": {
    "name": "ipython",
    "version": 3
   },
   "file_extension": ".py",
   "mimetype": "text/x-python",
   "name": "python",
   "nbconvert_exporter": "python",
   "pygments_lexer": "ipython3",
   "version": "3.7.4"
  }
 },
 "nbformat": 4,
 "nbformat_minor": 4
}
