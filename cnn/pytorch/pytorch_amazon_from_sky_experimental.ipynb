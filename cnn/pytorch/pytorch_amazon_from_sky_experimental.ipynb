{
 "cells": [
  {
   "cell_type": "code",
   "execution_count": 1,
   "metadata": {},
   "outputs": [],
   "source": [
    "import numpy as np\n",
    "import pandas as pd\n",
    "import matplotlib.pyplot as plt\n",
    "import seaborn as sns"
   ]
  },
  {
   "cell_type": "code",
   "execution_count": 2,
   "metadata": {},
   "outputs": [],
   "source": [
    "base_path = '/media/anant/data/amazon_from_space/'"
   ]
  },
  {
   "cell_type": "code",
   "execution_count": 3,
   "metadata": {},
   "outputs": [
    {
     "data": {
      "text/html": [
       "<div>\n",
       "<style scoped>\n",
       "    .dataframe tbody tr th:only-of-type {\n",
       "        vertical-align: middle;\n",
       "    }\n",
       "\n",
       "    .dataframe tbody tr th {\n",
       "        vertical-align: top;\n",
       "    }\n",
       "\n",
       "    .dataframe thead th {\n",
       "        text-align: right;\n",
       "    }\n",
       "</style>\n",
       "<table border=\"1\" class=\"dataframe\">\n",
       "  <thead>\n",
       "    <tr style=\"text-align: right;\">\n",
       "      <th></th>\n",
       "      <th>image_name</th>\n",
       "      <th>tags</th>\n",
       "    </tr>\n",
       "  </thead>\n",
       "  <tbody>\n",
       "    <tr>\n",
       "      <th>0</th>\n",
       "      <td>train_0</td>\n",
       "      <td>haze primary</td>\n",
       "    </tr>\n",
       "    <tr>\n",
       "      <th>1</th>\n",
       "      <td>train_1</td>\n",
       "      <td>agriculture clear primary water</td>\n",
       "    </tr>\n",
       "    <tr>\n",
       "      <th>2</th>\n",
       "      <td>train_2</td>\n",
       "      <td>clear primary</td>\n",
       "    </tr>\n",
       "    <tr>\n",
       "      <th>3</th>\n",
       "      <td>train_3</td>\n",
       "      <td>clear primary</td>\n",
       "    </tr>\n",
       "    <tr>\n",
       "      <th>4</th>\n",
       "      <td>train_4</td>\n",
       "      <td>agriculture clear habitation primary road</td>\n",
       "    </tr>\n",
       "  </tbody>\n",
       "</table>\n",
       "</div>"
      ],
      "text/plain": [
       "  image_name                                       tags\n",
       "0    train_0                               haze primary\n",
       "1    train_1            agriculture clear primary water\n",
       "2    train_2                              clear primary\n",
       "3    train_3                              clear primary\n",
       "4    train_4  agriculture clear habitation primary road"
      ]
     },
     "execution_count": 3,
     "metadata": {},
     "output_type": "execute_result"
    }
   ],
   "source": [
    "train_df = pd.read_csv(base_path+'train_v2.csv')\n",
    "train_df.head()"
   ]
  },
  {
   "cell_type": "code",
   "execution_count": 4,
   "metadata": {},
   "outputs": [
    {
     "name": "stdout",
     "output_type": "stream",
     "text": [
      "There is 17 unique labels including {'conventional_mine', 'road', 'habitation', 'primary', 'cloudy', 'cultivation', 'partly_cloudy', 'artisinal_mine', 'selective_logging', 'blooming', 'agriculture', 'water', 'bare_ground', 'blow_down', 'slash_burn', 'clear', 'haze'}\n"
     ]
    }
   ],
   "source": [
    "# Print all unique tags\n",
    "from itertools import chain\n",
    "labels_list = list(chain.from_iterable([tags.split(\" \") for tags in train_df['tags'].values]))\n",
    "labels_set = set(labels_list)\n",
    "print(\"There is {} unique labels including {}\".format(len(labels_set), labels_set))"
   ]
  },
  {
   "cell_type": "code",
   "execution_count": 5,
   "metadata": {},
   "outputs": [
    {
     "data": {
      "text/plain": [
       "<matplotlib.axes._subplots.AxesSubplot at 0x7ff4f2c9def0>"
      ]
     },
     "execution_count": 5,
     "metadata": {},
     "output_type": "execute_result"
    },
    {
     "data": {
      "image/png": "[encoded data removed]",
      "text/plain": [
       "<Figure size 1152x576 with 1 Axes>"
      ]
     },
     "metadata": {
      "needs_background": "light"
     },
     "output_type": "display_data"
    }
   ],
   "source": [
    "labels_s = pd.Series(labels_list).value_counts() # To sort them by count\n",
    "fig, ax = plt.subplots(figsize=(16, 8))\n",
    "sns.barplot(x=labels_s, y=labels_s.index, orient='h')"
   ]
  },
  {
   "cell_type": "code",
   "execution_count": 42,
   "metadata": {},
   "outputs": [
    {
     "name": "stdout",
     "output_type": "stream",
     "text": [
      "[0.32261477 0.24450885 0.10590997 0.06941124 0.06373519 0.06244517\n",
      " 0.03910456 0.03147629 0.02319441 0.01796557 0.00741327 0.00292403\n",
      " 0.00291543 0.00285523 0.00179742 0.00086861 0.00086001] Index(['primary', 'clear', 'agriculture', 'road', 'water', 'partly_cloudy',\n",
      "       'cultivation', 'habitation', 'haze', 'cloudy', 'bare_ground',\n",
      "       'selective_logging', 'artisinal_mine', 'blooming', 'slash_burn',\n",
      "       'blow_down', 'conventional_mine'],\n",
      "      dtype='object')\n"
     ]
    }
   ],
   "source": [
    "weights = labels_s.values/labels_s.values.sum()\n",
    "print(weights, labels_s.index)"
   ]
  },
  {
   "cell_type": "code",
   "execution_count": 44,
   "metadata": {},
   "outputs": [
    {
     "name": "stdout",
     "output_type": "stream",
     "text": [
      "[0.32261477 0.24450885 0.10590997 0.06941124 0.06373519 0.06244517\n",
      " 0.03910456 0.03147629 0.02319441 0.01796557 0.00741327 0.00292403\n",
      " 0.00291543 0.00285523 0.00179742 0.00086861 0.00086001] Index(['primary', 'clear', 'agriculture', 'road', 'water', 'partly_cloudy',\n",
      "       'cultivation', 'habitation', 'haze', 'cloudy', 'bare_ground',\n",
      "       'selective_logging', 'artisinal_mine', 'blooming', 'slash_burn',\n",
      "       'blow_down', 'conventional_mine'],\n",
      "      dtype='object')\n"
     ]
    }
   ],
   "source": [
    "index = ['conventional_mine', 'road', 'habitation', 'primary', 'cloudy', 'cultivation', 'partly_cloudy', 'artisinal_mine', 'selective_logging', 'blooming', 'agriculture', 'water', 'bare_ground', 'blow_down', 'slash_burn', 'clear', 'haze']\n",
    "labels_s.reindex(index)\n",
    "weights = labels_s.values/labels_s.values.sum()\n",
    "print(weights, labels_s.index)"
   ]
  },
  {
   "cell_type": "code",
   "execution_count": null,
   "metadata": {},
   "outputs": [],
   "source": []
  },
  {
   "cell_type": "code",
   "execution_count": 45,
   "metadata": {},
   "outputs": [
    {
     "name": "stdout",
     "output_type": "stream",
     "text": [
      "primary              37513\n",
      "clear                28431\n",
      "agriculture          12315\n",
      "road                  8071\n",
      "water                 7411\n",
      "partly_cloudy         7261\n",
      "cultivation           4547\n",
      "habitation            3660\n",
      "haze                  2697\n",
      "cloudy                2089\n",
      "bare_ground            862\n",
      "selective_logging      340\n",
      "artisinal_mine         339\n",
      "blooming               332\n",
      "slash_burn             209\n",
      "blow_down              101\n",
      "conventional_mine      100\n",
      "dtype: int64\n"
     ]
    }
   ],
   "source": [
    "print(labels_s)"
   ]
  },
  {
   "cell_type": "code",
   "execution_count": 47,
   "metadata": {},
   "outputs": [],
   "source": [
    "reindexed = labels_s.reindex(index)"
   ]
  },
  {
   "cell_type": "code",
   "execution_count": 53,
   "metadata": {},
   "outputs": [
    {
     "name": "stdout",
     "output_type": "stream",
     "text": [
      "conventional_mine      100\n",
      "road                  8071\n",
      "habitation            3660\n",
      "primary              37513\n",
      "cloudy                2089\n",
      "cultivation           4547\n",
      "partly_cloudy         7261\n",
      "artisinal_mine         339\n",
      "selective_logging      340\n",
      "blooming               332\n",
      "agriculture          12315\n",
      "water                 7411\n",
      "bare_ground            862\n",
      "blow_down              101\n",
      "slash_burn             209\n",
      "clear                28431\n",
      "haze                  2697\n",
      "dtype: int64\n",
      "[0.00860008 0.69411239 0.3147629  3.22614768 0.17965565 0.3910456\n",
      " 0.62445174 0.02915427 0.02924027 0.02855226 1.05909974 0.63735186\n",
      " 0.07413268 0.00868608 0.01797417 2.44508849 0.23194413]\n"
     ]
    }
   ],
   "source": [
    "print(reindexed)\n",
    "weights = 10*reindexed.values/reindexed.values.sum()\n",
    "print(weights)"
   ]
  },
  {
   "cell_type": "code",
   "execution_count": null,
   "metadata": {},
   "outputs": [],
   "source": []
  },
  {
   "cell_type": "code",
   "execution_count": null,
   "metadata": {},
   "outputs": [],
   "source": []
  },
  {
   "cell_type": "code",
   "execution_count": null,
   "metadata": {},
   "outputs": [],
   "source": [
    "for ival in index"
   ]
  },
  {
   "cell_type": "code",
   "execution_count": 6,
   "metadata": {},
   "outputs": [],
   "source": [
    "import numpy as np\n",
    "import matplotlib.pyplot as plt\n",
    "import glob\n",
    "import cv2\n",
    "from PIL import Image\n",
    "from sklearn.preprocessing import MultiLabelBinarizer\n",
    "from sklearn.metrics import accuracy_score, fbeta_score\n",
    "from tqdm import tqdm_notebook, tqdm\n",
    "\n",
    "import torch\n",
    "from torch import nn\n",
    "import torch.nn.functional as F\n",
    "import torchvision.transforms as transforms\n",
    "import torchvision.datasets as dsets\n",
    "from torch.utils.data import Dataset, DataLoader\n",
    "from torch.utils.data.sampler import SubsetRandomSampler\n",
    "import torchvision.models as models"
   ]
  },
  {
   "cell_type": "code",
   "execution_count": 7,
   "metadata": {},
   "outputs": [
    {
     "name": "stdout",
     "output_type": "stream",
     "text": [
      "40479\n"
     ]
    }
   ],
   "source": [
    "image_list = [f for f in glob.glob(base_path+'train-jpg/*.jpg')]\n",
    "print(len(image_list))"
   ]
  },
  {
   "cell_type": "code",
   "execution_count": 8,
   "metadata": {},
   "outputs": [],
   "source": [
    "class AmazonDataset(Dataset):\n",
    "    def __init__(self, base_folder, csv_file, folder_name, transform=None):\n",
    "        self.csv_file = csv_file\n",
    "        self.labels_df = pd.read_csv(base_path+csv_file)\n",
    "        self.base_folder = base_folder\n",
    "        self.image_list = [f for f in glob.glob(base_path+folder_name+'/*.jpg')]\n",
    "        self.transform = transform\n",
    "        self.mlb = MultiLabelBinarizer()\n",
    "        self.labels = self.mlb.fit_transform(self.labels_df['tags'].str.split()).astype(np.float32)\n",
    "        \n",
    "        \n",
    "    def __len__(self):\n",
    "        return len(self.image_list)\n",
    "    \n",
    "    def __getitem__(self, index):\n",
    "        image = Image.open(self.image_list[index])\n",
    "        image = image.convert('RGB')\n",
    "        # image = cv2.imread(self.image_list[index])\n",
    "        \n",
    "        label = torch.from_numpy(self.labels[index])\n",
    "        \n",
    "        if self.transform is not None:\n",
    "            image = self.transform(image)\n",
    "            \n",
    "        return image, label\n"
   ]
  },
  {
   "cell_type": "code",
   "execution_count": 9,
   "metadata": {},
   "outputs": [],
   "source": [
    "class ResFeatureExtractor(nn.Module):\n",
    "    def __init__(self, n_classes=14, pretrained_model=models.resnet50, debug=False):\n",
    "        super(ResFeatureExtractor, self).__init__()\n",
    "\n",
    "        self.n_classes = n_classes\n",
    "        \n",
    "        pretrained_model = pretrained_model(pretrained=True)\n",
    "        last_fc_in_features = pretrained_model.fc.in_features\n",
    "        pretrained_model = nn.Sequential(*list(pretrained_model.children())[:-1])\n",
    "        for parameter in pretrained_model.parameters():\n",
    "            parameter.requires_grad = True\n",
    "\n",
    "        self.pretrained = pretrained_model\n",
    "        self.classifier = nn.Sequential(nn.Linear(last_fc_in_features, self.n_classes))\n",
    "        self.debug = debug\n",
    "        if self.debug:\n",
    "            print(last_fc_in_features)\n",
    "\n",
    "\n",
    "    def forward(self, x):\n",
    "        if self.debug:\n",
    "            print('x = ', x.shape)\n",
    "        x = self.pretrained(x)\n",
    "        if self.debug:\n",
    "            print('x = ', x.shape)\n",
    "        x = x.view(x.size(0), -1)\n",
    "        if self.debug:\n",
    "            print('x = ', x.shape)\n",
    "        x = self.classifier(x)\n",
    "        if self.debug:\n",
    "            print('x = ', x.shape)\n",
    "        return x"
   ]
  },
  {
   "cell_type": "code",
   "execution_count": 10,
   "metadata": {},
   "outputs": [],
   "source": [
    "class BaseNet(nn.Module):\n",
    "    def __init__(self):\n",
    "        super(BaseNet, self).__init__()\n",
    "        self.conv1 = nn.Conv2d(3, 32, kernel_size=3)\n",
    "        self.conv2 = nn.Conv2d(32, 64, kernel_size=3)\n",
    "        self.conv2_drop = nn.Dropout2d()\n",
    "        self.fc1 = nn.Linear(2304, 256)\n",
    "        self.fc2 = nn.Linear(256, 17)\n",
    "\n",
    "    def forward(self, x):\n",
    "        x = F.relu(F.max_pool2d(self.conv1(x), 2))\n",
    "        x = F.relu(F.max_pool2d(self.conv2_drop(self.conv2(x)), 2))\n",
    "        x = x.view(x.size(0), -1) # Flatten layer\n",
    "        x = F.relu(self.fc1(x))\n",
    "        x = F.dropout(x, training=self.training)\n",
    "        x = self.fc2(x)\n",
    "        return torch.sigmoid(x)"
   ]
  },
  {
   "cell_type": "code",
   "execution_count": null,
   "metadata": {},
   "outputs": [],
   "source": []
  },
  {
   "cell_type": "code",
   "execution_count": 11,
   "metadata": {},
   "outputs": [],
   "source": [
    "normalize = transforms.Normalize(mean=[0.485, 0.456, 0.406],\n",
    "                                 std=[0.229, 0.224, 0.225])\n",
    "\n",
    "train_transform_augmented = transforms.Compose([transforms.RandomResizedCrop(224),\n",
    "                                                transforms.ColorJitter(brightness=0.5, contrast=0.2,\n",
    "                                                                       saturation=0.4),\n",
    "                                                transforms.RandomVerticalFlip(),\n",
    "                                                transforms.ToTensor(),\n",
    "                                                normalize])\n",
    "valid_transform_augmented = transforms.Compose([transforms.RandomResizedCrop(224),\n",
    "                                                transforms.ToTensor(),\n",
    "                                                normalize])"
   ]
  },
  {
   "cell_type": "code",
   "execution_count": null,
   "metadata": {},
   "outputs": [],
   "source": []
  },
  {
   "cell_type": "code",
   "execution_count": 12,
   "metadata": {},
   "outputs": [
    {
     "name": "stdout",
     "output_type": "stream",
     "text": [
      "1012 253\n",
      "torch.Size([32, 3, 224, 224]) torch.Size([32, 17])\n"
     ]
    }
   ],
   "source": [
    "train_dataset = AmazonDataset(base_path, 'train_v2.csv', 'train-jpg', transform=train_transform_augmented)\n",
    "valid_dataset = AmazonDataset(base_path, 'train_v2.csv', 'train-jpg', transform=valid_transform_augmented)\n",
    "\n",
    "BATCH_SIZE = 32\n",
    "random_seed = 42\n",
    "shuffle_dataset = True\n",
    "validation_split = 0.2\n",
    "dataset_size = len(train_dataset)\n",
    "indices = list(range(dataset_size))\n",
    "split = int(np.floor(validation_split * dataset_size))\n",
    "if shuffle_dataset :\n",
    "    np.random.seed(random_seed)\n",
    "    np.random.shuffle(indices)\n",
    "train_indices, val_indices = indices[split:], indices[:split]\n",
    "\n",
    "\n",
    "train_sampler = SubsetRandomSampler(train_indices)\n",
    "valid_sampler = SubsetRandomSampler(val_indices)\n",
    "\n",
    "\n",
    "train_loader = torch.utils.data.DataLoader(train_dataset, batch_size=BATCH_SIZE, \n",
    "                                           sampler=train_sampler, num_workers=8)\n",
    "validation_loader = torch.utils.data.DataLoader(train_dataset, batch_size=BATCH_SIZE,\n",
    "                                                sampler=valid_sampler, num_workers=8)\n",
    "\n",
    "\n",
    "print(len(train_loader), len(validation_loader))\n",
    "image, label = next(iter(train_loader))\n",
    "print(image.shape, label.shape)\n",
    "n_classes = label.shape[1]\n",
    "del(image, label)"
   ]
  },
  {
   "cell_type": "code",
   "execution_count": null,
   "metadata": {},
   "outputs": [],
   "source": []
  },
  {
   "cell_type": "code",
   "execution_count": null,
   "metadata": {},
   "outputs": [],
   "source": []
  },
  {
   "cell_type": "code",
   "execution_count": 13,
   "metadata": {},
   "outputs": [
    {
     "name": "stdout",
     "output_type": "stream",
     "text": [
      "2048\n",
      "x =  torch.Size([32, 3, 224, 224])\n",
      "x =  torch.Size([32, 2048, 1, 1])\n",
      "x =  torch.Size([32, 2048])\n",
      "x =  torch.Size([32, 17])\n",
      "torch.Size([32, 17])\n"
     ]
    }
   ],
   "source": [
    "model = ResFeatureExtractor(n_classes=n_classes, pretrained_model=models.resnet50, debug=True)\n",
    "\n",
    "image, label = next(iter(train_loader))\n",
    "out = model(image)\n",
    "print(out.shape)\n",
    "del(image, label)"
   ]
  },
  {
   "cell_type": "code",
   "execution_count": 14,
   "metadata": {},
   "outputs": [
    {
     "name": "stdout",
     "output_type": "stream",
     "text": [
      "[-0.09615045  0.49970987 -0.35882095  0.41309944  0.05652883  0.65800065\n",
      " -0.67261463 -0.26207468 -0.35479236  0.3955221   0.13608868  0.0586225\n",
      "  0.09288432  0.19944008 -0.29015264 -0.46678665 -0.4384925 ]\n"
     ]
    }
   ],
   "source": [
    "print(out.detach().numpy()[0])"
   ]
  },
  {
   "cell_type": "code",
   "execution_count": null,
   "metadata": {},
   "outputs": [],
   "source": []
  },
  {
   "cell_type": "code",
   "execution_count": null,
   "metadata": {},
   "outputs": [],
   "source": [
    "# from scipy.optimize import fmin_l_bfgs_b, basinhopping\n",
    "\n",
    "# def best_f2_score(true_labels, predictions):\n",
    "\n",
    "#     def f_neg(threshold):\n",
    "#         ## Scipy tries to minimize the function so we must get its inverse\n",
    "#         return - fbeta_score(true_labels, predictions > threshold, beta=2, average='samples')\n",
    "\n",
    "#     # Initialization of best threshold search\n",
    "#     thr_0 = [0.20] * 17\n",
    "#     constraints = [(0.,1.)] * 17\n",
    "#     def bounds(**kwargs):\n",
    "#         x = kwargs[\"x_new\"]\n",
    "#         tmax = bool(np.all(x <= 1))\n",
    "#         tmin = bool(np.all(x >= 0)) \n",
    "#         return tmax and tmin\n",
    "    \n",
    "#     # Search using L-BFGS-B, the epsilon step must be big otherwise there is no gradient\n",
    "#     minimizer_kwargs = {\"method\": \"L-BFGS-B\",\n",
    "#                         \"bounds\":constraints,\n",
    "#                         \"options\":{\n",
    "#                             \"eps\": 0.05\n",
    "#                             }\n",
    "#                        }\n",
    "    \n",
    "#     # We combine L-BFGS-B with Basinhopping for stochastic search with random steps\n",
    "#     logger.info(\"===> Searching optimal threshold for each label\")\n",
    "#     start_time = timer()\n",
    "    \n",
    "#     opt_output = basinhopping(f_neg, thr_0,\n",
    "#                                 stepsize = 0.1,\n",
    "#                                 minimizer_kwargs=minimizer_kwargs,\n",
    "#                                 niter=10,\n",
    "#                                 accept_test=bounds)\n",
    "    \n",
    "#     end_time = timer()\n",
    "#     logger.info(\"===> Optimal threshold for each label:\\n{}\".format(opt_output.x))\n",
    "#     logger.info(\"Threshold found in: %s seconds\" % (end_time - start_time))\n",
    "    \n",
    "#     score = - opt_output.fun\n",
    "#     return score, opt_output.x"
   ]
  },
  {
   "cell_type": "code",
   "execution_count": null,
   "metadata": {},
   "outputs": [],
   "source": []
  },
  {
   "cell_type": "code",
   "execution_count": 54,
   "metadata": {},
   "outputs": [
    {
     "name": "stdout",
     "output_type": "stream",
     "text": [
      "EPOCH: 0: ITERATION: 0 / 1012 : LOSS: 0.4125139117240906     EVALUATION: [0.09525921631589708, 0.3369630853281817]\n",
      "EPOCH: 0: ITERATION: 200 / 1012 : LOSS: 0.1000841036438942     EVALUATION: [0.02155471551176823, 0.6955190812230422]\n",
      "EPOCH: 0: ITERATION: 400 / 1012 : LOSS: 0.05413563549518585     EVALUATION: [0.0208477655999922, 0.7248324520047396]\n",
      "EPOCH: 0: ITERATION: 600 / 1012 : LOSS: 0.06434909254312515     EVALUATION: [0.020682179177614304, 0.7452830658106102]\n",
      "EPOCH: 0: ITERATION: 800 / 1012 : LOSS: 0.08202922344207764     EVALUATION: [0.020595877596983326, 0.7510053260452927]\n",
      "EPOCH: 0: ITERATION: 1000 / 1012 : LOSS: 0.10050054639577866     EVALUATION: [0.02056501311408319, 0.7520663037866832]\n",
      "EPOCH: 1: ITERATION: 0 / 1012 : LOSS: 0.09040771424770355     EVALUATION: [0.020523855676175106, 0.7522078434469889]\n",
      "EPOCH: 1: ITERATION: 200 / 1012 : LOSS: 0.08383125066757202     EVALUATION: [0.020546959996547386, 0.7523203932865853]\n",
      "EPOCH: 1: ITERATION: 400 / 1012 : LOSS: 0.06529003381729126     EVALUATION: [0.020603581283815765, 0.7524931780181935]\n",
      "EPOCH: 1: ITERATION: 600 / 1012 : LOSS: 0.08904540538787842     EVALUATION: [0.020527678681721565, 0.7526028737579077]\n",
      "EPOCH: 1: ITERATION: 800 / 1012 : LOSS: 0.0605175644159317     EVALUATION: [0.020513650626238628, 0.752618315388544]\n",
      "EPOCH: 1: ITERATION: 1000 / 1012 : LOSS: 0.07933460175991058     EVALUATION: [0.02047001019768093, 0.7526423802674573]\n",
      "EPOCH: 2: ITERATION: 0 / 1012 : LOSS: 0.11632011085748672     EVALUATION: [0.020488854700132557, 0.7526070851117176]\n",
      "EPOCH: 2: ITERATION: 200 / 1012 : LOSS: 0.07179918140172958     EVALUATION: [0.020535981065405922, 0.7526423802674573]\n",
      "EPOCH: 2: ITERATION: 400 / 1012 : LOSS: 0.07913336902856827     EVALUATION: [0.02053463204649715, 0.7526423802674574]\n",
      "EPOCH: 2: ITERATION: 600 / 1012 : LOSS: 0.10200276970863342     EVALUATION: [0.020493606035505596, 0.7526124328625873]\n",
      "EPOCH: 2: ITERATION: 800 / 1012 : LOSS: 0.07543108612298965     EVALUATION: [0.020457175689134674, 0.7526423802674573]\n",
      "EPOCH: 2: ITERATION: 1000 / 1012 : LOSS: 0.09470950067043304     EVALUATION: [0.020435563833434357, 0.7526423802674574]\n"
     ]
    },
    {
     "data": {
      "text/plain": [
       "[<matplotlib.lines.Line2D at 0x7ff49a338ba8>]"
      ]
     },
     "execution_count": 54,
     "metadata": {},
     "output_type": "execute_result"
    },
    {
     "data": {
      "image/png": "[encoded data removed]",
      "text/plain": [
       "<Figure size 432x288 with 1 Axes>"
      ]
     },
     "metadata": {
      "needs_background": "light"
     },
     "output_type": "display_data"
    }
   ],
   "source": [
    "GPU = 'cuda:1'\n",
    "\n",
    "num_epochs = 3\n",
    "learning_rate = 0.01\n",
    "\n",
    "model = ResFeatureExtractor(n_classes=n_classes, pretrained_model=models.resnet50, debug=False)\n",
    "\n",
    "if torch.cuda.is_available():\n",
    "    model.to(torch.device(GPU))\n",
    "    \n",
    "    \n",
    "\n",
    "# criterion = nn.BCELoss()\n",
    "# criterion = nn.BCEWithLogitsLoss()\n",
    "# criterion = nn.MultiLabelSoftMarginLoss()\n",
    "# criterion = torch.nn.MultiLabelSoftMarginLoss(weight = torch.Tensor([1,  4,  2,  1,\n",
    "#                                                                      1,  3,  3,  3,\n",
    "#                                                                      4,  4,  1,  2,\n",
    "#                                                                      1,  1,  3,  4,  1])).to(torch.device(GPU))\n",
    "\n",
    "criterion = torch.nn.MultiLabelSoftMarginLoss(weight = torch.Tensor(weights)).to(torch.device(GPU))\n",
    "\n",
    "\n",
    "optimizer = torch.optim.SGD(model.parameters(), lr=learning_rate, momentum=0.5)\n",
    "# optimizer = torch.optim.Adam(model.parameters(), lr=learning_rate)\n",
    "\n",
    "\n",
    "loss_list = []\n",
    "\n",
    "for epoch in range(num_epochs):\n",
    "    for iteration, (images, labels) in enumerate(train_loader):\n",
    "    \n",
    "        model.train()\n",
    "        if torch.cuda.is_available():\n",
    "            images = images.to(torch.device(GPU))\n",
    "            labels = labels.to(torch.device(GPU))\n",
    "        \n",
    "        optimizer.zero_grad()\n",
    "        labels_pred = model(images)\n",
    "        loss = criterion(labels_pred, labels)\n",
    "        loss.backward()\n",
    "        optimizer.step()\n",
    "        \n",
    "        with torch.no_grad():\n",
    "            loss_list.append(loss.cpu().data)\n",
    "            \n",
    "            if iteration%200 == 0:\n",
    "                eval_loss = 0\n",
    "                true_labels = []\n",
    "                predictions = []\n",
    "                model.eval()\n",
    "                for eval_iteration, (X, y) in enumerate(validation_loader):\n",
    "                    if torch.cuda.is_available():\n",
    "                        X = X.to(torch.device(GPU))\n",
    "                        y = y.to(torch.device(GPU))\n",
    "\n",
    "                    y_pred = model(X)\n",
    "\n",
    "                    if torch.cuda.is_available():\n",
    "                        eval_loss += criterion(y_pred, y).cpu().detach().numpy()\n",
    "                        true_labels.extend(y.detach().cpu().numpy().tolist())\n",
    "                        predictions.extend(torch.sigmoid(y_pred.detach()).cpu().numpy().tolist())\n",
    "                    else:\n",
    "                        eval_loss += criterion(y_pred, y).detach().numpy()\n",
    "                        true_labels.extend(y.detach().numpy().tolist())\n",
    "                        predictions.extend(torch.sigmoid(y_pred.detach()).numpy().tolist())\n",
    "                        \n",
    "                \n",
    "\n",
    "                true_labels = np.vstack(true_labels)\n",
    "                predictions = np.vstack(predictions)\n",
    "                \n",
    "                score = fbeta_score(true_labels, predictions>0.5, beta=0.5, average='samples')\n",
    "#                 accuracy = accuracy_score(gt, preds)\n",
    "#                 print(\"EPOCH: {0}: ITERATION: {1} / {2} : LOSS: {3}     EVALUATION: [{4} {5} {6}]\".format(epoch, iteration, len(train_loader),\n",
    "#                                                                                                       loss.cpu().data, eval_loss/total, \n",
    "#                                                                                                       score, accuracy))\n",
    "                print(\"EPOCH: {0}: ITERATION: {1} / {2} : LOSS: {3}     EVALUATION: [{4}, {5}]\".format(epoch, iteration, len(train_loader),\n",
    "                                                                                                      loss.cpu().data, eval_loss/len(train_loader), score))\n",
    "            \n",
    "            \n",
    "plt.plot(np.arange(0,len(loss_list)), np.array(loss_list))\n",
    "\n"
   ]
  },
  {
   "cell_type": "code",
   "execution_count": 58,
   "metadata": {},
   "outputs": [
    {
     "name": "stdout",
     "output_type": "stream",
     "text": [
      "[1. 0. 0. 0. 0. 1. 0. 0. 1. 1. 0. 0. 1. 1. 0. 0. 0.]\n",
      "[0. 0. 0. 0. 0. 1. 0. 0. 0. 0. 0. 0. 1. 0. 0. 0. 0.]\n"
     ]
    }
   ],
   "source": [
    "choice = 5000\n",
    "print(true_labels[choice])\n",
    "print((predictions[choice]>0.5)+0.)"
   ]
  },
  {
   "cell_type": "code",
   "execution_count": 27,
   "metadata": {},
   "outputs": [
    {
     "data": {
      "text/plain": [
       "(8095, 17)"
      ]
     },
     "execution_count": 27,
     "metadata": {},
     "output_type": "execute_result"
    }
   ],
   "source": [
    "predictions.shape"
   ]
  },
  {
   "cell_type": "code",
   "execution_count": null,
   "metadata": {},
   "outputs": [],
   "source": []
  },
  {
   "cell_type": "code",
   "execution_count": null,
   "metadata": {},
   "outputs": [],
   "source": []
  },
  {
   "cell_type": "code",
   "execution_count": 28,
   "metadata": {},
   "outputs": [
    {
     "name": "stderr",
     "output_type": "stream",
     "text": [
      "100%|██████████| 8095/8095 [00:17<00:00, 469.38it/s]"
     ]
    },
    {
     "name": "stdout",
     "output_type": "stream",
     "text": [
      "8095\n"
     ]
    },
    {
     "name": "stderr",
     "output_type": "stream",
     "text": [
      "\n"
     ]
    }
   ],
   "source": [
    "validation_loader_plot = torch.utils.data.DataLoader(train_dataset, batch_size=1,\n",
    "                                                     sampler=valid_sampler, num_workers=12)\n",
    "\n",
    "model.eval()\n",
    "with torch.no_grad():\n",
    "    loss_list.append(loss.cpu().data)\n",
    "    gt_preds = []\n",
    "\n",
    "    total = 0\n",
    "    for (X, y) in tqdm(validation_loader_plot):\n",
    "#     for iteration, (X, y) in enumerate(validation_loader_plot):\n",
    "        if torch.cuda.is_available():\n",
    "            X = X.to(torch.device('cuda:1'))\n",
    "            y = y.to(torch.device('cuda:1'))\n",
    "\n",
    "        y_pred = model(X)\n",
    "\n",
    "        gt_preds.append((y.cpu().numpy(), y_pred.cpu().numpy()))\n",
    "#         if iteration%500 == 0:\n",
    "#             print(iteration)\n",
    "        # total += y.size(0)\n",
    "\n",
    "        # if torch.cuda.is_available():\n",
    "        #     eval_loss += criterion(y_pred, y).cpu().data\n",
    "        # else:\n",
    "        #     eval_loss += criterion(y_pred, y).data\n",
    "\n",
    "    # print(\"{0}: {1} / {2} : {3} {4}\".format(epoch, iteration, len(train_loader), \n",
    "    #                                         loss.cpu().data, eval_loss.cpu().data/total))\n",
    "\n",
    "print(len(gt_preds))\n",
    "\n"
   ]
  },
  {
   "cell_type": "code",
   "execution_count": 29,
   "metadata": {},
   "outputs": [
    {
     "name": "stdout",
     "output_type": "stream",
     "text": [
      "[[0. 0. 0. 0. 0. 1. 0. 1. 0. 0. 0. 0. 1. 0. 0. 0. 0.]] [[-0. -3. -2. -3. -3.  0. -2. -3. -1. -1. -1. -1.  1. -1. -3. -3. -1.]]\n"
     ]
    },
    {
     "data": {
      "image/png": "[encoded data removed]",
      "text/plain": [
       "<Figure size 432x288 with 1 Axes>"
      ]
     },
     "metadata": {
      "needs_background": "light"
     },
     "output_type": "display_data"
    }
   ],
   "source": [
    "for index, (image, label) in enumerate(validation_loader_plot):\n",
    "    image = np.moveaxis(np.squeeze(image.numpy()), (0,1,2), (2,0,1))\n",
    "    plt.imshow(image)\n",
    "    print(gt_preds[index][0], np.round(gt_preds[index][1]))\n",
    "    break"
   ]
  },
  {
   "cell_type": "code",
   "execution_count": null,
   "metadata": {},
   "outputs": [],
   "source": []
  }
 ],
 "metadata": {
  "kernelspec": {
   "display_name": "Python 3",
   "language": "python",
   "name": "python3"
  },
  "language_info": {
   "codemirror_mode": {
    "name": "ipython",
    "version": 3
   },
   "file_extension": ".py",
   "mimetype": "text/x-python",
   "name": "python",
   "nbconvert_exporter": "python",
   "pygments_lexer": "ipython3",
   "version": "3.7.3"
  }
 },
 "nbformat": 4,
 "nbformat_minor": 4
}
