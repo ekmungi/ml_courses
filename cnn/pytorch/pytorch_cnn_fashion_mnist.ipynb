{
 "cells": [
  {
   "cell_type": "markdown",
   "metadata": {
    "colab_type": "text",
    "id": "view-in-github"
   },
   "source": [
    "<a href=\"https://colab.research.google.com/github/ekmungi/ml_examples/blob/master/pytorch_cnn_fashion_mnist.ipynb\" target=\"_parent\"><img src=\"https://colab.research.google.com/assets/colab-badge.svg\" alt=\"Open In Colab\"/></a>"
   ]
  },
  {
   "cell_type": "code",
   "execution_count": 0,
   "metadata": {
    "colab": {
     "base_uri": "https://localhost:8080/",
     "height": 121
    },
    "colab_type": "code",
    "id": "abkPgR8mhuUS",
    "outputId": "c1b361d2-fef9-4ae4-89f9-82654329f46f"
   },
   "outputs": [
    {
     "name": "stdout",
     "output_type": "stream",
     "text": [
      "Requirement already satisfied: torch in /usr/local/lib/python3.6/dist-packages (1.1.0)\n",
      "Requirement already satisfied: torchvision in /usr/local/lib/python3.6/dist-packages (0.3.0)\n",
      "Requirement already satisfied: numpy in /usr/local/lib/python3.6/dist-packages (from torch) (1.16.4)\n",
      "Requirement already satisfied: pillow>=4.1.1 in /usr/local/lib/python3.6/dist-packages (from torchvision) (4.3.0)\n",
      "Requirement already satisfied: six in /usr/local/lib/python3.6/dist-packages (from torchvision) (1.12.0)\n",
      "Requirement already satisfied: olefile in /usr/local/lib/python3.6/dist-packages (from pillow>=4.1.1->torchvision) (0.46)\n"
     ]
    }
   ],
   "source": [
    "# !pip3 install torch torchvision"
   ]
  },
  {
   "cell_type": "code",
   "execution_count": 1,
   "metadata": {
    "colab": {},
    "colab_type": "code",
    "id": "uGwf774DhFSQ"
   },
   "outputs": [],
   "source": [
    "import numpy as np\n",
    "import matplotlib.pyplot as plt\n",
    "\n",
    "import torch\n",
    "from torch import nn\n",
    "import torch.nn.functional as F\n",
    "import torchvision.transforms as transforms\n",
    "import torchvision.datasets as dsets\n",
    "from torch.utils.data import Dataset, DataLoader"
   ]
  },
  {
   "cell_type": "code",
   "execution_count": 2,
   "metadata": {
    "colab": {},
    "colab_type": "code",
    "id": "9pipFa97JpUs"
   },
   "outputs": [],
   "source": [
    "composed = transforms.Compose([transforms.RandomHorizontalFlip(),\n",
    "                               transforms.RandomVerticalFlip(),\n",
    "                               transforms.ToTensor()])"
   ]
  },
  {
   "cell_type": "code",
   "execution_count": 3,
   "metadata": {
    "colab": {},
    "colab_type": "code",
    "id": "FCge6PrypNfY"
   },
   "outputs": [
    {
     "name": "stderr",
     "output_type": "stream",
     "text": [
      "  0%|          | 0/26421880 [00:00<?, ?it/s]"
     ]
    },
    {
     "name": "stdout",
     "output_type": "stream",
     "text": [
      "Downloading http://fashion-mnist.s3-website.eu-central-1.amazonaws.com/train-images-idx3-ubyte.gz to ./data/FashionMNIST/raw/train-images-idx3-ubyte.gz\n"
     ]
    },
    {
     "name": "stderr",
     "output_type": "stream",
     "text": [
      "26427392it [00:02, 8821751.69it/s]                               \n"
     ]
    },
    {
     "name": "stdout",
     "output_type": "stream",
     "text": [
      "Extracting ./data/FashionMNIST/raw/train-images-idx3-ubyte.gz\n"
     ]
    },
    {
     "name": "stderr",
     "output_type": "stream",
     "text": [
      "32768it [00:00, 452243.15it/s]\n",
      "  1%|          | 40960/4422102 [00:00<00:12, 362643.42it/s]"
     ]
    },
    {
     "name": "stdout",
     "output_type": "stream",
     "text": [
      "Downloading http://fashion-mnist.s3-website.eu-central-1.amazonaws.com/train-labels-idx1-ubyte.gz to ./data/FashionMNIST/raw/train-labels-idx1-ubyte.gz\n",
      "Extracting ./data/FashionMNIST/raw/train-labels-idx1-ubyte.gz\n",
      "Downloading http://fashion-mnist.s3-website.eu-central-1.amazonaws.com/t10k-images-idx3-ubyte.gz to ./data/FashionMNIST/raw/t10k-images-idx3-ubyte.gz\n"
     ]
    },
    {
     "name": "stderr",
     "output_type": "stream",
     "text": [
      "4423680it [00:00, 7890597.51it/s]                             \n",
      "8192it [00:00, 151321.82it/s]\n"
     ]
    },
    {
     "name": "stdout",
     "output_type": "stream",
     "text": [
      "Extracting ./data/FashionMNIST/raw/t10k-images-idx3-ubyte.gz\n",
      "Downloading http://fashion-mnist.s3-website.eu-central-1.amazonaws.com/t10k-labels-idx1-ubyte.gz to ./data/FashionMNIST/raw/t10k-labels-idx1-ubyte.gz\n",
      "Extracting ./data/FashionMNIST/raw/t10k-labels-idx1-ubyte.gz\n",
      "Processing...\n",
      "Done!\n"
     ]
    }
   ],
   "source": [
    "train_dataset = dsets.FashionMNIST(root='./data', \n",
    "                            train=True, \n",
    "                            transform=transforms.ToTensor(),\n",
    "                            download=True)\n",
    "\n",
    "test_dataset = dsets.FashionMNIST(root='./data', \n",
    "                           train=False, \n",
    "                           transform=transforms.ToTensor())"
   ]
  },
  {
   "cell_type": "code",
   "execution_count": 25,
   "metadata": {
    "colab": {},
    "colab_type": "code",
    "id": "BW2mryXtDMRu"
   },
   "outputs": [],
   "source": [
    "batch_size = 1500"
   ]
  },
  {
   "cell_type": "code",
   "execution_count": 26,
   "metadata": {
    "colab": {},
    "colab_type": "code",
    "id": "KgZJSnSUC5vB"
   },
   "outputs": [],
   "source": [
    "train_loader = DataLoader(train_dataset, batch_size=batch_size, shuffle=True)\n",
    "test_loader = DataLoader(test_dataset, batch_size=batch_size, shuffle=False)"
   ]
  },
  {
   "cell_type": "code",
   "execution_count": null,
   "metadata": {
    "colab": {},
    "colab_type": "code",
    "id": "PU7YXWCYqaMh"
   },
   "outputs": [],
   "source": []
  },
  {
   "cell_type": "code",
   "execution_count": 27,
   "metadata": {
    "colab": {
     "base_uri": "https://localhost:8080/",
     "height": 52
    },
    "colab_type": "code",
    "id": "aTR9sI4Bpaza",
    "outputId": "8e2f4af1-f8c3-46f2-fcee-7175ad48e15b"
   },
   "outputs": [
    {
     "name": "stdout",
     "output_type": "stream",
     "text": [
      "40\n",
      "torch.Size([1500, 1, 28, 28]) torch.Size([1500]) tensor(1.)\n"
     ]
    }
   ],
   "source": [
    "print(len(train_loader))\n",
    "for image, label in train_loader:\n",
    "    print(image.shape, label.shape, image[0,0,:,:].max())\n",
    "    break"
   ]
  },
  {
   "cell_type": "code",
   "execution_count": 28,
   "metadata": {
    "colab": {},
    "colab_type": "code",
    "id": "kBqmUU1w5eSz"
   },
   "outputs": [],
   "source": [
    "class GlobalMaxPool2D(nn.Module):\n",
    "    '''\n",
    "    Reduce to feature space\n",
    "    '''\n",
    "    def __init__(self):\n",
    "        super(GlobalMaxPool2D, self).__init__()\n",
    "        \n",
    "    def forward(self, x):\n",
    "        x =  torch.max(torch.max(x, 3, keepdim=False)[0], 2, keepdim=False)[0]\n",
    "        return x\n",
    "\n",
    "\n",
    "class Flatten(nn.Module):\n",
    "    def __init__(self):\n",
    "        super(Flatten, self).__init__()\n",
    "\n",
    "    def forward(self, input):\n",
    "        return input.view(input.size(0), -1)\n",
    "\n",
    "class CNNModel(nn.Module):\n",
    "    def __init__(self, n_classes, debug=False):\n",
    "        super(CNNModel, self).__init__()\n",
    "        \n",
    "        \n",
    "        self.conv1 = nn.Conv2d(in_channels=1, out_channels=16, kernel_size=3, stride=1)\n",
    "        self.conv2 = nn.Conv2d(in_channels=16, out_channels=32, kernel_size=3, stride=1)\n",
    "        self.conv3 = nn.Conv2d(in_channels=32, out_channels=64, kernel_size=3, stride=1, padding=1)\n",
    "        self.maxpool = nn.MaxPool2d(kernel_size=2)\n",
    "        self.global_maxpool = GlobalMaxPool2D()\n",
    "        self.fc1 = nn.Linear(in_features=256, out_features=64)\n",
    "        self.fc2 = nn.Linear(in_features=64, out_features=10)\n",
    "        self.relu = nn.LeakyReLU(inplace=True)\n",
    "        self.dropout2d = nn.Dropout2d()\n",
    "        self.dropout = nn.Dropout()\n",
    "        self.flatten = Flatten()\n",
    "        \n",
    "\n",
    "        self.debug = debug\n",
    "        \n",
    "    def forward(self, x):\n",
    "        x = self.maxpool(self.relu(self.conv1(x)))\n",
    "        if self.debug:\n",
    "            print(x.shape)\n",
    "        x = self.maxpool(self.relu(self.conv2(x)))\n",
    "        x = self.dropout2d(x)\n",
    "        if self.debug:\n",
    "            print(x.shape)\n",
    "        x = self.maxpool(self.relu(self.conv3(x)))\n",
    "        if self.debug:\n",
    "            print(x.shape)\n",
    "        \n",
    "        # x = self.global_maxpool(x)\n",
    "        x = self.flatten(x)\n",
    "        x = self.dropout(x)\n",
    "        if self.debug:\n",
    "            print(x.shape)\n",
    "\n",
    "        \n",
    "        \n",
    "        x = self.fc1(x)\n",
    "        x = self.dropout(x)\n",
    "        if self.debug:\n",
    "            print(x.shape)\n",
    "        x = self.fc2(x)\n",
    "        if self.debug:\n",
    "            print(x.shape)\n",
    "\n",
    "        \n",
    "        return x\n",
    "            \n",
    "        \n",
    "        "
   ]
  },
  {
   "cell_type": "code",
   "execution_count": 29,
   "metadata": {},
   "outputs": [
    {
     "name": "stdout",
     "output_type": "stream",
     "text": [
      "torch.Size([1500, 1, 28, 28]) torch.Size([1500]) tensor(1.)\n",
      "torch.Size([1500, 16, 13, 13])\n",
      "torch.Size([1500, 32, 5, 5])\n",
      "torch.Size([1500, 64, 2, 2])\n",
      "torch.Size([1500, 256])\n",
      "torch.Size([1500, 64])\n",
      "torch.Size([1500, 10])\n"
     ]
    }
   ],
   "source": [
    "n_classes = 10\n",
    "model = CNNModel(n_classes, debug=True)\n",
    "for image, label in train_loader:\n",
    "    print(image.shape, label.shape, image[0,0,:,:].max())\n",
    "    out = model(image)\n",
    "    break"
   ]
  },
  {
   "cell_type": "code",
   "execution_count": 32,
   "metadata": {},
   "outputs": [
    {
     "name": "stdout",
     "output_type": "stream",
     "text": [
      "0 : 1.2893339395523071, 61\n",
      "1 : 0.9050641059875488, 71\n",
      "2 : 0.8150016069412231, 73\n",
      "3 : 0.7713945508003235, 75\n",
      "4 : 0.7021328806877136, 76\n",
      "5 : 0.6834001541137695, 77\n",
      "6 : 0.6462817192077637, 78\n",
      "7 : 0.6820837259292603, 79\n",
      "8 : 0.6524166464805603, 80\n",
      "9 : 0.5602344274520874, 80\n",
      "10 : 0.5524293184280396, 81\n",
      "11 : 0.590955913066864, 81\n",
      "12 : 0.56954425573349, 82\n",
      "13 : 0.5172807574272156, 82\n",
      "14 : 0.5542867183685303, 82\n",
      "15 : 0.5250877737998962, 83\n",
      "16 : 0.5463279485702515, 83\n",
      "17 : 0.5344449281692505, 83\n",
      "18 : 0.4910275340080261, 83\n",
      "19 : 0.5226996541023254, 83\n",
      "20 : 0.48766228556632996, 83\n",
      "21 : 0.46432530879974365, 84\n",
      "22 : 0.5211029648780823, 84\n",
      "23 : 0.4878729581832886, 84\n",
      "24 : 0.4691540002822876, 84\n",
      "25 : 0.48120537400245667, 84\n",
      "26 : 0.46194109320640564, 85\n",
      "27 : 0.47796985507011414, 85\n",
      "28 : 0.5023258924484253, 85\n",
      "29 : 0.47398221492767334, 85\n",
      "30 : 0.4596015214920044, 85\n",
      "31 : 0.4811587631702423, 85\n",
      "32 : 0.45428666472435, 85\n",
      "33 : 0.46175676584243774, 85\n",
      "34 : 0.44499915838241577, 85\n",
      "35 : 0.4292072057723999, 85\n",
      "36 : 0.4873562157154083, 85\n",
      "37 : 0.4435335695743561, 85\n",
      "38 : 0.43892601132392883, 85\n",
      "39 : 0.4205070734024048, 85\n",
      "40 : 0.44034838676452637, 86\n",
      "41 : 0.4810926616191864, 86\n",
      "42 : 0.4311206042766571, 86\n",
      "43 : 0.4349586069583893, 86\n",
      "44 : 0.44200581312179565, 86\n",
      "45 : 0.42774537205696106, 86\n",
      "46 : 0.3971291780471802, 86\n",
      "47 : 0.3834521472454071, 86\n",
      "48 : 0.4265276789665222, 86\n",
      "49 : 0.3830455243587494, 86\n",
      "50 : 0.4069051146507263, 86\n",
      "51 : 0.4398849606513977, 86\n",
      "52 : 0.3954351544380188, 87\n",
      "53 : 0.41082698106765747, 87\n",
      "54 : 0.40581169724464417, 87\n",
      "55 : 0.41862210631370544, 87\n",
      "56 : 0.42094796895980835, 87\n",
      "57 : 0.41100993752479553, 87\n",
      "58 : 0.38195425271987915, 87\n",
      "59 : 0.3699483573436737, 87\n",
      "60 : 0.46274876594543457, 87\n",
      "61 : 0.39567989110946655, 87\n",
      "62 : 0.41151687502861023, 87\n",
      "63 : 0.3851827085018158, 87\n",
      "64 : 0.3547062575817108, 87\n",
      "65 : 0.4340965449810028, 87\n",
      "66 : 0.4288139343261719, 87\n",
      "67 : 0.41187751293182373, 87\n",
      "68 : 0.4260968565940857, 87\n",
      "69 : 0.4057750105857849, 87\n",
      "70 : 0.4013613164424896, 87\n",
      "71 : 0.37537842988967896, 87\n",
      "72 : 0.3811323940753937, 87\n",
      "73 : 0.4253697991371155, 87\n",
      "74 : 0.3922741711139679, 87\n",
      "75 : 0.3514282703399658, 87\n",
      "76 : 0.41461166739463806, 88\n",
      "77 : 0.39170682430267334, 88\n",
      "78 : 0.40415650606155396, 88\n",
      "79 : 0.3429352641105652, 88\n",
      "80 : 0.4368664622306824, 87\n",
      "81 : 0.4145379960536957, 88\n",
      "82 : 0.37983137369155884, 87\n",
      "83 : 0.4410967230796814, 88\n",
      "84 : 0.37268203496932983, 88\n",
      "85 : 0.4136066436767578, 87\n",
      "86 : 0.3810461759567261, 88\n",
      "87 : 0.39295488595962524, 87\n",
      "88 : 0.4067138135433197, 88\n",
      "89 : 0.38615676760673523, 88\n",
      "90 : 0.39192095398902893, 88\n",
      "91 : 0.3732110261917114, 88\n",
      "92 : 0.4067457616329193, 88\n",
      "93 : 0.3846351206302643, 88\n",
      "94 : 0.3986324369907379, 88\n",
      "95 : 0.3349814713001251, 88\n",
      "96 : 0.38720980286598206, 88\n",
      "97 : 0.3499232530593872, 88\n",
      "98 : 0.37902912497520447, 88\n",
      "99 : 0.4077779948711395, 88\n"
     ]
    },
    {
     "data": {
      "text/plain": [
       "[<matplotlib.lines.Line2D at 0x7fe2ec2e0160>]"
      ]
     },
     "execution_count": 32,
     "metadata": {},
     "output_type": "execute_result"
    },
    {
     "data": {
      "image/png": "[encoded data removed]",
      "text/plain": [
       "<Figure size 432x288 with 1 Axes>"
      ]
     },
     "metadata": {
      "needs_background": "light"
     },
     "output_type": "display_data"
    }
   ],
   "source": [
    "num_epochs = 100\n",
    "learning_rate = 0.001\n",
    "\n",
    "n_classes = 10\n",
    "\n",
    "model = CNNModel(n_classes, debug=False)\n",
    "\n",
    "\n",
    "loss_list = []\n",
    "\n",
    "if torch.cuda.is_available():\n",
    "    model.cuda()\n",
    "criterion = nn.CrossEntropyLoss()\n",
    "\n",
    "# optimizer = torch.optim.SGD(model.parameters(), lr=learning_rate, momentum=0.9)\n",
    "optimizer = torch.optim.Adam(model.parameters(), lr=learning_rate, weight_decay=1e-4)\n",
    "\n",
    "for epoch in range(num_epochs):\n",
    "    model.train()\n",
    "    for iteration, (image, label) in enumerate(train_loader):\n",
    "\n",
    "\n",
    "        if torch.cuda.is_available():\n",
    "            X = image.cuda()\n",
    "            y = label.cuda()\n",
    "        else:\n",
    "            X = image\n",
    "            y = label\n",
    "\n",
    "\n",
    "        optimizer.zero_grad()\n",
    "        y_pred = model(X)\n",
    "        # break\n",
    "        loss = criterion(y_pred, y)\n",
    "        loss.backward()\n",
    "        optimizer.step()\n",
    "        loss_list.append(loss.cpu().data)\n",
    "    \n",
    "    model.eval()\n",
    "    with torch.no_grad():\n",
    "        correct = 0\n",
    "        total = 0\n",
    "        for iteration, (image, label) in enumerate(test_loader):\n",
    "            if torch.cuda.is_available():\n",
    "                X = image.cuda()\n",
    "                y = label.cuda()\n",
    "            else:\n",
    "                X = image\n",
    "                y = label\n",
    "\n",
    "            y_pred = model(X)\n",
    "\n",
    "            _, predicted = torch.max(y_pred.data, 1)\n",
    "\n",
    "            total += y.size(0)\n",
    "\n",
    "            if torch.cuda.is_available():\n",
    "                correct += (predicted.cpu() == y.cpu()).sum()\n",
    "            else:\n",
    "                correct += (predicted == y).sum()\n",
    "\n",
    "        print(\"{0} : {1}, {2}\".format(epoch, loss.cpu().data, np.round(100*correct/total, 2)))\n",
    "\n",
    "\n",
    "        \n",
    "\n",
    "plt.plot(np.arange(0,len(loss_list)), np.array(loss_list))"
   ]
  },
  {
   "cell_type": "code",
   "execution_count": null,
   "metadata": {},
   "outputs": [],
   "source": []
  },
  {
   "cell_type": "code",
   "execution_count": null,
   "metadata": {},
   "outputs": [],
   "source": []
  },
  {
   "cell_type": "code",
   "execution_count": null,
   "metadata": {},
   "outputs": [],
   "source": []
  }
 ],
 "metadata": {
  "accelerator": "GPU",
  "colab": {
   "collapsed_sections": [],
   "include_colab_link": true,
   "name": "pytorch_cnn_fashion_mnist.ipynb",
   "provenance": [],
   "version": "0.3.2"
  },
  "kernelspec": {
   "display_name": "Python 3",
   "language": "python",
   "name": "python3"
  },
  "language_info": {
   "codemirror_mode": {
    "name": "ipython",
    "version": 3
   },
   "file_extension": ".py",
   "mimetype": "text/x-python",
   "name": "python",
   "nbconvert_exporter": "python",
   "pygments_lexer": "ipython3",
   "version": "3.7.0"
  }
 },
 "nbformat": 4,
 "nbformat_minor": 1
}
