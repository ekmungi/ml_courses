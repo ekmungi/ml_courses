{
 "cells": [
  {
   "cell_type": "code",
   "execution_count": 9,
   "metadata": {
    "colab": {
     "autoexec": {
      "startup": false,
      "wait_interval": 0
     },
     "base_uri": "https://localhost:8080/",
     "height": 35
    },
    "colab_type": "code",
    "executionInfo": {
     "elapsed": 8185,
     "status": "ok",
     "timestamp": 1525703110816,
     "user": {
      "displayName": "Anant Vemuri",
      "photoUrl": "https://lh3.googleusercontent.com/a/default-user=s128",
      "userId": "100979246453766324139"
     },
     "user_tz": -120
    },
    "id": "6PlKZ0IXD-4w",
    "outputId": "011edac3-4768-4973-af69-1543b1bdfee0"
   },
   "outputs": [],
   "source": [
    "# import tensorflow as tf\n",
    "# tf.test.gpu_device_name()"
   ]
  },
  {
   "cell_type": "code",
   "execution_count": 10,
   "metadata": {
    "colab": {
     "autoexec": {
      "startup": false,
      "wait_interval": 0
     },
     "base_uri": "https://localhost:8080/",
     "height": 35
    },
    "colab_type": "code",
    "id": "9SHJEEbSC29b",
    "outputId": "419517d9-3d7a-42fc-c88b-fef9f0ff5a25"
   },
   "outputs": [],
   "source": [
    "# !pip install torch torchvision"
   ]
  },
  {
   "cell_type": "code",
   "execution_count": 11,
   "metadata": {
    "colab": {
     "autoexec": {
      "startup": false,
      "wait_interval": 0
     },
     "base_uri": "https://localhost:8080/",
     "height": 368
    },
    "colab_type": "code",
    "executionInfo": {
     "elapsed": 799,
     "status": "error",
     "timestamp": 1525703333104,
     "user": {
      "displayName": "Anant Vemuri",
      "photoUrl": "https://lh3.googleusercontent.com/a/default-user=s128",
      "userId": "100979246453766324139"
     },
     "user_tz": -120
    },
    "id": "LhUQbpQ9C0ZJ",
    "outputId": "f542e433-1728-418b-fcf6-713685b19f90"
   },
   "outputs": [],
   "source": [
    "import torch\n",
    "import torch.nn as nn\n",
    "import torchvision.transforms as transforms\n",
    "import torchvision.datasets as datasets\n",
    "from torch.autograd import Variable"
   ]
  },
  {
   "cell_type": "markdown",
   "metadata": {
    "colab_type": "text",
    "id": "jRWKqEJfC0ZR"
   },
   "source": [
    "## Load data"
   ]
  },
  {
   "cell_type": "code",
   "execution_count": 12,
   "metadata": {
    "colab": {
     "autoexec": {
      "startup": false,
      "wait_interval": 0
     },
     "base_uri": "https://localhost:8080/",
     "height": 71
    },
    "colab_type": "code",
    "executionInfo": {
     "elapsed": 472,
     "status": "ok",
     "timestamp": 1525680834268,
     "user": {
      "displayName": "Anant Vemuri",
      "photoUrl": "https://lh3.googleusercontent.com/a/default-user=s128",
      "userId": "100979246453766324139"
     },
     "user_tz": -120
    },
    "id": "7t7aaFcxC0ZT",
    "outputId": "24cad639-3f2f-42e8-b20b-f14837ed8ef7"
   },
   "outputs": [
    {
     "name": "stdout",
     "output_type": "stream",
     "text": [
      "Length of train dataset\n",
      "Length of test dataset\n",
      "Shape of each image: torch.Size([1, 28, 28])\n"
     ]
    }
   ],
   "source": [
    "train_dataset = datasets.MNIST(root='D:/dev/data/mnist/', train=True, transform=transforms.ToTensor(), download=True)\n",
    "print('Length of train dataset'.format(len(train_dataset)))\n",
    "test_dataset = datasets.MNIST(root='D:/dev/data/mnist/', train=False, transform=transforms.ToTensor(), download=True)\n",
    "print('Length of test dataset'.format(len(test_dataset)))\n",
    "print('Shape of each image: {}'.format(train_dataset[0][0].size()))"
   ]
  },
  {
   "cell_type": "markdown",
   "metadata": {
    "colab_type": "text",
    "id": "ntlcjYe0C0Ze"
   },
   "source": [
    "## Display MNIST"
   ]
  },
  {
   "cell_type": "code",
   "execution_count": 13,
   "metadata": {
    "colab": {
     "autoexec": {
      "startup": false,
      "wait_interval": 0
     }
    },
    "colab_type": "code",
    "id": "zFyk6VB7C0Zf"
   },
   "outputs": [],
   "source": [
    "import matplotlib.pyplot as plt\n",
    "import numpy as np\n",
    "%matplotlib inline"
   ]
  },
  {
   "cell_type": "code",
   "execution_count": 14,
   "metadata": {
    "colab": {
     "autoexec": {
      "startup": false,
      "wait_interval": 0
     },
     "base_uri": "https://localhost:8080/",
     "height": 298
    },
    "colab_type": "code",
    "executionInfo": {
     "elapsed": 447,
     "status": "ok",
     "timestamp": 1525680835516,
     "user": {
      "displayName": "Anant Vemuri",
      "photoUrl": "https://lh3.googleusercontent.com/a/default-user=s128",
      "userId": "100979246453766324139"
     },
     "user_tz": -120
    },
    "id": "Xe4hcwT2C0Zl",
    "outputId": "79d49b0d-4ea8-41b1-ec55-445df731f681"
   },
   "outputs": [
    {
     "data": {
      "text/plain": [
       "Text(0.5,1,'5')"
      ]
     },
     "execution_count": 14,
     "metadata": {},
     "output_type": "execute_result"
    },
    {
     "data": {
      "image/png": "[encoded data removed]",
      "text/plain": [
       "<matplotlib.figure.Figure at 0x24a954d7198>"
      ]
     },
     "metadata": {},
     "output_type": "display_data"
    }
   ],
   "source": [
    "shape = list(train_dataset[0][0].size()[-2:])\n",
    "show_img = train_dataset[0][0].numpy().reshape(shape)\n",
    "plt.imshow(show_img, cmap='gray')\n",
    "plt.title(train_dataset[0][1].numpy())"
   ]
  },
  {
   "cell_type": "markdown",
   "metadata": {
    "colab_type": "text",
    "id": "LVRf6pqBC0Zt"
   },
   "source": [
    "## Make dataset iterable"
   ]
  },
  {
   "cell_type": "code",
   "execution_count": 15,
   "metadata": {
    "colab": {
     "autoexec": {
      "startup": false,
      "wait_interval": 0
     },
     "base_uri": "https://localhost:8080/",
     "height": 35
    },
    "colab_type": "code",
    "executionInfo": {
     "elapsed": 448,
     "status": "ok",
     "timestamp": 1525681939511,
     "user": {
      "displayName": "Anant Vemuri",
      "photoUrl": "https://lh3.googleusercontent.com/a/default-user=s128",
      "userId": "100979246453766324139"
     },
     "user_tz": -120
    },
    "id": "IOawBr40C0Zv",
    "outputId": "81a79270-de89-471d-bf3a-6915b2a39837"
   },
   "outputs": [
    {
     "name": "stdout",
     "output_type": "stream",
     "text": [
      "Number of epochs: 10\n"
     ]
    }
   ],
   "source": [
    "batch_size = 100\n",
    "n_iters = 6000\n",
    "n_epochs = int(n_iters / (len(train_dataset)/batch_size))\n",
    "\n",
    "print('Number of epochs: {}'.format(n_epochs))\n",
    "\n",
    "\n",
    "train_loader = torch.utils.data.DataLoader(dataset=train_dataset, batch_size=batch_size, shuffle=True)\n",
    "test_loader = torch.utils.data.DataLoader(dataset=test_dataset, batch_size=batch_size, shuffle=False)"
   ]
  },
  {
   "cell_type": "markdown",
   "metadata": {
    "colab_type": "text",
    "id": "EomV4D1nC0Z2"
   },
   "source": [
    "### Check iterability"
   ]
  },
  {
   "cell_type": "code",
   "execution_count": 16,
   "metadata": {
    "colab": {
     "autoexec": {
      "startup": false,
      "wait_interval": 0
     },
     "base_uri": "https://localhost:8080/",
     "height": 35
    },
    "colab_type": "code",
    "executionInfo": {
     "elapsed": 427,
     "status": "ok",
     "timestamp": 1525681943327,
     "user": {
      "displayName": "Anant Vemuri",
      "photoUrl": "https://lh3.googleusercontent.com/a/default-user=s128",
      "userId": "100979246453766324139"
     },
     "user_tz": -120
    },
    "id": "lPNdVOlgC0Z3",
    "outputId": "3ee2fd1c-ff20-4966-9c5f-6b684c709084"
   },
   "outputs": [
    {
     "data": {
      "text/plain": [
       "True"
      ]
     },
     "execution_count": 16,
     "metadata": {},
     "output_type": "execute_result"
    }
   ],
   "source": [
    "import collections\n",
    "isinstance(train_loader, collections.Iterable)\n",
    "isinstance(test_loader, collections.Iterable)"
   ]
  },
  {
   "cell_type": "markdown",
   "metadata": {
    "colab_type": "text",
    "id": "ODvOEJD5C0Z9"
   },
   "source": [
    "## Build model"
   ]
  },
  {
   "cell_type": "code",
   "execution_count": 0,
   "metadata": {
    "colab": {
     "autoexec": {
      "startup": false,
      "wait_interval": 0
     }
    },
    "colab_type": "code",
    "id": "homvHfMMC0Z_"
   },
   "outputs": [],
   "source": [
    "class RNN(nn.Module):\n",
    "    def __init__(self, input_dims, hidden_dims, n_hidden_layers, output_dims):\n",
    "        super(RNN, self).__init__()\n",
    "        \n",
    "        # input_size – The number of expected features in the input x\n",
    "        # hidden_size – The number of features in the hidden state h\n",
    "        # num_layers – Number of recurrent layers.\n",
    "        self.rnn = nn.RNN(input_size=input_dims, hidden_size=hidden_dims, num_layers=n_hidden_layers, batch_first=True, nonlinearity='relu')\n",
    "        \n",
    "        self.fc = nn.Linear(in_features=hidden_dims, out_features=output_dims)\n",
    "        \n",
    "        self.hidden_dims = hidden_dims\n",
    "        self.n_hidden_layers = n_hidden_layers\n",
    "        \n",
    "        \n",
    "        \n",
    "            \n",
    "                \n",
    "    def forward(self, x):\n",
    "        \n",
    "        out = self.cnn1(x)            # 16x28x28\n",
    "        out = self.relu(out)            # 16x28x28        \n",
    "        out = self.cnn2(out)            # 32x28x28\n",
    "        out = self.relu(out)            # 32x28x28\n",
    "        out = self.maxpool(out)         # 32x14x14\n",
    "        out = self.cnn3(out)            # 64x14x14\n",
    "        out = self.relu(out)            # 64x14x14\n",
    "        out = self.cnn4(out)            # 128x14x14\n",
    "        out = self.relu(out)            # 128x14x14\n",
    "        out = self.maxpool(out)         # 128x7x7\n",
    "        out = out.view(out.size(0), -1) # 1x(128*7*7)\n",
    "        out = self.fc1(out)\n",
    "        out = self.fc2(out)\n",
    "        \n",
    "        return out"
   ]
  },
  {
   "cell_type": "markdown",
   "metadata": {
    "colab_type": "text",
    "id": "sLIBNWz9C0aH"
   },
   "source": [
    "## Instatiate model"
   ]
  },
  {
   "cell_type": "code",
   "execution_count": 0,
   "metadata": {
    "colab": {
     "autoexec": {
      "startup": false,
      "wait_interval": 0
     }
    },
    "colab_type": "code",
    "id": "dz8a9NSQC0aJ"
   },
   "outputs": [],
   "source": [
    "ann = CNN()\n",
    "if torch.cuda.is_available():\n",
    "  ann.cuda()"
   ]
  },
  {
   "cell_type": "markdown",
   "metadata": {
    "colab_type": "text",
    "id": "ctqkEwMqC0aO"
   },
   "source": [
    "## Instantiate loss class"
   ]
  },
  {
   "cell_type": "code",
   "execution_count": 0,
   "metadata": {
    "colab": {
     "autoexec": {
      "startup": false,
      "wait_interval": 0
     }
    },
    "colab_type": "code",
    "id": "vz2UBZ_wC0aO"
   },
   "outputs": [],
   "source": [
    "criterion = nn.CrossEntropyLoss()"
   ]
  },
  {
   "cell_type": "markdown",
   "metadata": {
    "colab_type": "text",
    "id": "h_q499svC0aT"
   },
   "source": [
    "## model.parameters() explained"
   ]
  },
  {
   "cell_type": "code",
   "execution_count": 0,
   "metadata": {
    "colab": {
     "autoexec": {
      "startup": false,
      "wait_interval": 0
     },
     "base_uri": "https://localhost:8080/",
     "height": 269
    },
    "colab_type": "code",
    "executionInfo": {
     "elapsed": 443,
     "status": "ok",
     "timestamp": 1525681947545,
     "user": {
      "displayName": "Anant Vemuri",
      "photoUrl": "https://lh3.googleusercontent.com/a/default-user=s128",
      "userId": "100979246453766324139"
     },
     "user_tz": -120
    },
    "id": "AX_F_Zx5C0aU",
    "outputId": "99d97deb-6845-47b9-8a1f-0d18cf368156"
   },
   "outputs": [
    {
     "name": "stdout",
     "output_type": "stream",
     "text": [
      "<generator object Module.parameters at 0x7fcd8ef524c0>\n",
      "12\n",
      "torch.Size([16, 1, 3, 3])\n",
      "torch.Size([16])\n",
      "torch.Size([32, 16, 3, 3])\n",
      "torch.Size([32])\n",
      "torch.Size([64, 32, 3, 3])\n",
      "torch.Size([64])\n",
      "torch.Size([128, 64, 3, 3])\n",
      "torch.Size([128])\n",
      "torch.Size([500, 6272])\n",
      "torch.Size([500])\n",
      "torch.Size([10, 500])\n",
      "torch.Size([10])\n"
     ]
    }
   ],
   "source": [
    "print(ann.parameters())\n",
    "print(len(list(ann.parameters())))\n",
    "\n",
    "for parameter in list(ann.parameters()):\n",
    "    print(parameter.size())"
   ]
  },
  {
   "cell_type": "markdown",
   "metadata": {
    "colab_type": "text",
    "id": "dVRFxjF-C0ae"
   },
   "source": [
    "## Optimizer"
   ]
  },
  {
   "cell_type": "code",
   "execution_count": 0,
   "metadata": {
    "colab": {
     "autoexec": {
      "startup": false,
      "wait_interval": 0
     }
    },
    "colab_type": "code",
    "id": "B-BKJ6-2C0ah"
   },
   "outputs": [],
   "source": [
    "learning_rate = 0.1\n",
    "optimizer = torch.optim.SGD(ann.parameters(), lr=learning_rate)"
   ]
  },
  {
   "cell_type": "markdown",
   "metadata": {
    "colab_type": "text",
    "id": "kmqFKmfSC0ar"
   },
   "source": [
    "## Training phase"
   ]
  },
  {
   "cell_type": "code",
   "execution_count": 0,
   "metadata": {
    "colab": {
     "autoexec": {
      "startup": false,
      "wait_interval": 0
     },
     "base_uri": "https://localhost:8080/",
     "height": 233
    },
    "colab_type": "code",
    "executionInfo": {
     "elapsed": 128191,
     "status": "ok",
     "timestamp": 1525682078203,
     "user": {
      "displayName": "Anant Vemuri",
      "photoUrl": "https://lh3.googleusercontent.com/a/default-user=s128",
      "userId": "100979246453766324139"
     },
     "user_tz": -120
    },
    "id": "5f4F-yffC0au",
    "outputId": "465b4799-be7a-4242-9f06-b4844078f310"
   },
   "outputs": [
    {
     "name": "stdout",
     "output_type": "stream",
     "text": [
      "Epoch: 0, Iteration: 500, Loss: 0.04327140748500824, Accuracy: 98%\n",
      "Epoch: 1, Iteration: 1000, Loss: 0.03309674561023712, Accuracy: 98%\n",
      "Epoch: 2, Iteration: 1500, Loss: 0.05346955358982086, Accuracy: 98%\n",
      "Epoch: 3, Iteration: 2000, Loss: 0.016049513593316078, Accuracy: 98%\n",
      "Epoch: 4, Iteration: 2500, Loss: 0.007302818354219198, Accuracy: 98%\n",
      "Epoch: 4, Iteration: 3000, Loss: 0.054626259952783585, Accuracy: 98%\n",
      "Epoch: 5, Iteration: 3500, Loss: 0.011208572424948215, Accuracy: 98%\n",
      "Epoch: 6, Iteration: 4000, Loss: 0.0008606862975284457, Accuracy: 99%\n",
      "Epoch: 7, Iteration: 4500, Loss: 0.03612092137336731, Accuracy: 98%\n",
      "Epoch: 8, Iteration: 5000, Loss: 0.003456277772784233, Accuracy: 99%\n",
      "Epoch: 9, Iteration: 5500, Loss: 0.004914288409054279, Accuracy: 99%\n",
      "Epoch: 9, Iteration: 6000, Loss: 0.011872291564941406, Accuracy: 98%\n"
     ]
    }
   ],
   "source": [
    "iteration = 0\n",
    "for epoch in range(n_epochs):\n",
    "    for i, (images, labels) in enumerate(train_loader):\n",
    "        if torch.cuda.is_available():\n",
    "          images = Variable(images.cuda())\n",
    "          labels = Variable(labels.cuda())\n",
    "        else:\n",
    "          images = Variable(images)\n",
    "          labels = Variable(labels)\n",
    "        \n",
    "        optimizer.zero_grad()\n",
    "        \n",
    "        outputs = ann(images)\n",
    "        \n",
    "        loss = criterion(outputs, labels)\n",
    "        \n",
    "        loss.backward()\n",
    "        \n",
    "        optimizer.step()\n",
    "        \n",
    "        iteration += 1\n",
    "        \n",
    "        if iteration%500 == 0:\n",
    "            correct = 0\n",
    "            total = 0\n",
    "            \n",
    "            for images, labels in test_loader:\n",
    "                if torch.cuda.is_available():\n",
    "                  images = Variable(images.cuda())\n",
    "                  labels = Variable(labels.cuda())\n",
    "                else:\n",
    "                  images = Variable(images)\n",
    "                  labels = Variable(labels)\n",
    "                \n",
    "                outputs = ann(images)\n",
    "                \n",
    "                predicted = torch.argmax(outputs, dim=1)\n",
    "                \n",
    "                total += labels.size()[0]\n",
    "                \n",
    "                correct += (predicted == labels).sum()\n",
    "                \n",
    "                \n",
    "            accuracy = 100*correct/total\n",
    "            \n",
    "            print('Epoch: {}, Iteration: {}, Loss: {}, Accuracy: {}%'.format(epoch, iteration, loss, accuracy))\n",
    "                            "
   ]
  },
  {
   "cell_type": "markdown",
   "metadata": {
    "colab_type": "text",
    "id": "v3U1oFbIC0a0"
   },
   "source": [
    "## Show test images"
   ]
  },
  {
   "cell_type": "code",
   "execution_count": 0,
   "metadata": {
    "colab": {
     "autoexec": {
      "startup": false,
      "wait_interval": 0
     },
     "base_uri": "https://localhost:8080/",
     "height": 280
    },
    "colab_type": "code",
    "executionInfo": {
     "elapsed": 505,
     "status": "ok",
     "timestamp": 1525676719491,
     "user": {
      "displayName": "Anant Vemuri",
      "photoUrl": "https://lh3.googleusercontent.com/a/default-user=s128",
      "userId": "100979246453766324139"
     },
     "user_tz": -120
    },
    "id": "f_HbjoeLC0a4",
    "outputId": "5d902feb-86fa-43cc-b838-147c9618c74a"
   },
   "outputs": [
    {
     "data": {
      "image/png": "[encoded data removed]",
      "text/plain": [
       "<matplotlib.figure.Figure at 0x7fcde97c2ac8>"
      ]
     },
     "metadata": {
      "tags": []
     },
     "output_type": "display_data"
    }
   ],
   "source": [
    "for images, labels in test_loader:\n",
    "    images = Variable(images.view(-1, 28*28))\n",
    "    labels = Variable(labels)\n",
    "    \n",
    "    plt.imshow(images[0].view(28,28).numpy(), cmap='gray')\n",
    "    plt.title(labels[0].numpy())\n",
    "    \n",
    "    break"
   ]
  },
  {
   "cell_type": "code",
   "execution_count": 0,
   "metadata": {
    "colab": {
     "autoexec": {
      "startup": false,
      "wait_interval": 0
     }
    },
    "colab_type": "code",
    "id": "LG4cTmbmC0a_"
   },
   "outputs": [],
   "source": []
  }
 ],
 "metadata": {
  "accelerator": "GPU",
  "colab": {
   "collapsed_sections": [],
   "default_view": {},
   "name": "rnn_pytorch_mnist.ipynb",
   "provenance": [],
   "version": "0.3.2",
   "views": {}
  },
  "kernelspec": {
   "display_name": "Python 3",
   "language": "python",
   "name": "python3"
  },
  "language_info": {
   "codemirror_mode": {
    "name": "ipython",
    "version": 3
   },
   "file_extension": ".py",
   "mimetype": "text/x-python",
   "name": "python",
   "nbconvert_exporter": "python",
   "pygments_lexer": "ipython3",
   "version": "3.6.4"
  }
 },
 "nbformat": 4,
 "nbformat_minor": 1
}
