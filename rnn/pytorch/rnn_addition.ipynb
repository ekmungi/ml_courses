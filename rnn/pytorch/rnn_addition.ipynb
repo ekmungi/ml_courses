{
  "nbformat": 4,
  "nbformat_minor": 0,
  "metadata": {
    "colab": {
      "name": "rnn_addition.ipynb",
      "version": "0.3.2",
      "provenance": [],
      "collapsed_sections": [],
      "include_colab_link": true
    },
    "kernelspec": {
      "name": "python3",
      "display_name": "Python 3"
    },
    "accelerator": "GPU"
  },
  "cells": [
    {
      "cell_type": "markdown",
      "metadata": {
        "id": "view-in-github",
        "colab_type": "text"
      },
      "source": [
        "<a href=\"https://colab.research.google.com/github/ekmungi/ml_courses/blob/master/rnn_addition.ipynb\" target=\"_parent\"><img src=\"https://colab.research.google.com/assets/colab-badge.svg\" alt=\"Open In Colab\"/></a>"
      ]
    },
    {
      "cell_type": "code",
      "metadata": {
        "id": "abkPgR8mhuUS",
        "colab_type": "code",
        "colab": {
          "base_uri": "https://localhost:8080/",
          "height": 142
        },
        "outputId": "2da6894b-1f4f-47ca-f383-e9bc5ab2fb97"
      },
      "source": [
        "!pip3 install torch torchvision"
      ],
      "execution_count": 1,
      "outputs": [
        {
          "output_type": "stream",
          "text": [
            "Requirement already satisfied: torch in /usr/local/lib/python3.6/dist-packages (1.1.0)\n",
            "Requirement already satisfied: torchvision in /usr/local/lib/python3.6/dist-packages (0.3.0)\n",
            "Requirement already satisfied: numpy in /usr/local/lib/python3.6/dist-packages (from torch) (1.16.4)\n",
            "Requirement already satisfied: six in /usr/local/lib/python3.6/dist-packages (from torchvision) (1.12.0)\n",
            "Requirement already satisfied: pillow>=4.1.1 in /usr/local/lib/python3.6/dist-packages (from torchvision) (4.3.0)\n",
            "Requirement already satisfied: olefile in /usr/local/lib/python3.6/dist-packages (from pillow>=4.1.1->torchvision) (0.46)\n"
          ],
          "name": "stdout"
        }
      ]
    },
    {
      "cell_type": "code",
      "metadata": {
        "id": "uGwf774DhFSQ",
        "colab_type": "code",
        "colab": {}
      },
      "source": [
        "import numpy as np\n",
        "\n",
        "import torch\n",
        "from torch import nn\n",
        "import torch.nn.functional as F\n"
      ],
      "execution_count": 0,
      "outputs": []
    },
    {
      "cell_type": "code",
      "metadata": {
        "id": "MaXejVWBifl1",
        "colab_type": "code",
        "colab": {}
      },
      "source": [
        "class RNNModel(nn.Module):\n",
        "    def __init__(self, input_dim, hidden_dim, nlayers, output_dim):\n",
        "        super(RNNModel, self).__init__()\n",
        "        \n",
        "        self.hidden_dim = hidden_dim\n",
        "        self.nlayers = nlayers\n",
        "        \n",
        "        self.rnn = nn.RNN(input_size=input_dim, hidden_size=hidden_dim,\n",
        "                          num_layers=nlayers, batch_first=True, nonlinearity='tanh')\n",
        "        \n",
        "        \n",
        "        self.fc = nn.Linear(hidden_dim, output_dim)\n",
        "        \n",
        "    def forward(self, x):\n",
        "        if torch.cuda.is_available():\n",
        "            h0 = torch.zeros(self.nlayers, x.size(0), self.hidden_dim).cuda()\n",
        "        else:\n",
        "            h0 = torch.zeros(self.nlayers, x.size(0), self.hidden_dim)\n",
        "            \n",
        "            \n",
        "        out, h = self.rnn(x, h0)\n",
        "        \n",
        "        out = self.fc(out)\n",
        "        \n",
        "        return torch.sigmoid(out)\n",
        "            \n",
        "        \n",
        "        "
      ],
      "execution_count": 0,
      "outputs": []
    },
    {
      "cell_type": "code",
      "metadata": {
        "id": "mSfhJFi6A8kt",
        "colab_type": "code",
        "colab": {}
      },
      "source": [
        "int2binary = {}\n",
        "binary_dim = 8\n",
        "largest_number = pow(2,binary_dim)\n",
        "binary = np.unpackbits(np.array([range(largest_number)],dtype=np.uint8).T,axis=1)\n",
        "for i in range(largest_number):\n",
        "    int2binary[i] = binary[i]"
      ],
      "execution_count": 0,
      "outputs": []
    },
    {
      "cell_type": "code",
      "metadata": {
        "id": "Asd8eGSZAQzf",
        "colab_type": "code",
        "colab": {}
      },
      "source": [
        "input_dim = 2\n",
        "hidden_dim = 16\n",
        "layer_dim = 1  # ONLY CHANGE IS HERE FROM ONE LAYER TO TWO LAYER\n",
        "output_dim = 1\n",
        "\n",
        "model = RNNModel(input_dim, hidden_dim, layer_dim, output_dim)"
      ],
      "execution_count": 0,
      "outputs": []
    },
    {
      "cell_type": "code",
      "metadata": {
        "id": "3JQ1iuL3IDRL",
        "colab_type": "code",
        "colab": {}
      },
      "source": [
        "if torch.cuda.is_available():\n",
        "    model.cuda()"
      ],
      "execution_count": 0,
      "outputs": []
    },
    {
      "cell_type": "code",
      "metadata": {
        "id": "0Lk06EzbAciH",
        "colab_type": "code",
        "colab": {}
      },
      "source": [
        "criterion = nn.MSELoss()"
      ],
      "execution_count": 0,
      "outputs": []
    },
    {
      "cell_type": "code",
      "metadata": {
        "id": "1ItewIlCAclt",
        "colab_type": "code",
        "colab": {}
      },
      "source": [
        "learning_rate = 0.1\n",
        "optimizer = torch.optim.SGD(model.parameters(), lr=learning_rate)"
      ],
      "execution_count": 0,
      "outputs": []
    },
    {
      "cell_type": "code",
      "metadata": {
        "id": "BF9BiONFAcpD",
        "colab_type": "code",
        "colab": {
          "base_uri": "https://localhost:8080/",
          "height": 139
        },
        "outputId": "1a2f20d7-c170-48f2-efcb-75e23ac1447e"
      },
      "source": [
        "for j in range(1000000):\n",
        "    a_int = np.random.randint(largest_number/2)\n",
        "    a = int2binary[a_int]\n",
        "    \n",
        "    b_int = np.random.randint(largest_number/2)\n",
        "    b = int2binary[b_int]\n",
        "    \n",
        "    c_int = a_int + b_int\n",
        "    c = int2binary[c_int]\n",
        "    \n",
        "    d = np.zeros_like(c)\n",
        "    \n",
        "    \n",
        "    \n",
        "    X = []\n",
        "    y = []\n",
        "    \n",
        "    for position in range(binary_dim):\n",
        "        X.extend([[a[binary_dim - position - 1],b[binary_dim - position - 1]]])\n",
        "        y.extend([c[binary_dim - position - 1]])\n",
        "       \n",
        "        \n",
        "    X = torch.from_numpy(np.expand_dims(np.array(X), axis=0)).float()\n",
        "    y = torch.from_numpy(np.squeeze(np.array(y))).float()\n",
        "       \n",
        "    if torch.cuda.is_available():\n",
        "        X = X.cuda()\n",
        "        y = y.cuda()    \n",
        "    \n",
        "    optimizer.zero_grad()\n",
        "    \n",
        "    y_pred = model(X)\n",
        "        \n",
        "    loss = criterion(torch.squeeze(torch.squeeze(y_pred)), y)\n",
        "    \n",
        "    loss.backward()\n",
        "    \n",
        "    optimizer.step()\n",
        "    \n",
        "    if(j % 5000 == 0):\n",
        "        with torch.no_grad():\n",
        "            out = 0\n",
        "            for index in range(binary_dim):\n",
        "                 out += torch.squeeze(torch.squeeze(y_pred))[index]*pow(2,index)\n",
        "            print('Pred: {0}, True: {1}'.format(int(np.round(out.cpu().numpy())), c_int))\n",
        "                 \n",
        "#             print(\"Error: {0}\".format(loss.detach()))\n",
        "#             print(\"Pred: {0}\".format(torch.squeeze(torch.squeeze(y_pred)).cpu().detach().numpy()))\n",
        "#             print(\"True: {0}\".format(y.cpu().detach().numpy()))\n",
        "#             print(\"-----------------------------\")\n",
        "            \n",
        "        \n",
        "        "
      ],
      "execution_count": 0,
      "outputs": [
        {
          "output_type": "stream",
          "text": [
            "Pred: 115, True: 195\n",
            "Pred: 129, True: 123\n",
            "Pred: 176, True: 178\n",
            "Pred: 217, True: 222\n",
            "Pred: 19, True: 16\n",
            "Pred: 96, True: 96\n",
            "Pred: 102, True: 102\n"
          ],
          "name": "stdout"
        }
      ]
    },
    {
      "cell_type": "code",
      "metadata": {
        "id": "7W9vJdesAcrt",
        "colab_type": "code",
        "colab": {
          "base_uri": "https://localhost:8080/",
          "height": 34
        },
        "outputId": "6469fc7a-7812-4d31-cdaa-d2176385624f"
      },
      "source": [
        "rnn = nn.RNN(input_size=input_dim, hidden_size=hidden_dim, \n",
        "             num_layers=layer_dim, batch_first=True, nonlinearity='tanh')\n",
        "fc = nn.Linear(hidden_dim, output_dim)\n",
        "tmp = torch.randn(1,8,2)\n",
        "h0 = torch.randn(layer_dim, tmp.size(0), hidden_dim)\n",
        "output, hn = rnn(tmp, h0)\n",
        "output = fc(output)\n",
        "print(output.shape, hn.shape)"
      ],
      "execution_count": 65,
      "outputs": [
        {
          "output_type": "stream",
          "text": [
            "torch.Size([1, 8, 1]) torch.Size([1, 1, 16])\n"
          ],
          "name": "stdout"
        }
      ]
    },
    {
      "cell_type": "code",
      "metadata": {
        "id": "GKVXxbbLAcug",
        "colab_type": "code",
        "colab": {}
      },
      "source": [
        ""
      ],
      "execution_count": 0,
      "outputs": []
    }
  ]
}